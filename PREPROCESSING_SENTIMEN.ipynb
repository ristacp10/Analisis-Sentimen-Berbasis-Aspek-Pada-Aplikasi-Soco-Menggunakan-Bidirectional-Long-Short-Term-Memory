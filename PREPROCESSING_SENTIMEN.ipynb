{
  "nbformat": 4,
  "nbformat_minor": 0,
  "metadata": {
    "colab": {
      "name": "PREPROCESSING SENTIMEN.ipynb",
      "provenance": [],
      "authorship_tag": "ABX9TyPtUtPo2weXW6i4aaRewBxC",
      "include_colab_link": true
    },
    "kernelspec": {
      "name": "python3",
      "display_name": "Python 3"
    },
    "language_info": {
      "name": "python"
    },
    "widgets": {
      "application/vnd.jupyter.widget-state+json": {
        "178edb121b7d4422adaa0e7987f5b693": {
          "model_module": "@jupyter-widgets/controls",
          "model_name": "HBoxModel",
          "model_module_version": "1.5.0",
          "state": {
            "_view_name": "HBoxView",
            "_dom_classes": [],
            "_model_name": "HBoxModel",
            "_view_module": "@jupyter-widgets/controls",
            "_model_module_version": "1.5.0",
            "_view_count": null,
            "_view_module_version": "1.5.0",
            "box_style": "",
            "layout": "IPY_MODEL_91bcea1673fb4610a5fd1075a94ba785",
            "_model_module": "@jupyter-widgets/controls",
            "children": [
              "IPY_MODEL_d60d3bd3aa594abd9c8334f0e6dddb56",
              "IPY_MODEL_1e706830d1a145d9ba058d52d815dc1d",
              "IPY_MODEL_c08099f7a9e14d008d19a4d6d48b27a5"
            ]
          }
        },
        "91bcea1673fb4610a5fd1075a94ba785": {
          "model_module": "@jupyter-widgets/base",
          "model_name": "LayoutModel",
          "model_module_version": "1.2.0",
          "state": {
            "_view_name": "LayoutView",
            "grid_template_rows": null,
            "right": null,
            "justify_content": null,
            "_view_module": "@jupyter-widgets/base",
            "overflow": null,
            "_model_module_version": "1.2.0",
            "_view_count": null,
            "flex_flow": null,
            "width": null,
            "min_width": null,
            "border": null,
            "align_items": null,
            "bottom": null,
            "_model_module": "@jupyter-widgets/base",
            "top": null,
            "grid_column": null,
            "overflow_y": null,
            "overflow_x": null,
            "grid_auto_flow": null,
            "grid_area": null,
            "grid_template_columns": null,
            "flex": null,
            "_model_name": "LayoutModel",
            "justify_items": null,
            "grid_row": null,
            "max_height": null,
            "align_content": null,
            "visibility": null,
            "align_self": null,
            "height": null,
            "min_height": null,
            "padding": null,
            "grid_auto_rows": null,
            "grid_gap": null,
            "max_width": null,
            "order": null,
            "_view_module_version": "1.2.0",
            "grid_template_areas": null,
            "object_position": null,
            "object_fit": null,
            "grid_auto_columns": null,
            "margin": null,
            "display": null,
            "left": null
          }
        },
        "d60d3bd3aa594abd9c8334f0e6dddb56": {
          "model_module": "@jupyter-widgets/controls",
          "model_name": "HTMLModel",
          "model_module_version": "1.5.0",
          "state": {
            "_view_name": "HTMLView",
            "style": "IPY_MODEL_15d91cbad6ac4c60a113060b0de89dbd",
            "_dom_classes": [],
            "description": "",
            "_model_name": "HTMLModel",
            "placeholder": "​",
            "_view_module": "@jupyter-widgets/controls",
            "_model_module_version": "1.5.0",
            "value": "",
            "_view_count": null,
            "_view_module_version": "1.5.0",
            "description_tooltip": null,
            "_model_module": "@jupyter-widgets/controls",
            "layout": "IPY_MODEL_887e47d7fe5144dbbd2214197af367b0"
          }
        },
        "1e706830d1a145d9ba058d52d815dc1d": {
          "model_module": "@jupyter-widgets/controls",
          "model_name": "FloatProgressModel",
          "model_module_version": "1.5.0",
          "state": {
            "_view_name": "ProgressView",
            "style": "IPY_MODEL_3d23d45420fb46ef9b2f2ef37f19e5bf",
            "_dom_classes": [],
            "description": "",
            "_model_name": "FloatProgressModel",
            "bar_style": "success",
            "max": 1,
            "_view_module": "@jupyter-widgets/controls",
            "_model_module_version": "1.5.0",
            "value": 1,
            "_view_count": null,
            "_view_module_version": "1.5.0",
            "orientation": "horizontal",
            "min": 0,
            "description_tooltip": null,
            "_model_module": "@jupyter-widgets/controls",
            "layout": "IPY_MODEL_6f08509671094a2f8f0c26f0c4af1a50"
          }
        },
        "c08099f7a9e14d008d19a4d6d48b27a5": {
          "model_module": "@jupyter-widgets/controls",
          "model_name": "HTMLModel",
          "model_module_version": "1.5.0",
          "state": {
            "_view_name": "HTMLView",
            "style": "IPY_MODEL_179ebc80cba146d4b42194bfd1adef7d",
            "_dom_classes": [],
            "description": "",
            "_model_name": "HTMLModel",
            "placeholder": "​",
            "_view_module": "@jupyter-widgets/controls",
            "_model_module_version": "1.5.0",
            "value": " 2073/? [16:34&lt;00:00,  3.46it/s]",
            "_view_count": null,
            "_view_module_version": "1.5.0",
            "description_tooltip": null,
            "_model_module": "@jupyter-widgets/controls",
            "layout": "IPY_MODEL_c10eff1feeee440ca34270e4a9defbec"
          }
        },
        "15d91cbad6ac4c60a113060b0de89dbd": {
          "model_module": "@jupyter-widgets/controls",
          "model_name": "DescriptionStyleModel",
          "model_module_version": "1.5.0",
          "state": {
            "_view_name": "StyleView",
            "_model_name": "DescriptionStyleModel",
            "description_width": "",
            "_view_module": "@jupyter-widgets/base",
            "_model_module_version": "1.5.0",
            "_view_count": null,
            "_view_module_version": "1.2.0",
            "_model_module": "@jupyter-widgets/controls"
          }
        },
        "887e47d7fe5144dbbd2214197af367b0": {
          "model_module": "@jupyter-widgets/base",
          "model_name": "LayoutModel",
          "model_module_version": "1.2.0",
          "state": {
            "_view_name": "LayoutView",
            "grid_template_rows": null,
            "right": null,
            "justify_content": null,
            "_view_module": "@jupyter-widgets/base",
            "overflow": null,
            "_model_module_version": "1.2.0",
            "_view_count": null,
            "flex_flow": null,
            "width": null,
            "min_width": null,
            "border": null,
            "align_items": null,
            "bottom": null,
            "_model_module": "@jupyter-widgets/base",
            "top": null,
            "grid_column": null,
            "overflow_y": null,
            "overflow_x": null,
            "grid_auto_flow": null,
            "grid_area": null,
            "grid_template_columns": null,
            "flex": null,
            "_model_name": "LayoutModel",
            "justify_items": null,
            "grid_row": null,
            "max_height": null,
            "align_content": null,
            "visibility": null,
            "align_self": null,
            "height": null,
            "min_height": null,
            "padding": null,
            "grid_auto_rows": null,
            "grid_gap": null,
            "max_width": null,
            "order": null,
            "_view_module_version": "1.2.0",
            "grid_template_areas": null,
            "object_position": null,
            "object_fit": null,
            "grid_auto_columns": null,
            "margin": null,
            "display": null,
            "left": null
          }
        },
        "3d23d45420fb46ef9b2f2ef37f19e5bf": {
          "model_module": "@jupyter-widgets/controls",
          "model_name": "ProgressStyleModel",
          "model_module_version": "1.5.0",
          "state": {
            "_view_name": "StyleView",
            "_model_name": "ProgressStyleModel",
            "description_width": "",
            "_view_module": "@jupyter-widgets/base",
            "_model_module_version": "1.5.0",
            "_view_count": null,
            "_view_module_version": "1.2.0",
            "bar_color": null,
            "_model_module": "@jupyter-widgets/controls"
          }
        },
        "6f08509671094a2f8f0c26f0c4af1a50": {
          "model_module": "@jupyter-widgets/base",
          "model_name": "LayoutModel",
          "model_module_version": "1.2.0",
          "state": {
            "_view_name": "LayoutView",
            "grid_template_rows": null,
            "right": null,
            "justify_content": null,
            "_view_module": "@jupyter-widgets/base",
            "overflow": null,
            "_model_module_version": "1.2.0",
            "_view_count": null,
            "flex_flow": null,
            "width": "20px",
            "min_width": null,
            "border": null,
            "align_items": null,
            "bottom": null,
            "_model_module": "@jupyter-widgets/base",
            "top": null,
            "grid_column": null,
            "overflow_y": null,
            "overflow_x": null,
            "grid_auto_flow": null,
            "grid_area": null,
            "grid_template_columns": null,
            "flex": null,
            "_model_name": "LayoutModel",
            "justify_items": null,
            "grid_row": null,
            "max_height": null,
            "align_content": null,
            "visibility": null,
            "align_self": null,
            "height": null,
            "min_height": null,
            "padding": null,
            "grid_auto_rows": null,
            "grid_gap": null,
            "max_width": null,
            "order": null,
            "_view_module_version": "1.2.0",
            "grid_template_areas": null,
            "object_position": null,
            "object_fit": null,
            "grid_auto_columns": null,
            "margin": null,
            "display": null,
            "left": null
          }
        },
        "179ebc80cba146d4b42194bfd1adef7d": {
          "model_module": "@jupyter-widgets/controls",
          "model_name": "DescriptionStyleModel",
          "model_module_version": "1.5.0",
          "state": {
            "_view_name": "StyleView",
            "_model_name": "DescriptionStyleModel",
            "description_width": "",
            "_view_module": "@jupyter-widgets/base",
            "_model_module_version": "1.5.0",
            "_view_count": null,
            "_view_module_version": "1.2.0",
            "_model_module": "@jupyter-widgets/controls"
          }
        },
        "c10eff1feeee440ca34270e4a9defbec": {
          "model_module": "@jupyter-widgets/base",
          "model_name": "LayoutModel",
          "model_module_version": "1.2.0",
          "state": {
            "_view_name": "LayoutView",
            "grid_template_rows": null,
            "right": null,
            "justify_content": null,
            "_view_module": "@jupyter-widgets/base",
            "overflow": null,
            "_model_module_version": "1.2.0",
            "_view_count": null,
            "flex_flow": null,
            "width": null,
            "min_width": null,
            "border": null,
            "align_items": null,
            "bottom": null,
            "_model_module": "@jupyter-widgets/base",
            "top": null,
            "grid_column": null,
            "overflow_y": null,
            "overflow_x": null,
            "grid_auto_flow": null,
            "grid_area": null,
            "grid_template_columns": null,
            "flex": null,
            "_model_name": "LayoutModel",
            "justify_items": null,
            "grid_row": null,
            "max_height": null,
            "align_content": null,
            "visibility": null,
            "align_self": null,
            "height": null,
            "min_height": null,
            "padding": null,
            "grid_auto_rows": null,
            "grid_gap": null,
            "max_width": null,
            "order": null,
            "_view_module_version": "1.2.0",
            "grid_template_areas": null,
            "object_position": null,
            "object_fit": null,
            "grid_auto_columns": null,
            "margin": null,
            "display": null,
            "left": null
          }
        }
      }
    }
  },
  "cells": [
    {
      "cell_type": "markdown",
      "metadata": {
        "id": "view-in-github",
        "colab_type": "text"
      },
      "source": [
        "<a href=\"https://colab.research.google.com/github/ristacp10/Analisis-Sentimen-Berbasis-Aspek-Pada-Aplikasi-Soco-Menggunakan-Bidirectional-Long-Short-Term-Memory/blob/main/PREPROCESSING_SENTIMEN.ipynb\" target=\"_parent\"><img src=\"https://colab.research.google.com/assets/colab-badge.svg\" alt=\"Open In Colab\"/></a>"
      ]
    },
    {
      "cell_type": "code",
      "metadata": {
        "colab": {
          "base_uri": "https://localhost:8080/"
        },
        "id": "VTWR2Mplu6gG",
        "outputId": "93bc9530-a2b9-4000-a6cf-1f86c8f93d72"
      },
      "source": [
        "!rm taudataNlpTm.py\n",
        "!wget https://raw.githubusercontent.com/ristacp10/Analisis-Sentimen-Berbasis-Aspek-Pada-Aplikasi-Soco-Menggunakan-Bidirectional-Long-Short-Term-Memory/main/taudataNlpTm.py\n",
        "!rm taudata.py\n",
        "!wget https://raw.githubusercontent.com/ristacp10/Analisis-Sentimen-Berbasis-Aspek-Pada-Aplikasi-Soco-Menggunakan-Bidirectional-Long-Short-Term-Memory/main/taudata.py\n",
        "\n",
        "!rm data/slangsoco.txt\n",
        "!rm data/stopwords_en.txt\n",
        "!rm data/stopwords_id.txt\n",
        "!rm data/kata_dasar.txt\n",
        "!rm data/corpus_sederhana.txt\n",
        "\n",
        "!mkdir CSV\n",
        "!wget -P CSV/ https://raw.githubusercontent.com/ristacp10/Analisis-Sentimen-Berbasis-Aspek-Pada-Aplikasi-Soco-Menggunakan-Bidirectional-Long-Short-Term-Memory/main/CSV/AspekSentimenReview.csv\n",
        "\n",
        "!mkdir data\n",
        "!wget -P data/ https://raw.githubusercontent.com/ristacp10/Analisis-Sentimen-Berbasis-Aspek-Pada-Aplikasi-Soco-Menggunakan-Bidirectional-Long-Short-Term-Memory/main/data/stopwords_id.txt\n",
        "!wget -P data/ https://raw.githubusercontent.com/ristacp10/Analisis-Sentimen-Berbasis-Aspek-Pada-Aplikasi-Soco-Menggunakan-Bidirectional-Long-Short-Term-Memory/main/data/stopwords_en.txt\n",
        "!wget -P data/ https://raw.githubusercontent.com/ristacp10/Analisis-Sentimen-Berbasis-Aspek-Pada-Aplikasi-Soco-Menggunakan-Bidirectional-Long-Short-Term-Memory/main/data/kata_dasar.txt\n",
        "!wget -P data/ https://raw.githubusercontent.com/ristacp10/Analisis-Sentimen-Berbasis-Aspek-Pada-Aplikasi-Soco-Menggunakan-Bidirectional-Long-Short-Term-Memory/main/data/wn-ind-def.tab\n",
        "!wget -P data/ https://raw.githubusercontent.com/ristacp10/Analisis-Sentimen-Berbasis-Aspek-Pada-Aplikasi-Soco-Menggunakan-Bidirectional-Long-Short-Term-Memory/main/data/wn-msa-all.tab\n",
        "!wget -P data/ https://raw.githubusercontent.com/ristacp10/Analisis-Sentimen-Berbasis-Aspek-Pada-Aplikasi-Soco-Menggunakan-Bidirectional-Long-Short-Term-Memory/main/data/all_indo_man_tag_corpus_model.crf.tagger\n",
        "!wget -P data/ https://raw.githubusercontent.com/ristacp10/Analisis-Sentimen-Berbasis-Aspek-Pada-Aplikasi-Soco-Menggunakan-Bidirectional-Long-Short-Term-Memory/main/data/slangsoco.txt\n",
        "\n",
        "!pip install Sastrawi\n",
        "!pip install unidecode\n",
        "!pip install python-crfsuite\n",
        "!pip install sklearn-pycrfsuite"
      ],
      "execution_count": 1,
      "outputs": [
        {
          "output_type": "stream",
          "text": [
            "rm: cannot remove 'taudataNlpTm.py': No such file or directory\n",
            "--2021-08-13 19:06:11--  https://raw.githubusercontent.com/ristacp10/Analisis-Sentimen-Berbasis-Aspek-Pada-Aplikasi-Soco-Menggunakan-Bidirectional-Long-Short-Term-Memory/main/taudataNlpTm.py\n",
            "Resolving raw.githubusercontent.com (raw.githubusercontent.com)... 185.199.108.133, 185.199.109.133, 185.199.110.133, ...\n",
            "Connecting to raw.githubusercontent.com (raw.githubusercontent.com)|185.199.108.133|:443... connected.\n",
            "HTTP request sent, awaiting response... 200 OK\n",
            "Length: 16713 (16K) [text/plain]\n",
            "Saving to: ‘taudataNlpTm.py’\n",
            "\n",
            "taudataNlpTm.py     100%[===================>]  16.32K  --.-KB/s    in 0.001s  \n",
            "\n",
            "2021-08-13 19:06:11 (12.6 MB/s) - ‘taudataNlpTm.py’ saved [16713/16713]\n",
            "\n",
            "rm: cannot remove 'taudata.py': No such file or directory\n",
            "--2021-08-13 19:06:11--  https://raw.githubusercontent.com/ristacp10/Analisis-Sentimen-Berbasis-Aspek-Pada-Aplikasi-Soco-Menggunakan-Bidirectional-Long-Short-Term-Memory/main/taudata.py\n",
            "Resolving raw.githubusercontent.com (raw.githubusercontent.com)... 185.199.109.133, 185.199.108.133, 185.199.110.133, ...\n",
            "Connecting to raw.githubusercontent.com (raw.githubusercontent.com)|185.199.109.133|:443... connected.\n",
            "HTTP request sent, awaiting response... 200 OK\n",
            "Length: 10907 (11K) [text/plain]\n",
            "Saving to: ‘taudata.py’\n",
            "\n",
            "taudata.py          100%[===================>]  10.65K  --.-KB/s    in 0s      \n",
            "\n",
            "2021-08-13 19:06:11 (75.7 MB/s) - ‘taudata.py’ saved [10907/10907]\n",
            "\n",
            "rm: cannot remove 'data/slangsoco.txt': No such file or directory\n",
            "rm: cannot remove 'data/stopwords_en.txt': No such file or directory\n",
            "rm: cannot remove 'data/stopwords_id.txt': No such file or directory\n",
            "rm: cannot remove 'data/kata_dasar.txt': No such file or directory\n",
            "rm: cannot remove 'data/corpus_sederhana.txt': No such file or directory\n",
            "--2021-08-13 19:06:12--  https://raw.githubusercontent.com/ristacp10/Analisis-Sentimen-Berbasis-Aspek-Pada-Aplikasi-Soco-Menggunakan-Bidirectional-Long-Short-Term-Memory/main/CSV/AspekSentimenReview.csv\n",
            "Resolving raw.githubusercontent.com (raw.githubusercontent.com)... 185.199.108.133, 185.199.109.133, 185.199.110.133, ...\n",
            "Connecting to raw.githubusercontent.com (raw.githubusercontent.com)|185.199.108.133|:443... connected.\n",
            "HTTP request sent, awaiting response... 200 OK\n",
            "Length: 276657 (270K) [text/plain]\n",
            "Saving to: ‘CSV/AspekSentimenReview.csv’\n",
            "\n",
            "AspekSentimenReview 100%[===================>] 270.17K  --.-KB/s    in 0.03s   \n",
            "\n",
            "2021-08-13 19:06:12 (8.47 MB/s) - ‘CSV/AspekSentimenReview.csv’ saved [276657/276657]\n",
            "\n",
            "--2021-08-13 19:06:13--  https://raw.githubusercontent.com/ristacp10/Analisis-Sentimen-Berbasis-Aspek-Pada-Aplikasi-Soco-Menggunakan-Bidirectional-Long-Short-Term-Memory/main/data/stopwords_id.txt\n",
            "Resolving raw.githubusercontent.com (raw.githubusercontent.com)... 185.199.108.133, 185.199.109.133, 185.199.110.133, ...\n",
            "Connecting to raw.githubusercontent.com (raw.githubusercontent.com)|185.199.108.133|:443... connected.\n",
            "HTTP request sent, awaiting response... 200 OK\n",
            "Length: 6421 (6.3K) [text/plain]\n",
            "Saving to: ‘data/stopwords_id.txt’\n",
            "\n",
            "stopwords_id.txt    100%[===================>]   6.27K  --.-KB/s    in 0s      \n",
            "\n",
            "2021-08-13 19:06:13 (71.4 MB/s) - ‘data/stopwords_id.txt’ saved [6421/6421]\n",
            "\n",
            "--2021-08-13 19:06:13--  https://raw.githubusercontent.com/ristacp10/Analisis-Sentimen-Berbasis-Aspek-Pada-Aplikasi-Soco-Menggunakan-Bidirectional-Long-Short-Term-Memory/main/data/stopwords_en.txt\n",
            "Resolving raw.githubusercontent.com (raw.githubusercontent.com)... 185.199.108.133, 185.199.109.133, 185.199.110.133, ...\n",
            "Connecting to raw.githubusercontent.com (raw.githubusercontent.com)|185.199.108.133|:443... connected.\n",
            "HTTP request sent, awaiting response... 200 OK\n",
            "Length: 15140 (15K) [text/plain]\n",
            "Saving to: ‘data/stopwords_en.txt’\n",
            "\n",
            "stopwords_en.txt    100%[===================>]  14.79K  --.-KB/s    in 0s      \n",
            "\n",
            "2021-08-13 19:06:13 (32.5 MB/s) - ‘data/stopwords_en.txt’ saved [15140/15140]\n",
            "\n",
            "--2021-08-13 19:06:13--  https://raw.githubusercontent.com/ristacp10/Analisis-Sentimen-Berbasis-Aspek-Pada-Aplikasi-Soco-Menggunakan-Bidirectional-Long-Short-Term-Memory/main/data/kata_dasar.txt\n",
            "Resolving raw.githubusercontent.com (raw.githubusercontent.com)... 185.199.109.133, 185.199.108.133, 185.199.110.133, ...\n",
            "Connecting to raw.githubusercontent.com (raw.githubusercontent.com)|185.199.109.133|:443... connected.\n",
            "HTTP request sent, awaiting response... 200 OK\n",
            "Length: 348507 (340K) [text/plain]\n",
            "Saving to: ‘data/kata_dasar.txt’\n",
            "\n",
            "kata_dasar.txt      100%[===================>] 340.34K  --.-KB/s    in 0.03s   \n",
            "\n",
            "2021-08-13 19:06:13 (9.71 MB/s) - ‘data/kata_dasar.txt’ saved [348507/348507]\n",
            "\n",
            "--2021-08-13 19:06:13--  https://raw.githubusercontent.com/ristacp10/Analisis-Sentimen-Berbasis-Aspek-Pada-Aplikasi-Soco-Menggunakan-Bidirectional-Long-Short-Term-Memory/main/data/wn-ind-def.tab\n",
            "Resolving raw.githubusercontent.com (raw.githubusercontent.com)... 185.199.108.133, 185.199.109.133, 185.199.111.133, ...\n",
            "Connecting to raw.githubusercontent.com (raw.githubusercontent.com)|185.199.108.133|:443... connected.\n",
            "HTTP request sent, awaiting response... 404 Not Found\n",
            "2021-08-13 19:06:13 ERROR 404: Not Found.\n",
            "\n",
            "--2021-08-13 19:06:13--  https://raw.githubusercontent.com/ristacp10/Analisis-Sentimen-Berbasis-Aspek-Pada-Aplikasi-Soco-Menggunakan-Bidirectional-Long-Short-Term-Memory/main/data/wn-msa-all.tab\n",
            "Resolving raw.githubusercontent.com (raw.githubusercontent.com)... 185.199.111.133, 185.199.108.133, 185.199.110.133, ...\n",
            "Connecting to raw.githubusercontent.com (raw.githubusercontent.com)|185.199.111.133|:443... connected.\n",
            "HTTP request sent, awaiting response... 404 Not Found\n",
            "2021-08-13 19:06:14 ERROR 404: Not Found.\n",
            "\n",
            "--2021-08-13 19:06:14--  https://raw.githubusercontent.com/ristacp10/Analisis-Sentimen-Berbasis-Aspek-Pada-Aplikasi-Soco-Menggunakan-Bidirectional-Long-Short-Term-Memory/main/data/all_indo_man_tag_corpus_model.crf.tagger\n",
            "Resolving raw.githubusercontent.com (raw.githubusercontent.com)... 185.199.108.133, 185.199.109.133, 185.199.110.133, ...\n",
            "Connecting to raw.githubusercontent.com (raw.githubusercontent.com)|185.199.108.133|:443... connected.\n",
            "HTTP request sent, awaiting response... 200 OK\n",
            "Length: 1722780 (1.6M) [application/octet-stream]\n",
            "Saving to: ‘data/all_indo_man_tag_corpus_model.crf.tagger’\n",
            "\n",
            "all_indo_man_tag_co 100%[===================>]   1.64M  --.-KB/s    in 0.06s   \n",
            "\n",
            "2021-08-13 19:06:14 (27.4 MB/s) - ‘data/all_indo_man_tag_corpus_model.crf.tagger’ saved [1722780/1722780]\n",
            "\n",
            "--2021-08-13 19:06:14--  https://raw.githubusercontent.com/ristacp10/Analisis-Sentimen-Berbasis-Aspek-Pada-Aplikasi-Soco-Menggunakan-Bidirectional-Long-Short-Term-Memory/main/data/slangsoco.txt\n",
            "Resolving raw.githubusercontent.com (raw.githubusercontent.com)... 185.199.111.133, 185.199.108.133, 185.199.110.133, ...\n",
            "Connecting to raw.githubusercontent.com (raw.githubusercontent.com)|185.199.111.133|:443... connected.\n",
            "HTTP request sent, awaiting response... 200 OK\n",
            "Length: 25420 (25K) [text/plain]\n",
            "Saving to: ‘data/slangsoco.txt’\n",
            "\n",
            "slangsoco.txt       100%[===================>]  24.82K  --.-KB/s    in 0.001s  \n",
            "\n",
            "2021-08-13 19:06:14 (17.7 MB/s) - ‘data/slangsoco.txt’ saved [25420/25420]\n",
            "\n",
            "Collecting Sastrawi\n",
            "  Downloading Sastrawi-1.0.1-py2.py3-none-any.whl (209 kB)\n",
            "\u001b[K     |████████████████████████████████| 209 kB 5.3 MB/s \n",
            "\u001b[?25hInstalling collected packages: Sastrawi\n",
            "Successfully installed Sastrawi-1.0.1\n",
            "Collecting unidecode\n",
            "  Downloading Unidecode-1.2.0-py2.py3-none-any.whl (241 kB)\n",
            "\u001b[K     |████████████████████████████████| 241 kB 5.4 MB/s \n",
            "\u001b[?25hInstalling collected packages: unidecode\n",
            "Successfully installed unidecode-1.2.0\n",
            "Collecting python-crfsuite\n",
            "  Downloading python_crfsuite-0.9.7-cp37-cp37m-manylinux1_x86_64.whl (743 kB)\n",
            "\u001b[K     |████████████████████████████████| 743 kB 5.4 MB/s \n",
            "\u001b[?25hInstalling collected packages: python-crfsuite\n",
            "Successfully installed python-crfsuite-0.9.7\n",
            "Collecting sklearn-pycrfsuite\n",
            "  Downloading sklearn-pycrfsuite-0.4.0.tar.gz (24 kB)\n",
            "Requirement already satisfied: tqdm>=2.0 in /usr/local/lib/python3.7/dist-packages (from sklearn-pycrfsuite) (4.62.0)\n",
            "Requirement already satisfied: six in /usr/local/lib/python3.7/dist-packages (from sklearn-pycrfsuite) (1.15.0)\n",
            "Requirement already satisfied: tabulate in /usr/local/lib/python3.7/dist-packages (from sklearn-pycrfsuite) (0.8.9)\n",
            "Collecting python-crfsuite-extension\n",
            "  Downloading python-crfsuite-extension-0.9.7.tar.gz (485 kB)\n",
            "\u001b[K     |████████████████████████████████| 485 kB 8.2 MB/s \n",
            "\u001b[?25hBuilding wheels for collected packages: sklearn-pycrfsuite, python-crfsuite-extension\n",
            "  Building wheel for sklearn-pycrfsuite (setup.py) ... \u001b[?25l\u001b[?25hdone\n",
            "  Created wheel for sklearn-pycrfsuite: filename=sklearn_pycrfsuite-0.4.0-py2.py3-none-any.whl size=11001 sha256=61d6edcc683b08fcf3c999b9abf204255c2337234ae2789eb81d84233d1f9c56\n",
            "  Stored in directory: /root/.cache/pip/wheels/44/50/b1/295e502c6652f551dc99bfdb394a3fe2fcb47668e333391f38\n",
            "  Building wheel for python-crfsuite-extension (setup.py) ... \u001b[?25l\u001b[?25hdone\n",
            "  Created wheel for python-crfsuite-extension: filename=python_crfsuite_extension-0.9.7-cp37-cp37m-linux_x86_64.whl size=775510 sha256=dd954843704971c7ce954d4248e3ac6832fa999fddf6828c23559454cb992af6\n",
            "  Stored in directory: /root/.cache/pip/wheels/70/d7/bf/369f4d179407dbf3840132e4135fa61f0bf711f4496d0bf750\n",
            "Successfully built sklearn-pycrfsuite python-crfsuite-extension\n",
            "Installing collected packages: python-crfsuite-extension, sklearn-pycrfsuite\n",
            "Successfully installed python-crfsuite-extension-0.9.7 sklearn-pycrfsuite-0.4.0\n"
          ],
          "name": "stdout"
        }
      ]
    },
    {
      "cell_type": "code",
      "metadata": {
        "colab": {
          "base_uri": "https://localhost:8080/"
        },
        "id": "NPupy2UsvCAd",
        "outputId": "cd858c7b-bc84-43fb-9be8-cced2a51f339"
      },
      "source": [
        "import taudata as tau\n",
        "import pandas as pd\n",
        "import seaborn as sns\n",
        "from textblob import TextBlob\n",
        "import nltk\n",
        "from tqdm import tqdm_notebook as tqdm\n",
        "from collections import Counter\n",
        "from google.colab import files\n",
        "from IPython import display\n",
        "nltk.download('popular')"
      ],
      "execution_count": 2,
      "outputs": [
        {
          "output_type": "stream",
          "text": [
            "[nltk_data] Downloading collection 'popular'\n",
            "[nltk_data]    | \n",
            "[nltk_data]    | Downloading package cmudict to /root/nltk_data...\n",
            "[nltk_data]    |   Unzipping corpora/cmudict.zip.\n",
            "[nltk_data]    | Downloading package gazetteers to /root/nltk_data...\n",
            "[nltk_data]    |   Unzipping corpora/gazetteers.zip.\n",
            "[nltk_data]    | Downloading package genesis to /root/nltk_data...\n",
            "[nltk_data]    |   Unzipping corpora/genesis.zip.\n",
            "[nltk_data]    | Downloading package gutenberg to /root/nltk_data...\n",
            "[nltk_data]    |   Unzipping corpora/gutenberg.zip.\n",
            "[nltk_data]    | Downloading package inaugural to /root/nltk_data...\n",
            "[nltk_data]    |   Unzipping corpora/inaugural.zip.\n",
            "[nltk_data]    | Downloading package movie_reviews to\n",
            "[nltk_data]    |     /root/nltk_data...\n",
            "[nltk_data]    |   Unzipping corpora/movie_reviews.zip.\n",
            "[nltk_data]    | Downloading package names to /root/nltk_data...\n",
            "[nltk_data]    |   Unzipping corpora/names.zip.\n",
            "[nltk_data]    | Downloading package shakespeare to /root/nltk_data...\n",
            "[nltk_data]    |   Unzipping corpora/shakespeare.zip.\n",
            "[nltk_data]    | Downloading package stopwords to /root/nltk_data...\n",
            "[nltk_data]    |   Unzipping corpora/stopwords.zip.\n",
            "[nltk_data]    | Downloading package treebank to /root/nltk_data...\n",
            "[nltk_data]    |   Unzipping corpora/treebank.zip.\n",
            "[nltk_data]    | Downloading package twitter_samples to\n",
            "[nltk_data]    |     /root/nltk_data...\n",
            "[nltk_data]    |   Unzipping corpora/twitter_samples.zip.\n",
            "[nltk_data]    | Downloading package omw to /root/nltk_data...\n",
            "[nltk_data]    |   Unzipping corpora/omw.zip.\n",
            "[nltk_data]    | Downloading package wordnet to /root/nltk_data...\n",
            "[nltk_data]    |   Unzipping corpora/wordnet.zip.\n",
            "[nltk_data]    | Downloading package wordnet_ic to /root/nltk_data...\n",
            "[nltk_data]    |   Unzipping corpora/wordnet_ic.zip.\n",
            "[nltk_data]    | Downloading package words to /root/nltk_data...\n",
            "[nltk_data]    |   Unzipping corpora/words.zip.\n",
            "[nltk_data]    | Downloading package maxent_ne_chunker to\n",
            "[nltk_data]    |     /root/nltk_data...\n",
            "[nltk_data]    |   Unzipping chunkers/maxent_ne_chunker.zip.\n",
            "[nltk_data]    | Downloading package punkt to /root/nltk_data...\n",
            "[nltk_data]    |   Unzipping tokenizers/punkt.zip.\n",
            "[nltk_data]    | Downloading package snowball_data to\n",
            "[nltk_data]    |     /root/nltk_data...\n",
            "[nltk_data]    | Downloading package averaged_perceptron_tagger to\n",
            "[nltk_data]    |     /root/nltk_data...\n",
            "[nltk_data]    |   Unzipping taggers/averaged_perceptron_tagger.zip.\n",
            "[nltk_data]    | \n",
            "[nltk_data]  Done downloading collection popular\n"
          ],
          "name": "stdout"
        },
        {
          "output_type": "execute_result",
          "data": {
            "text/plain": [
              "True"
            ]
          },
          "metadata": {
            "tags": []
          },
          "execution_count": 2
        }
      ]
    },
    {
      "cell_type": "code",
      "metadata": {
        "colab": {
          "base_uri": "https://localhost:8080/",
          "height": 204
        },
        "id": "Tu-Lb0iZvCEb",
        "outputId": "e33d686c-7d27-4984-97ee-a755ce13f1e2"
      },
      "source": [
        "df = pd.read_csv('CSV/AspekSentimenReview.csv')\n",
        "df.head()"
      ],
      "execution_count": 3,
      "outputs": [
        {
          "output_type": "execute_result",
          "data": {
            "text/html": [
              "<div>\n",
              "<style scoped>\n",
              "    .dataframe tbody tr th:only-of-type {\n",
              "        vertical-align: middle;\n",
              "    }\n",
              "\n",
              "    .dataframe tbody tr th {\n",
              "        vertical-align: top;\n",
              "    }\n",
              "\n",
              "    .dataframe thead th {\n",
              "        text-align: right;\n",
              "    }\n",
              "</style>\n",
              "<table border=\"1\" class=\"dataframe\">\n",
              "  <thead>\n",
              "    <tr style=\"text-align: right;\">\n",
              "      <th></th>\n",
              "      <th>At</th>\n",
              "      <th>Sentimen</th>\n",
              "      <th>Review</th>\n",
              "      <th>Bintang</th>\n",
              "      <th>Aspek</th>\n",
              "    </tr>\n",
              "  </thead>\n",
              "  <tbody>\n",
              "    <tr>\n",
              "      <th>0</th>\n",
              "      <td>2020-10-18 19:32:19</td>\n",
              "      <td>1</td>\n",
              "      <td>gud</td>\n",
              "      <td>5</td>\n",
              "      <td>Lainnya</td>\n",
              "    </tr>\n",
              "    <tr>\n",
              "      <th>1</th>\n",
              "      <td>2020-10-17 20:18:47</td>\n",
              "      <td>1</td>\n",
              "      <td>Seneng belanja disini karna dah pastinya ori, ...</td>\n",
              "      <td>5</td>\n",
              "      <td>Layanan</td>\n",
              "    </tr>\n",
              "    <tr>\n",
              "      <th>2</th>\n",
              "      <td>2020-10-17 07:44:22</td>\n",
              "      <td>-1</td>\n",
              "      <td>Pertamakali order langsung kecewa, di cancel k...</td>\n",
              "      <td>1</td>\n",
              "      <td>Layanan</td>\n",
              "    </tr>\n",
              "    <tr>\n",
              "      <th>3</th>\n",
              "      <td>2020-10-17 05:29:05</td>\n",
              "      <td>-1</td>\n",
              "      <td>Sociolla parah. Proses refund gak tau harus nu...</td>\n",
              "      <td>1</td>\n",
              "      <td>Layanan</td>\n",
              "    </tr>\n",
              "    <tr>\n",
              "      <th>4</th>\n",
              "      <td>2020-10-17 00:12:18</td>\n",
              "      <td>-1</td>\n",
              "      <td>Sy order 4 product di tanggal 11 september dan...</td>\n",
              "      <td>1</td>\n",
              "      <td>Layanan</td>\n",
              "    </tr>\n",
              "  </tbody>\n",
              "</table>\n",
              "</div>"
            ],
            "text/plain": [
              "                    At  Sentimen  ... Bintang    Aspek\n",
              "0  2020-10-18 19:32:19         1  ...       5  Lainnya\n",
              "1  2020-10-17 20:18:47         1  ...       5  Layanan\n",
              "2  2020-10-17 07:44:22        -1  ...       1  Layanan\n",
              "3  2020-10-17 05:29:05        -1  ...       1  Layanan\n",
              "4  2020-10-17 00:12:18        -1  ...       1  Layanan\n",
              "\n",
              "[5 rows x 5 columns]"
            ]
          },
          "metadata": {
            "tags": []
          },
          "execution_count": 3
        }
      ]
    },
    {
      "cell_type": "code",
      "metadata": {
        "colab": {
          "base_uri": "https://localhost:8080/"
        },
        "id": "_LoB5WRuvCSx",
        "outputId": "264eedf6-48aa-4598-e5c0-502915d2a881"
      },
      "source": [
        "sw=open('data/slangsoco.txt',\"r\",encoding=\"utf-8\", errors='replace')\n",
        "slangS = sw.readlines(); sw.close()\n",
        "\n",
        "slangS = [df.strip('\\n').strip() for df in slangS]\n",
        "slangS = [s_.split(' : ') for s_ in slangS]\n",
        "slang_ = {}\n",
        "for s_ in slangS:\n",
        "    try:\n",
        "        slang_[s_[0].strip()] = s_[1].strip()\n",
        "    except:\n",
        "        print(s_)\n",
        "slangS = slang_.copy()"
      ],
      "execution_count": 4,
      "outputs": [
        {
          "output_type": "stream",
          "text": [
            "['udah sudah']\n"
          ],
          "name": "stdout"
        }
      ]
    },
    {
      "cell_type": "code",
      "metadata": {
        "colab": {
          "base_uri": "https://localhost:8080/"
        },
        "id": "cjnxRHklvCaz",
        "outputId": "9ea86d73-cecf-414f-d632-646eaee86d13"
      },
      "source": [
        "b = []\n",
        "for h in df['Review']:\n",
        "    T = TextBlob(h.lower()).words\n",
        "    for i,t in enumerate(T):\n",
        "        if str(t) in slangS.keys():\n",
        "            T[i] = slangS[str(t)]\n",
        "    b.append(' '.join(T))\n",
        "\n",
        "b[:5]"
      ],
      "execution_count": 5,
      "outputs": [
        {
          "output_type": "execute_result",
          "data": {
            "text/plain": [
              "['good',\n",
              " 'senang belanja disini karena deh pastinya original pengiriman langsung jalan satu hari setelah bayar banyak diskon admin responsif juga metode pembayaran juga banyak dan reachable suka sekali tetapi terkadang ada suka error tidak jelas begitu selain itu sudah bagus sekali sih menurut saya recommended',\n",
              " 'pertama kali order langsung kecewa di cancel karena barang nya ada satu yang kosong proses pengembalian uang sulit check out tanggal 13 oktober konfirmasi tanggal 15 uang akan di kembalikan dalam 7-10 hari kerja maks tanggal 2 november kelamaan woi karena banyak antrian refund katanya tidak ingin sedang order lewat sini',\n",
              " 'sociola parah proses refund tidak tahu harus menunggu berapa lama padahal ini sudah masuk 3 hari kerja uang saya 775.439 belum dikembalikan padahal sociola sendiri yang cancel order saya karena ada stock barang yang kosong email juga udah 2 hari tidak direspon',\n",
              " 'saya order 4 product di tanggal 11 september dan yang datang hanya 2 ini udah 16 oktober artinya udah sebulan lebih tidak ada kejelasan sampai datang ke counternya untuk menanyakan menjadi disuruh hubungi customer service nya bagaimana sih pelayanan buruk']"
            ]
          },
          "metadata": {
            "tags": []
          },
          "execution_count": 5
        }
      ]
    },
    {
      "cell_type": "code",
      "metadata": {
        "id": "rKW8FcV0vCoW"
      },
      "source": [
        "_ , lemmaId = tau.LoadStopWords(lang='id')"
      ],
      "execution_count": 6,
      "outputs": []
    },
    {
      "cell_type": "code",
      "metadata": {
        "colab": {
          "base_uri": "https://localhost:8080/",
          "height": 86,
          "referenced_widgets": [
            "178edb121b7d4422adaa0e7987f5b693",
            "91bcea1673fb4610a5fd1075a94ba785",
            "d60d3bd3aa594abd9c8334f0e6dddb56",
            "1e706830d1a145d9ba058d52d815dc1d",
            "c08099f7a9e14d008d19a4d6d48b27a5",
            "15d91cbad6ac4c60a113060b0de89dbd",
            "887e47d7fe5144dbbd2214197af367b0",
            "3d23d45420fb46ef9b2f2ef37f19e5bf",
            "6f08509671094a2f8f0c26f0c4af1a50",
            "179ebc80cba146d4b42194bfd1adef7d",
            "c10eff1feeee440ca34270e4a9defbec"
          ]
        },
        "id": "-xxp6cYhvVAJ",
        "outputId": "c7416188-8f9f-4d7b-8314-edf459a40297"
      },
      "source": [
        "data = []\n",
        "for i, d in tqdm(enumerate(b)):\n",
        "    doc = tau.cleanText(d, lemma=lemmaId, stops = {}, symbols_remove = True, min_charLen = 2, fixTag= True, fixMix=True)\n",
        "    data.append(doc)\n",
        "\n",
        "print(data[:3])"
      ],
      "execution_count": 7,
      "outputs": [
        {
          "output_type": "display_data",
          "data": {
            "application/vnd.jupyter.widget-view+json": {
              "model_id": "178edb121b7d4422adaa0e7987f5b693",
              "version_minor": 0,
              "version_major": 2
            },
            "text/plain": [
              "0it [00:00, ?it/s]"
            ]
          },
          "metadata": {
            "tags": []
          }
        },
        {
          "output_type": "stream",
          "text": [
            "['good', 'senang belanja sini karena deh pasti original kirim langsung jalan satu hari telah bayar banyak diskon admin responsif juga metode bayar juga banyak dan reachable suka sekali tetapi terkadang ada suka error tidak jelas begitu selain itu sudah bagus sekali sih turut saya recommended', 'pertama kali order langsung kecewa di cancel karena barang nya ada satu yang kosong proses kembali uang sulit check out tanggal  13  oktober konfirmasi tanggal  15  uang akan di kembali dalam  7 - 10  hari kerja maks tanggal november lama woi karena banyak antri refund kata tidak ingin sedang order lewat sini']\n"
          ],
          "name": "stdout"
        }
      ]
    },
    {
      "cell_type": "code",
      "metadata": {
        "colab": {
          "base_uri": "https://localhost:8080/",
          "height": 204
        },
        "id": "SPZ-lnS1vVPZ",
        "outputId": "fcfb25db-5c42-4248-8142-b463d4cc7747"
      },
      "source": [
        "df['data_cleaned'] = data\n",
        "df.to_csv('PREPROSS_SENTIMEN.csv')\n",
        "df.head()"
      ],
      "execution_count": 8,
      "outputs": [
        {
          "output_type": "execute_result",
          "data": {
            "text/html": [
              "<div>\n",
              "<style scoped>\n",
              "    .dataframe tbody tr th:only-of-type {\n",
              "        vertical-align: middle;\n",
              "    }\n",
              "\n",
              "    .dataframe tbody tr th {\n",
              "        vertical-align: top;\n",
              "    }\n",
              "\n",
              "    .dataframe thead th {\n",
              "        text-align: right;\n",
              "    }\n",
              "</style>\n",
              "<table border=\"1\" class=\"dataframe\">\n",
              "  <thead>\n",
              "    <tr style=\"text-align: right;\">\n",
              "      <th></th>\n",
              "      <th>At</th>\n",
              "      <th>Sentimen</th>\n",
              "      <th>Review</th>\n",
              "      <th>Bintang</th>\n",
              "      <th>Aspek</th>\n",
              "      <th>data_cleaned</th>\n",
              "    </tr>\n",
              "  </thead>\n",
              "  <tbody>\n",
              "    <tr>\n",
              "      <th>0</th>\n",
              "      <td>2020-10-18 19:32:19</td>\n",
              "      <td>1</td>\n",
              "      <td>gud</td>\n",
              "      <td>5</td>\n",
              "      <td>Lainnya</td>\n",
              "      <td>good</td>\n",
              "    </tr>\n",
              "    <tr>\n",
              "      <th>1</th>\n",
              "      <td>2020-10-17 20:18:47</td>\n",
              "      <td>1</td>\n",
              "      <td>Seneng belanja disini karna dah pastinya ori, ...</td>\n",
              "      <td>5</td>\n",
              "      <td>Layanan</td>\n",
              "      <td>senang belanja sini karena deh pasti original ...</td>\n",
              "    </tr>\n",
              "    <tr>\n",
              "      <th>2</th>\n",
              "      <td>2020-10-17 07:44:22</td>\n",
              "      <td>-1</td>\n",
              "      <td>Pertamakali order langsung kecewa, di cancel k...</td>\n",
              "      <td>1</td>\n",
              "      <td>Layanan</td>\n",
              "      <td>pertama kali order langsung kecewa di cancel k...</td>\n",
              "    </tr>\n",
              "    <tr>\n",
              "      <th>3</th>\n",
              "      <td>2020-10-17 05:29:05</td>\n",
              "      <td>-1</td>\n",
              "      <td>Sociolla parah. Proses refund gak tau harus nu...</td>\n",
              "      <td>1</td>\n",
              "      <td>Layanan</td>\n",
              "      <td>sociola parah proses refund tidak tahu harus t...</td>\n",
              "    </tr>\n",
              "    <tr>\n",
              "      <th>4</th>\n",
              "      <td>2020-10-17 00:12:18</td>\n",
              "      <td>-1</td>\n",
              "      <td>Sy order 4 product di tanggal 11 september dan...</td>\n",
              "      <td>1</td>\n",
              "      <td>Layanan</td>\n",
              "      <td>saya order product di tanggal  11  september d...</td>\n",
              "    </tr>\n",
              "  </tbody>\n",
              "</table>\n",
              "</div>"
            ],
            "text/plain": [
              "                    At  ...                                       data_cleaned\n",
              "0  2020-10-18 19:32:19  ...                                               good\n",
              "1  2020-10-17 20:18:47  ...  senang belanja sini karena deh pasti original ...\n",
              "2  2020-10-17 07:44:22  ...  pertama kali order langsung kecewa di cancel k...\n",
              "3  2020-10-17 05:29:05  ...  sociola parah proses refund tidak tahu harus t...\n",
              "4  2020-10-17 00:12:18  ...  saya order product di tanggal  11  september d...\n",
              "\n",
              "[5 rows x 6 columns]"
            ]
          },
          "metadata": {
            "tags": []
          },
          "execution_count": 8
        }
      ]
    },
    {
      "cell_type": "code",
      "metadata": {
        "id": "Px9efKDOvVcJ"
      },
      "source": [
        "df_pos = df[df['Sentimen']==1]['data_cleaned']\n",
        "df_pos.to_csv('sentimen_positif.csv', encoding='utf8', index = False)\n",
        "df_neg = df[df['Sentimen']==-1]['data_cleaned']\n",
        "df_neg.to_csv('sentimen_negatif.csv', encoding='utf8', index = False)\n",
        "df_net = df[df['Sentimen']==0]['data_cleaned']\n",
        "df_net.to_csv('sentimen_netral.csv', encoding='utf8', index = False)\n",
        "\n",
        "#Aspek Layanan\n",
        "df_laypos = df[(df['Aspek']==\"Layanan\") & (df['Sentimen']==1)]['data_cleaned']\n",
        "df_laypos.to_csv('aspek_layanan_positif.csv', encoding='utf8', index = False)\n",
        "df_layneg = df[(df['Aspek']==\"Layanan\") & (df['Sentimen']==-1)]['data_cleaned']\n",
        "df_layneg.to_csv('aspek_layanan_negatif.csv', encoding='utf8', index = False)\n",
        "df_laynet = df[(df['Aspek']==\"Layanan\") & (df['Sentimen']==0)]['data_cleaned']\n",
        "df_laynet.to_csv('aspek_layanan_netral.csv', encoding='utf8', index = False)\n",
        "\n",
        "#Aspek Tampilan\n",
        "df_tampos = df[(df['Aspek']==\"Tampilan\") & (df['Sentimen']==1)]['data_cleaned']\n",
        "df_tampos.to_csv('aspek_tampilan_positif.csv', encoding='utf8', index = False)\n",
        "df_tamneg = df[(df['Aspek']==\"Tampilan\") & (df['Sentimen']==-1) ]['data_cleaned']\n",
        "df_tamneg.to_csv('aspek_tampilan_negatif.csv', encoding='utf8', index = False)\n",
        "df_tamnet = df[(df['Aspek']==\"Tampilan\") & (df['Sentimen']==0)]['data_cleaned']\n",
        "df_tamnet.to_csv('aspek_tampilan_netral.csv', encoding='utf8', index = False)\n",
        "\n",
        "#Aspek Produk\n",
        "df_propos = df[(df['Aspek']==\"Produk\") & (df['Sentimen']==1)]['data_cleaned']\n",
        "df_propos.to_csv('aspek_produk_positif.csv', encoding='utf8', index = False)\n",
        "df_proneg = df[(df['Aspek']==\"Produk\") & (df['Sentimen']==-1) ]['data_cleaned']\n",
        "df_proneg.to_csv('aspek_produk_negatif.csv', encoding='utf8', index = False)\n",
        "df_pronet = df[(df['Aspek']==\"Produk\") & (df['Sentimen']==0)]['data_cleaned']\n",
        "df_pronet.to_csv('aspek_produk_netral.csv', encoding='utf8', index = False)\n",
        "\n",
        "#Aspek Lainnya\n",
        "df_lapos = df[(df['Aspek']==\"Lainnya\") & (df['Sentimen']==1)]['data_cleaned']\n",
        "df_lapos.to_csv('aspek_lainnya_positif.csv', encoding='utf8', index = False)\n",
        "df_laneg = df[(df['Aspek']==\"Lainnya\") & (df['Sentimen']==-1) ]['data_cleaned']\n",
        "df_laneg.to_csv('aspek_lainnya_negatif.csv', encoding='utf8', index = False)\n",
        "df_lanet = df[(df['Aspek']==\"Lainnya\") & (df['Sentimen']==0)]['data_cleaned']\n",
        "df_lanet.to_csv('aspek_lainnya_netral.csv', encoding='utf8', index = False)"
      ],
      "execution_count": 9,
      "outputs": []
    },
    {
      "cell_type": "markdown",
      "metadata": {
        "id": "TH7TBaqjveKK"
      },
      "source": [
        "## **PROPORSI TEXT ANALITICS DATA SENTIMEN**"
      ]
    },
    {
      "cell_type": "code",
      "metadata": {
        "colab": {
          "base_uri": "https://localhost:8080/",
          "height": 302
        },
        "id": "KBdJFE_Lvg1x",
        "outputId": "4d16039d-9c62-49cd-c113-c9d7f9f75566"
      },
      "source": [
        "print(\"Proporsi Sentimen\")\n",
        "ax = sns.countplot(df['Sentimen'])"
      ],
      "execution_count": 10,
      "outputs": [
        {
          "output_type": "stream",
          "text": [
            "Proporsi Sentimen\n"
          ],
          "name": "stdout"
        },
        {
          "output_type": "display_data",
          "data": {
            "image/png": "[encoded data removed]",
            "text/plain": [
              "<Figure size 432x288 with 1 Axes>"
            ]
          },
          "metadata": {
            "tags": []
          }
        }
      ]
    },
    {
      "cell_type": "code",
      "metadata": {
        "colab": {
          "base_uri": "https://localhost:8080/"
        },
        "id": "LfPRUGhNvkYp",
        "outputId": "89b8bc3b-8e24-4e26-f4c1-71a6a882668c"
      },
      "source": [
        "df['Sentimen'].value_counts()"
      ],
      "execution_count": 11,
      "outputs": [
        {
          "output_type": "execute_result",
          "data": {
            "text/plain": [
              "-1    909\n",
              " 1    880\n",
              " 0    284\n",
              "Name: Sentimen, dtype: int64"
            ]
          },
          "metadata": {
            "tags": []
          },
          "execution_count": 11
        }
      ]
    },
    {
      "cell_type": "code",
      "metadata": {
        "colab": {
          "base_uri": "https://localhost:8080/",
          "height": 302
        },
        "id": "AtMz37E2-TE8",
        "outputId": "facc5485-fb3b-4c2f-8d29-15c2b4078057"
      },
      "source": [
        "print(\"Proporsi Aspek\")\n",
        "ax = sns.countplot(df['Aspek'])"
      ],
      "execution_count": 16,
      "outputs": [
        {
          "output_type": "stream",
          "text": [
            "Proporsi Aspek\n"
          ],
          "name": "stdout"
        },
        {
          "output_type": "display_data",
          "data": {
            "image/png": "[encoded data removed]",
            "text/plain": [
              "<Figure size 432x288 with 1 Axes>"
            ]
          },
          "metadata": {
            "tags": []
          }
        }
      ]
    },
    {
      "cell_type": "code",
      "metadata": {
        "colab": {
          "base_uri": "https://localhost:8080/"
        },
        "id": "UZC6i3lg-T7R",
        "outputId": "fbc48f86-db64-4b5e-888b-bc04d658e5d5"
      },
      "source": [
        "df['Aspek'].value_counts()"
      ],
      "execution_count": 17,
      "outputs": [
        {
          "output_type": "execute_result",
          "data": {
            "text/plain": [
              "Tampilan    912\n",
              "Lainnya     715\n",
              "Layanan     312\n",
              "Produk      134\n",
              "Name: Aspek, dtype: int64"
            ]
          },
          "metadata": {
            "tags": []
          },
          "execution_count": 17
        }
      ]
    },
    {
      "cell_type": "code",
      "metadata": {
        "colab": {
          "base_uri": "https://localhost:8080/"
        },
        "id": "WY72cbUGvkjV",
        "outputId": "5130a48f-f10a-4bd2-ac5d-c6ccec6db93e"
      },
      "source": [
        "df['At'] = pd.to_datetime(df['At'])\n",
        "\n",
        "datesen_counts = (df.groupby(df['At'].dt.year)['Sentimen']\n",
        "                .value_counts()\n",
        "                .rename('Data')\n",
        "                .reset_index()\n",
        "                .sort_values('At'))\n",
        "print(datesen_counts)"
      ],
      "execution_count": 12,
      "outputs": [
        {
          "output_type": "stream",
          "text": [
            "     At  Sentimen  Data\n",
            "0  2019        -1   628\n",
            "1  2019         1   614\n",
            "2  2019         0   206\n",
            "3  2020        -1   281\n",
            "4  2020         1   266\n",
            "5  2020         0    78\n"
          ],
          "name": "stdout"
        }
      ]
    },
    {
      "cell_type": "code",
      "metadata": {
        "colab": {
          "base_uri": "https://localhost:8080/",
          "height": 302
        },
        "id": "IsyIkMq5vq6m",
        "outputId": "dfdc7bf1-0521-4e04-e871-c6c4e168276c"
      },
      "source": [
        "print(\"Proporsi Sentimen Tahun\")\n",
        "p = sns.barplot(x=\"At\", y=\"Data\", hue=\"Sentimen\", data=datesen_counts)"
      ],
      "execution_count": 13,
      "outputs": [
        {
          "output_type": "stream",
          "text": [
            "Proporsi Sentimen Tahun\n"
          ],
          "name": "stdout"
        },
        {
          "output_type": "display_data",
          "data": {
            "image/png": "[encoded data removed]",
            "text/plain": [
              "<Figure size 432x288 with 1 Axes>"
            ]
          },
          "metadata": {
            "tags": []
          }
        }
      ]
    },
    {
      "cell_type": "code",
      "metadata": {
        "colab": {
          "base_uri": "https://localhost:8080/"
        },
        "id": "Gb284_CBvu9Y",
        "outputId": "95433cdd-1ae1-4cf1-f9fa-cd69c0e88188"
      },
      "source": [
        "aspek_counts = (df.groupby(['Aspek'])['Sentimen']\n",
        "                .value_counts() \n",
        "                     .rename('Data')\n",
        "                     .reset_index()\n",
        "                     .sort_values('Sentimen'))\n",
        "print(aspek_counts)"
      ],
      "execution_count": 14,
      "outputs": [
        {
          "output_type": "stream",
          "text": [
            "       Aspek  Sentimen  Data\n",
            "1    Lainnya        -1   160\n",
            "3    Layanan        -1   142\n",
            "7     Produk        -1    12\n",
            "9   Tampilan        -1   595\n",
            "2    Lainnya         0    45\n",
            "5    Layanan         0    31\n",
            "8     Produk         0     3\n",
            "10  Tampilan         0   205\n",
            "0    Lainnya         1   510\n",
            "4    Layanan         1   139\n",
            "6     Produk         1   119\n",
            "11  Tampilan         1   112\n"
          ],
          "name": "stdout"
        }
      ]
    },
    {
      "cell_type": "code",
      "metadata": {
        "colab": {
          "base_uri": "https://localhost:8080/",
          "height": 302
        },
        "id": "44ItA1shvvJv",
        "outputId": "aae8718f-a253-4ba1-bc1b-95d6aae12204"
      },
      "source": [
        "print(\"Proporsi Aspek\")\n",
        "p = sns.barplot(x=\"Aspek\", y=\"Data\", hue=\"Sentimen\", data=aspek_counts)"
      ],
      "execution_count": 15,
      "outputs": [
        {
          "output_type": "stream",
          "text": [
            "Proporsi Aspek\n"
          ],
          "name": "stdout"
        },
        {
          "output_type": "display_data",
          "data": {
            "image/png": "[encoded data removed]",
            "text/plain": [
              "<Figure size 432x288 with 1 Axes>"
            ]
          },
          "metadata": {
            "tags": []
          }
        }
      ]
    },
    {
      "cell_type": "code",
      "metadata": {
        "id": "Nrh3Ks3Sv1EQ"
      },
      "source": [
        ""
      ],
      "execution_count": null,
      "outputs": []
    }
  ]
}