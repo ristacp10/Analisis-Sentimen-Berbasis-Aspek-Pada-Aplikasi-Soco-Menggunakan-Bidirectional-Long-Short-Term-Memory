{
  "nbformat": 4,
  "nbformat_minor": 0,
  "metadata": {
    "colab": {
      "name": "Topic Modeling (Aspek).ipynb",
      "provenance": [],
      "collapsed_sections": [],
      "include_colab_link": true
    },
    "kernelspec": {
      "name": "python3",
      "display_name": "Python 3"
    },
    "language_info": {
      "name": "python"
    }
  },
  "cells": [
    {
      "cell_type": "markdown",
      "metadata": {
        "id": "view-in-github",
        "colab_type": "text"
      },
      "source": [
        "<a href=\"https://colab.research.google.com/github/ristacp10/Analisis-Sentimen-Berbasis-Aspek-Pada-Aplikasi-Soco-Menggunakan-Bidirectional-Long-Short-Term-Memory/blob/main/Topic_Modeling_(Aspek).ipynb\" target=\"_parent\"><img src=\"https://colab.research.google.com/assets/colab-badge.svg\" alt=\"Open In Colab\"/></a>"
      ]
    },
    {
      "cell_type": "code",
      "metadata": {
        "colab": {
          "base_uri": "https://localhost:8080/"
        },
        "id": "oILiOzvZtqnz",
        "outputId": "d6155f05-98f7-4d5f-e18b-9e202e076597"
      },
      "source": [
        "import warnings; warnings.simplefilter('ignore')\n",
        "import nltk\n",
        "\n",
        "!wget https://raw.githubusercontent.com/taudata-indonesia/eLearning/master/taudataNlpTm.py\n",
        "\n",
        "!mkdir data\n",
        "!wget -P data/ https://raw.githubusercontent.com/taudata-indonesia/eLearning/master/data/slang.txt\n",
        "!wget -P data/ https://raw.githubusercontent.com/taudata-indonesia/eLearning/master/data/stopwords_id.txt\n",
        "!wget -P data/ https://raw.githubusercontent.com/taudata-indonesia/eLearning/master/data/stopwords_en.txt\n",
        "!wget -P data/ https://raw.githubusercontent.com/taudata-indonesia/eLearning/master/data/kata_dasar.txt\n",
        "!wget -P data/ https://raw.githubusercontent.com/taudata-indonesia/eLearning/master/data/wn-ind-def.tab\n",
        "!wget -P data/ https://raw.githubusercontent.com/taudata-indonesia/eLearning/master/data/wn-msa-all.tab\n",
        "!wget -P data/ https://raw.githubusercontent.com/taudata-indonesia/eLearning/master/data/ind_SA.csv\n",
        "!wget -P data/ https://raw.githubusercontent.com/taudata-indonesia/eLearning/master/data/all_indo_man_tag_corpus_model.crf.tagger\n",
        "\n",
        "!mkdir CSV\n",
        "!wget -P CSV/ https://raw.githubusercontent.com/ristacp10/Analisis-Sentimen-Berbasis-Aspek-Pada-Aplikasi-Soco-Menggunakan-Bidirectional-Long-Short-Term-Memory/main/CSV/PREPROSS.csv\n",
        "\n",
        "!pip install spacy python-crfsuite unidecode textblob sastrawi\n",
        "!python -m spacy download en\n",
        "!python -m spacy download xx\n",
        "!python -m spacy download en_core_web_sm\n",
        "\n",
        "nltk.download('popular')"
      ],
      "execution_count": 1,
      "outputs": [
        {
          "output_type": "stream",
          "text": [
            "--2021-08-14 07:03:21--  https://raw.githubusercontent.com/taudata-indonesia/eLearning/master/taudataNlpTm.py\n",
            "Resolving raw.githubusercontent.com (raw.githubusercontent.com)... 185.199.109.133, 185.199.111.133, 185.199.108.133, ...\n",
            "Connecting to raw.githubusercontent.com (raw.githubusercontent.com)|185.199.109.133|:443... connected.\n",
            "HTTP request sent, awaiting response... 200 OK\n",
            "Length: 16713 (16K) [text/plain]\n",
            "Saving to: ‘taudataNlpTm.py’\n",
            "\n",
            "\rtaudataNlpTm.py       0%[                    ]       0  --.-KB/s               \rtaudataNlpTm.py     100%[===================>]  16.32K  --.-KB/s    in 0s      \n",
            "\n",
            "2021-08-14 07:03:21 (38.0 MB/s) - ‘taudataNlpTm.py’ saved [16713/16713]\n",
            "\n",
            "--2021-08-14 07:03:21--  https://raw.githubusercontent.com/taudata-indonesia/eLearning/master/data/slang.txt\n",
            "Resolving raw.githubusercontent.com (raw.githubusercontent.com)... 185.199.109.133, 185.199.110.133, 185.199.111.133, ...\n",
            "Connecting to raw.githubusercontent.com (raw.githubusercontent.com)|185.199.109.133|:443... connected.\n",
            "HTTP request sent, awaiting response... 200 OK\n",
            "Length: 29041 (28K) [text/plain]\n",
            "Saving to: ‘data/slang.txt’\n",
            "\n",
            "slang.txt           100%[===================>]  28.36K  --.-KB/s    in 0.001s  \n",
            "\n",
            "2021-08-14 07:03:21 (29.2 MB/s) - ‘data/slang.txt’ saved [29041/29041]\n",
            "\n",
            "--2021-08-14 07:03:21--  https://raw.githubusercontent.com/taudata-indonesia/eLearning/master/data/stopwords_id.txt\n",
            "Resolving raw.githubusercontent.com (raw.githubusercontent.com)... 185.199.108.133, 185.199.109.133, 185.199.110.133, ...\n",
            "Connecting to raw.githubusercontent.com (raw.githubusercontent.com)|185.199.108.133|:443... connected.\n",
            "HTTP request sent, awaiting response... 200 OK\n",
            "Length: 6446 (6.3K) [text/plain]\n",
            "Saving to: ‘data/stopwords_id.txt’\n",
            "\n",
            "stopwords_id.txt    100%[===================>]   6.29K  --.-KB/s    in 0s      \n",
            "\n",
            "2021-08-14 07:03:22 (71.6 MB/s) - ‘data/stopwords_id.txt’ saved [6446/6446]\n",
            "\n",
            "--2021-08-14 07:03:22--  https://raw.githubusercontent.com/taudata-indonesia/eLearning/master/data/stopwords_en.txt\n",
            "Resolving raw.githubusercontent.com (raw.githubusercontent.com)... 185.199.109.133, 185.199.110.133, 185.199.111.133, ...\n",
            "Connecting to raw.githubusercontent.com (raw.githubusercontent.com)|185.199.109.133|:443... connected.\n",
            "HTTP request sent, awaiting response... 200 OK\n",
            "Length: 15140 (15K) [text/plain]\n",
            "Saving to: ‘data/stopwords_en.txt’\n",
            "\n",
            "stopwords_en.txt    100%[===================>]  14.79K  --.-KB/s    in 0s      \n",
            "\n",
            "2021-08-14 07:03:22 (61.4 MB/s) - ‘data/stopwords_en.txt’ saved [15140/15140]\n",
            "\n",
            "--2021-08-14 07:03:22--  https://raw.githubusercontent.com/taudata-indonesia/eLearning/master/data/kata_dasar.txt\n",
            "Resolving raw.githubusercontent.com (raw.githubusercontent.com)... 185.199.109.133, 185.199.110.133, 185.199.111.133, ...\n",
            "Connecting to raw.githubusercontent.com (raw.githubusercontent.com)|185.199.109.133|:443... connected.\n",
            "HTTP request sent, awaiting response... 200 OK\n",
            "Length: 348507 (340K) [text/plain]\n",
            "Saving to: ‘data/kata_dasar.txt’\n",
            "\n",
            "kata_dasar.txt      100%[===================>] 340.34K  --.-KB/s    in 0.03s   \n",
            "\n",
            "2021-08-14 07:03:22 (9.80 MB/s) - ‘data/kata_dasar.txt’ saved [348507/348507]\n",
            "\n",
            "--2021-08-14 07:03:22--  https://raw.githubusercontent.com/taudata-indonesia/eLearning/master/data/wn-ind-def.tab\n",
            "Resolving raw.githubusercontent.com (raw.githubusercontent.com)... 185.199.109.133, 185.199.110.133, 185.199.111.133, ...\n",
            "Connecting to raw.githubusercontent.com (raw.githubusercontent.com)|185.199.109.133|:443... connected.\n",
            "HTTP request sent, awaiting response... 200 OK\n",
            "Length: 868322 (848K) [text/plain]\n",
            "Saving to: ‘data/wn-ind-def.tab’\n",
            "\n",
            "wn-ind-def.tab      100%[===================>] 847.97K  --.-KB/s    in 0.05s   \n",
            "\n",
            "2021-08-14 07:03:22 (15.6 MB/s) - ‘data/wn-ind-def.tab’ saved [868322/868322]\n",
            "\n",
            "--2021-08-14 07:03:23--  https://raw.githubusercontent.com/taudata-indonesia/eLearning/master/data/wn-msa-all.tab\n",
            "Resolving raw.githubusercontent.com (raw.githubusercontent.com)... 185.199.109.133, 185.199.110.133, 185.199.111.133, ...\n",
            "Connecting to raw.githubusercontent.com (raw.githubusercontent.com)|185.199.109.133|:443... connected.\n",
            "HTTP request sent, awaiting response... 200 OK\n",
            "Length: 17003012 (16M) [text/plain]\n",
            "Saving to: ‘data/wn-msa-all.tab’\n",
            "\n",
            "wn-msa-all.tab      100%[===================>]  16.21M  --.-KB/s    in 0.1s    \n",
            "\n",
            "2021-08-14 07:03:23 (121 MB/s) - ‘data/wn-msa-all.tab’ saved [17003012/17003012]\n",
            "\n",
            "--2021-08-14 07:03:23--  https://raw.githubusercontent.com/taudata-indonesia/eLearning/master/data/ind_SA.csv\n",
            "Resolving raw.githubusercontent.com (raw.githubusercontent.com)... 185.199.109.133, 185.199.110.133, 185.199.111.133, ...\n",
            "Connecting to raw.githubusercontent.com (raw.githubusercontent.com)|185.199.109.133|:443... connected.\n",
            "HTTP request sent, awaiting response... 200 OK\n",
            "Length: 918025 (897K) [text/plain]\n",
            "Saving to: ‘data/ind_SA.csv’\n",
            "\n",
            "ind_SA.csv          100%[===================>] 896.51K  --.-KB/s    in 0.05s   \n",
            "\n",
            "2021-08-14 07:03:23 (18.3 MB/s) - ‘data/ind_SA.csv’ saved [918025/918025]\n",
            "\n",
            "--2021-08-14 07:03:23--  https://raw.githubusercontent.com/taudata-indonesia/eLearning/master/data/all_indo_man_tag_corpus_model.crf.tagger\n",
            "Resolving raw.githubusercontent.com (raw.githubusercontent.com)... 185.199.109.133, 185.199.110.133, 185.199.111.133, ...\n",
            "Connecting to raw.githubusercontent.com (raw.githubusercontent.com)|185.199.109.133|:443... connected.\n",
            "HTTP request sent, awaiting response... 200 OK\n",
            "Length: 1722780 (1.6M) [application/octet-stream]\n",
            "Saving to: ‘data/all_indo_man_tag_corpus_model.crf.tagger’\n",
            "\n",
            "all_indo_man_tag_co 100%[===================>]   1.64M  --.-KB/s    in 0.06s   \n",
            "\n",
            "2021-08-14 07:03:24 (28.1 MB/s) - ‘data/all_indo_man_tag_corpus_model.crf.tagger’ saved [1722780/1722780]\n",
            "\n",
            "--2021-08-14 07:03:24--  https://raw.githubusercontent.com/ristacp10/Analisis-Sentimen-Berbasis-Aspek-Pada-Aplikasi-Soco-Menggunakan-Bidirectional-Long-Short-Term-Memory/main/CSV/PREPROSS.csv\n",
            "Resolving raw.githubusercontent.com (raw.githubusercontent.com)... 185.199.109.133, 185.199.110.133, 185.199.111.133, ...\n",
            "Connecting to raw.githubusercontent.com (raw.githubusercontent.com)|185.199.109.133|:443... connected.\n",
            "HTTP request sent, awaiting response... 200 OK\n",
            "Length: 333914 (326K) [text/plain]\n",
            "Saving to: ‘CSV/PREPROSS.csv’\n",
            "\n",
            "PREPROSS.csv        100%[===================>] 326.09K  --.-KB/s    in 0.03s   \n",
            "\n",
            "2021-08-14 07:03:24 (9.32 MB/s) - ‘CSV/PREPROSS.csv’ saved [333914/333914]\n",
            "\n",
            "Requirement already satisfied: spacy in /usr/local/lib/python3.7/dist-packages (2.2.4)\n",
            "Collecting python-crfsuite\n",
            "  Downloading python_crfsuite-0.9.7-cp37-cp37m-manylinux1_x86_64.whl (743 kB)\n",
            "\u001b[K     |████████████████████████████████| 743 kB 5.0 MB/s \n",
            "\u001b[?25hCollecting unidecode\n",
            "  Downloading Unidecode-1.2.0-py2.py3-none-any.whl (241 kB)\n",
            "\u001b[K     |████████████████████████████████| 241 kB 52.9 MB/s \n",
            "\u001b[?25hRequirement already satisfied: textblob in /usr/local/lib/python3.7/dist-packages (0.15.3)\n",
            "Collecting sastrawi\n",
            "  Downloading Sastrawi-1.0.1-py2.py3-none-any.whl (209 kB)\n",
            "\u001b[K     |████████████████████████████████| 209 kB 50.2 MB/s \n",
            "\u001b[?25hRequirement already satisfied: catalogue<1.1.0,>=0.0.7 in /usr/local/lib/python3.7/dist-packages (from spacy) (1.0.0)\n",
            "Requirement already satisfied: wasabi<1.1.0,>=0.4.0 in /usr/local/lib/python3.7/dist-packages (from spacy) (0.8.2)\n",
            "Requirement already satisfied: murmurhash<1.1.0,>=0.28.0 in /usr/local/lib/python3.7/dist-packages (from spacy) (1.0.5)\n",
            "Requirement already satisfied: tqdm<5.0.0,>=4.38.0 in /usr/local/lib/python3.7/dist-packages (from spacy) (4.62.0)\n",
            "Requirement already satisfied: cymem<2.1.0,>=2.0.2 in /usr/local/lib/python3.7/dist-packages (from spacy) (2.0.5)\n",
            "Requirement already satisfied: preshed<3.1.0,>=3.0.2 in /usr/local/lib/python3.7/dist-packages (from spacy) (3.0.5)\n",
            "Requirement already satisfied: setuptools in /usr/local/lib/python3.7/dist-packages (from spacy) (57.2.0)\n",
            "Requirement already satisfied: numpy>=1.15.0 in /usr/local/lib/python3.7/dist-packages (from spacy) (1.19.5)\n",
            "Requirement already satisfied: requests<3.0.0,>=2.13.0 in /usr/local/lib/python3.7/dist-packages (from spacy) (2.23.0)\n",
            "Requirement already satisfied: plac<1.2.0,>=0.9.6 in /usr/local/lib/python3.7/dist-packages (from spacy) (1.1.3)\n",
            "Requirement already satisfied: thinc==7.4.0 in /usr/local/lib/python3.7/dist-packages (from spacy) (7.4.0)\n",
            "Requirement already satisfied: srsly<1.1.0,>=1.0.2 in /usr/local/lib/python3.7/dist-packages (from spacy) (1.0.5)\n",
            "Requirement already satisfied: blis<0.5.0,>=0.4.0 in /usr/local/lib/python3.7/dist-packages (from spacy) (0.4.1)\n",
            "Requirement already satisfied: importlib-metadata>=0.20 in /usr/local/lib/python3.7/dist-packages (from catalogue<1.1.0,>=0.0.7->spacy) (4.6.3)\n",
            "Requirement already satisfied: typing-extensions>=3.6.4 in /usr/local/lib/python3.7/dist-packages (from importlib-metadata>=0.20->catalogue<1.1.0,>=0.0.7->spacy) (3.7.4.3)\n",
            "Requirement already satisfied: zipp>=0.5 in /usr/local/lib/python3.7/dist-packages (from importlib-metadata>=0.20->catalogue<1.1.0,>=0.0.7->spacy) (3.5.0)\n",
            "Requirement already satisfied: chardet<4,>=3.0.2 in /usr/local/lib/python3.7/dist-packages (from requests<3.0.0,>=2.13.0->spacy) (3.0.4)\n",
            "Requirement already satisfied: certifi>=2017.4.17 in /usr/local/lib/python3.7/dist-packages (from requests<3.0.0,>=2.13.0->spacy) (2021.5.30)\n",
            "Requirement already satisfied: idna<3,>=2.5 in /usr/local/lib/python3.7/dist-packages (from requests<3.0.0,>=2.13.0->spacy) (2.10)\n",
            "Requirement already satisfied: urllib3!=1.25.0,!=1.25.1,<1.26,>=1.21.1 in /usr/local/lib/python3.7/dist-packages (from requests<3.0.0,>=2.13.0->spacy) (1.24.3)\n",
            "Requirement already satisfied: nltk>=3.1 in /usr/local/lib/python3.7/dist-packages (from textblob) (3.2.5)\n",
            "Requirement already satisfied: six in /usr/local/lib/python3.7/dist-packages (from nltk>=3.1->textblob) (1.15.0)\n",
            "Installing collected packages: unidecode, sastrawi, python-crfsuite\n",
            "Successfully installed python-crfsuite-0.9.7 sastrawi-1.0.1 unidecode-1.2.0\n",
            "Collecting en_core_web_sm==2.2.5\n",
            "  Downloading https://github.com/explosion/spacy-models/releases/download/en_core_web_sm-2.2.5/en_core_web_sm-2.2.5.tar.gz (12.0 MB)\n",
            "\u001b[K     |████████████████████████████████| 12.0 MB 5.2 MB/s \n",
            "\u001b[?25hRequirement already satisfied: spacy>=2.2.2 in /usr/local/lib/python3.7/dist-packages (from en_core_web_sm==2.2.5) (2.2.4)\n",
            "Requirement already satisfied: cymem<2.1.0,>=2.0.2 in /usr/local/lib/python3.7/dist-packages (from spacy>=2.2.2->en_core_web_sm==2.2.5) (2.0.5)\n",
            "Requirement already satisfied: catalogue<1.1.0,>=0.0.7 in /usr/local/lib/python3.7/dist-packages (from spacy>=2.2.2->en_core_web_sm==2.2.5) (1.0.0)\n",
            "Requirement already satisfied: requests<3.0.0,>=2.13.0 in /usr/local/lib/python3.7/dist-packages (from spacy>=2.2.2->en_core_web_sm==2.2.5) (2.23.0)\n",
            "Requirement already satisfied: srsly<1.1.0,>=1.0.2 in /usr/local/lib/python3.7/dist-packages (from spacy>=2.2.2->en_core_web_sm==2.2.5) (1.0.5)\n",
            "Requirement already satisfied: preshed<3.1.0,>=3.0.2 in /usr/local/lib/python3.7/dist-packages (from spacy>=2.2.2->en_core_web_sm==2.2.5) (3.0.5)\n",
            "Requirement already satisfied: blis<0.5.0,>=0.4.0 in /usr/local/lib/python3.7/dist-packages (from spacy>=2.2.2->en_core_web_sm==2.2.5) (0.4.1)\n",
            "Requirement already satisfied: setuptools in /usr/local/lib/python3.7/dist-packages (from spacy>=2.2.2->en_core_web_sm==2.2.5) (57.2.0)\n",
            "Requirement already satisfied: numpy>=1.15.0 in /usr/local/lib/python3.7/dist-packages (from spacy>=2.2.2->en_core_web_sm==2.2.5) (1.19.5)\n",
            "Requirement already satisfied: wasabi<1.1.0,>=0.4.0 in /usr/local/lib/python3.7/dist-packages (from spacy>=2.2.2->en_core_web_sm==2.2.5) (0.8.2)\n",
            "Requirement already satisfied: murmurhash<1.1.0,>=0.28.0 in /usr/local/lib/python3.7/dist-packages (from spacy>=2.2.2->en_core_web_sm==2.2.5) (1.0.5)\n",
            "Requirement already satisfied: thinc==7.4.0 in /usr/local/lib/python3.7/dist-packages (from spacy>=2.2.2->en_core_web_sm==2.2.5) (7.4.0)\n",
            "Requirement already satisfied: tqdm<5.0.0,>=4.38.0 in /usr/local/lib/python3.7/dist-packages (from spacy>=2.2.2->en_core_web_sm==2.2.5) (4.62.0)\n",
            "Requirement already satisfied: plac<1.2.0,>=0.9.6 in /usr/local/lib/python3.7/dist-packages (from spacy>=2.2.2->en_core_web_sm==2.2.5) (1.1.3)\n",
            "Requirement already satisfied: importlib-metadata>=0.20 in /usr/local/lib/python3.7/dist-packages (from catalogue<1.1.0,>=0.0.7->spacy>=2.2.2->en_core_web_sm==2.2.5) (4.6.3)\n",
            "Requirement already satisfied: typing-extensions>=3.6.4 in /usr/local/lib/python3.7/dist-packages (from importlib-metadata>=0.20->catalogue<1.1.0,>=0.0.7->spacy>=2.2.2->en_core_web_sm==2.2.5) (3.7.4.3)\n",
            "Requirement already satisfied: zipp>=0.5 in /usr/local/lib/python3.7/dist-packages (from importlib-metadata>=0.20->catalogue<1.1.0,>=0.0.7->spacy>=2.2.2->en_core_web_sm==2.2.5) (3.5.0)\n",
            "Requirement already satisfied: urllib3!=1.25.0,!=1.25.1,<1.26,>=1.21.1 in /usr/local/lib/python3.7/dist-packages (from requests<3.0.0,>=2.13.0->spacy>=2.2.2->en_core_web_sm==2.2.5) (1.24.3)\n",
            "Requirement already satisfied: idna<3,>=2.5 in /usr/local/lib/python3.7/dist-packages (from requests<3.0.0,>=2.13.0->spacy>=2.2.2->en_core_web_sm==2.2.5) (2.10)\n",
            "Requirement already satisfied: certifi>=2017.4.17 in /usr/local/lib/python3.7/dist-packages (from requests<3.0.0,>=2.13.0->spacy>=2.2.2->en_core_web_sm==2.2.5) (2021.5.30)\n",
            "Requirement already satisfied: chardet<4,>=3.0.2 in /usr/local/lib/python3.7/dist-packages (from requests<3.0.0,>=2.13.0->spacy>=2.2.2->en_core_web_sm==2.2.5) (3.0.4)\n",
            "\u001b[38;5;2m✔ Download and installation successful\u001b[0m\n",
            "You can now load the model via spacy.load('en_core_web_sm')\n",
            "\u001b[38;5;2m✔ Linking successful\u001b[0m\n",
            "/usr/local/lib/python3.7/dist-packages/en_core_web_sm -->\n",
            "/usr/local/lib/python3.7/dist-packages/spacy/data/en\n",
            "You can now load the model via spacy.load('en')\n",
            "Collecting xx_ent_wiki_sm==2.2.0\n",
            "  Downloading https://github.com/explosion/spacy-models/releases/download/xx_ent_wiki_sm-2.2.0/xx_ent_wiki_sm-2.2.0.tar.gz (3.7 MB)\n",
            "\u001b[K     |████████████████████████████████| 3.7 MB 5.1 MB/s \n",
            "\u001b[?25hRequirement already satisfied: spacy>=2.2.0 in /usr/local/lib/python3.7/dist-packages (from xx_ent_wiki_sm==2.2.0) (2.2.4)\n",
            "Requirement already satisfied: murmurhash<1.1.0,>=0.28.0 in /usr/local/lib/python3.7/dist-packages (from spacy>=2.2.0->xx_ent_wiki_sm==2.2.0) (1.0.5)\n",
            "Requirement already satisfied: tqdm<5.0.0,>=4.38.0 in /usr/local/lib/python3.7/dist-packages (from spacy>=2.2.0->xx_ent_wiki_sm==2.2.0) (4.62.0)\n",
            "Requirement already satisfied: wasabi<1.1.0,>=0.4.0 in /usr/local/lib/python3.7/dist-packages (from spacy>=2.2.0->xx_ent_wiki_sm==2.2.0) (0.8.2)\n",
            "Requirement already satisfied: numpy>=1.15.0 in /usr/local/lib/python3.7/dist-packages (from spacy>=2.2.0->xx_ent_wiki_sm==2.2.0) (1.19.5)\n",
            "Requirement already satisfied: plac<1.2.0,>=0.9.6 in /usr/local/lib/python3.7/dist-packages (from spacy>=2.2.0->xx_ent_wiki_sm==2.2.0) (1.1.3)\n",
            "Requirement already satisfied: preshed<3.1.0,>=3.0.2 in /usr/local/lib/python3.7/dist-packages (from spacy>=2.2.0->xx_ent_wiki_sm==2.2.0) (3.0.5)\n",
            "Requirement already satisfied: requests<3.0.0,>=2.13.0 in /usr/local/lib/python3.7/dist-packages (from spacy>=2.2.0->xx_ent_wiki_sm==2.2.0) (2.23.0)\n",
            "Requirement already satisfied: blis<0.5.0,>=0.4.0 in /usr/local/lib/python3.7/dist-packages (from spacy>=2.2.0->xx_ent_wiki_sm==2.2.0) (0.4.1)\n",
            "Requirement already satisfied: thinc==7.4.0 in /usr/local/lib/python3.7/dist-packages (from spacy>=2.2.0->xx_ent_wiki_sm==2.2.0) (7.4.0)\n",
            "Requirement already satisfied: cymem<2.1.0,>=2.0.2 in /usr/local/lib/python3.7/dist-packages (from spacy>=2.2.0->xx_ent_wiki_sm==2.2.0) (2.0.5)\n",
            "Requirement already satisfied: srsly<1.1.0,>=1.0.2 in /usr/local/lib/python3.7/dist-packages (from spacy>=2.2.0->xx_ent_wiki_sm==2.2.0) (1.0.5)\n",
            "Requirement already satisfied: catalogue<1.1.0,>=0.0.7 in /usr/local/lib/python3.7/dist-packages (from spacy>=2.2.0->xx_ent_wiki_sm==2.2.0) (1.0.0)\n",
            "Requirement already satisfied: setuptools in /usr/local/lib/python3.7/dist-packages (from spacy>=2.2.0->xx_ent_wiki_sm==2.2.0) (57.2.0)\n",
            "Requirement already satisfied: importlib-metadata>=0.20 in /usr/local/lib/python3.7/dist-packages (from catalogue<1.1.0,>=0.0.7->spacy>=2.2.0->xx_ent_wiki_sm==2.2.0) (4.6.3)\n",
            "Requirement already satisfied: zipp>=0.5 in /usr/local/lib/python3.7/dist-packages (from importlib-metadata>=0.20->catalogue<1.1.0,>=0.0.7->spacy>=2.2.0->xx_ent_wiki_sm==2.2.0) (3.5.0)\n",
            "Requirement already satisfied: typing-extensions>=3.6.4 in /usr/local/lib/python3.7/dist-packages (from importlib-metadata>=0.20->catalogue<1.1.0,>=0.0.7->spacy>=2.2.0->xx_ent_wiki_sm==2.2.0) (3.7.4.3)\n",
            "Requirement already satisfied: chardet<4,>=3.0.2 in /usr/local/lib/python3.7/dist-packages (from requests<3.0.0,>=2.13.0->spacy>=2.2.0->xx_ent_wiki_sm==2.2.0) (3.0.4)\n",
            "Requirement already satisfied: certifi>=2017.4.17 in /usr/local/lib/python3.7/dist-packages (from requests<3.0.0,>=2.13.0->spacy>=2.2.0->xx_ent_wiki_sm==2.2.0) (2021.5.30)\n",
            "Requirement already satisfied: urllib3!=1.25.0,!=1.25.1,<1.26,>=1.21.1 in /usr/local/lib/python3.7/dist-packages (from requests<3.0.0,>=2.13.0->spacy>=2.2.0->xx_ent_wiki_sm==2.2.0) (1.24.3)\n",
            "Requirement already satisfied: idna<3,>=2.5 in /usr/local/lib/python3.7/dist-packages (from requests<3.0.0,>=2.13.0->spacy>=2.2.0->xx_ent_wiki_sm==2.2.0) (2.10)\n",
            "Building wheels for collected packages: xx-ent-wiki-sm\n",
            "  Building wheel for xx-ent-wiki-sm (setup.py) ... \u001b[?25l\u001b[?25hdone\n",
            "  Created wheel for xx-ent-wiki-sm: filename=xx_ent_wiki_sm-2.2.0-py3-none-any.whl size=3732134 sha256=4240d7196e3233ced45edfee1dfff5be029f08657c9698dcf066cc49aa8137d4\n",
            "  Stored in directory: /tmp/pip-ephem-wheel-cache-ukx9ug0x/wheels/87/31/20/7f7576bcd0b6ee9c7056c60e28d9e6a40143c553cb5fecc9e2\n",
            "Successfully built xx-ent-wiki-sm\n",
            "Installing collected packages: xx-ent-wiki-sm\n",
            "Successfully installed xx-ent-wiki-sm-2.2.0\n",
            "\u001b[38;5;2m✔ Download and installation successful\u001b[0m\n",
            "You can now load the model via spacy.load('xx_ent_wiki_sm')\n",
            "\u001b[38;5;2m✔ Linking successful\u001b[0m\n",
            "/usr/local/lib/python3.7/dist-packages/xx_ent_wiki_sm -->\n",
            "/usr/local/lib/python3.7/dist-packages/spacy/data/xx\n",
            "You can now load the model via spacy.load('xx')\n",
            "Collecting en_core_web_sm==2.2.5\n",
            "  Downloading https://github.com/explosion/spacy-models/releases/download/en_core_web_sm-2.2.5/en_core_web_sm-2.2.5.tar.gz (12.0 MB)\n",
            "\u001b[K     |████████████████████████████████| 12.0 MB 5.1 MB/s \n",
            "\u001b[?25hRequirement already satisfied: spacy>=2.2.2 in /usr/local/lib/python3.7/dist-packages (from en_core_web_sm==2.2.5) (2.2.4)\n",
            "Requirement already satisfied: cymem<2.1.0,>=2.0.2 in /usr/local/lib/python3.7/dist-packages (from spacy>=2.2.2->en_core_web_sm==2.2.5) (2.0.5)\n",
            "Requirement already satisfied: requests<3.0.0,>=2.13.0 in /usr/local/lib/python3.7/dist-packages (from spacy>=2.2.2->en_core_web_sm==2.2.5) (2.23.0)\n",
            "Requirement already satisfied: catalogue<1.1.0,>=0.0.7 in /usr/local/lib/python3.7/dist-packages (from spacy>=2.2.2->en_core_web_sm==2.2.5) (1.0.0)\n",
            "Requirement already satisfied: plac<1.2.0,>=0.9.6 in /usr/local/lib/python3.7/dist-packages (from spacy>=2.2.2->en_core_web_sm==2.2.5) (1.1.3)\n",
            "Requirement already satisfied: tqdm<5.0.0,>=4.38.0 in /usr/local/lib/python3.7/dist-packages (from spacy>=2.2.2->en_core_web_sm==2.2.5) (4.62.0)\n",
            "Requirement already satisfied: numpy>=1.15.0 in /usr/local/lib/python3.7/dist-packages (from spacy>=2.2.2->en_core_web_sm==2.2.5) (1.19.5)\n",
            "Requirement already satisfied: wasabi<1.1.0,>=0.4.0 in /usr/local/lib/python3.7/dist-packages (from spacy>=2.2.2->en_core_web_sm==2.2.5) (0.8.2)\n",
            "Requirement already satisfied: thinc==7.4.0 in /usr/local/lib/python3.7/dist-packages (from spacy>=2.2.2->en_core_web_sm==2.2.5) (7.4.0)\n",
            "Requirement already satisfied: preshed<3.1.0,>=3.0.2 in /usr/local/lib/python3.7/dist-packages (from spacy>=2.2.2->en_core_web_sm==2.2.5) (3.0.5)\n",
            "Requirement already satisfied: srsly<1.1.0,>=1.0.2 in /usr/local/lib/python3.7/dist-packages (from spacy>=2.2.2->en_core_web_sm==2.2.5) (1.0.5)\n",
            "Requirement already satisfied: blis<0.5.0,>=0.4.0 in /usr/local/lib/python3.7/dist-packages (from spacy>=2.2.2->en_core_web_sm==2.2.5) (0.4.1)\n",
            "Requirement already satisfied: murmurhash<1.1.0,>=0.28.0 in /usr/local/lib/python3.7/dist-packages (from spacy>=2.2.2->en_core_web_sm==2.2.5) (1.0.5)\n",
            "Requirement already satisfied: setuptools in /usr/local/lib/python3.7/dist-packages (from spacy>=2.2.2->en_core_web_sm==2.2.5) (57.2.0)\n",
            "Requirement already satisfied: importlib-metadata>=0.20 in /usr/local/lib/python3.7/dist-packages (from catalogue<1.1.0,>=0.0.7->spacy>=2.2.2->en_core_web_sm==2.2.5) (4.6.3)\n",
            "Requirement already satisfied: zipp>=0.5 in /usr/local/lib/python3.7/dist-packages (from importlib-metadata>=0.20->catalogue<1.1.0,>=0.0.7->spacy>=2.2.2->en_core_web_sm==2.2.5) (3.5.0)\n",
            "Requirement already satisfied: typing-extensions>=3.6.4 in /usr/local/lib/python3.7/dist-packages (from importlib-metadata>=0.20->catalogue<1.1.0,>=0.0.7->spacy>=2.2.2->en_core_web_sm==2.2.5) (3.7.4.3)\n",
            "Requirement already satisfied: certifi>=2017.4.17 in /usr/local/lib/python3.7/dist-packages (from requests<3.0.0,>=2.13.0->spacy>=2.2.2->en_core_web_sm==2.2.5) (2021.5.30)\n",
            "Requirement already satisfied: idna<3,>=2.5 in /usr/local/lib/python3.7/dist-packages (from requests<3.0.0,>=2.13.0->spacy>=2.2.2->en_core_web_sm==2.2.5) (2.10)\n",
            "Requirement already satisfied: chardet<4,>=3.0.2 in /usr/local/lib/python3.7/dist-packages (from requests<3.0.0,>=2.13.0->spacy>=2.2.2->en_core_web_sm==2.2.5) (3.0.4)\n",
            "Requirement already satisfied: urllib3!=1.25.0,!=1.25.1,<1.26,>=1.21.1 in /usr/local/lib/python3.7/dist-packages (from requests<3.0.0,>=2.13.0->spacy>=2.2.2->en_core_web_sm==2.2.5) (1.24.3)\n",
            "\u001b[38;5;2m✔ Download and installation successful\u001b[0m\n",
            "You can now load the model via spacy.load('en_core_web_sm')\n",
            "[nltk_data] Downloading collection 'popular'\n",
            "[nltk_data]    | \n",
            "[nltk_data]    | Downloading package cmudict to /root/nltk_data...\n",
            "[nltk_data]    |   Unzipping corpora/cmudict.zip.\n",
            "[nltk_data]    | Downloading package gazetteers to /root/nltk_data...\n",
            "[nltk_data]    |   Unzipping corpora/gazetteers.zip.\n",
            "[nltk_data]    | Downloading package genesis to /root/nltk_data...\n",
            "[nltk_data]    |   Unzipping corpora/genesis.zip.\n",
            "[nltk_data]    | Downloading package gutenberg to /root/nltk_data...\n",
            "[nltk_data]    |   Unzipping corpora/gutenberg.zip.\n",
            "[nltk_data]    | Downloading package inaugural to /root/nltk_data...\n",
            "[nltk_data]    |   Unzipping corpora/inaugural.zip.\n",
            "[nltk_data]    | Downloading package movie_reviews to\n",
            "[nltk_data]    |     /root/nltk_data...\n",
            "[nltk_data]    |   Unzipping corpora/movie_reviews.zip.\n",
            "[nltk_data]    | Downloading package names to /root/nltk_data...\n",
            "[nltk_data]    |   Unzipping corpora/names.zip.\n",
            "[nltk_data]    | Downloading package shakespeare to /root/nltk_data...\n",
            "[nltk_data]    |   Unzipping corpora/shakespeare.zip.\n",
            "[nltk_data]    | Downloading package stopwords to /root/nltk_data...\n",
            "[nltk_data]    |   Unzipping corpora/stopwords.zip.\n",
            "[nltk_data]    | Downloading package treebank to /root/nltk_data...\n",
            "[nltk_data]    |   Unzipping corpora/treebank.zip.\n",
            "[nltk_data]    | Downloading package twitter_samples to\n",
            "[nltk_data]    |     /root/nltk_data...\n",
            "[nltk_data]    |   Unzipping corpora/twitter_samples.zip.\n",
            "[nltk_data]    | Downloading package omw to /root/nltk_data...\n",
            "[nltk_data]    |   Unzipping corpora/omw.zip.\n",
            "[nltk_data]    | Downloading package wordnet to /root/nltk_data...\n",
            "[nltk_data]    |   Unzipping corpora/wordnet.zip.\n",
            "[nltk_data]    | Downloading package wordnet_ic to /root/nltk_data...\n",
            "[nltk_data]    |   Unzipping corpora/wordnet_ic.zip.\n",
            "[nltk_data]    | Downloading package words to /root/nltk_data...\n",
            "[nltk_data]    |   Unzipping corpora/words.zip.\n",
            "[nltk_data]    | Downloading package maxent_ne_chunker to\n",
            "[nltk_data]    |     /root/nltk_data...\n",
            "[nltk_data]    |   Unzipping chunkers/maxent_ne_chunker.zip.\n",
            "[nltk_data]    | Downloading package punkt to /root/nltk_data...\n",
            "[nltk_data]    |   Unzipping tokenizers/punkt.zip.\n",
            "[nltk_data]    | Downloading package snowball_data to\n",
            "[nltk_data]    |     /root/nltk_data...\n",
            "[nltk_data]    | Downloading package averaged_perceptron_tagger to\n",
            "[nltk_data]    |     /root/nltk_data...\n",
            "[nltk_data]    |   Unzipping taggers/averaged_perceptron_tagger.zip.\n",
            "[nltk_data]    | \n",
            "[nltk_data]  Done downloading collection popular\n"
          ],
          "name": "stdout"
        },
        {
          "output_type": "execute_result",
          "data": {
            "text/plain": [
              "True"
            ]
          },
          "metadata": {
            "tags": []
          },
          "execution_count": 1
        }
      ]
    },
    {
      "cell_type": "code",
      "metadata": {
        "colab": {
          "base_uri": "https://localhost:8080/",
          "height": 35
        },
        "id": "0i4cGik0rkOm",
        "outputId": "a577fe53-f6c6-4d56-b8dd-f1fad4436c21"
      },
      "source": [
        "# Importing Modules untuk Notebook ini\n",
        "import warnings; warnings.simplefilter('ignore')\n",
        "import taudataNlpTm as tau, itertools, re, pickle, spacy, urllib.request\n",
        "import time, numpy as np, matplotlib.pyplot as plt, networkx as nx, pandas as pd, seaborn as sns \n",
        "from matplotlib.colors import ListedColormap\n",
        "from tqdm import tqdm\n",
        "from sklearn.feature_extraction.text import TfidfVectorizer, CountVectorizer\n",
        "from nltk.tag import CRFTagger\n",
        "from gensim.models import Phrases\n",
        "from gensim.corpora.dictionary import Dictionary\n",
        "from gensim.models.coherencemodel import CoherenceModel\n",
        "from gensim.models.ldamodel import LdaModel\n",
        "from nltk.corpus import stopwords\n",
        "from gensim.models import Word2Vec, FastText\n",
        "import tweepy, json, nltk, urllib.request, requests\n",
        "from urllib.request import Request, urlopen\n",
        "\n",
        "\n",
        "sns.set(style=\"ticks\", color_codes=True)\n",
        "random_state = 99\n",
        "'Done'"
      ],
      "execution_count": 2,
      "outputs": [
        {
          "output_type": "execute_result",
          "data": {
            "application/vnd.google.colaboratory.intrinsic+json": {
              "type": "string"
            },
            "text/plain": [
              "'Done'"
            ]
          },
          "metadata": {
            "tags": []
          },
          "execution_count": 2
        }
      ]
    },
    {
      "cell_type": "code",
      "metadata": {
        "colab": {
          "base_uri": "https://localhost:8080/",
          "height": 204
        },
        "id": "tODjFrGGzN4_",
        "outputId": "7d5c7ea9-efba-4916-b9c2-7d29ac28a0dc"
      },
      "source": [
        "df = pd.read_csv('CSV/PREPROSS.csv')\n",
        "df.head()"
      ],
      "execution_count": 5,
      "outputs": [
        {
          "output_type": "execute_result",
          "data": {
            "text/html": [
              "<div>\n",
              "<style scoped>\n",
              "    .dataframe tbody tr th:only-of-type {\n",
              "        vertical-align: middle;\n",
              "    }\n",
              "\n",
              "    .dataframe tbody tr th {\n",
              "        vertical-align: top;\n",
              "    }\n",
              "\n",
              "    .dataframe thead th {\n",
              "        text-align: right;\n",
              "    }\n",
              "</style>\n",
              "<table border=\"1\" class=\"dataframe\">\n",
              "  <thead>\n",
              "    <tr style=\"text-align: right;\">\n",
              "      <th></th>\n",
              "      <th>Unnamed: 0</th>\n",
              "      <th>At</th>\n",
              "      <th>Sentimen</th>\n",
              "      <th>Review</th>\n",
              "      <th>Bintang</th>\n",
              "      <th>Aspek</th>\n",
              "      <th>data_cleaned_aspek</th>\n",
              "    </tr>\n",
              "  </thead>\n",
              "  <tbody>\n",
              "    <tr>\n",
              "      <th>0</th>\n",
              "      <td>0</td>\n",
              "      <td>2020-10-18 19:32:19</td>\n",
              "      <td>1</td>\n",
              "      <td>gud</td>\n",
              "      <td>5</td>\n",
              "      <td>Lainnya</td>\n",
              "      <td>good</td>\n",
              "    </tr>\n",
              "    <tr>\n",
              "      <th>1</th>\n",
              "      <td>1</td>\n",
              "      <td>2020-10-17 20:18:47</td>\n",
              "      <td>1</td>\n",
              "      <td>Seneng belanja disini karna dah pastinya ori, ...</td>\n",
              "      <td>5</td>\n",
              "      <td>Layanan</td>\n",
              "      <td>belanja original bayar diskon responsif metode...</td>\n",
              "    </tr>\n",
              "    <tr>\n",
              "      <th>2</th>\n",
              "      <td>2</td>\n",
              "      <td>2020-10-17 07:44:22</td>\n",
              "      <td>-1</td>\n",
              "      <td>Pertamakali order langsung kecewa, di cancel k...</td>\n",
              "      <td>1</td>\n",
              "      <td>Layanan</td>\n",
              "      <td>kecewa cancel kosong proses uang sulit check o...</td>\n",
              "    </tr>\n",
              "    <tr>\n",
              "      <th>3</th>\n",
              "      <td>3</td>\n",
              "      <td>2020-10-17 05:29:05</td>\n",
              "      <td>-1</td>\n",
              "      <td>Sociolla parah. Proses refund gak tau harus nu...</td>\n",
              "      <td>1</td>\n",
              "      <td>Layanan</td>\n",
              "      <td>parah proses refund masuk kerja uang  775   43...</td>\n",
              "    </tr>\n",
              "    <tr>\n",
              "      <th>4</th>\n",
              "      <td>4</td>\n",
              "      <td>2020-10-17 00:12:18</td>\n",
              "      <td>-1</td>\n",
              "      <td>Sy order 4 product di tanggal 11 september dan...</td>\n",
              "      <td>1</td>\n",
              "      <td>Layanan</td>\n",
              "      <td>product tanggal  11  september udah  16  oktob...</td>\n",
              "    </tr>\n",
              "  </tbody>\n",
              "</table>\n",
              "</div>"
            ],
            "text/plain": [
              "   Unnamed: 0  ...                                 data_cleaned_aspek\n",
              "0           0  ...                                               good\n",
              "1           1  ...  belanja original bayar diskon responsif metode...\n",
              "2           2  ...  kecewa cancel kosong proses uang sulit check o...\n",
              "3           3  ...  parah proses refund masuk kerja uang  775   43...\n",
              "4           4  ...  product tanggal  11  september udah  16  oktob...\n",
              "\n",
              "[5 rows x 7 columns]"
            ]
          },
          "metadata": {
            "tags": []
          },
          "execution_count": 5
        }
      ]
    },
    {
      "cell_type": "code",
      "metadata": {
        "id": "MkER1eOrj066"
      },
      "source": [
        "data = df['data_cleaned_aspek'].values.astype('U')\n",
        "dataa = [d for d in data]"
      ],
      "execution_count": 6,
      "outputs": []
    },
    {
      "cell_type": "code",
      "metadata": {
        "colab": {
          "base_uri": "https://localhost:8080/"
        },
        "id": "yLNLyF4TtX1h",
        "outputId": "fe2bd513-454d-47d3-aa31-da3901d7794a"
      },
      "source": [
        "from sklearn.feature_extraction.text import CountVectorizer\n",
        "tf_vectorizer = CountVectorizer()\n",
        "\n",
        "tf = tf_vectorizer.fit_transform(dataa)\n",
        "tf_terms = tf_vectorizer.get_feature_names()\n",
        " \n",
        "tf.shape"
      ],
      "execution_count": 7,
      "outputs": [
        {
          "output_type": "execute_result",
          "data": {
            "text/plain": [
              "(2073, 1823)"
            ]
          },
          "metadata": {
            "tags": []
          },
          "execution_count": 7
        }
      ]
    },
    {
      "cell_type": "code",
      "metadata": {
        "colab": {
          "base_uri": "https://localhost:8080/"
        },
        "id": "6WNkujeutfwl",
        "outputId": "b523d4c5-cbd6-4a37-b71c-058f46341514"
      },
      "source": [
        "# Dilanjutkan dengan membentuk model LDA-nya\n",
        "from sklearn.decomposition import LatentDirichletAllocation as LDA\n",
        "\n",
        "n_topics = 12 # Misal tidak di optimalkan terlebih dahulu\n",
        "lda = LDA(n_components=n_topics, learning_method='batch', random_state=99).fit(tf)   \n",
        "lda"
      ],
      "execution_count": 8,
      "outputs": [
        {
          "output_type": "execute_result",
          "data": {
            "text/plain": [
              "LatentDirichletAllocation(batch_size=128, doc_topic_prior=None,\n",
              "                          evaluate_every=-1, learning_decay=0.7,\n",
              "                          learning_method='batch', learning_offset=10.0,\n",
              "                          max_doc_update_iter=100, max_iter=10,\n",
              "                          mean_change_tol=0.001, n_components=12, n_jobs=None,\n",
              "                          perp_tol=0.1, random_state=99, topic_word_prior=None,\n",
              "                          total_samples=1000000.0, verbose=0)"
            ]
          },
          "metadata": {
            "tags": []
          },
          "execution_count": 8
        }
      ]
    },
    {
      "cell_type": "code",
      "metadata": {
        "colab": {
          "base_uri": "https://localhost:8080/"
        },
        "id": "V_fK_-CauO15",
        "outputId": "b60fd0d9-dc83-4bfb-da0d-22f1b1bda971"
      },
      "source": [
        "vsm_topics = lda.transform(tf)\n",
        "print(vsm_topics.shape)\n",
        "vsm_topics"
      ],
      "execution_count": 9,
      "outputs": [
        {
          "output_type": "stream",
          "text": [
            "(2073, 12)\n"
          ],
          "name": "stdout"
        },
        {
          "output_type": "execute_result",
          "data": {
            "text/plain": [
              "array([[0.04166667, 0.04166667, 0.04166667, ..., 0.04166667, 0.04166667,\n",
              "        0.04166667],\n",
              "       [0.49535513, 0.00595285, 0.0059524 , ..., 0.00595251, 0.00595259,\n",
              "        0.00595271],\n",
              "       [0.00362333, 0.00362325, 0.96014428, ..., 0.0036232 , 0.00362338,\n",
              "        0.00362322],\n",
              "       ...,\n",
              "       [0.04166667, 0.04166667, 0.04166667, ..., 0.04166667, 0.04166667,\n",
              "        0.04166667],\n",
              "       [0.39815771, 0.0208334 , 0.02083363, ..., 0.02083379, 0.02083335,\n",
              "        0.39350408],\n",
              "       [0.01190487, 0.01190498, 0.01190502, ..., 0.01190486, 0.01190502,\n",
              "        0.0119057 ]])"
            ]
          },
          "metadata": {
            "tags": []
          },
          "execution_count": 9
        }
      ]
    },
    {
      "cell_type": "code",
      "metadata": {
        "colab": {
          "base_uri": "https://localhost:8080/"
        },
        "id": "FNs3AQtTAyq0",
        "outputId": "c986d603-362d-492f-9a1c-95a2904066e1"
      },
      "source": [
        "# \"Seandainya\" diasumsikan 1 dokumen hanya 1 topic dengan nilai skor topic terbesar\n",
        "doc_topic =  [a.argmax()+1 for a in tqdm(vsm_topics)] # topic of docs\n",
        "doc_topic[:10]"
      ],
      "execution_count": 10,
      "outputs": [
        {
          "output_type": "stream",
          "text": [
            "100%|██████████| 2073/2073 [00:00<00:00, 274214.46it/s]\n"
          ],
          "name": "stderr"
        },
        {
          "output_type": "execute_result",
          "data": {
            "text/plain": [
              "[9, 1, 3, 3, 11, 11, 11, 3, 10, 3]"
            ]
          },
          "metadata": {
            "tags": []
          },
          "execution_count": 10
        }
      ]
    },
    {
      "cell_type": "code",
      "metadata": {
        "colab": {
          "base_uri": "https://localhost:8080/",
          "height": 268
        },
        "id": "FKR2stBVA3pY",
        "outputId": "49f2480a-af2b-434a-a315-31251c55c937"
      },
      "source": [
        "plot = sns.countplot(doc_topic)"
      ],
      "execution_count": 11,
      "outputs": [
        {
          "output_type": "display_data",
          "data": {
            "image/png": "[encoded data removed]",
            "text/plain": [
              "<Figure size 432x288 with 1 Axes>"
            ]
          },
          "metadata": {
            "tags": []
          }
        }
      ]
    },
    {
      "cell_type": "code",
      "metadata": {
        "colab": {
          "base_uri": "https://localhost:8080/"
        },
        "id": "bbBfoCqQA8dp",
        "outputId": "38d44e81-6f5a-473e-ba34-c82ca4432f13"
      },
      "source": [
        "# Mari kita coba maknai masing-masing topic ini\n",
        "Top_Words = 25\n",
        "print('Printing top {0} Topics, with top {1} Words:'.format(n_topics, Top_Words))\n",
        "tau.print_Topics(lda, tf_terms, n_topics, Top_Words)"
      ],
      "execution_count": 12,
      "outputs": [
        {
          "output_type": "stream",
          "text": [
            "Printing top 12 Topics, with top 25 Words:\n",
            "Topic #1:\n",
            "suka belanja diskon sulit produk beli ya moga bagus out original harga lengkap soco tutup bug mudah cepat promo henti check paket sukses cantik web\n",
            "Topic #2:\n",
            "bagus bantu udah belanja error masuk refund website ya nyata lupa doang tekan kecewa parah emosi layan kosong cari diskon overall crash tf buruk tanggap\n",
            "Topic #3:\n",
            "update pinta udah buka kecewa habis refund ya uninstall install masuk perintah kosong soco diupdate sulit beli kesal sampe suruh log stock uang mutar parah\n",
            "Topic #4:\n",
            "nan error lambat upgrade connection nice nge super jaring shopping kecewa buka masuk tambahin lag install sulit baharu internet not sinyal baca diskon shop gin\n",
            "Topic #5:\n",
            "buka belanja produk beli web kesal ya udah error sulit kecewa soco kosong lihat you males skincare salah isi thank hilang refund reset masuk tampil\n",
            "Topic #6:\n",
            "produk lihat mantap beli buka detail tarik search diskon product lengkap shop halaman home cepet add parah online bagus kuota masuk belanja sulit bag loadingnya\n",
            "Topic #7:\n",
            "belanja loading close force original produk error sale sulit ya jamin sampe kecewa product flash cepat wifi cari sesal buka kesal sedih gagal 12 lengkap\n",
            "Topic #8:\n",
            "buruk bayar love promo parah beli it laku lancar payah proses koneksi ovo metode manfaat harga gagal saldo salah ongkirnya bagus stok kecewa tanggal internet\n",
            "Topic #9:\n",
            "good daftar log best bad out so agustus rumah gagal cek nge masuk rusak gambar account 11 kota kyk bantu foto benah register dana kupon\n",
            "Topic #10:\n",
            "mudah belanja up skincare cari keren soco make bagus produk pilih ya kosmetik dikit bantu original care sign nyaman sulit rumah promo cepat beli event\n",
            "Topic #11:\n",
            "email bayar customer service konfirmasi respon transfer status sampe uang udah belanja beli no layan proses hapus refund cek dana resi salah product tanggal hubung\n",
            "Topic #12:\n",
            "ya buka udah henti belanja produk sulit masuk tingkat gin salah email recommended beli maaf lihat pilih 100 nyampe web shop jasa install tutup sampe\n"
          ],
          "name": "stdout"
        }
      ]
    },
    {
      "cell_type": "code",
      "metadata": {
        "colab": {
          "base_uri": "https://localhost:8080/"
        },
        "id": "3Z_YLSTzlds2",
        "outputId": "7abb8032-217d-4803-f685-bbab8e42b32c"
      },
      "source": [
        "!pip install pyLDAvis==2.1.2"
      ],
      "execution_count": 13,
      "outputs": [
        {
          "output_type": "stream",
          "text": [
            "Collecting pyLDAvis==2.1.2\n",
            "  Downloading pyLDAvis-2.1.2.tar.gz (1.6 MB)\n",
            "\u001b[?25l\r\u001b[K     |▏                               | 10 kB 18.8 MB/s eta 0:00:01\r\u001b[K     |▍                               | 20 kB 25.4 MB/s eta 0:00:01\r\u001b[K     |▋                               | 30 kB 13.0 MB/s eta 0:00:01\r\u001b[K     |▉                               | 40 kB 9.7 MB/s eta 0:00:01\r\u001b[K     |█                               | 51 kB 5.1 MB/s eta 0:00:01\r\u001b[K     |█▏                              | 61 kB 5.2 MB/s eta 0:00:01\r\u001b[K     |█▍                              | 71 kB 5.8 MB/s eta 0:00:01\r\u001b[K     |█▋                              | 81 kB 6.5 MB/s eta 0:00:01\r\u001b[K     |█▉                              | 92 kB 4.7 MB/s eta 0:00:01\r\u001b[K     |██                              | 102 kB 5.2 MB/s eta 0:00:01\r\u001b[K     |██▎                             | 112 kB 5.2 MB/s eta 0:00:01\r\u001b[K     |██▍                             | 122 kB 5.2 MB/s eta 0:00:01\r\u001b[K     |██▋                             | 133 kB 5.2 MB/s eta 0:00:01\r\u001b[K     |██▉                             | 143 kB 5.2 MB/s eta 0:00:01\r\u001b[K     |███                             | 153 kB 5.2 MB/s eta 0:00:01\r\u001b[K     |███▎                            | 163 kB 5.2 MB/s eta 0:00:01\r\u001b[K     |███▌                            | 174 kB 5.2 MB/s eta 0:00:01\r\u001b[K     |███▋                            | 184 kB 5.2 MB/s eta 0:00:01\r\u001b[K     |███▉                            | 194 kB 5.2 MB/s eta 0:00:01\r\u001b[K     |████                            | 204 kB 5.2 MB/s eta 0:00:01\r\u001b[K     |████▎                           | 215 kB 5.2 MB/s eta 0:00:01\r\u001b[K     |████▌                           | 225 kB 5.2 MB/s eta 0:00:01\r\u001b[K     |████▊                           | 235 kB 5.2 MB/s eta 0:00:01\r\u001b[K     |████▉                           | 245 kB 5.2 MB/s eta 0:00:01\r\u001b[K     |█████                           | 256 kB 5.2 MB/s eta 0:00:01\r\u001b[K     |█████▎                          | 266 kB 5.2 MB/s eta 0:00:01\r\u001b[K     |█████▌                          | 276 kB 5.2 MB/s eta 0:00:01\r\u001b[K     |█████▊                          | 286 kB 5.2 MB/s eta 0:00:01\r\u001b[K     |█████▉                          | 296 kB 5.2 MB/s eta 0:00:01\r\u001b[K     |██████                          | 307 kB 5.2 MB/s eta 0:00:01\r\u001b[K     |██████▎                         | 317 kB 5.2 MB/s eta 0:00:01\r\u001b[K     |██████▌                         | 327 kB 5.2 MB/s eta 0:00:01\r\u001b[K     |██████▊                         | 337 kB 5.2 MB/s eta 0:00:01\r\u001b[K     |███████                         | 348 kB 5.2 MB/s eta 0:00:01\r\u001b[K     |███████                         | 358 kB 5.2 MB/s eta 0:00:01\r\u001b[K     |███████▎                        | 368 kB 5.2 MB/s eta 0:00:01\r\u001b[K     |███████▌                        | 378 kB 5.2 MB/s eta 0:00:01\r\u001b[K     |███████▊                        | 389 kB 5.2 MB/s eta 0:00:01\r\u001b[K     |████████                        | 399 kB 5.2 MB/s eta 0:00:01\r\u001b[K     |████████▏                       | 409 kB 5.2 MB/s eta 0:00:01\r\u001b[K     |████████▎                       | 419 kB 5.2 MB/s eta 0:00:01\r\u001b[K     |████████▌                       | 430 kB 5.2 MB/s eta 0:00:01\r\u001b[K     |████████▊                       | 440 kB 5.2 MB/s eta 0:00:01\r\u001b[K     |█████████                       | 450 kB 5.2 MB/s eta 0:00:01\r\u001b[K     |█████████▏                      | 460 kB 5.2 MB/s eta 0:00:01\r\u001b[K     |█████████▍                      | 471 kB 5.2 MB/s eta 0:00:01\r\u001b[K     |█████████▌                      | 481 kB 5.2 MB/s eta 0:00:01\r\u001b[K     |█████████▊                      | 491 kB 5.2 MB/s eta 0:00:01\r\u001b[K     |██████████                      | 501 kB 5.2 MB/s eta 0:00:01\r\u001b[K     |██████████▏                     | 512 kB 5.2 MB/s eta 0:00:01\r\u001b[K     |██████████▍                     | 522 kB 5.2 MB/s eta 0:00:01\r\u001b[K     |██████████▋                     | 532 kB 5.2 MB/s eta 0:00:01\r\u001b[K     |██████████▊                     | 542 kB 5.2 MB/s eta 0:00:01\r\u001b[K     |███████████                     | 552 kB 5.2 MB/s eta 0:00:01\r\u001b[K     |███████████▏                    | 563 kB 5.2 MB/s eta 0:00:01\r\u001b[K     |███████████▍                    | 573 kB 5.2 MB/s eta 0:00:01\r\u001b[K     |███████████▋                    | 583 kB 5.2 MB/s eta 0:00:01\r\u001b[K     |███████████▊                    | 593 kB 5.2 MB/s eta 0:00:01\r\u001b[K     |████████████                    | 604 kB 5.2 MB/s eta 0:00:01\r\u001b[K     |████████████▏                   | 614 kB 5.2 MB/s eta 0:00:01\r\u001b[K     |████████████▍                   | 624 kB 5.2 MB/s eta 0:00:01\r\u001b[K     |████████████▋                   | 634 kB 5.2 MB/s eta 0:00:01\r\u001b[K     |████████████▉                   | 645 kB 5.2 MB/s eta 0:00:01\r\u001b[K     |█████████████                   | 655 kB 5.2 MB/s eta 0:00:01\r\u001b[K     |█████████████▏                  | 665 kB 5.2 MB/s eta 0:00:01\r\u001b[K     |█████████████▍                  | 675 kB 5.2 MB/s eta 0:00:01\r\u001b[K     |█████████████▋                  | 686 kB 5.2 MB/s eta 0:00:01\r\u001b[K     |█████████████▉                  | 696 kB 5.2 MB/s eta 0:00:01\r\u001b[K     |██████████████                  | 706 kB 5.2 MB/s eta 0:00:01\r\u001b[K     |██████████████▏                 | 716 kB 5.2 MB/s eta 0:00:01\r\u001b[K     |██████████████▍                 | 727 kB 5.2 MB/s eta 0:00:01\r\u001b[K     |██████████████▋                 | 737 kB 5.2 MB/s eta 0:00:01\r\u001b[K     |██████████████▉                 | 747 kB 5.2 MB/s eta 0:00:01\r\u001b[K     |███████████████                 | 757 kB 5.2 MB/s eta 0:00:01\r\u001b[K     |███████████████▎                | 768 kB 5.2 MB/s eta 0:00:01\r\u001b[K     |███████████████▍                | 778 kB 5.2 MB/s eta 0:00:01\r\u001b[K     |███████████████▋                | 788 kB 5.2 MB/s eta 0:00:01\r\u001b[K     |███████████████▉                | 798 kB 5.2 MB/s eta 0:00:01\r\u001b[K     |████████████████                | 808 kB 5.2 MB/s eta 0:00:01\r\u001b[K     |████████████████▎               | 819 kB 5.2 MB/s eta 0:00:01\r\u001b[K     |████████████████▌               | 829 kB 5.2 MB/s eta 0:00:01\r\u001b[K     |████████████████▋               | 839 kB 5.2 MB/s eta 0:00:01\r\u001b[K     |████████████████▉               | 849 kB 5.2 MB/s eta 0:00:01\r\u001b[K     |█████████████████               | 860 kB 5.2 MB/s eta 0:00:01\r\u001b[K     |█████████████████▎              | 870 kB 5.2 MB/s eta 0:00:01\r\u001b[K     |█████████████████▌              | 880 kB 5.2 MB/s eta 0:00:01\r\u001b[K     |█████████████████▋              | 890 kB 5.2 MB/s eta 0:00:01\r\u001b[K     |█████████████████▉              | 901 kB 5.2 MB/s eta 0:00:01\r\u001b[K     |██████████████████              | 911 kB 5.2 MB/s eta 0:00:01\r\u001b[K     |██████████████████▎             | 921 kB 5.2 MB/s eta 0:00:01\r\u001b[K     |██████████████████▌             | 931 kB 5.2 MB/s eta 0:00:01\r\u001b[K     |██████████████████▊             | 942 kB 5.2 MB/s eta 0:00:01\r\u001b[K     |██████████████████▉             | 952 kB 5.2 MB/s eta 0:00:01\r\u001b[K     |███████████████████             | 962 kB 5.2 MB/s eta 0:00:01\r\u001b[K     |███████████████████▎            | 972 kB 5.2 MB/s eta 0:00:01\r\u001b[K     |███████████████████▌            | 983 kB 5.2 MB/s eta 0:00:01\r\u001b[K     |███████████████████▊            | 993 kB 5.2 MB/s eta 0:00:01\r\u001b[K     |████████████████████            | 1.0 MB 5.2 MB/s eta 0:00:01\r\u001b[K     |████████████████████            | 1.0 MB 5.2 MB/s eta 0:00:01\r\u001b[K     |████████████████████▎           | 1.0 MB 5.2 MB/s eta 0:00:01\r\u001b[K     |████████████████████▌           | 1.0 MB 5.2 MB/s eta 0:00:01\r\u001b[K     |████████████████████▊           | 1.0 MB 5.2 MB/s eta 0:00:01\r\u001b[K     |█████████████████████           | 1.1 MB 5.2 MB/s eta 0:00:01\r\u001b[K     |█████████████████████▏          | 1.1 MB 5.2 MB/s eta 0:00:01\r\u001b[K     |█████████████████████▎          | 1.1 MB 5.2 MB/s eta 0:00:01\r\u001b[K     |█████████████████████▌          | 1.1 MB 5.2 MB/s eta 0:00:01\r\u001b[K     |█████████████████████▊          | 1.1 MB 5.2 MB/s eta 0:00:01\r\u001b[K     |██████████████████████          | 1.1 MB 5.2 MB/s eta 0:00:01\r\u001b[K     |██████████████████████▏         | 1.1 MB 5.2 MB/s eta 0:00:01\r\u001b[K     |██████████████████████▍         | 1.1 MB 5.2 MB/s eta 0:00:01\r\u001b[K     |██████████████████████▌         | 1.1 MB 5.2 MB/s eta 0:00:01\r\u001b[K     |██████████████████████▊         | 1.1 MB 5.2 MB/s eta 0:00:01\r\u001b[K     |███████████████████████         | 1.2 MB 5.2 MB/s eta 0:00:01\r\u001b[K     |███████████████████████▏        | 1.2 MB 5.2 MB/s eta 0:00:01\r\u001b[K     |███████████████████████▍        | 1.2 MB 5.2 MB/s eta 0:00:01\r\u001b[K     |███████████████████████▌        | 1.2 MB 5.2 MB/s eta 0:00:01\r\u001b[K     |███████████████████████▊        | 1.2 MB 5.2 MB/s eta 0:00:01\r\u001b[K     |████████████████████████        | 1.2 MB 5.2 MB/s eta 0:00:01\r\u001b[K     |████████████████████████▏       | 1.2 MB 5.2 MB/s eta 0:00:01\r\u001b[K     |████████████████████████▍       | 1.2 MB 5.2 MB/s eta 0:00:01\r\u001b[K     |████████████████████████▋       | 1.2 MB 5.2 MB/s eta 0:00:01\r\u001b[K     |████████████████████████▊       | 1.2 MB 5.2 MB/s eta 0:00:01\r\u001b[K     |█████████████████████████       | 1.3 MB 5.2 MB/s eta 0:00:01\r\u001b[K     |█████████████████████████▏      | 1.3 MB 5.2 MB/s eta 0:00:01\r\u001b[K     |█████████████████████████▍      | 1.3 MB 5.2 MB/s eta 0:00:01\r\u001b[K     |█████████████████████████▋      | 1.3 MB 5.2 MB/s eta 0:00:01\r\u001b[K     |█████████████████████████▉      | 1.3 MB 5.2 MB/s eta 0:00:01\r\u001b[K     |██████████████████████████      | 1.3 MB 5.2 MB/s eta 0:00:01\r\u001b[K     |██████████████████████████▏     | 1.3 MB 5.2 MB/s eta 0:00:01\r\u001b[K     |██████████████████████████▍     | 1.3 MB 5.2 MB/s eta 0:00:01\r\u001b[K     |██████████████████████████▋     | 1.3 MB 5.2 MB/s eta 0:00:01\r\u001b[K     |██████████████████████████▉     | 1.4 MB 5.2 MB/s eta 0:00:01\r\u001b[K     |███████████████████████████     | 1.4 MB 5.2 MB/s eta 0:00:01\r\u001b[K     |███████████████████████████▏    | 1.4 MB 5.2 MB/s eta 0:00:01\r\u001b[K     |███████████████████████████▍    | 1.4 MB 5.2 MB/s eta 0:00:01\r\u001b[K     |███████████████████████████▋    | 1.4 MB 5.2 MB/s eta 0:00:01\r\u001b[K     |███████████████████████████▉    | 1.4 MB 5.2 MB/s eta 0:00:01\r\u001b[K     |████████████████████████████    | 1.4 MB 5.2 MB/s eta 0:00:01\r\u001b[K     |████████████████████████████▏   | 1.4 MB 5.2 MB/s eta 0:00:01\r\u001b[K     |████████████████████████████▍   | 1.4 MB 5.2 MB/s eta 0:00:01\r\u001b[K     |████████████████████████████▋   | 1.4 MB 5.2 MB/s eta 0:00:01\r\u001b[K     |████████████████████████████▉   | 1.5 MB 5.2 MB/s eta 0:00:01\r\u001b[K     |█████████████████████████████   | 1.5 MB 5.2 MB/s eta 0:00:01\r\u001b[K     |█████████████████████████████▎  | 1.5 MB 5.2 MB/s eta 0:00:01\r\u001b[K     |█████████████████████████████▍  | 1.5 MB 5.2 MB/s eta 0:00:01\r\u001b[K     |█████████████████████████████▋  | 1.5 MB 5.2 MB/s eta 0:00:01\r\u001b[K     |█████████████████████████████▉  | 1.5 MB 5.2 MB/s eta 0:00:01\r\u001b[K     |██████████████████████████████  | 1.5 MB 5.2 MB/s eta 0:00:01\r\u001b[K     |██████████████████████████████▎ | 1.5 MB 5.2 MB/s eta 0:00:01\r\u001b[K     |██████████████████████████████▌ | 1.5 MB 5.2 MB/s eta 0:00:01\r\u001b[K     |██████████████████████████████▋ | 1.5 MB 5.2 MB/s eta 0:00:01\r\u001b[K     |██████████████████████████████▉ | 1.6 MB 5.2 MB/s eta 0:00:01\r\u001b[K     |███████████████████████████████ | 1.6 MB 5.2 MB/s eta 0:00:01\r\u001b[K     |███████████████████████████████▎| 1.6 MB 5.2 MB/s eta 0:00:01\r\u001b[K     |███████████████████████████████▌| 1.6 MB 5.2 MB/s eta 0:00:01\r\u001b[K     |███████████████████████████████▊| 1.6 MB 5.2 MB/s eta 0:00:01\r\u001b[K     |███████████████████████████████▉| 1.6 MB 5.2 MB/s eta 0:00:01\r\u001b[K     |████████████████████████████████| 1.6 MB 5.2 MB/s \n",
            "\u001b[?25hRequirement already satisfied: wheel>=0.23.0 in /usr/local/lib/python3.7/dist-packages (from pyLDAvis==2.1.2) (0.37.0)\n",
            "Requirement already satisfied: numpy>=1.9.2 in /usr/local/lib/python3.7/dist-packages (from pyLDAvis==2.1.2) (1.19.5)\n",
            "Requirement already satisfied: scipy>=0.18.0 in /usr/local/lib/python3.7/dist-packages (from pyLDAvis==2.1.2) (1.4.1)\n",
            "Requirement already satisfied: pandas>=0.17.0 in /usr/local/lib/python3.7/dist-packages (from pyLDAvis==2.1.2) (1.1.5)\n",
            "Requirement already satisfied: joblib>=0.8.4 in /usr/local/lib/python3.7/dist-packages (from pyLDAvis==2.1.2) (1.0.1)\n",
            "Requirement already satisfied: jinja2>=2.7.2 in /usr/local/lib/python3.7/dist-packages (from pyLDAvis==2.1.2) (2.11.3)\n",
            "Requirement already satisfied: numexpr in /usr/local/lib/python3.7/dist-packages (from pyLDAvis==2.1.2) (2.7.3)\n",
            "Requirement already satisfied: pytest in /usr/local/lib/python3.7/dist-packages (from pyLDAvis==2.1.2) (3.6.4)\n",
            "Requirement already satisfied: future in /usr/local/lib/python3.7/dist-packages (from pyLDAvis==2.1.2) (0.16.0)\n",
            "Collecting funcy\n",
            "  Downloading funcy-1.16-py2.py3-none-any.whl (32 kB)\n",
            "Requirement already satisfied: MarkupSafe>=0.23 in /usr/local/lib/python3.7/dist-packages (from jinja2>=2.7.2->pyLDAvis==2.1.2) (2.0.1)\n",
            "Requirement already satisfied: pytz>=2017.2 in /usr/local/lib/python3.7/dist-packages (from pandas>=0.17.0->pyLDAvis==2.1.2) (2018.9)\n",
            "Requirement already satisfied: python-dateutil>=2.7.3 in /usr/local/lib/python3.7/dist-packages (from pandas>=0.17.0->pyLDAvis==2.1.2) (2.8.2)\n",
            "Requirement already satisfied: six>=1.5 in /usr/local/lib/python3.7/dist-packages (from python-dateutil>=2.7.3->pandas>=0.17.0->pyLDAvis==2.1.2) (1.15.0)\n",
            "Requirement already satisfied: py>=1.5.0 in /usr/local/lib/python3.7/dist-packages (from pytest->pyLDAvis==2.1.2) (1.10.0)\n",
            "Requirement already satisfied: pluggy<0.8,>=0.5 in /usr/local/lib/python3.7/dist-packages (from pytest->pyLDAvis==2.1.2) (0.7.1)\n",
            "Requirement already satisfied: setuptools in /usr/local/lib/python3.7/dist-packages (from pytest->pyLDAvis==2.1.2) (57.2.0)\n",
            "Requirement already satisfied: atomicwrites>=1.0 in /usr/local/lib/python3.7/dist-packages (from pytest->pyLDAvis==2.1.2) (1.4.0)\n",
            "Requirement already satisfied: attrs>=17.4.0 in /usr/local/lib/python3.7/dist-packages (from pytest->pyLDAvis==2.1.2) (21.2.0)\n",
            "Requirement already satisfied: more-itertools>=4.0.0 in /usr/local/lib/python3.7/dist-packages (from pytest->pyLDAvis==2.1.2) (8.8.0)\n",
            "Building wheels for collected packages: pyLDAvis\n",
            "  Building wheel for pyLDAvis (setup.py) ... \u001b[?25l\u001b[?25hdone\n",
            "  Created wheel for pyLDAvis: filename=pyLDAvis-2.1.2-py2.py3-none-any.whl size=97738 sha256=b88cb7e0b0d7e87fbd2cc501c946fd63e9eebcbeea4a635ef40876a9cc666188\n",
            "  Stored in directory: /root/.cache/pip/wheels/3b/fb/41/e32e5312da9f440d34c4eff0d2207b46dc9332a7b931ef1e89\n",
            "Successfully built pyLDAvis\n",
            "Installing collected packages: funcy, pyLDAvis\n",
            "Successfully installed funcy-1.16 pyLDAvis-2.1.2\n"
          ],
          "name": "stdout"
        }
      ]
    },
    {
      "cell_type": "code",
      "metadata": {
        "colab": {
          "base_uri": "https://localhost:8080/",
          "height": 915
        },
        "id": "alPLfOkwBITT",
        "outputId": "4342f5ab-7b28-4114-d371-3c1cab9c3ef4"
      },
      "source": [
        "# %matplotlib inline\n",
        "# Mari kita Plot, supaya lebih jelas\n",
        "# Catatan, bergantung dari laptop yang digunakan, image terkadang cukup lama untuk muncul.\n",
        "import pyLDAvis, pyLDAvis.sklearn; pyLDAvis.enable_notebook()\n",
        "\n",
        "ldavis = pyLDAvis.sklearn.prepare(lda, tf, tf_vectorizer)\n",
        "ldavis"
      ],
      "execution_count": 14,
      "outputs": [
        {
          "output_type": "stream",
          "text": [
            "/usr/local/lib/python3.7/dist-packages/past/types/oldstr.py:5: DeprecationWarning: Using or importing the ABCs from 'collections' instead of from 'collections.abc' is deprecated since Python 3.3,and in 3.9 it will stop working\n",
            "  from collections import Iterable\n"
          ],
          "name": "stderr"
        },
        {
          "output_type": "execute_result",
          "data": {
            "text/html": [
              "\n",
              "<link rel=\"stylesheet\" type=\"text/css\" href=\"https://cdn.rawgit.com/bmabey/pyLDAvis/files/ldavis.v1.0.0.css\">\n",
              "\n",
              "\n",
              "<div id=\"ldavis_el641400345445887529886104673\"></div>\n",
              "<script type=\"text/javascript\">\n",
              "\n",
              "var ldavis_el641400345445887529886104673_data = {\"mdsDat\": {\"x\": [0.07100396140297727, -0.1811495901779934, 0.13882332150638538, -0.0859703561826598, -0.13840913853974995, -0.07993609121532526, -0.1065835935513692, 0.024031346122070616, -0.06786693075432132, 0.13477176833690263, 0.12863594120128025, 0.16264936185180315], \"y\": [-0.1750321783571091, 0.03918633265244954, -0.16368664696343968, -0.10778851435676812, 0.07618277801043337, -0.061277118162137614, 0.0583660999296672, 0.03308342684714114, -1.2527900768205423e-05, 0.19657810770547782, -0.01707502508495514, 0.12147526568000852], \"topics\": [1, 2, 3, 4, 5, 6, 7, 8, 9, 10, 11, 12], \"cluster\": [1, 1, 1, 1, 1, 1, 1, 1, 1, 1, 1, 1], \"Freq\": [13.29192745244329, 12.37174767956655, 10.61982830539592, 9.1998631281497, 9.15491208000452, 9.104224567144989, 7.305093408309816, 7.115915960127733, 6.991171215637671, 5.8700421669876315, 5.401363432615361, 3.5739106036168167]}, \"tinfo\": {\"Term\": [\"update\", \"suka\", \"bagus\", \"nan\", \"good\", \"error\", \"produk\", \"buka\", \"email\", \"pinta\", \"ya\", \"daftar\", \"bayar\", \"lihat\", \"udah\", \"mantap\", \"loading\", \"mudah\", \"belanja\", \"buruk\", \"log\", \"henti\", \"close\", \"lambat\", \"diskon\", \"up\", \"service\", \"customer\", \"love\", \"original\", \"update\", \"pinta\", \"perintah\", \"diupdate\", \"mutar\", \"habis\", \"notifikasi\", \"stock\", \"anak\", \"gedor\", \"baju\", \"pintu\", \"commers\", \"berhari\", \"stocknya\", \"2020\", \"ngaruh\", \"rumit\", \"fokus\", \"impression\", \"first\", \"eror\", \"detik\", \"panik\", \"php\", \"baik\", \"uu\", \"live\", \"sen\", \"mlu\", \"suruh\", \"uninstall\", \"install\", \"updatenya\", \"loh\", \"poin\", \"hasil\", \"refund\", \"kecewa\", \"tinggal\", \"10\", \"kosong\", \"udah\", \"histori\", \"data\", \"maintenance\", \"dadak\", \"sorry\", \"tanggal\", \"buka\", \"maaf\", \"kesal\", \"uang\", \"masuk\", \"log\", \"sampe\", \"proses\", \"soco\", \"ya\", \"parah\", \"sulit\", \"konfirmasi\", \"beli\", \"email\", \"suka\", \"packing\", \"praktis\", \"sociolla\", \"50\", \"ecek\", \"konten\", \"rapih\", \"putar\", \"wishlist\", \"cacat\", \"sukses\", \"murah\", \"moga\", \"bug\", \"check\", \"mahal\", \"diskon\", \"finally\", \"koreksi\", \"counter\", \"rollover\", \"awesome\", \"kotor\", \"sip\", \"standar\", \"section\", \"mikat\", \"disociolla\", \"trouble\", \"store\", \"teman\", \"tutup\", \"user\", \"cantik\", \"out\", \"daerah\", \"harga\", \"paket\", \"puas\", \"lengkap\", \"sulit\", \"belanja\", \"original\", \"cepat\", \"beli\", \"aman\", \"produk\", \"promo\", \"mudah\", \"soco\", \"ya\", \"henti\", \"bagus\", \"web\", \"lihat\", \"bantu\", \"respon\", \"hubung\", \"service\", \"24\", \"customer\", \"application\", \"transfer\", \"no\", \"kontak\", \"responnya\", \"status\", \"delivery\", \"cash\", \"shipped\", \"makan\", \"konfirm\", \"rekening\", \"tindak\", \"dimasukin\", \"dana\", \"email\", \"balas\", \"know\", \"call\", \"useless\", \"protes\", \"bales\", \"stop\", \"blgnya\", \"indomaret\", \"konfirmasi\", \"on\", \"normal\", \"hapus\", \"logout\", \"dicancel\", \"nominal\", \"resi\", \"complain\", \"bayar\", \"uang\", \"layan\", \"sampe\", \"edit\", \"cek\", \"jam\", \"proses\", \"tanggal\", \"product\", \"cancel\", \"udah\", \"beli\", \"belanja\", \"refund\", \"salah\", \"harga\", \"soco\", \"jasa\", \"sia\", \"verifikasi\", \"filter\", \"kejut\", \"henti\", \"collection\", \"favorit\", \"sebentar\", \"kali\", \"abal\", \"operasi\", \"apdate\", \"terpecaya\", \"duit\", \"terupdate\", \"polling\", \"upload\", \"tingkat\", \"app\", \"aktif\", \"nya\", \"nyampe\", \"gin\", \"semangat\", \"100\", \"dowload\", \"tang\", \"favorite\", \"tampung\", \"jelajah\", \"rating\", \"bukti\", \"ya\", \"scroll\", \"buka\", \"udah\", \"recommended\", \"maaf\", \"salah\", \"payment\", \"belanja\", \"masuk\", \"kualitas\", \"fitur\", \"shop\", \"sulit\", \"produk\", \"pilih\", \"handphone\", \"tutup\", \"email\", \"install\", \"uninstall\", \"web\", \"lihat\", \"beli\", \"sampe\", \"keren\", \"up\", \"make\", \"sign\", \"kosmetik\", \"dikit\", \"kredivo\", \"responding\", \"palsu\", \"sahabat\", \"ganggu\", \"awat\", \"seller\", \"uo\", \"date\", \"registrasi\", \"referensi\", \"prodak\", \"mudah\", \"cari\", \"skincare\", \"care\", \"oh\", \"event\", \"aja\", \"ngebantu\", \"pilih\", \"nyaman\", \"kredibel\", \"feedback\", \"vo\", \"before\", \"notif\", \"dicantumin\", \"about\", \"malas\", \"rumah\", \"soco\", \"belanja\", \"cantik\", \"bantu\", \"browser\", \"bagus\", \"pokok\", \"original\", \"produk\", \"sedih\", \"ya\", \"cepat\", \"lancar\", \"promo\", \"lengkap\", \"sulit\", \"beli\", \"you\", \"total\", \"thank\", \"jerawat\", \"kah\", \"layar\", \"barcode\", \"males\", \"deskripsi\", \"judul\", \"kerjasama\", \"ningmas\", \"mundur\", \"qanya\", \"laman\", \"artikel\", \"maksa\", \"pasword\", \"point\", \"reload\", \"rekomendasi\", \"digunain\", \"lahir\", \"scan\", \"percaya\", \"degdegan\", \"iseng\", \"300\", \"insyaa\", \"ga\", \"web\", \"reset\", \"isi\", \"kesal\", \"closed\", \"hilang\", \"tampil\", \"kosong\", \"untung\", \"buka\", \"beli\", \"belanja\", \"stok\", \"produk\", \"skincare\", \"ya\", \"kecewa\", \"udah\", \"salah\", \"sulit\", \"error\", \"soco\", \"lihat\", \"sinyal\", \"refund\", \"loading\", \"masuk\", \"mantap\", \"tarik\", \"search\", \"detail\", \"halaman\", \"ordinary\", \"tips\", \"page\", \"add\", \"sisa\", \"setting\", \"kardus\", \"spray\", \"tumpah\", \"basah\", \"balik\", \"negeri\", \"cart\", \"searching\", \"uji\", \"support\", \"hhmm\", \"40\", \"rekomend\", \"home\", \"utama\", \"lihat\", \"lakban\", \"makeover\", \"lem\", \"kencang\", \"korea\", \"disko\", \"bag\", \"produk\", \"kuota\", \"shop\", \"cepet\", \"beli\", \"product\", \"ken\", \"trusted\", \"loadingnya\", \"online\", \"lengkap\", \"gambar\", \"jual\", \"buka\", \"menu\", \"diskon\", \"parah\", \"saran\", \"website\", \"masuk\", \"bagus\", \"belanja\", \"sulit\", \"soco\", \"buru\", \"failed\", \"instagram\", \"qr\", \"00\", \"bagus\", \"bentuk\", \"perbaharuin\", \"commerce\", \"nol\", \"kelas\", \"tarif\", \"uras\", \"work\", \"upa\", \"tolak\", \"tai\", \"too\", \"wajah\", \"version\", \"bahasa\", \"lupa\", \"tekan\", \"tahan\", \"crash\", \"sukaa\", \"code\", \"emosi\", \"nilai\", \"tf\", \"overall\", \"website\", \"bantu\", \"doang\", \"nyata\", \"tanggap\", \"udah\", \"masuk\", \"refund\", \"error\", \"cocok\", \"layan\", \"stuck\", \"belanja\", \"koneksi\", \"parah\", \"kosong\", \"ya\", \"kecewa\", \"cari\", \"diskon\", \"lancar\", \"buruk\", \"cancel\", \"close\", \"force\", \"sale\", \"loading\", \"flash\", \"publish\", \"ber\", \"bpom\", \"12\", \"lu\", \"ngecewain\", \"benci\", \"kacau\", \"shipping\", \"ujung\", \"bom\", \"jamin\", \"beta\", \"beneran\", \"padhal\", \"nihil\", \"bohongin\", \"mantengin\", \"tua\", \"sig\", \"lwmot\", \"toner\", \"snail\", \"truecica\", \"report\", \"saing\", \"like\", \"muat\", \"ramah\", \"wifi\", \"camat\", \"laptop\", \"servernya\", \"hidup\", \"ngelag\", \"original\", \"sesal\", \"product\", \"sedih\", \"belanja\", \"cepat\", \"error\", \"sampe\", \"gagal\", \"produk\", \"cari\", \"sumpah\", \"sulit\", \"kecewa\", \"ya\", \"discount\", \"kesal\", \"aman\", \"lengkap\", \"buka\", \"lancar\", \"bayar\", \"nan\", \"connection\", \"nice\", \"upgrade\", \"lambat\", \"happy\", \"super\", \"nge\", \"tambahin\", \"error\", \"lag\", \"ram\", \"after\", \"mual\", \"dftar\", \"bnerin\", \"dengen\", \"nanggung\", \"sudahh\", \"apknya\", \"solution\", \"komenan\", \"doank\", \"us\", \"duuh\", \"bener\", \"kluar\", \"tibatiba\", \"easy\", \"used\", \"ngeklik\", \"responsif\", \"voucher\", \"shopping\", \"komen\", \"why\", \"baca\", \"jaring\", \"many\", \"baharu\", \"not\", \"versi\", \"astaga\", \"internet\", \"but\", \"sinyal\", \"install\", \"bag\", \"shop\", \"masuk\", \"kecewa\", \"gin\", \"buka\", \"sulit\", \"suruh\", \"diskon\", \"uninstall\", \"love\", \"metode\", \"saldo\", \"much\", \"dm\", \"ovo\", \"ukur\", \"permata\", \"manfaat\", \"buruk\", \"logistic\", \"lipgloss\", \"kalimantan\", \"tracknya\", \"debit\", \"mencet\", \"box\", \"ama\", \"buah\", \"performa\", \"gopay\", \"laku\", \"ongkirnya\", \"selisih\", \"yqng\", \"rupiah\", \"akibat\", \"kompensasi\", \"makasih\", \"tpi\", \"payah\", \"sy\", \"kyaknya\", \"brush\", \"input\", \"wahana\", \"job\", \"or\", \"it\", \"promo\", \"koneksi\", \"bayar\", \"sedia\", \"parah\", \"lancar\", \"proses\", \"gagal\", \"stok\", \"internet\", \"ig\", \"beli\", \"harga\", \"salah\", \"tanggal\", \"so\", \"kecewa\", \"sampe\", \"bagus\", \"masuk\", \"good\", \"daftar\", \"bad\", \"foto\", \"benah\", \"best\", \"waku\", \"khusnudzon\", \"loyalitas\", \"timeline\", \"wajib\", \"blank\", \"letter\", \"news\", \"forgot\", \"kaltim\", \"bontang\", \"kli\", \"eveerr\", \"destination\", \"drtd\", \"posting\", \"mangkanya\", \"euyy\", \"serang\", \"jarak\", \"ditanggepin\", \"servicenya\", \"dd\", \"monyet\", \"log\", \"register\", \"kyk\", \"account\", \"agustus\", \"so\", \"kota\", \"kupon\", \"out\", \"rusak\", \"nge\", \"rumah\", \"11\", \"gagal\", \"complain\", \"cek\", \"konsumen\", \"gambar\", \"dana\", \"paket\", \"masuk\", \"bantu\", \"harga\", \"skincare\"], \"Freq\": [207.0, 183.0, 193.0, 115.0, 78.0, 127.0, 219.0, 203.0, 103.0, 75.0, 202.0, 40.0, 92.0, 89.0, 178.0, 42.0, 48.0, 69.0, 255.0, 47.0, 43.0, 54.0, 35.0, 36.0, 73.0, 35.0, 39.0, 42.0, 25.0, 63.0, 206.8133031638335, 71.95591719379564, 16.510553672182777, 13.874220214451874, 10.34874793002637, 25.59134974711365, 2.679621628295065, 11.330422485220877, 1.8105681164452654, 1.8105681164452654, 1.8105681164452654, 1.8105681164452654, 1.8105681164418095, 1.8105681164391247, 1.8105681164371434, 1.8105681164310052, 1.8105681164293186, 1.810568116179003, 1.8105669130794688, 1.810566795690824, 1.810566795690824, 1.810566440288902, 1.8105662050208866, 1.8105660271777329, 1.8105643879773263, 1.810562367838753, 1.8105587226314879, 1.8105515788001079, 1.8104937949979163, 3.5487049596038047, 12.625203812569039, 21.782604020916057, 20.898477442638274, 3.4810215014808077, 4.41778212126298, 5.286861009223229, 5.2868542582991624, 24.4752643486586, 40.44357047379534, 6.112211154224997, 6.528315363253114, 16.055237177752065, 55.34850916968908, 4.417776883209754, 4.294522783843434, 3.4997546060958675, 2.6796325976351225, 2.6796363477672993, 9.690786536721859, 40.75977511855309, 7.894065323355815, 12.93140921284348, 10.521710081010639, 16.73817126895243, 11.58455192288628, 12.69051936822469, 8.81930145011732, 15.880690233416953, 21.957029600605743, 10.057598982433053, 13.089652696013369, 8.537231324269873, 13.012817823457542, 8.16269605817609, 177.11863124191947, 7.728589271500545, 6.026882569968672, 6.026880336143128, 10.12382123579643, 3.4743202447459507, 3.4743181092251105, 6.877736823709012, 2.6234660172810775, 2.6234636681140855, 2.6234587451069795, 11.640144919585063, 10.150715118321495, 23.16218725621875, 16.98900723003613, 11.894353016425786, 7.544782307792848, 54.04708602458559, 1.772612905090695, 1.772612905087422, 1.7726129050856372, 1.7726129050810484, 1.7726129048120571, 1.7726129046317833, 1.7726129046317838, 1.7726122832249707, 1.77261224794459, 1.7726120673595969, 1.7726117406846456, 1.7726114481227477, 4.09629638359831, 3.4743179606269368, 17.134513801666618, 5.042932379955846, 11.20584515459067, 20.674445974403838, 2.299263836611084, 18.95249880833106, 11.868349516239997, 7.266449078471696, 18.26836015645794, 44.21284114433055, 61.10878516732099, 20.287584885470636, 13.999690793574922, 31.082386342552557, 8.646441835306591, 32.857977122204105, 13.23950206141691, 15.616391265595917, 17.825680727572642, 26.453417061920184, 12.803670788596488, 20.868589781419853, 10.888270909415985, 9.187555131141298, 7.94779308020842, 24.12488645642786, 8.365732753804439, 35.558206950781155, 6.5237366303284885, 37.17167142030402, 4.681734744813938, 18.310209543991412, 10.607761092869834, 3.7607410962592627, 3.760736102103677, 17.862855225436576, 6.513857469371076, 6.513857469371076, 2.8397441362574853, 2.8397435087425578, 2.8397412283186703, 2.839740366358718, 2.8397380931044856, 2.8397356706805414, 9.096969496275648, 79.81173683727462, 5.5793728227070245, 1.9187467410070083, 1.9187467410036156, 1.9187467408145267, 1.9187465675902267, 1.918744273569756, 1.9187434399976417, 1.9187407673599546, 1.9187360065909962, 25.525731146340405, 8.301745064542978, 3.76060237763614, 10.06959579655729, 6.293334253611953, 3.1854317274299357, 3.7606911242706507, 8.955054050424678, 4.681736951886937, 41.43746982559911, 17.460767335882466, 10.26128944156975, 17.653618853193844, 5.394148949833547, 9.58235484046863, 7.854696379687689, 10.197476858481918, 8.456806082950926, 8.612947195428783, 7.511865412680062, 15.663305091747501, 13.45257308373869, 15.658624467378973, 9.728121249117688, 8.686804658726738, 8.010464008637674, 7.1192531487605, 6.111111225631963, 2.660129940023024, 2.660129175725005, 2.6601279487910956, 2.6601266507522916, 40.651377112223784, 1.7973856807436646, 1.7973856806852604, 1.7973854867408814, 1.7973852659565408, 1.7973846982609298, 1.7973844139118245, 1.797384358960278, 1.7973841596017182, 1.7973831677516305, 1.797382145497607, 1.7973817354080552, 4.385619625690825, 14.452640296585049, 2.6601344455782154, 2.6601321088380803, 4.184200503274171, 6.763219980369382, 13.37825160335944, 2.4965256345818436, 6.921877439372587, 0.9346405539805392, 0.9346405539805392, 0.9346405539758319, 0.9346405539758319, 0.9346405539758319, 1.7973806017806289, 2.6601289521600706, 90.9246076993107, 3.5228756568051427, 86.44782384370835, 57.21304916466587, 8.300957962693385, 7.836609466509651, 13.183854485449181, 5.875591011630451, 32.96498844943426, 15.205570108138337, 4.633484823372609, 4.183650542788864, 6.430727662952288, 17.33168570349469, 24.22201564536929, 7.578802341172734, 3.95099884406157, 6.091466563619076, 9.892758942462338, 6.1091043291669065, 5.866889149500772, 6.4681280786671325, 7.660981230835544, 7.986036927791124, 5.958350181248217, 29.643072738282406, 33.97164331508795, 24.369138407342714, 10.428366134650123, 15.552151947970515, 14.816646706936027, 2.6816474748680554, 2.681646471816368, 2.681646031058927, 2.681532029397896, 5.015040460019009, 1.8119239695053189, 1.811923969348502, 1.811923543072589, 1.811923543044413, 1.8119230142835128, 1.8119205888421246, 1.8119205163137506, 47.095431352549866, 31.714280088573908, 32.50345251594649, 10.97568532803793, 4.370723862348941, 7.03026777773458, 2.554885372375792, 3.463169742381241, 17.973923137337916, 10.237890704786453, 0.9422004641495192, 0.9422004641495192, 0.9422004641495192, 0.9422004641495192, 0.9422004641495192, 0.9422004641495192, 0.9422004641495192, 3.5513730633674836, 7.97258513403723, 25.38357236640802, 44.9149987676375, 6.954788532697227, 13.477395120758182, 3.5047827994991394, 23.995818403900657, 5.4325270497771925, 11.399030040447123, 22.528380020771195, 5.441063980058473, 16.84297370544526, 7.3432653152862715, 6.213445218945964, 7.457137358637969, 6.319489408665855, 8.640465084378611, 7.261744647395938, 11.387127218760044, 4.424295554708628, 8.776068461636424, 2.6835909453313276, 2.683590639109027, 2.6835868178115234, 5.294654948729299, 10.516777020784593, 4.251463345831398, 1.8132371252012265, 1.813237125201225, 1.8132371250905115, 1.8132367094755448, 1.8132361354237823, 1.8132348040588124, 1.8132294866904766, 1.8132266085182214, 5.294651955273102, 3.553943701168696, 3.5539293513019317, 3.5539418111669825, 3.5430160071247543, 2.6835915046677012, 5.2946481956297005, 6.1650049022618365, 0.9428833051092183, 0.9428833051092183, 0.9428833051083491, 0.9428833051083491, 0.9428833051053969, 25.4247531013462, 7.035360539068807, 9.142511807757838, 23.6032609520185, 3.5539511469337466, 8.233696748322744, 6.543343502693694, 11.687778240506963, 3.553945654890806, 34.38557490833685, 25.594152642152544, 34.330705548268504, 4.897264619296996, 27.593298864068725, 10.150121297538512, 21.70126285978245, 14.281603539006042, 19.41674621689805, 9.466599884556977, 14.87280329641051, 15.016978399729522, 12.5374053531314, 11.461913257326502, 5.654460844967768, 7.316856824809395, 6.4850527154547555, 6.69866534564887, 41.28159850596002, 16.383854267043084, 9.899322643911907, 18.94066348280845, 7.798428068583086, 2.6471720620197825, 2.6471684145203556, 3.935131670562602, 6.774427555888501, 1.7886308668195332, 1.7886308668195332, 1.7886308668195332, 1.7886308668195332, 1.7886308668195332, 1.7886308666920212, 1.788630410405771, 1.7886297452697388, 1.788628820967277, 1.7886285886392599, 1.7886274283572747, 1.7886273157239498, 1.7886256909526226, 1.7886036082863521, 1.7885619134621111, 7.78354000602298, 3.0130488989004083, 51.52527634583724, 0.9300880507405188, 0.9300880507405188, 0.9300880507405188, 4.155536933908083, 3.168765191769433, 1.7886292738064873, 5.142625621196753, 89.20785628424521, 6.40060333114144, 8.664537428411077, 7.256659710267458, 33.635605737976874, 9.53040415996421, 3.5057171363891366, 4.829895352559772, 4.987294067513561, 6.517673206080412, 9.462546160485141, 4.248171922150988, 3.655642738513289, 21.71910306265856, 4.9724523622155345, 9.803945646483497, 6.5693664778215, 4.00824609510774, 4.28554005158552, 6.366127678841666, 6.483739789466842, 5.9815284611735935, 5.192612169783066, 4.530341810401531, 2.5866951944011354, 2.586691165117826, 2.586689880222086, 2.5547092412898125, 3.7019131629968056, 137.1344069963621, 1.7477674370240692, 1.7477674370160092, 1.7477674370137026, 1.7477674369864857, 1.747767408405912, 1.7477673797876143, 1.7477668374080775, 1.7477662558416427, 1.7477659815049522, 1.7477643196679493, 1.7477636377412165, 1.7477636556858729, 1.747760588199487, 1.747752283287929, 3.4256270219227853, 6.713740096541867, 5.596711412293741, 1.601307017904223, 4.240837837227758, 2.5866933772606684, 1.5413481783139822, 5.103482439981862, 2.0334325935858235, 3.9790012689028003, 4.264551044003901, 8.422537999536612, 23.341215742583493, 5.759233694965345, 6.908647939953108, 3.719321652807877, 19.661806901736018, 12.237833967550467, 8.901376687905524, 12.56579748172338, 3.36418040421206, 4.900644153187866, 2.2258633078968035, 13.282212630613364, 3.6853402240805817, 5.351877635974759, 4.846697291094802, 7.042386155400865, 5.36936133593648, 4.296902585369052, 4.277414524766116, 3.6124527666083854, 3.943712618787439, 3.4256332712349544, 34.559949805275835, 24.465359267196344, 16.468752884905285, 39.79222572894523, 9.090894222059662, 3.4349644385821976, 2.5937478544987127, 2.5937477842605423, 5.0921045910684155, 1.7525322848810365, 1.7525322398656042, 1.7525286812518313, 1.7525269860480621, 3.434962259598465, 2.5937505817674125, 2.5937478282703186, 11.32030961267783, 2.526553309993507, 0.9113172822905252, 0.9113172822867572, 0.9113172822850265, 0.9113172822850265, 0.9113172822829345, 0.9113172822829345, 0.911317282282929, 0.911317282282929, 0.9113172822803568, 0.9113172822803568, 0.9113172822803568, 0.9113172822770974, 3.5535730989120733, 2.593748693162307, 1.7525352907881009, 1.7525325193519488, 8.604319714948033, 3.434962397241815, 1.7525335039316818, 1.7525320680101404, 1.7525297342352415, 1.7525271688957715, 23.55447058615351, 7.326905886125186, 9.839834923805032, 5.803960802061925, 40.508262715342624, 8.724559464349236, 18.453495980892715, 10.441831804968198, 5.323479417864204, 19.4191601917169, 8.29434967553986, 4.570020619564568, 12.190152725938933, 10.059275288230825, 11.646604266049884, 4.330317884391284, 6.296632440637031, 4.293749032348171, 5.089082488654785, 6.91844537458215, 4.38257406986976, 4.375729320040073, 114.71663141380968, 13.23404793134648, 8.585993965468496, 19.32251380525974, 31.616651401911184, 2.3885772121275055, 7.036651011127311, 8.58598472494816, 4.712613864417772, 78.27870605366375, 4.309802415428207, 2.354415538696277, 0.8392325314393508, 0.8392325314393508, 0.8392325314393508, 0.8392325314393508, 0.8392325314306304, 0.8392325314306305, 0.8392325314306304, 0.8392325314306305, 0.8392325314289171, 0.8392325314289171, 0.8392325314289171, 0.8392325314289171, 0.8392325314091994, 0.8392325313987022, 0.8392325313987019, 0.8392325313801888, 0.839232531380184, 0.8392325313801837, 1.6139051578866197, 1.6139027766375416, 1.6139117451658402, 6.316682203852321, 1.6139092144280447, 1.613907065916424, 3.1632673880444937, 6.544788894502724, 1.493845741761844, 4.046521311674644, 3.34501056524267, 1.6139082040329442, 1.613913879213341, 3.4087034043296143, 2.388590067843826, 3.252546958492879, 4.2962926220910935, 2.1344180556136894, 2.9366874628386337, 4.718123218069661, 4.873874642582378, 2.8371248049437887, 4.8275156279540825, 4.169344697809747, 2.335376294050038, 3.0201225336321507, 2.434867049518553, 24.35288186777075, 5.931214259625692, 4.256520553519038, 3.4191705068170535, 3.4191679057036874, 5.931218513402282, 2.5818243437107062, 2.581824139600183, 5.093873609087546, 33.07758131485335, 1.7444760754884623, 1.7444760754884623, 1.7444760754845476, 1.7444755080465255, 1.7444744471650808, 1.7444724111226622, 1.744469747281654, 2.549167595859464, 2.581801586158363, 2.56579784681432, 2.5818244081978197, 7.563810715682917, 4.189181853812909, 0.9071275592516291, 0.9071275592516291, 0.9071275592516291, 0.9071275592516291, 0.9071275592516291, 0.9071275592487698, 0.9071275592487698, 6.396226477756559, 0.9071275592487698, 0.9071275592487698, 1.7444766256382984, 2.5818188774057584, 1.7444726745898012, 1.7444702177056508, 1.7444725560645076, 9.242092247600985, 17.803748109259864, 6.098043646810801, 30.02844931611171, 3.389440169775506, 10.441961237371421, 6.400587054748191, 6.175385926343643, 4.714584562503011, 3.7905110048021005, 3.699889363402107, 2.5818250461681687, 9.729079087237912, 4.815761751644075, 4.219538713398589, 3.704740511316725, 3.1163461355310926, 3.7516164667998777, 3.4752029579669546, 3.796415735176574, 3.2714675877577903, 77.65049503925536, 37.679102479285596, 8.514026948226732, 1.600381219019488, 1.6003812189972901, 9.282212163960994, 0.8321982338884613, 0.8321982338884613, 0.832198233888461, 0.8321982338862811, 0.8321982338862811, 0.8321982338862811, 0.8321982338862811, 0.8321982338862811, 0.8321982338810403, 0.8321982338708916, 0.8321982338708916, 0.8321982338708884, 0.8321982338708883, 0.8321982338708883, 0.8321982338708884, 0.8321982338648318, 0.832198233854155, 0.8321982338304097, 0.8321982337358999, 0.832197821221794, 0.8321977688406584, 0.8321977688406584, 0.8321977534887144, 0.8321976306641197, 21.178626708628183, 1.6003812089978082, 1.600382099841375, 1.6003841059846045, 2.9488408965968804, 5.0868317818980895, 1.6003828155553956, 1.6003778313008494, 5.960432241811907, 1.60039334513243, 2.36856899399754, 2.655767014775002, 1.6003833835453312, 2.5407194240432105, 1.600376983331165, 2.3685692003739045, 1.4931643896129807, 1.6003861791111764, 1.600378561121189, 1.5268734117457858, 1.8318395870089887, 1.6003817607811646, 1.4122193531205265, 1.1175882641562733], \"Total\": [207.0, 183.0, 193.0, 115.0, 78.0, 127.0, 219.0, 203.0, 103.0, 75.0, 202.0, 40.0, 92.0, 89.0, 178.0, 42.0, 48.0, 69.0, 255.0, 47.0, 43.0, 54.0, 35.0, 36.0, 73.0, 35.0, 39.0, 42.0, 25.0, 63.0, 207.6862620628666, 75.75782510577271, 19.100030540888472, 16.480935666179622, 12.944887838988036, 32.19178028553331, 3.4541048808580324, 14.691657114826617, 2.585032275236237, 2.585032275236237, 2.585032275236237, 2.585032275236237, 2.585032275236098, 2.5850322752359896, 2.585032275235911, 2.5850322752356645, 2.585032275235597, 2.5850322752255686, 2.5850322551922527, 2.5850322412293165, 2.5850322412293165, 2.5850323453307533, 2.585032239894071, 2.5850323250450313, 2.585032251888781, 2.585032126951301, 2.585031976511546, 2.5850324405039693, 2.5850313508441496, 5.244175968452823, 18.92090001268226, 33.522248646881636, 35.01998210831047, 5.192951826654161, 6.917740778135586, 8.550714553926236, 8.585324353106865, 53.14863999271739, 95.86822221086778, 11.087382064091502, 12.01296632895359, 37.86515624444863, 178.47268192217203, 7.803311705849972, 7.777487548535747, 6.043359312300446, 4.293033261375869, 4.32382843519982, 26.23659552497222, 203.32943191763525, 20.744989091560292, 46.76111247759848, 36.4319406754294, 77.34548697613316, 43.01978517104506, 55.186082887376486, 29.776449988637484, 91.00046970387767, 202.431301796522, 43.853450728697474, 123.30377381966271, 36.05891538290388, 144.33382741866762, 103.4427287517999, 183.87513010882645, 8.504574599852333, 6.802866273313761, 6.802866315479408, 11.881210281626224, 4.250303747739331, 4.2503036374411725, 8.512263263295559, 3.3994494907999244, 3.399449159579498, 3.3994497605626735, 15.240440298504868, 13.467714595681908, 30.921273102183193, 22.954874106438016, 16.125611906521602, 10.243200071238046, 73.72882496096258, 2.548595272345971, 2.54859527234591, 2.548595272345877, 2.5485952723457923, 2.5485952723408123, 2.5485952723374785, 2.548595272337479, 2.548595263629584, 2.5485952135105894, 2.548595290924031, 2.548595297276632, 2.548595292704321, 5.975131166832199, 5.091519641174319, 28.247697910091404, 7.690598547372699, 18.864141883793454, 36.72974245288409, 3.406354484352631, 37.8731656487921, 22.925979255946373, 13.624768911290106, 40.987954169386796, 123.30377381966271, 255.51730092213242, 63.06595946000567, 38.355118929000824, 144.33382741866762, 21.262953653132232, 219.9084852815659, 46.75366186814269, 69.19734846975459, 91.00046970387767, 202.431301796522, 54.15914055033493, 193.3642336013629, 47.503214002950415, 89.39287088283491, 51.70152885764861, 25.646176598201617, 9.135872601060543, 39.32639037887756, 7.293875703532564, 42.84265395936055, 5.451878323060626, 21.839050128200938, 12.708791556002321, 4.530880475273732, 4.53087988025072, 21.754883720856373, 8.13192380562706, 8.13192380562706, 3.609882131845233, 3.609882098589919, 3.6098818988239953, 3.6098818781041997, 3.60988165100839, 3.6098813846821156, 11.582574594132112, 103.4427287517999, 7.240632719751396, 2.688883754816794, 2.688883754816458, 2.688883754797771, 2.6888837272655066, 2.6888835824152975, 2.6888835710363543, 2.6888832460851244, 2.688882927625096, 36.05891538290388, 11.680711771825365, 5.299055489799518, 14.434774274766905, 8.9750528675303, 4.494492039166709, 5.368225141295956, 13.434949365024153, 6.988245139922227, 92.23904875296584, 36.4319406754294, 22.818691175749386, 55.186082887376486, 9.652865900715234, 23.5818490879747, 18.28568958195697, 29.776449988637484, 26.23659552497222, 28.699076554954257, 21.73119329408751, 178.47268192217203, 144.33382741866762, 255.51730092213242, 53.14863999271739, 46.83908175380152, 37.8731656487921, 91.00046970387767, 7.756456503493301, 3.435122251782379, 3.435122303371514, 3.4351223613557, 3.4351221894910253, 54.15914055033493, 2.5723771369726, 2.5723771369706476, 2.572377134298202, 2.5723771649801264, 2.572377203310045, 2.572377136545322, 2.572377100483239, 2.572377099012628, 2.5723771039542735, 2.5723771051088344, 2.57237713648393, 6.79786840705664, 22.621200984094962, 4.276338337652774, 4.356120461591311, 6.864334350618197, 11.22668329804334, 22.92329151394274, 4.301589615011978, 11.992047427132304, 1.709632010206294, 1.709632010206294, 1.709632010206136, 1.709632010206136, 1.709632010206136, 3.340560222259155, 5.072378627078464, 202.431301796522, 6.8580033027635645, 203.32943191763525, 178.47268192217203, 19.072227709528775, 20.744989091560292, 46.83908175380152, 15.444404670456775, 255.51730092213242, 77.34548697613316, 12.073035672582357, 10.280064887976684, 21.985819964874388, 123.30377381966271, 219.9084852815659, 31.18741949246058, 10.277225492018832, 28.247697910091404, 103.4427287517999, 35.01998210831047, 33.522248646881636, 47.503214002950415, 89.39287088283491, 144.33382741866762, 55.186082887376486, 30.417486001001908, 35.688283725903574, 26.056973066206087, 12.152581105686503, 18.22403533140184, 19.01026018691167, 3.4560573995705774, 3.4560572899516995, 3.4560573386560205, 3.4560548948933416, 6.907334358418317, 2.5863338941938707, 2.586333894187319, 2.5863338907708004, 2.586333890769622, 2.5863338586355136, 2.586333790328598, 2.5863336964347563, 69.19734846975459, 47.52182286573562, 49.34255894421322, 17.249436644805844, 6.890886194674585, 11.090012961687055, 4.325035240058259, 5.957866662905779, 31.18741949246058, 18.104522595141848, 1.7166103888174076, 1.7166103888174076, 1.7166103888174076, 1.7166103888174076, 1.7166103888174076, 1.7166103888174076, 1.7166103888174076, 6.880647110267089, 16.16011407253195, 91.00046970387767, 255.51730092213242, 18.864141883793454, 51.70152885764861, 7.71073162578387, 193.3642336013629, 16.146846170503373, 63.06595946000567, 219.9084852815659, 17.078667992250228, 202.431301796522, 38.355118929000824, 26.376706959964725, 46.75366186814269, 40.987954169386796, 123.30377381966271, 144.33382741866762, 13.002702530990984, 5.19865590665104, 11.232857194714011, 3.4579483437731566, 3.4579483385912453, 3.4579483342267525, 6.919864086904348, 14.690650291128197, 6.031343975307622, 2.5875945236613114, 2.5875945236613114, 2.5875945236566036, 2.587594474858116, 2.587594506913739, 2.5875944629181022, 2.5875943526324403, 2.5875943411012106, 7.706431053539018, 5.197374688871126, 5.197374718446403, 5.198025525213467, 5.196960311000339, 4.2952967403031455, 8.585794813240462, 11.213895756131903, 1.7172407035510373, 1.7172407035510373, 1.7172407035510007, 1.7172407035510007, 1.7172407035508748, 47.503214002950415, 13.024153201757604, 17.465403080681334, 46.76111247759848, 6.893266228551837, 18.15538425190851, 14.631415929548083, 37.86515624444863, 6.919313957435099, 203.32943191763525, 144.33382741866762, 255.51730092213242, 12.814270789245729, 219.9084852815659, 49.34255894421322, 202.431301796522, 95.86822221086778, 178.47268192217203, 46.83908175380152, 123.30377381966271, 127.57191725803547, 91.00046970387767, 89.39287088283491, 20.35969731814747, 53.14863999271739, 48.2089176425457, 77.34548697613316, 42.05694208583535, 17.159200317945647, 11.138329268734571, 21.49571163329087, 9.341955133698544, 3.422515345721736, 3.422515355186583, 5.097681761116496, 9.441529484116366, 2.5639725155944824, 2.5639725155944824, 2.5639725155944824, 2.5639725155944824, 2.5639725155944824, 2.56397251559079, 2.5639725063829855, 2.563972514060297, 2.5639724743049577, 2.5639722930573035, 2.563972510058344, 2.5639725329716363, 2.5639726180866473, 2.563972027356877, 2.563970748416337, 12.675584774315316, 5.1230743247685, 89.39287088283491, 1.7054296995173324, 1.7054296995173324, 1.7054296995173324, 7.752119816382024, 5.979749075171169, 3.338648631087713, 10.09384783665393, 219.9084852815659, 13.617071141211758, 21.985819964874388, 17.288092175717058, 144.33382741866762, 28.699076554954257, 6.890858924633556, 11.170357608996673, 11.952432572997848, 18.72381491689156, 40.987954169386796, 10.960444400613655, 8.678298841202789, 203.32943191763525, 18.224056921983465, 73.72882496096258, 43.853450728697474, 12.065557966430335, 16.091259644901456, 77.34548697613316, 193.3642336013629, 255.51730092213242, 123.30377381966271, 91.00046970387767, 3.363671998047697, 3.363672265678994, 3.363672165087963, 3.364419850147419, 5.096569275880736, 193.3642336013629, 2.524743622993158, 2.524743622993125, 2.5247436229931157, 2.5247436229930083, 2.524743623399996, 2.5247436238068355, 2.5247436445381615, 2.5247436164293657, 2.524743765382075, 2.524743736382162, 2.524743391369628, 2.5247436583636595, 2.524743720351145, 2.524743809253378, 5.06114311209595, 9.966606831859679, 8.444553552062326, 2.5135265916828664, 6.667396275482544, 4.233395550490713, 2.52956977932538, 8.433242782283337, 3.3843966473564966, 6.770923423735643, 7.6366542046216885, 16.091259644901456, 51.70152885764861, 14.495290398822014, 24.65174258014155, 9.349081108170115, 178.47268192217203, 77.34548697613316, 53.14863999271739, 127.57191725803547, 9.384520151760375, 22.818691175749386, 4.230651008149646, 255.51730092213242, 14.398738123284568, 43.853450728697474, 37.86515624444863, 202.431301796522, 95.86822221086778, 47.52182286573562, 73.72882496096258, 26.376706959964725, 47.634520184391825, 21.73119329408751, 35.33674103326769, 25.242149626240828, 19.498300506067224, 48.2089176425457, 11.04331924426842, 4.2117506673641625, 3.370534728898858, 3.370534775414918, 6.764092829771322, 2.5293188550423484, 2.5293188006384475, 2.529318456176595, 2.5293190090238897, 5.050679120531549, 4.239607156943268, 4.2402584276683095, 18.64258675254202, 4.2432160274259925, 1.6881028363377135, 1.6881028363376869, 1.688102836337675, 1.688102836337675, 1.6881028363376607, 1.6881028363376607, 1.6881028363376611, 1.6881028363376611, 1.6881028363376427, 1.6881028363376427, 1.6881028363376427, 1.68810283633762, 6.757346943629539, 5.07760687922094, 3.380173051443228, 3.380173021196228, 18.63860657451683, 6.974746053346949, 3.398391460497486, 3.39967259776578, 3.3996727710144317, 3.4503170198070365, 63.06595946000567, 18.289954978188597, 28.699076554954257, 17.078667992250228, 255.51730092213242, 38.355118929000824, 127.57191725803547, 55.186082887376486, 19.31883075091449, 219.9084852815659, 47.52182286573562, 16.514543756535836, 123.30377381966271, 95.86822221086778, 202.431301796522, 16.185403365926994, 46.76111247759848, 21.262953653132232, 40.987954169386796, 203.32943191763525, 26.376706959964725, 92.23904875296584, 115.49896194886715, 14.01638230063153, 9.368324943803772, 21.097600926449783, 36.952281082634094, 3.1709162332622687, 9.493669118895312, 11.672874282443054, 7.235651392317583, 127.57191725803547, 7.266227806764742, 4.012678218963688, 1.6215630663156788, 1.6215630663156788, 1.6215630663156788, 1.6215630663156788, 1.6215630663164418, 1.6215630663164418, 1.6215630663164418, 1.6215630663164418, 1.6215630663165914, 1.6215630663165914, 1.6215630663165914, 1.6215630663165914, 1.621563066318317, 1.6215630663192357, 1.6215630663192355, 1.6215630663208556, 1.621563066320857, 1.6215630663208564, 3.2374555711094817, 3.2374557697712687, 3.247093097739916, 13.929905636196484, 3.2659629031042057, 3.3172377906338215, 7.358869057769981, 18.20916282872874, 3.24776766531952, 11.667254583166828, 10.186564827967139, 4.097912752642093, 4.135665135657068, 12.472775314046807, 8.449115799361719, 20.35969731814747, 35.01998210831047, 10.09384783665393, 21.985819964874388, 77.34548697613316, 95.86822221086778, 22.92329151394274, 203.32943191763525, 123.30377381966271, 18.92090001268226, 73.72882496096258, 33.522248646881636, 25.129993921551268, 6.70832650737161, 5.033629503347981, 4.196281013242029, 4.196281288856577, 7.629324640210962, 3.3589324361570743, 3.358932445593575, 6.741331510043585, 47.634520184391825, 2.5215839159180837, 2.5215839159180837, 2.5215839159180757, 2.521583972604126, 2.5215839571324103, 2.521583978542389, 2.5215838751379556, 4.131164608028052, 4.221677792553551, 4.197891092427765, 4.2799307918781775, 13.570772813916271, 7.550987046917635, 1.6842353996793267, 1.6842353996793267, 1.6842353996793267, 1.6842353996793267, 1.6842353996793267, 1.684235399679321, 1.684235399679321, 11.907172712435253, 1.684235399679321, 1.684235399679321, 3.289767082152654, 5.036788951241425, 3.3605123850548937, 3.3605116761329588, 3.380126615490204, 21.183671776911957, 46.75366186814269, 14.398738123284568, 92.23904875296584, 8.51130427856867, 43.853450728697474, 26.376706959964725, 29.776449988637484, 19.31883075091449, 12.814270789245729, 12.472775314046807, 5.859099366351375, 144.33382741866762, 37.8731656487921, 46.83908175380152, 26.23659552497222, 15.571142826403163, 95.86822221086778, 55.186082887376486, 193.3642336013629, 77.34548697613316, 78.43336853289003, 40.20806020736694, 9.296899856247418, 2.383252853704968, 2.3832528537072863, 14.413700064583342, 1.6150698685729927, 1.6150698685729927, 1.6150698685729927, 1.6150698685732203, 1.6150698685732203, 1.6150698685732203, 1.6150698685732203, 1.6150698685732203, 1.6150698685737672, 1.6150698685748277, 1.6150698685748277, 1.6150698685748277, 1.6150698685748277, 1.6150698685748277, 1.6150698685748277, 1.6150698685754596, 1.6150698685765748, 1.615069868579055, 1.6150698685889298, 1.615069912983599, 1.6150699114015619, 1.6150699114015619, 1.6150699250811018, 1.615069922886304, 43.01978517104506, 3.1579290366668746, 3.252325597135666, 3.252976240644852, 6.4582366128535975, 15.571142826403163, 4.166996007055899, 4.174605343840358, 36.72974245288409, 4.859602300055232, 11.672874282443054, 16.16011407253195, 6.8324674834055035, 19.31883075091449, 6.988245139922227, 23.5818490879747, 7.659242864805163, 10.960444400613655, 11.582574594132112, 22.925979255946373, 77.34548697613316, 51.70152885764861, 37.8731656487921, 49.34255894421322], \"Category\": [\"Default\", \"Default\", \"Default\", \"Default\", \"Default\", \"Default\", \"Default\", \"Default\", \"Default\", \"Default\", \"Default\", \"Default\", \"Default\", \"Default\", \"Default\", \"Default\", \"Default\", \"Default\", \"Default\", \"Default\", \"Default\", \"Default\", \"Default\", \"Default\", \"Default\", \"Default\", \"Default\", \"Default\", \"Default\", \"Default\", \"Topic1\", \"Topic1\", \"Topic1\", \"Topic1\", \"Topic1\", \"Topic1\", \"Topic1\", \"Topic1\", \"Topic1\", \"Topic1\", \"Topic1\", \"Topic1\", \"Topic1\", \"Topic1\", \"Topic1\", \"Topic1\", \"Topic1\", \"Topic1\", \"Topic1\", \"Topic1\", \"Topic1\", \"Topic1\", \"Topic1\", \"Topic1\", \"Topic1\", \"Topic1\", \"Topic1\", \"Topic1\", \"Topic1\", \"Topic1\", \"Topic1\", \"Topic1\", \"Topic1\", \"Topic1\", \"Topic1\", \"Topic1\", \"Topic1\", \"Topic1\", \"Topic1\", \"Topic1\", \"Topic1\", \"Topic1\", \"Topic1\", \"Topic1\", \"Topic1\", \"Topic1\", \"Topic1\", \"Topic1\", \"Topic1\", \"Topic1\", \"Topic1\", \"Topic1\", \"Topic1\", \"Topic1\", \"Topic1\", \"Topic1\", \"Topic1\", \"Topic1\", \"Topic1\", \"Topic1\", \"Topic1\", \"Topic1\", \"Topic1\", \"Topic1\", \"Topic2\", \"Topic2\", \"Topic2\", \"Topic2\", \"Topic2\", \"Topic2\", \"Topic2\", \"Topic2\", \"Topic2\", \"Topic2\", \"Topic2\", \"Topic2\", \"Topic2\", \"Topic2\", \"Topic2\", \"Topic2\", \"Topic2\", \"Topic2\", \"Topic2\", \"Topic2\", \"Topic2\", \"Topic2\", \"Topic2\", \"Topic2\", \"Topic2\", \"Topic2\", \"Topic2\", \"Topic2\", \"Topic2\", \"Topic2\", \"Topic2\", \"Topic2\", \"Topic2\", \"Topic2\", \"Topic2\", \"Topic2\", \"Topic2\", \"Topic2\", \"Topic2\", \"Topic2\", \"Topic2\", \"Topic2\", \"Topic2\", \"Topic2\", \"Topic2\", \"Topic2\", \"Topic2\", \"Topic2\", \"Topic2\", \"Topic2\", \"Topic2\", \"Topic2\", \"Topic2\", \"Topic2\", \"Topic2\", \"Topic2\", \"Topic2\", \"Topic3\", \"Topic3\", \"Topic3\", \"Topic3\", \"Topic3\", \"Topic3\", \"Topic3\", \"Topic3\", \"Topic3\", \"Topic3\", \"Topic3\", \"Topic3\", \"Topic3\", \"Topic3\", \"Topic3\", \"Topic3\", \"Topic3\", \"Topic3\", \"Topic3\", \"Topic3\", \"Topic3\", \"Topic3\", \"Topic3\", \"Topic3\", \"Topic3\", \"Topic3\", \"Topic3\", \"Topic3\", \"Topic3\", \"Topic3\", \"Topic3\", \"Topic3\", \"Topic3\", \"Topic3\", \"Topic3\", \"Topic3\", \"Topic3\", \"Topic3\", \"Topic3\", \"Topic3\", \"Topic3\", \"Topic3\", \"Topic3\", \"Topic3\", \"Topic3\", \"Topic3\", \"Topic3\", \"Topic3\", \"Topic3\", \"Topic3\", \"Topic3\", \"Topic3\", \"Topic3\", \"Topic3\", \"Topic3\", \"Topic3\", \"Topic3\", \"Topic4\", \"Topic4\", \"Topic4\", \"Topic4\", \"Topic4\", \"Topic4\", \"Topic4\", \"Topic4\", \"Topic4\", \"Topic4\", \"Topic4\", \"Topic4\", \"Topic4\", \"Topic4\", \"Topic4\", \"Topic4\", \"Topic4\", \"Topic4\", \"Topic4\", \"Topic4\", \"Topic4\", \"Topic4\", \"Topic4\", \"Topic4\", \"Topic4\", \"Topic4\", \"Topic4\", \"Topic4\", \"Topic4\", \"Topic4\", \"Topic4\", \"Topic4\", \"Topic4\", \"Topic4\", \"Topic4\", \"Topic4\", \"Topic4\", \"Topic4\", \"Topic4\", \"Topic4\", \"Topic4\", \"Topic4\", \"Topic4\", \"Topic4\", \"Topic4\", \"Topic4\", \"Topic4\", \"Topic4\", \"Topic4\", \"Topic4\", \"Topic4\", \"Topic4\", \"Topic4\", \"Topic4\", \"Topic4\", \"Topic4\", \"Topic4\", \"Topic4\", \"Topic5\", \"Topic5\", \"Topic5\", \"Topic5\", \"Topic5\", \"Topic5\", \"Topic5\", \"Topic5\", \"Topic5\", \"Topic5\", \"Topic5\", \"Topic5\", \"Topic5\", \"Topic5\", \"Topic5\", \"Topic5\", \"Topic5\", \"Topic5\", \"Topic5\", \"Topic5\", \"Topic5\", \"Topic5\", \"Topic5\", \"Topic5\", \"Topic5\", \"Topic5\", \"Topic5\", \"Topic5\", \"Topic5\", \"Topic5\", \"Topic5\", \"Topic5\", \"Topic5\", \"Topic5\", \"Topic5\", \"Topic5\", \"Topic5\", \"Topic5\", \"Topic5\", \"Topic5\", \"Topic5\", \"Topic5\", \"Topic5\", \"Topic5\", \"Topic5\", \"Topic5\", \"Topic5\", \"Topic5\", \"Topic5\", \"Topic5\", \"Topic5\", \"Topic5\", \"Topic5\", \"Topic5\", \"Topic6\", \"Topic6\", \"Topic6\", \"Topic6\", \"Topic6\", \"Topic6\", \"Topic6\", \"Topic6\", \"Topic6\", \"Topic6\", \"Topic6\", \"Topic6\", \"Topic6\", \"Topic6\", \"Topic6\", \"Topic6\", \"Topic6\", \"Topic6\", \"Topic6\", \"Topic6\", \"Topic6\", \"Topic6\", \"Topic6\", \"Topic6\", \"Topic6\", \"Topic6\", \"Topic6\", \"Topic6\", \"Topic6\", \"Topic6\", \"Topic6\", \"Topic6\", \"Topic6\", \"Topic6\", \"Topic6\", \"Topic6\", \"Topic6\", \"Topic6\", \"Topic6\", \"Topic6\", \"Topic6\", \"Topic6\", \"Topic6\", \"Topic6\", \"Topic6\", \"Topic6\", \"Topic6\", \"Topic6\", \"Topic6\", \"Topic6\", \"Topic6\", \"Topic6\", \"Topic6\", \"Topic6\", \"Topic6\", \"Topic6\", \"Topic6\", \"Topic7\", \"Topic7\", \"Topic7\", \"Topic7\", \"Topic7\", \"Topic7\", \"Topic7\", \"Topic7\", \"Topic7\", \"Topic7\", \"Topic7\", \"Topic7\", \"Topic7\", \"Topic7\", \"Topic7\", \"Topic7\", \"Topic7\", \"Topic7\", \"Topic7\", \"Topic7\", \"Topic7\", \"Topic7\", \"Topic7\", \"Topic7\", \"Topic7\", \"Topic7\", \"Topic7\", \"Topic7\", \"Topic7\", \"Topic7\", \"Topic7\", \"Topic7\", \"Topic7\", \"Topic7\", \"Topic7\", \"Topic7\", \"Topic7\", \"Topic7\", \"Topic7\", \"Topic7\", \"Topic7\", \"Topic7\", \"Topic7\", \"Topic7\", \"Topic7\", \"Topic7\", \"Topic7\", \"Topic7\", \"Topic7\", \"Topic7\", \"Topic7\", \"Topic7\", \"Topic7\", \"Topic7\", \"Topic7\", \"Topic7\", \"Topic7\", \"Topic7\", \"Topic8\", \"Topic8\", \"Topic8\", \"Topic8\", \"Topic8\", \"Topic8\", \"Topic8\", \"Topic8\", \"Topic8\", \"Topic8\", \"Topic8\", \"Topic8\", \"Topic8\", \"Topic8\", \"Topic8\", \"Topic8\", \"Topic8\", \"Topic8\", \"Topic8\", \"Topic8\", \"Topic8\", \"Topic8\", \"Topic8\", \"Topic8\", \"Topic8\", \"Topic8\", \"Topic8\", \"Topic8\", \"Topic8\", \"Topic8\", \"Topic8\", \"Topic8\", \"Topic8\", \"Topic8\", \"Topic8\", \"Topic8\", \"Topic8\", \"Topic8\", \"Topic8\", \"Topic8\", \"Topic8\", \"Topic8\", \"Topic8\", \"Topic8\", \"Topic8\", \"Topic8\", \"Topic8\", \"Topic8\", \"Topic8\", \"Topic8\", \"Topic8\", \"Topic8\", \"Topic8\", \"Topic8\", \"Topic9\", \"Topic9\", \"Topic9\", \"Topic9\", \"Topic9\", \"Topic9\", \"Topic9\", \"Topic9\", \"Topic9\", \"Topic9\", \"Topic9\", \"Topic9\", \"Topic9\", \"Topic9\", \"Topic9\", \"Topic9\", \"Topic9\", \"Topic9\", \"Topic9\", \"Topic9\", \"Topic9\", \"Topic9\", \"Topic9\", \"Topic9\", \"Topic9\", \"Topic9\", \"Topic9\", \"Topic9\", \"Topic9\", \"Topic9\", \"Topic9\", \"Topic9\", \"Topic9\", \"Topic9\", \"Topic9\", \"Topic9\", \"Topic9\", \"Topic9\", \"Topic9\", \"Topic9\", \"Topic9\", \"Topic9\", \"Topic9\", \"Topic9\", \"Topic9\", \"Topic9\", \"Topic9\", \"Topic9\", \"Topic9\", \"Topic9\", \"Topic9\", \"Topic9\", \"Topic9\", \"Topic9\", \"Topic9\", \"Topic9\", \"Topic9\", \"Topic9\", \"Topic9\", \"Topic9\", \"Topic9\", \"Topic9\", \"Topic10\", \"Topic10\", \"Topic10\", \"Topic10\", \"Topic10\", \"Topic10\", \"Topic10\", \"Topic10\", \"Topic10\", \"Topic10\", \"Topic10\", \"Topic10\", \"Topic10\", \"Topic10\", \"Topic10\", \"Topic10\", \"Topic10\", \"Topic10\", \"Topic10\", \"Topic10\", \"Topic10\", \"Topic10\", \"Topic10\", \"Topic10\", \"Topic10\", \"Topic10\", \"Topic10\", \"Topic10\", \"Topic10\", \"Topic10\", \"Topic10\", \"Topic10\", \"Topic10\", \"Topic10\", \"Topic10\", \"Topic10\", \"Topic10\", \"Topic10\", \"Topic10\", \"Topic10\", \"Topic10\", \"Topic10\", \"Topic10\", \"Topic10\", \"Topic10\", \"Topic10\", \"Topic10\", \"Topic10\", \"Topic10\", \"Topic10\", \"Topic10\", \"Topic10\", \"Topic10\", \"Topic10\", \"Topic10\", \"Topic10\", \"Topic10\", \"Topic11\", \"Topic11\", \"Topic11\", \"Topic11\", \"Topic11\", \"Topic11\", \"Topic11\", \"Topic11\", \"Topic11\", \"Topic11\", \"Topic11\", \"Topic11\", \"Topic11\", \"Topic11\", \"Topic11\", \"Topic11\", \"Topic11\", \"Topic11\", \"Topic11\", \"Topic11\", \"Topic11\", \"Topic11\", \"Topic11\", \"Topic11\", \"Topic11\", \"Topic11\", \"Topic11\", \"Topic11\", \"Topic11\", \"Topic11\", \"Topic11\", \"Topic11\", \"Topic11\", \"Topic11\", \"Topic11\", \"Topic11\", \"Topic11\", \"Topic11\", \"Topic11\", \"Topic11\", \"Topic11\", \"Topic11\", \"Topic11\", \"Topic11\", \"Topic11\", \"Topic11\", \"Topic11\", \"Topic11\", \"Topic11\", \"Topic11\", \"Topic11\", \"Topic11\", \"Topic11\", \"Topic11\", \"Topic11\", \"Topic11\", \"Topic11\", \"Topic11\", \"Topic11\", \"Topic12\", \"Topic12\", \"Topic12\", \"Topic12\", \"Topic12\", \"Topic12\", \"Topic12\", \"Topic12\", \"Topic12\", \"Topic12\", \"Topic12\", \"Topic12\", \"Topic12\", \"Topic12\", \"Topic12\", \"Topic12\", \"Topic12\", \"Topic12\", \"Topic12\", \"Topic12\", \"Topic12\", \"Topic12\", \"Topic12\", \"Topic12\", \"Topic12\", \"Topic12\", \"Topic12\", \"Topic12\", \"Topic12\", \"Topic12\", \"Topic12\", \"Topic12\", \"Topic12\", \"Topic12\", \"Topic12\", \"Topic12\", \"Topic12\", \"Topic12\", \"Topic12\", \"Topic12\", \"Topic12\", \"Topic12\", \"Topic12\", \"Topic12\", \"Topic12\", \"Topic12\", \"Topic12\", \"Topic12\", \"Topic12\", \"Topic12\", \"Topic12\", \"Topic12\", \"Topic12\", \"Topic12\"], \"logprob\": [30.0, 29.0, 28.0, 27.0, 26.0, 25.0, 24.0, 23.0, 22.0, 21.0, 20.0, 19.0, 18.0, 17.0, 16.0, 15.0, 14.0, 13.0, 12.0, 11.0, 10.0, 9.0, 8.0, 7.0, 6.0, 5.0, 4.0, 3.0, 2.0, 1.0, -1.9305, -2.9863, -4.4583, -4.6323, -4.9255, -4.0201, -6.2766, -4.8348, -6.6687, -6.6687, -6.6687, -6.6687, -6.6687, -6.6687, -6.6687, -6.6687, -6.6687, -6.6687, -6.6687, -6.6687, -6.6687, -6.6687, -6.6687, -6.6687, -6.6687, -6.6687, -6.6687, -6.6687, -6.6687, -5.9957, -4.7266, -4.1812, -4.2226, -6.015, -5.7767, -5.5971, -5.5971, -4.0647, -3.5624, -5.452, -5.3862, -4.4863, -3.2487, -5.7767, -5.805, -6.0096, -6.2766, -6.2766, -4.9911, -3.5546, -5.1962, -4.7027, -4.9089, -4.4446, -4.8126, -4.7215, -5.0854, -4.4972, -4.1732, -4.954, -4.6905, -5.1179, -4.6964, -5.1627, -2.0138, -5.1457, -5.3943, -5.3943, -4.8757, -5.9452, -5.9452, -5.2623, -6.2261, -6.2261, -6.2261, -4.7361, -4.873, -4.0481, -4.358, -4.7145, -5.1697, -3.2007, -6.6181, -6.6181, -6.6181, -6.6181, -6.6181, -6.6181, -6.6181, -6.6181, -6.6181, -6.6181, -6.6181, -6.6181, -5.7805, -5.9452, -4.3495, -5.5726, -4.7741, -4.1617, -6.358, -4.2486, -4.7167, -5.2073, -4.2854, -3.4016, -3.0779, -4.1806, -4.5515, -3.7539, -5.0334, -3.6984, -4.6074, -4.4423, -4.3099, -3.9152, -4.6408, -4.1523, -4.8029, -4.9727, -5.1177, -3.8546, -4.9137, -3.4667, -5.1624, -3.4223, -5.4942, -4.1304, -4.6763, -5.7133, -5.7133, -4.1552, -5.164, -5.164, -5.9942, -5.9942, -5.9942, -5.9942, -5.9942, -5.9942, -4.8299, -2.6582, -5.3188, -6.3862, -6.3862, -6.3862, -6.3862, -6.3862, -6.3862, -6.3862, -6.3862, -3.7982, -4.9214, -5.7133, -4.7284, -5.1984, -5.8793, -5.7133, -4.8457, -5.4942, -3.3137, -4.1779, -4.7095, -4.1669, -5.3526, -4.778, -4.9768, -4.7157, -4.9029, -4.8846, -5.0214, -4.2866, -4.4387, -4.2869, -4.7629, -4.8761, -4.9571, -5.0751, -5.0842, -5.916, -5.916, -5.916, -5.916, -3.1893, -6.308, -6.308, -6.308, -6.308, -6.308, -6.308, -6.308, -6.308, -6.308, -6.308, -6.308, -5.416, -4.2235, -5.916, -5.916, -5.463, -4.9829, -4.3007, -5.9795, -4.9597, -6.9619, -6.9619, -6.9619, -6.9619, -6.9619, -6.308, -5.916, -2.3843, -5.6351, -2.4348, -2.8476, -4.778, -4.8355, -4.3154, -5.1235, -3.3989, -4.1727, -5.361, -5.4632, -5.0333, -4.0418, -3.7071, -4.869, -5.5204, -5.0875, -4.6025, -5.0846, -5.125, -5.0275, -4.8582, -4.8167, -5.1096, -3.5002, -3.3639, -3.6961, -4.5449, -4.1453, -4.1937, -5.903, -5.903, -5.903, -5.9031, -5.277, -6.2951, -6.2951, -6.2951, -6.2951, -6.2951, -6.2951, -6.2951, -3.0373, -3.4327, -3.4081, -4.4938, -5.4145, -4.9392, -5.9514, -5.6473, -4.0005, -4.5634, -6.949, -6.949, -6.949, -6.949, -6.949, -6.949, -6.949, -5.6221, -4.8134, -3.6554, -3.0847, -4.95, -4.2884, -5.6353, -3.7116, -5.197, -4.4559, -3.7747, -5.1955, -4.0655, -4.8957, -5.0627, -4.8803, -5.0458, -4.733, -4.9068, -4.4514, -5.3968, -4.7119, -5.8967, -5.8967, -5.8967, -5.2172, -4.5309, -5.4366, -6.2888, -6.2888, -6.2888, -6.2888, -6.2888, -6.2888, -6.2888, -6.2888, -5.2172, -5.6158, -5.6158, -5.6158, -5.6189, -5.8967, -5.2172, -5.065, -6.9427, -6.9427, -6.9427, -6.9427, -6.9427, -3.6482, -4.933, -4.671, -3.7225, -5.6158, -4.7757, -5.0055, -4.4254, -5.6158, -3.3463, -3.6415, -3.3479, -5.2952, -3.5663, -4.5664, -3.8065, -4.2249, -3.9178, -4.6361, -4.1844, -4.1747, -4.3552, -4.4449, -5.1515, -4.8937, -5.0144, -4.982, -2.9433, -3.8674, -4.3713, -3.7224, -4.6098, -5.6902, -5.6902, -5.2938, -4.7506, -6.0823, -6.0823, -6.0823, -6.0823, -6.0823, -6.0823, -6.0823, -6.0823, -6.0823, -6.0823, -6.0823, -6.0823, -6.0823, -6.0823, -6.0823, -4.6117, -5.5608, -2.7217, -6.7362, -6.7362, -6.7362, -5.2393, -5.5104, -6.0823, -5.0262, -2.1728, -4.8073, -4.5045, -4.6818, -3.1481, -4.4092, -5.4093, -5.0889, -5.0568, -4.7892, -4.4164, -5.2172, -5.3675, -3.5855, -5.0598, -4.3809, -4.7813, -5.2754, -5.2085, -4.8127, -4.7944, -4.8751, -5.0165, -5.1529, -5.6871, -5.6871, -5.6871, -5.6996, -5.3286, -1.7165, -6.0792, -6.0792, -6.0792, -6.0792, -6.0792, -6.0792, -6.0792, -6.0792, -6.0792, -6.0792, -6.0792, -6.0792, -6.0792, -6.0792, -5.4062, -4.7333, -4.9153, -6.1667, -5.1927, -5.6871, -6.2048, -5.0076, -5.9278, -5.2565, -5.1872, -4.5066, -3.4873, -4.8867, -4.7047, -5.324, -3.6588, -4.133, -4.4513, -4.1065, -5.4243, -5.0481, -5.8374, -4.0511, -5.3331, -4.96, -5.0592, -4.6855, -4.9568, -5.1796, -5.1841, -5.3531, -5.2654, -5.4062, -3.0771, -3.4226, -3.8183, -2.9361, -4.4125, -5.3858, -5.6667, -5.6667, -4.9921, -6.0587, -6.0587, -6.0588, -6.0588, -5.3858, -5.6667, -5.6667, -4.1932, -5.693, -6.7127, -6.7127, -6.7127, -6.7127, -6.7127, -6.7127, -6.7127, -6.7127, -6.7127, -6.7127, -6.7127, -6.7127, -5.3519, -5.6667, -6.0587, -6.0587, -4.4675, -5.3858, -6.0587, -6.0587, -6.0588, -6.0588, -3.4605, -4.6283, -4.3334, -4.8613, -2.9183, -4.4537, -3.7046, -4.274, -4.9477, -3.6536, -4.5042, -5.1003, -4.1192, -4.3113, -4.1648, -5.1542, -4.7798, -5.1627, -4.9927, -4.6856, -5.1422, -5.1437, -1.7026, -3.8622, -4.2949, -3.4838, -2.9913, -5.5743, -4.4939, -4.2949, -4.8948, -2.0847, -4.9841, -5.5887, -6.6203, -6.6203, -6.6203, -6.6203, -6.6203, -6.6203, -6.6203, -6.6203, -6.6203, -6.6203, -6.6203, -6.6203, -6.6203, -6.6203, -6.6203, -6.6203, -6.6203, -6.6203, -5.9664, -5.9664, -5.9664, -4.6018, -5.9664, -5.9664, -5.2934, -4.5664, -6.0437, -5.0472, -5.2376, -5.9664, -5.9664, -5.2187, -5.5743, -5.2656, -4.9873, -5.6868, -5.3677, -4.8936, -4.8611, -5.4022, -4.8707, -5.0173, -5.5969, -5.3397, -5.5551, -3.1692, -4.5816, -4.9134, -5.1324, -5.1324, -4.5816, -5.4133, -5.4133, -4.7338, -2.863, -5.8054, -5.8054, -5.8054, -5.8054, -5.8054, -5.8054, -5.8054, -5.426, -5.4133, -5.4195, -5.4133, -4.3384, -4.9293, -6.4593, -6.4593, -6.4593, -6.4593, -6.4593, -6.4593, -6.4593, -4.5061, -6.4593, -6.4593, -5.8054, -5.4133, -5.8054, -5.8054, -5.8054, -4.138, -3.4824, -4.5538, -2.9597, -5.1411, -4.016, -4.5054, -4.5412, -4.8112, -5.0293, -5.0535, -5.4133, -4.0867, -4.7899, -4.9221, -5.0522, -5.2252, -5.0396, -5.1162, -5.0278, -5.1766, -1.5966, -2.3197, -3.8071, -5.4786, -5.4786, -3.7207, -6.1325, -6.1325, -6.1325, -6.1325, -6.1325, -6.1325, -6.1325, -6.1325, -6.1325, -6.1325, -6.1325, -6.1325, -6.1325, -6.1325, -6.1325, -6.1325, -6.1325, -6.1325, -6.1325, -6.1325, -6.1325, -6.1325, -6.1325, -6.1325, -2.8958, -5.4786, -5.4786, -5.4786, -4.8674, -4.3222, -5.4786, -5.4786, -4.1637, -5.4786, -5.0865, -4.9721, -5.4786, -5.0164, -5.4786, -5.0865, -5.5479, -5.4786, -5.4786, -5.5256, -5.3435, -5.4786, -5.6037, -5.8376], \"loglift\": [30.0, 29.0, 28.0, 27.0, 26.0, 25.0, 24.0, 23.0, 22.0, 21.0, 20.0, 19.0, 18.0, 17.0, 16.0, 15.0, 14.0, 13.0, 12.0, 11.0, 10.0, 9.0, 8.0, 7.0, 6.0, 5.0, 4.0, 3.0, 2.0, 1.0, 2.0138, 1.9665, 1.8723, 1.8458, 1.7942, 1.7886, 1.7641, 1.7582, 1.6619, 1.6619, 1.6619, 1.6619, 1.6619, 1.6619, 1.6619, 1.6619, 1.6619, 1.6619, 1.6619, 1.6619, 1.6619, 1.6619, 1.6619, 1.6619, 1.6619, 1.6619, 1.6619, 1.6619, 1.6619, 1.6275, 1.6134, 1.5869, 1.5018, 1.618, 1.5696, 1.5372, 1.5332, 1.2426, 1.1549, 1.4225, 1.4082, 1.16, 0.8472, 1.4491, 1.4241, 1.4717, 1.5467, 1.5396, 1.022, 0.4109, 1.0518, 0.7326, 0.776, 0.4874, 0.706, 0.5482, 0.8012, 0.2723, -0.2033, 0.5455, -0.2248, 0.5773, -0.3882, -0.5214, 2.0523, 1.9941, 1.9686, 1.9686, 1.9297, 1.8882, 1.8882, 1.8765, 1.8306, 1.8306, 1.8306, 1.8203, 1.807, 1.8008, 1.7888, 1.7854, 1.784, 1.7792, 1.7267, 1.7267, 1.7267, 1.7267, 1.7267, 1.7267, 1.7267, 1.7267, 1.7267, 1.7267, 1.7267, 1.7267, 1.7122, 1.7076, 1.5898, 1.6677, 1.5689, 1.5151, 1.6967, 1.3974, 1.4314, 1.4611, 1.2816, 1.0641, 0.6591, 0.9556, 1.0819, 0.5543, 1.1899, 0.1887, 0.8281, 0.6011, 0.4595, 0.0547, 0.6476, -0.1366, 0.6166, -0.1854, 0.2172, 2.1813, 2.1544, 2.1417, 2.1309, 2.1005, 2.0902, 2.0662, 2.0617, 2.0561, 2.0561, 2.0453, 2.0206, 2.0206, 2.0025, 2.0025, 2.0025, 2.0025, 2.0025, 2.0025, 2.0009, 1.9831, 1.9818, 1.905, 1.905, 1.905, 1.905, 1.905, 1.905, 1.905, 1.905, 1.897, 1.901, 1.8995, 1.8823, 1.8875, 1.8982, 1.8866, 1.8368, 1.8419, 1.4422, 1.507, 1.4432, 1.1027, 1.6605, 1.3419, 1.3974, 1.1709, 1.1103, 1.0388, 1.1802, -0.1907, -0.1305, -0.5498, 0.5444, 0.5575, 0.689, -0.3056, 2.1476, 2.1303, 2.1303, 2.1303, 2.1303, 2.0991, 2.0275, 2.0275, 2.0275, 2.0275, 2.0275, 2.0275, 2.0275, 2.0275, 2.0275, 2.0275, 2.0275, 1.9477, 1.938, 1.9113, 1.8928, 1.891, 1.8792, 1.8475, 1.8419, 1.8364, 1.7821, 1.7821, 1.7821, 1.7821, 1.7821, 1.7662, 1.7405, 1.5856, 1.7198, 1.5307, 1.2483, 1.5541, 1.4125, 1.1183, 1.4195, 0.3381, 0.7594, 1.4283, 1.487, 1.1567, 0.4239, 0.18, 0.9713, 1.43, 0.8519, 0.0388, 0.6398, 0.6431, 0.3921, -0.0709, -0.5085, 0.1601, 2.3651, 2.3416, 2.3239, 2.2379, 2.2323, 2.1417, 2.1372, 2.1372, 2.1372, 2.1371, 2.0707, 2.035, 2.035, 2.035, 2.035, 2.035, 2.035, 2.035, 2.0061, 1.9865, 1.9734, 1.9388, 1.9356, 1.9351, 1.8645, 1.8484, 1.8398, 1.8208, 1.791, 1.791, 1.791, 1.791, 1.791, 1.791, 1.791, 1.7295, 1.6843, 1.1141, 0.6524, 1.393, 1.0464, 1.6024, 0.3042, 1.3016, 0.6802, 0.1124, 1.247, -0.0956, 0.7378, 0.9451, 0.5552, 0.5212, -0.2673, -0.5986, 2.2638, 2.2351, 2.1496, 2.1429, 2.1429, 2.1429, 2.1287, 2.0622, 2.0467, 2.0408, 2.0408, 2.0408, 2.0408, 2.0408, 2.0408, 2.0408, 2.0408, 2.0211, 2.0163, 2.0163, 2.0162, 2.0133, 1.9261, 1.913, 1.7982, 1.7969, 1.7969, 1.7969, 1.7969, 1.7969, 1.7714, 1.7806, 1.7491, 1.7128, 1.7339, 1.6057, 1.5917, 1.2209, 1.7302, 0.6192, 0.6667, 0.3892, 1.4345, 0.3208, 0.8151, 0.1634, 0.4924, 0.1781, 0.7975, 0.2813, 0.2569, 0.4143, 0.3424, 1.1153, 0.4135, 0.3904, -0.0499, 2.598, 2.5704, 2.4987, 2.4901, 2.436, 2.3597, 2.3597, 2.3578, 2.2846, 2.2565, 2.2565, 2.2565, 2.2565, 2.2565, 2.2565, 2.2565, 2.2565, 2.2565, 2.2565, 2.2565, 2.2565, 2.2565, 2.2565, 2.2565, 2.1289, 2.0858, 2.0656, 2.0103, 2.0103, 2.0103, 1.9931, 1.9816, 1.9925, 1.9422, 1.7144, 1.8617, 1.6854, 1.7485, 1.1601, 1.5142, 1.9408, 1.7782, 1.7426, 1.5613, 1.1507, 1.6688, 1.752, 0.38, 1.3178, 0.599, 0.7182, 1.5146, 1.2936, 0.1193, -0.7787, -1.138, -0.5508, -0.3835, 2.3802, 2.3802, 2.3802, 2.3675, 2.3231, 2.2992, 2.275, 2.275, 2.275, 2.275, 2.275, 2.275, 2.275, 2.275, 2.275, 2.275, 2.275, 2.275, 2.275, 2.275, 2.2525, 2.2478, 2.2315, 2.192, 2.1904, 2.1502, 2.1474, 2.1406, 2.1334, 2.1112, 2.0602, 1.9955, 1.8476, 1.7198, 1.3708, 1.7211, 0.4371, 0.7991, 0.8559, 0.3251, 1.617, 1.1046, 2.0006, -0.314, 1.2801, 0.5394, 0.5871, -0.7156, -0.2394, 0.2395, -0.2042, 0.6547, 0.1514, 0.7954, 2.6383, 2.6293, 2.4917, 2.4686, 2.466, 2.4567, 2.3986, 2.3986, 2.3766, 2.2936, 2.2936, 2.2936, 2.2936, 2.275, 2.1692, 2.169, 2.1617, 2.1421, 2.0441, 2.0441, 2.0441, 2.0441, 2.0441, 2.0441, 2.0441, 2.0441, 2.0441, 2.0441, 2.0441, 2.0441, 2.0178, 1.9888, 2.0037, 2.0037, 1.8876, 1.9522, 1.9983, 1.9979, 1.9979, 1.9831, 1.6757, 1.7457, 1.5901, 1.5812, 0.8187, 1.1798, 0.7271, 0.9956, 1.3716, 0.2336, 0.9149, 1.3758, 0.3465, 0.406, -0.1949, 1.3421, 0.6555, 1.0607, 0.5743, -0.7201, 0.8657, -0.3878, 2.8285, 2.7779, 2.7481, 2.7474, 2.6794, 2.552, 2.5358, 2.5282, 2.4065, 2.3469, 2.313, 2.3021, 2.1767, 2.1767, 2.1767, 2.1767, 2.1767, 2.1767, 2.1767, 2.1767, 2.1767, 2.1767, 2.1767, 2.1767, 2.1767, 2.1767, 2.1767, 2.1767, 2.1767, 2.1767, 2.1392, 2.1392, 2.1362, 2.0445, 2.1304, 2.1148, 1.991, 1.8121, 2.0587, 1.7764, 1.7217, 1.9035, 1.8943, 1.5381, 1.5719, 1.0012, 0.7371, 1.2816, 0.8222, 0.0384, -0.1438, 0.7459, -0.9052, -0.5516, 0.7432, -0.3598, 0.213, 2.8871, 2.7954, 2.7508, 2.7137, 2.7137, 2.6667, 2.6554, 2.6554, 2.6383, 2.5538, 2.5501, 2.5501, 2.5501, 2.5501, 2.5501, 2.5501, 2.5501, 2.4357, 2.4268, 2.4262, 2.4131, 2.334, 2.3293, 2.2997, 2.2997, 2.2997, 2.2997, 2.2997, 2.2997, 2.2997, 2.2971, 2.2997, 2.2997, 2.2842, 2.2502, 2.2629, 2.2629, 2.2571, 2.0891, 1.953, 2.0593, 1.7963, 1.9978, 1.4835, 1.5024, 1.3454, 1.5081, 1.7005, 1.7033, 2.099, 0.2215, 0.8562, 0.5115, 0.961, 1.3098, -0.3223, 0.1535, -1.012, -0.2445, 3.3215, 3.2665, 3.2435, 2.9333, 2.9333, 2.8914, 2.6684, 2.6684, 2.6684, 2.6684, 2.6684, 2.6684, 2.6684, 2.6684, 2.6684, 2.6684, 2.6684, 2.6684, 2.6684, 2.6684, 2.6684, 2.6684, 2.6684, 2.6684, 2.6684, 2.6684, 2.6684, 2.6684, 2.6684, 2.6684, 2.6228, 2.6518, 2.6224, 2.6222, 2.5476, 2.2127, 2.3746, 2.3727, 1.5131, 2.2208, 1.7365, 1.5257, 1.8801, 1.3029, 1.8575, 1.0333, 1.6965, 1.4075, 1.3522, 0.6225, -0.4115, -0.1437, 0.0424, -0.4561]}, \"token.table\": {\"Topic\": [3, 8, 1, 3, 8, 9, 12, 4, 5, 6, 12, 1, 3, 12, 1, 9, 1, 3, 6, 7, 2, 11, 4, 5, 5, 12, 4, 7, 10, 8, 11, 12, 1, 5, 11, 3, 4, 10, 11, 2, 4, 6, 7, 8, 9, 1, 4, 10, 4, 9, 3, 6, 1, 6, 10, 5, 2, 2, 6, 9, 10, 12, 5, 7, 10, 2, 5, 7, 8, 10, 11, 5, 6, 10, 7, 8, 1, 1, 1, 3, 3, 7, 1, 2, 5, 8, 9, 12, 2, 6, 7, 1, 2, 3, 4, 6, 9, 11, 5, 1, 2, 3, 4, 5, 6, 7, 8, 9, 12, 1, 2, 3, 4, 5, 6, 7, 9, 11, 12, 9, 10, 9, 8, 9, 1, 5, 12, 6, 9, 12, 3, 10, 9, 5, 9, 12, 11, 9, 1, 5, 9, 11, 11, 12, 4, 11, 2, 4, 6, 12, 1, 4, 5, 6, 7, 8, 9, 10, 1, 4, 12, 8, 1, 3, 8, 11, 3, 8, 10, 11, 2, 3, 3, 9, 1, 2, 3, 5, 8, 11, 12, 2, 5, 2, 5, 3, 5, 8, 9, 7, 3, 8, 1, 3, 5, 6, 7, 8, 11, 12, 2, 5, 6, 7, 8, 9, 11, 2, 3, 5, 7, 11, 1, 2, 7, 12, 9, 1, 6, 7, 11, 4, 5, 6, 8, 11, 8, 4, 8, 1, 3, 12, 10, 2, 2, 8, 10, 3, 4, 8, 1, 8, 2, 7, 12, 3, 12, 1, 4, 6, 5, 12, 11, 6, 3, 8, 10, 6, 8, 12, 3, 7, 8, 1, 10, 3, 4, 5, 1, 6, 4, 5, 8, 3, 2, 4, 6, 7, 9, 7, 10, 2, 6, 7, 8, 10, 11, 2, 12, 1, 6, 7, 11, 4, 5, 6, 7, 8, 9, 10, 4, 12, 4, 10, 10, 2, 1, 3, 9, 10, 1, 3, 4, 6, 9, 6, 8, 9, 1, 1, 6, 8, 9, 10, 11, 12, 12, 5, 8, 10, 8, 4, 4, 5, 4, 2, 1, 1, 2, 4, 11, 3, 9, 1, 9, 12, 12, 6, 3, 5, 7, 9, 11, 12, 3, 4, 7, 10, 12, 2, 5, 1, 1, 2, 4, 10, 12, 3, 11, 1, 3, 6, 8, 12, 7, 12, 1, 2, 4, 8, 10, 1, 3, 6, 7, 2, 3, 5, 8, 11, 12, 1, 9, 2, 4, 7, 6, 9, 1, 2, 6, 8, 1, 6, 6, 7, 8, 10, 3, 4, 10, 11, 1, 3, 8, 11, 8, 1, 4, 5, 8, 10, 6, 1, 5, 6, 10, 11, 6, 1, 2, 3, 4, 6, 7, 1, 2, 3, 5, 8, 10, 11, 3, 4, 6, 9, 10, 12, 2, 5, 6, 9, 12, 1, 4, 5, 6, 7, 8, 10, 4, 6, 4, 6, 8, 11, 1, 3, 5, 7, 6, 9, 6, 4, 11, 12, 7, 1, 2, 4, 5, 6, 7, 8, 9, 10, 11, 4, 8, 5, 6, 7, 5, 6, 7, 5, 6, 1, 3, 6, 7, 9, 12, 12, 10, 3, 5, 10, 10, 11, 5, 6, 8, 11, 3, 1, 3, 10, 11, 3, 4, 7, 11, 12, 3, 2, 2, 7, 2, 5, 6, 9, 1, 4, 6, 7, 8, 9, 12, 3, 4, 12, 2, 5, 5, 3, 4, 5, 10, 11, 1, 7, 8, 9, 11, 3, 6, 12, 11, 1, 12, 4, 10, 6, 11, 7, 5, 6, 8, 11, 6, 6, 9, 10, 2, 5, 6, 7, 8, 9, 11, 1, 9, 2, 3, 4, 7, 8, 11, 6, 7, 2, 5, 7, 8, 9, 12, 1, 2, 4, 5, 6, 7, 8, 5, 9, 11, 11, 1, 1, 6, 9, 1, 2, 3, 4, 7, 9, 10, 1, 2, 8, 12, 11, 2, 3, 1, 4, 11, 12, 9, 4, 8, 10, 9, 1, 4, 6, 8, 2, 6, 1, 2, 6, 3, 11, 5, 7, 7, 6, 1, 5, 9, 11, 6, 7, 9, 6, 11, 12, 7, 9, 9, 10, 1, 2, 3, 4, 6, 7, 8, 9, 10, 11, 12, 11, 1, 2, 3, 6, 7, 9, 10, 11, 2, 1, 3, 2, 3, 4, 6, 7, 12, 10, 2, 9, 11, 2, 4, 5, 6, 6, 2, 6, 10, 1, 11, 10, 10, 7, 12, 1, 10, 12, 5, 7, 10, 9, 9, 10, 3, 9, 10, 9, 6, 8, 6, 3, 5, 8, 8, 3, 11, 3, 12, 3, 4, 5, 10, 5, 1, 4, 6, 8, 1, 2, 5, 1, 4, 1, 2, 3, 5, 6, 7, 8, 9, 10, 5, 7, 8, 3, 5, 8, 9, 5, 6, 10, 11, 4, 6, 7, 8, 9, 11, 12, 4, 7, 11, 7, 2, 4, 5, 6, 9, 1, 2, 6, 8, 10, 12, 4, 5, 8, 3, 11, 2, 9, 7, 1, 2, 3, 5, 8, 10, 12, 5, 1, 1, 3, 5, 6, 7, 8, 11, 4, 6, 10, 1, 5, 6, 11, 1, 2, 4, 5, 8, 11, 8, 2, 5, 6, 8, 11, 1, 6, 11, 1, 1, 2, 4, 5, 6, 1, 3, 1, 1, 2, 6, 12, 1, 6, 2, 5, 9, 11, 12, 4, 12, 2, 5, 3, 7, 9, 1, 2, 3, 4, 5, 6, 7, 8, 9, 2, 4, 5, 7, 11, 1, 3, 5, 8, 11, 3, 1, 2, 4, 8, 11, 9, 2, 6, 8, 8, 10, 2, 9, 2, 7, 4, 12, 2, 3, 4, 6, 9, 5, 1, 3, 6, 8, 9, 11, 10, 12, 5, 3, 7, 5, 6, 1, 6, 9, 1, 6, 3, 4, 8, 3, 11, 5, 3, 9, 10, 2, 1, 5, 6, 12, 1, 11, 4, 8, 10, 12, 5, 6, 9, 11, 1, 3, 4, 5, 6, 8, 10, 11, 11, 1, 3, 9, 1, 2, 3, 4, 6, 9, 11, 1, 3, 5, 7, 8, 6, 8, 2, 4, 6, 8, 7, 7, 4, 2, 1, 5, 9, 11, 3, 4, 5, 9, 10, 11, 5, 4, 7, 1, 12, 6, 9, 3, 4, 12, 3, 5, 7, 9, 7, 3, 8, 9, 4, 5, 7, 8, 10, 2, 5, 6, 9, 10, 4, 9, 1, 5, 1, 4, 5, 6, 7, 9, 10, 2, 7, 2, 5, 6, 7, 12, 9, 1, 4, 5, 10, 11, 12, 2, 1, 2, 3, 4, 5, 6, 7, 8, 9, 12, 10, 1, 5, 7, 2, 3, 6, 11, 1, 6, 8, 1, 2, 4, 6, 9, 11, 3, 1, 2, 7, 8, 10, 2, 6, 11, 5, 8, 1, 2, 10, 11, 1, 2, 3, 4, 5, 6, 7, 9, 10, 1, 2, 3, 4, 6, 8, 9, 10, 11, 7, 1, 3, 8, 10, 11, 8, 8, 6, 10, 4, 5, 6, 7, 10, 4, 4, 1, 3, 6, 9, 11, 12, 1, 8, 9, 8, 7, 7, 8, 2, 9, 4, 4, 4, 7, 8, 6, 9, 10, 12, 3, 1, 2, 3, 7, 10, 12, 2, 3, 4, 7, 7, 8, 9, 8, 6, 11, 11, 1, 2, 3, 4, 2, 9, 2, 5, 7, 11, 9, 7, 1, 2, 4, 1, 3, 4, 6, 9, 12, 1, 2, 3, 4, 6, 8, 9, 11, 7, 1, 9, 11, 1, 2, 4, 5, 10, 4, 5, 6, 7, 5, 3, 5, 8, 1, 1, 5, 6, 10, 1, 4, 12, 8, 10, 10, 3, 1, 2, 7, 2, 7, 1, 4, 4, 8, 10, 8, 5, 2, 10, 8, 11, 8, 12, 12, 1, 2, 4, 5, 6, 8, 3, 6, 7, 8, 12, 3, 10, 1, 4, 7, 9, 10, 2, 8, 1, 2, 3, 4, 5, 6, 8, 9, 11, 6, 9, 11], \"Freq\": [0.19621042035717065, 0.7848416814286826, 0.5827037060054547, 0.08324338657220783, 0.16648677314441565, 0.08324338657220783, 0.08324338657220783, 0.5837201731009107, 0.08338859615727297, 0.2501657884718189, 0.08338859615727297, 0.4390800259622621, 0.2927200173081747, 0.2927200173081747, 0.14783948493412497, 0.7391974246706248, 0.7736847308096646, 0.9597092526007491, 0.5823295464241836, 0.7800397112997137, 0.8416650966496709, 0.0841665096649671, 0.7774909517260804, 0.5825433694881175, 0.3074107912333739, 0.6148215824667478, 0.21183008572547823, 0.7414053000391738, 0.6166889347523683, 0.15484102858816534, 0.3096820571763307, 0.464523085764496, 0.23121198891931566, 0.693635966757947, 0.5937412312972384, 0.22956206303686455, 0.6886861891105936, 0.24206249202869082, 0.7261874760860725, 0.4232713924330177, 0.18812061885911896, 0.04703015471477974, 0.04703015471477974, 0.09406030942955948, 0.18812061885911896, 0.7736847308094933, 0.7774909828050818, 0.6166889347520782, 0.7015347624824888, 0.23384492082749628, 0.9171151122083468, 0.7729186755896795, 0.2417990739574522, 0.2417990739574522, 0.4835981479149044, 0.7732953600808669, 0.7847460213496578, 0.2717808924576892, 0.1358904462288446, 0.1358904462288446, 0.4076713386865338, 0.9680646386603913, 0.19814049432540207, 0.49535123581350515, 0.19814049432540207, 0.10860333169625007, 0.12411809336714294, 0.031029523341785735, 0.708507449637441, 0.005171587223630956, 0.020686348894523823, 0.25712989963622734, 0.3428398661816365, 0.3428398661816365, 0.19758382204408248, 0.5927514661322475, 0.7736847751902921, 0.7736847308094933, 0.13810947726600536, 0.8286568635960322, 0.7438031207745686, 0.7800395655651606, 0.038683575596123294, 0.15473430238449318, 0.2514432413748014, 0.4448611193554179, 0.05802536339418494, 0.038683575596123294, 0.14451150881597116, 0.7225575440798558, 0.7800395627638622, 0.07588976788721406, 0.010841395412459152, 0.44449721191082525, 0.04336558164983661, 0.04336558164983661, 0.04336558164983661, 0.32524186237377456, 0.5825433694881175, 0.023481775904593126, 0.23873138836336344, 0.062618069078915, 0.1291497674752622, 0.17611331928444846, 0.13306339679269438, 0.023481775904593126, 0.05087718112661844, 0.16045880201471968, 0.003913629317432187, 0.09006897573838346, 0.21477986522229903, 0.09006897573838346, 0.05542706199285136, 0.048498679243744944, 0.18013795147676692, 0.23556501346961828, 0.01385676549821284, 0.0692838274910642, 0.8391891766284411, 0.7907268438721112, 0.6166889347510156, 0.5923809725771617, 0.7921596402049492, 0.8900664853793362, 0.7736847308095673, 0.27751375303199277, 0.6244059443219838, 0.23567030137907383, 0.7070109041372215, 0.619168259812448, 0.743803213810751, 0.6166889347523683, 0.5923809725771753, 0.2358346824983244, 0.7075040474949732, 0.6191682598118319, 0.7931522800884743, 0.8900664730957109, 0.12968937949495038, 0.5187575179798015, 0.12968937949495038, 0.25937875898990076, 0.6079457755080044, 0.3039728877540022, 0.23687264853889609, 0.7106179456166882, 0.740583456096242, 0.17425493084617458, 0.043563732711543644, 0.043563732711543644, 0.20164321324916845, 0.42295893510801186, 0.02459063576209371, 0.16721632318223725, 0.10819879735321233, 0.014754381457256228, 0.0344268900669312, 0.02459063576209371, 0.19714616623088516, 0.5914384986926555, 0.19714616623088516, 0.8918824432766408, 0.0629795364451471, 0.14695225170534323, 0.08397271526019613, 0.6927749008966181, 0.3550667396731185, 0.236711159782079, 0.236711159782079, 0.1183555798910395, 0.8824957599913003, 0.7438030730846968, 0.4301231868593122, 0.4301231868593122, 0.13805040337183055, 0.09203360224788704, 0.36813440899154815, 0.04601680112394352, 0.13805040337183055, 0.13805040337183055, 0.04601680112394352, 0.5831169033694722, 0.3710743930533005, 0.3478374467265122, 0.6377019856652724, 0.06312889150898023, 0.6733748427624557, 0.08417185534530697, 0.16834371069061393, 0.7800395753242868, 0.8608049174238694, 0.12297213106055277, 0.12721648708751243, 0.42405495695837475, 0.04240549569583747, 0.12721648708751243, 0.04240549569583747, 0.04240549569583747, 0.04240549569583747, 0.08481099139167494, 0.365009948891448, 0.182504974445724, 0.078216417619596, 0.026072139206531997, 0.078216417619596, 0.234649252858788, 0.026072139206531997, 0.17352984756836357, 0.11568656504557571, 0.23137313009115143, 0.404902977659515, 0.05784328252278786, 0.12402630124015014, 0.7441578074409009, 0.06201315062007507, 0.06201315062007507, 0.990470512463199, 0.1450691104687079, 0.5802764418748316, 0.1450691104687079, 0.1450691104687079, 0.10655845837918704, 0.3196753751375611, 0.10655845837918704, 0.3196753751375611, 0.10655845837918704, 0.790648281911949, 0.7774909717763143, 0.7921596402049624, 0.7736847308095349, 0.7154872074301111, 0.28619488297204443, 0.9274861173995136, 0.7847460213480982, 0.1499835855980566, 0.5999343423922264, 0.1499835855980566, 0.8636253028371506, 0.09336489760401628, 0.02334122440100407, 0.6988066053414489, 0.2329355351138163, 0.587137953253886, 0.04974127052350461, 0.9450841399465877, 0.777029314756973, 0.17267318105710514, 0.5143049056700929, 0.25715245283504645, 0.12857622641752323, 0.7732953611046929, 0.61916823814906, 0.7931522542975072, 0.5823295464241711, 0.8608049174238694, 0.12297213106055277, 0.6166889347520782, 0.6632021016171581, 0.16580052540428952, 0.6191682598118319, 0.04652090691667442, 0.883897231416814, 0.04652090691667442, 0.7736847413871928, 0.6166889347523683, 0.6674836608579705, 0.2224945536193235, 0.5825433694881175, 0.19242017259268132, 0.7696806903707253, 0.05260317271662004, 0.7890475907493005, 0.1578095181498601, 0.8310522369876091, 0.37070438495410085, 0.061784064159016806, 0.12356812831803361, 0.12356812831803361, 0.24713625663606723, 0.5990447696044047, 0.29952238480220233, 0.7324136798408429, 0.013563216293348944, 0.13563216293348943, 0.054252865173395774, 0.04068964888004683, 0.013563216293348944, 0.7847460136715909, 0.6191682433933757, 0.8494663339247949, 0.06067616670891392, 0.06067616670891392, 0.7149187086115132, 0.0689879245248696, 0.1379758490497392, 0.2069637735746088, 0.0689879245248696, 0.4139275471492176, 0.0689879245248696, 0.6166889347520212, 0.5849211959241066, 0.6191682598118319, 0.7774909817559751, 0.6166889347513651, 0.6166889347503991, 0.7058319070950289, 0.10359617654337293, 0.5179808827168647, 0.10359617654337293, 0.10359617654337293, 0.07733748032880271, 0.7733748032880271, 0.09667185041100339, 0.038668740164401354, 0.009667185041100338, 0.11857834830758254, 0.5928917415379127, 0.23715669661516509, 0.7736847098306235, 0.007838715772981081, 0.11758073659471621, 0.10190330504875406, 0.14109688391365946, 0.6114198302925243, 0.007838715772981081, 0.6191682598102112, 0.6191682598118319, 0.6311985409018975, 0.2705136603865275, 0.0901712201288425, 0.8918823723138251, 0.7774909717769044, 0.5849211959241607, 0.5825433694881175, 0.873331335660493, 0.7847460213480694, 0.7736847409875618, 0.19455130116339556, 0.2918269517450933, 0.3891026023267911, 0.09727565058169778, 0.09055248498036575, 0.8149723648232917, 0.7736847368085382, 0.9507906559214143, 0.6191682598122383, 0.8391891766292573, 0.5823295464242262, 0.05176296707049226, 0.10352593414098452, 0.1552889012114768, 0.2588148353524613, 0.2588148353524613, 0.1552889012114768, 0.09123717647288206, 0.2737115294186462, 0.3649487058915282, 0.09123717647288206, 0.1824743529457641, 0.14477364900994688, 0.7238682450497343, 0.7736847308094933, 0.08724750539352216, 0.17449501078704432, 0.5671087850578941, 0.13087125809028324, 0.9944746918180838, 0.2336486379400463, 0.7009459138201389, 0.8076595879254357, 0.09319149091447335, 0.03106383030482445, 0.03106383030482445, 0.03106383030482445, 0.8563517899098221, 0.10704397373872776, 0.19460505187447483, 0.19460505187447483, 0.38921010374894965, 0.09730252593723741, 0.6307325242528974, 0.13855429686186044, 0.6927714843093022, 0.06927714843093022, 0.06927714843093022, 0.5016744619710967, 0.21123135240888283, 0.07921175715333106, 0.026403919051110353, 0.13201959525555176, 0.026403919051110353, 0.5823891788305698, 0.3494335072983419, 0.2400333511185972, 0.7570282612201912, 0.7800395315814608, 0.2941459567891321, 0.5882919135782642, 0.33048047437328537, 0.16524023718664269, 0.44064063249771385, 0.05508007906221423, 0.5126028730854475, 0.3844521548140856, 0.07889182375445995, 0.6311345900356796, 0.07889182375445995, 0.1577836475089199, 0.8756689535131341, 0.34134939091252453, 0.17067469545626227, 0.5120240863687867, 0.7736847409875618, 0.7438033019036874, 0.3970783805636837, 0.5956175708455256, 0.8918823989856774, 0.599657645028224, 0.17133075572234974, 0.057110251907449915, 0.028555125953724957, 0.11422050381489983, 0.5823295464241836, 0.08017461830438032, 0.16034923660876063, 0.16034923660876063, 0.24052385491314093, 0.32069847321752126, 0.5823295464241711, 0.05725605045474791, 0.05725605045474791, 0.17176815136424373, 0.11451210090949582, 0.5153044540927312, 0.11451210090949582, 0.09441233894965254, 0.09441233894965254, 0.04720616947482627, 0.09441233894965254, 0.14161850842447882, 0.04720616947482627, 0.42485552527343645, 0.4375005910574921, 0.10937514776437303, 0.21875029552874606, 0.10937514776437303, 0.10937514776437303, 0.054687573882186515, 0.21456249892223664, 0.10728124946111832, 0.05364062473055916, 0.5900468720361507, 0.6191682427868712, 0.10983481331962083, 0.05491740665981042, 0.21966962663924167, 0.05491740665981042, 0.10983481331962083, 0.10983481331962083, 0.3844218466186729, 0.7735491067728878, 0.12892485112881463, 0.5849211959241607, 0.8675664589964741, 0.2975737317332371, 0.5951474634664742, 0.11522995673440103, 0.11522995673440103, 0.23045991346880207, 0.46091982693760414, 0.7729186245030787, 0.7907266710385561, 0.8675664602965666, 0.7774909633111486, 0.7931522672612805, 0.6191682598118319, 0.780039562762739, 0.4172394050660254, 0.08344788101320509, 0.020861970253301273, 0.041723940506602546, 0.1460337917731089, 0.041723940506602546, 0.05215492563325318, 0.10430985126650635, 0.05215492563325318, 0.041723940506602546, 0.8733313793546609, 0.7921596400773003, 0.2902395799818753, 0.14511978999093764, 0.5804791599637505, 0.2579939484131214, 0.1289969742065607, 0.5159878968262428, 0.9862748025596804, 0.7729186245030787, 0.27800878360684467, 0.021385291046680358, 0.5132469851203286, 0.042770582093360716, 0.12831174628008216, 0.6191682598125353, 0.6191682598118319, 0.6166889347510157, 0.7438030730846039, 0.30618841354552073, 0.6123768270910415, 0.6166889347520212, 0.5937412312972384, 0.06945053041716721, 0.20835159125150163, 0.27780212166866886, 0.41670318250300326, 0.8310521186239697, 0.24959153386701824, 0.7210422089491638, 0.027732392651890918, 0.027732392651890918, 0.2611224157925793, 0.2611224157925793, 0.13056120789628964, 0.13056120789628964, 0.13056120789628964, 0.8828306157774645, 0.7058319254118283, 0.3344621947941437, 0.5016932921912155, 0.7847460213480881, 0.8779614234192356, 0.05487258896370222, 0.05487258896370222, 0.4225520659866746, 0.026409504124167163, 0.31691404949000596, 0.026409504124167163, 0.1320475206208358, 0.07922851237250149, 0.026409504124167163, 0.23998103149288313, 0.23998103149288313, 0.47996206298576627, 0.7847460213506843, 0.5825433694881175, 0.8680411385449665, 0.24848762824522627, 0.4141460470753771, 0.16565841883015084, 0.08282920941507542, 0.08282920941507542, 0.07343723107779929, 0.4406233864667958, 0.14687446215559857, 0.14687446215559857, 0.14687446215559857, 0.23954360176238046, 0.23954360176238046, 0.4790872035247609, 0.5937412312972405, 0.3074722902530741, 0.6149445805061482, 0.27524598088406094, 0.5504919617681219, 0.6984383574365741, 0.23281278581219136, 0.5863624869925851, 0.14737554208770498, 0.22106331313155747, 0.07368777104385249, 0.5895021683508199, 0.7729186426471729, 0.10824771523725553, 0.027061928809313882, 0.8659817218980442, 0.03791223830623841, 0.22747342983743046, 0.11373671491871523, 0.07582447661247682, 0.15164895322495364, 0.15164895322495364, 0.22747342983743046, 0.2942568599362039, 0.5885137198724077, 0.13147116882795876, 0.43823722942652915, 0.043823722942652917, 0.08764744588530583, 0.21911861471326458, 0.08764744588530583, 0.8675664613915764, 0.5863624869925851, 0.43915341384478984, 0.14638447128159662, 0.21957670692239492, 0.024397411880266104, 0.12198705940133052, 0.619168259812448, 0.022373148778512236, 0.10067916950330506, 0.08949259511404895, 0.04474629755702447, 0.1230523182818173, 0.5817018682413182, 0.033559723167768354, 0.19694317102261186, 0.5908295130678356, 0.19694317102261186, 0.7931522672612781, 0.7736846813458506, 0.020743050225991225, 0.12445830135594736, 0.8297220090396491, 0.08366497730839616, 0.16732995461679231, 0.08366497730839616, 0.08366497730839616, 0.41832488654198074, 0.08366497730839616, 0.08366497730839616, 0.2789414208436525, 0.16271582882546395, 0.06973535521091312, 0.48814748647639183, 0.7931522672612781, 0.22283991298096362, 0.6685197389428909, 0.5782234588266905, 0.28911172941334523, 0.9550340551184059, 0.6191682598125353, 0.7907267191769358, 0.10033505052124235, 0.7023453536486964, 0.2006701010424847, 0.5923809725771801, 0.3856352955738429, 0.3856352955738429, 0.1446132358401911, 0.04820441194673036, 0.7810059302134746, 0.19525148255336866, 0.4964126481597583, 0.16547088271991944, 0.16547088271991944, 0.8310520726346854, 0.5937412312972405, 0.9210586332886906, 0.03837744305369544, 0.5863624869925851, 0.7729186790340768, 0.145335167459443, 0.581340669837772, 0.145335167459443, 0.145335167459443, 0.748775566908906, 0.13614101216525562, 0.13614101216525562, 0.14833864771523966, 0.7416932385761983, 0.6191682598111621, 0.9748687842383261, 0.5923809725771803, 0.30790379825449077, 0.30790379825449077, 0.21979304371366573, 0.09050301799974472, 0.012929002571392102, 0.19393503857088154, 0.09050301799974472, 0.07757401542835261, 0.15514803085670523, 0.03878700771417631, 0.06464501285696052, 0.03878700771417631, 0.025858005142784204, 0.7931522475631002, 0.05487252395451596, 0.05487252395451596, 0.21949009581806384, 0.2743626197725798, 0.2743626197725798, 0.05487252395451596, 0.05487252395451596, 0.8944108479822429, 0.7847460156276403, 0.7627509114992781, 0.19068772787481952, 0.7438244836813038, 0.09702058482799615, 0.06468038988533076, 0.03234019494266538, 0.03234019494266538, 0.619168238990478, 0.6166889347523683, 0.29584284141104294, 0.5916856828220859, 0.7149187555678529, 0.2312227325732492, 0.02890284157165615, 0.6792167769339196, 0.0578056831433123, 0.7729186390806715, 0.7425164773840882, 0.07425164773840882, 0.14850329547681765, 0.7725057276959573, 0.15450114553919145, 0.9956799443003822, 0.6166889347520782, 0.7800395632294855, 0.619168259812448, 0.7736847308096848, 0.7710183269545469, 0.1713374059898993, 0.5035359415943753, 0.16784531386479176, 0.16784531386479176, 0.7907267361849216, 0.3088845477676465, 0.617769095535293, 0.289828440186614, 0.579656880373228, 0.9606840127756902, 0.5923809725771753, 0.2954736410051362, 0.5909472820102724, 0.772918624504485, 0.8655425617398481, 0.07868568743089528, 0.07868568743089528, 0.7921596402049962, 0.7451252312853537, 0.18628130782133842, 0.7548515028196721, 0.18871287570491801, 0.29450556204811285, 0.09816852068270428, 0.19633704136540855, 0.29450556204811285, 0.5825433694881175, 0.8685318203930078, 0.5827221979127172, 0.1456805494781793, 0.1456805494781793, 0.0552348174189547, 0.33140890451372823, 0.5523481741895471, 0.35629400899704244, 0.6235145157448243, 0.16226033461919395, 0.08113016730959698, 0.08113016730959698, 0.04056508365479849, 0.12169525096439547, 0.04056508365479849, 0.2839555855835894, 0.16226033461919395, 0.08113016730959698, 0.5804768627714793, 0.1451192156928698, 0.1451192156928698, 0.6848897700991577, 0.08561122126239472, 0.08561122126239472, 0.08561122126239472, 0.13243301753619174, 0.13243301753619174, 0.13243301753619174, 0.529732070144767, 0.1602237585297626, 0.1602237585297626, 0.37385543656944603, 0.1602237585297626, 0.05340791950992086, 0.05340791950992086, 0.05340791950992086, 0.7774909719054575, 0.29584690568018107, 0.5916938113603621, 0.8765482976577753, 0.31712829189070424, 0.06342565837814085, 0.17442056053988733, 0.06342565837814085, 0.3805539502688451, 0.13612945983527827, 0.5717437313081688, 0.027225891967055656, 0.05445178393411131, 0.05445178393411131, 0.16335535180233393, 0.26189479664924514, 0.13094739832462257, 0.5237895932984903, 0.1310732007299074, 0.7864392043794444, 0.9406702129626691, 0.592380972577171, 0.7846704026349262, 0.08723727687580693, 0.5234236612548416, 0.1308559153137104, 0.08723727687580693, 0.043618638437903465, 0.08723727687580693, 0.08723727687580693, 0.8680411538445799, 0.7736847159020187, 0.22803222628626693, 0.09121289051450678, 0.04560644525725339, 0.11401611314313347, 0.15962255840038686, 0.11401611314313347, 0.22803222628626693, 0.1297617526261746, 0.6488087631308729, 0.1297617526261746, 0.2519489783554538, 0.08398299278515127, 0.08398299278515127, 0.5038979567109076, 0.25899347273977497, 0.06474836818494374, 0.3884902091096625, 0.06474836818494374, 0.12949673636988748, 0.06474836818494374, 0.7921596402049595, 0.2675252263121459, 0.08917507543738197, 0.5350504526242919, 0.23821485073870038, 0.7146445522161011, 0.890050932830038, 0.10471187445059271, 0.8931409156309643, 0.7736847377972476, 0.03206421102719786, 0.06412842205439571, 0.25651368821758286, 0.5771557984895614, 0.06412842205439571, 0.9503968718673477, 0.039599869661139486, 0.7736847308094933, 0.5847464522955158, 0.11694929045910316, 0.11694929045910316, 0.11694929045910316, 0.19240483125860622, 0.7696193250344249, 0.3096579943353809, 0.3096579943353809, 0.18579479660122852, 0.06193159886707618, 0.06193159886707618, 0.777490971924013, 0.6191682598115895, 0.88198117660151, 0.773295419209434, 0.3135989404664782, 0.34844326718497576, 0.34844326718497576, 0.0045473461322768985, 0.15006242236513764, 0.0045473461322768985, 0.10913630717464556, 0.10458896104236867, 0.12732569170375316, 0.404713805772644, 0.009094692264553797, 0.08639957651326108, 0.2780530867649112, 0.08555479592766498, 0.14972089287341372, 0.08555479592766498, 0.3849965816744924, 0.3022522833794608, 0.33583587042162316, 0.03358358704216231, 0.06716717408432463, 0.20150152225297388, 0.7438030807058826, 0.07339574025151753, 0.5137701817606227, 0.14679148050303506, 0.14679148050303506, 0.07339574025151753, 0.7122928769849257, 0.8824958300216045, 0.7729186295056054, 0.8916841932996409, 0.24921011489883665, 0.4984202297976733, 0.29584284405835076, 0.5916856881167015, 0.8223429872268683, 0.11747756960383833, 0.5987019741998363, 0.29935098709991814, 0.10486451978552928, 0.10486451978552928, 0.41945807914211714, 0.20972903957105857, 0.10486451978552928, 0.7732953911358428, 0.45156376538117554, 0.18815156890882315, 0.1317060982361762, 0.16933641201794083, 0.018815156890882315, 0.03763031378176463, 0.31666322719381884, 0.6333264543876377, 0.7732953707125618, 0.8310521233939956, 0.7800401003932359, 0.19238074056185653, 0.7695229622474261, 0.19240483016374074, 0.769619320654963, 0.5923809725771946, 0.3839021180528844, 0.5374629652740381, 0.6698945976997972, 0.14886546615551047, 0.14886546615551047, 0.9358120072246149, 0.03899216696769229, 0.8680411660774081, 0.8828307317162106, 0.30888452881339334, 0.6177690576267867, 0.7847460213481244, 0.12376150261213113, 0.49504601044852453, 0.1856422539181967, 0.1856422539181967, 0.7736847308126863, 0.5937412312972384, 0.20577815595910687, 0.20577815595910687, 0.20577815595910687, 0.41155631191821374, 0.8680417676330294, 0.1479870736758227, 0.5919482947032908, 0.2959741473516454, 0.0853987706468083, 0.19214723395531869, 0.27754600460212697, 0.04269938532340415, 0.19214723395531869, 0.06404907798510623, 0.04269938532340415, 0.0853987706468083, 0.7946552278707658, 0.0512865210836623, 0.0512865210836623, 0.8205843373385968, 0.23556663781573958, 0.018120510601210737, 0.32616919082179324, 0.10872306360726441, 0.05436153180363221, 0.18120510601210735, 0.05436153180363221, 0.08288054334348002, 0.08288054334348002, 0.16576108668696005, 0.3315221733739201, 0.24864163003044004, 0.5823572667133066, 0.349414360027984, 0.14581503622155312, 0.5832601448862125, 0.14581503622155312, 0.14581503622155312, 0.8978007166721247, 0.7800396304654221, 0.7774909725846407, 0.784746039464258, 0.35247241807039525, 0.1174908060234651, 0.1174908060234651, 0.35247241807039525, 0.0585525756723984, 0.1756577270171952, 0.292762878361992, 0.3513154540343904, 0.0585525756723984, 0.5937412312972384, 0.7732953600828258, 0.464944399396043, 0.2324721996980215, 0.7736850074746267, 0.6191682598064255, 0.29414597177892565, 0.5882919435578513, 0.9154158226363895, 0.0762846518863658, 0.6191682433933757, 0.32804892123327845, 0.16402446061663922, 0.10934964041109281, 0.38272374143882487, 0.780039562762739, 0.8310520649787851, 0.19799317599387645, 0.5939795279816293, 0.2729031716618207, 0.04548386194363679, 0.4093547574927311, 0.09096772388727357, 0.13645158583091035, 0.14357599055108128, 0.2153639858266219, 0.07178799527554064, 0.07178799527554064, 0.4307279716532438, 0.8733313635179628, 0.5923809725771801, 0.08228704596195408, 0.8228704596195409, 0.049116643748365406, 0.14734993124509624, 0.14734993124509624, 0.2946998624901925, 0.19646657499346162, 0.049116643748365406, 0.14734993124509624, 0.7847460213506842, 0.780039562762739, 0.020266480324431523, 0.6687938507062403, 0.20266480324431524, 0.08106592129772609, 0.020266480324431523, 0.5923809725771866, 0.06422136198663292, 0.12844272397326584, 0.19266408595989876, 0.06422136198663292, 0.19266408595989876, 0.3211068099331646, 0.8819811711347986, 0.17582326829812192, 0.19780117683538717, 0.07692267988042835, 0.04395581707453048, 0.2747238567158155, 0.14285640549222406, 0.054944771343163105, 0.02197790853726524, 0.01098895426863262, 0.01098895426863262, 0.6166889347520212, 0.6938295644612825, 0.23127652148709418, 0.780039562762739, 0.7847460240319596, 0.8274004233239559, 0.04596669018466422, 0.09193338036932844, 0.748724253093203, 0.06806584119029117, 0.13613168238058235, 0.7736847308095909, 0.15607599003436728, 0.07803799501718364, 0.3901899750859182, 0.07803799501718364, 0.31215198006873457, 0.7438031239222294, 0.16736034274041958, 0.6694413709616783, 0.23637024138215754, 0.4727404827643151, 0.6166889347520782, 0.9626097879318567, 0.027192366890730416, 0.005438473378146083, 0.2362170007676427, 0.7086510023029281, 0.06561490222156527, 0.7873788266587832, 0.06561490222156527, 0.06561490222156527, 0.10543067415773569, 0.3568422817646439, 0.024330155574862084, 0.13787088159088515, 0.07299046672458624, 0.12165077787431042, 0.0405502592914368, 0.09732062229944834, 0.032440207433149446, 0.12110537411658588, 0.06055268705829294, 0.3027634352914647, 0.06055268705829294, 0.12110537411658588, 0.12110537411658588, 0.3027634352914647, 0.7373334705828175, 0.21066670588080502, 0.7800395574760726, 0.687070910542648, 0.10570321700656123, 0.05285160850328061, 0.10570321700656123, 0.5937412312972405, 0.7956947846177159, 0.792159712878795, 0.2764091153041853, 0.6910227882604634, 0.06834608521930569, 0.27338434087722274, 0.4784225965351398, 0.13669217043861137, 0.06834608521930569, 0.5849211959241607, 0.5849211959241066, 0.3811470124041785, 0.30491760992334277, 0.07622940248083569, 0.038114701240417846, 0.15245880496167138, 0.038114701240417846, 0.3208871508643042, 0.427849534485739, 0.2139247672428695, 0.792159639949651, 0.9324443857250552, 0.23683904515136395, 0.7105171354540919, 0.5892150500097204, 0.1964050166699068, 0.7774909832495682, 0.7774909814070134, 0.14769034257491007, 0.14769034257491007, 0.5907613702996403, 0.8012209043514988, 0.17804908985588863, 0.6166889347503997, 0.619168259812448, 0.83105217567506, 0.5411556998141237, 0.09019261663568728, 0.09019261663568728, 0.09019261663568728, 0.09019261663568728, 0.09019261663568728, 0.04420631781235237, 0.17682527124940947, 0.6188884493729331, 0.1326189534370571, 0.8765482952337115, 0.792159604628193, 0.5923809725771866, 0.7921596291071558, 0.7694296510146964, 0.5937412312972405, 0.7931522494309526, 0.04578953727976896, 0.04578953727976896, 0.8242116710358414, 0.04578953727976896, 0.7847460150794656, 0.5923809725771866, 0.0895226486925176, 0.3580905947700704, 0.447613243462588, 0.0895226486925176, 0.5923809725771803, 0.780039562762739, 0.1416044596884128, 0.6018189536757543, 0.21240668953261915, 0.3019328588064668, 0.4666235090645396, 0.0823453251290364, 0.0548968834193576, 0.0548968834193576, 0.0274484417096788, 0.30817041245552795, 0.022412393633129305, 0.08964957453251722, 0.3193766092720926, 0.1064588697573642, 0.11206196816564652, 0.022412393633129305, 0.01680929522484698, 0.7800395644470031, 0.23587091043619104, 0.7076127313085732, 0.8931409181401321, 0.6562805565863054, 0.029830934390286605, 0.17898560634171964, 0.05966186878057321, 0.05966186878057321, 0.14452299840007363, 0.14452299840007363, 0.5780919936002945, 0.14452299840007363, 0.7732953611043405, 0.028020400411526977, 0.9526936139919172, 0.7921595955292261, 0.9966956790687539, 0.5777061101552547, 0.19256870338508492, 0.047398754175234835, 0.9005763293294619, 0.1471049364477155, 0.588419745790862, 0.1471049364477155, 0.7921596334450224, 0.6166889347520212, 0.6166889347503993, 0.743803073089866, 0.13002889096865225, 0.6501444548432612, 0.13002889096865225, 0.19519529419382134, 0.585585882581464, 0.7736848202160206, 0.8733313504021534, 0.2440266692733414, 0.2440266692733414, 0.4880533385466828, 0.792159581764236, 0.5825433694881175, 0.30796776375030116, 0.6159355275006023, 0.2975736689581238, 0.5951473379162476, 0.7921596096580595, 0.619168259812448, 0.6191682598125353, 0.02105120718648406, 0.23156327905132465, 0.12630724311890437, 0.06315362155945219, 0.5262801796621015, 0.02105120718648406, 0.06214553876252017, 0.06214553876252017, 0.2485821550500807, 0.4971643101001614, 0.06214553876252017, 0.30145562757770555, 0.6029112551554111, 0.10730415881702497, 0.16095623822553748, 0.16095623822553748, 0.4828687146766124, 0.053652079408512486, 0.882495916006313, 0.7921596422643945, 0.1086788446488071, 0.12843863458495383, 0.01481984245211006, 0.44953522104733845, 0.08397910722862366, 0.1086788446488071, 0.0345796323882568, 0.05927936980844024, 0.01481984245211006, 0.8459779783304517, 0.07690708893913198, 0.5937412312972384], \"Term\": [\"00\", \"00\", \"10\", \"10\", \"10\", \"10\", \"10\", \"100\", \"100\", \"100\", \"100\", \"11\", \"11\", \"11\", \"12\", \"12\", \"2020\", \"24\", \"300\", \"40\", \"50\", \"50\", \"abal\", \"about\", \"account\", \"account\", \"add\", \"add\", \"after\", \"agustus\", \"agustus\", \"agustus\", \"aja\", \"aja\", \"akibat\", \"aktif\", \"aktif\", \"ama\", \"ama\", \"aman\", \"aman\", \"aman\", \"aman\", \"aman\", \"aman\", \"anak\", \"apdate\", \"apknya\", \"app\", \"app\", \"application\", \"artikel\", \"astaga\", \"astaga\", \"astaga\", \"awat\", \"awesome\", \"baca\", \"baca\", \"baca\", \"baca\", \"bad\", \"bag\", \"bag\", \"bag\", \"bagus\", \"bagus\", \"bagus\", \"bagus\", \"bagus\", \"bagus\", \"baharu\", \"baharu\", \"baharu\", \"bahasa\", \"bahasa\", \"baik\", \"baju\", \"balas\", \"balas\", \"bales\", \"balik\", \"bantu\", \"bantu\", \"bantu\", \"bantu\", \"bantu\", \"bantu\", \"barcode\", \"barcode\", \"basah\", \"bayar\", \"bayar\", \"bayar\", \"bayar\", \"bayar\", \"bayar\", \"bayar\", \"before\", \"belanja\", \"belanja\", \"belanja\", \"belanja\", \"belanja\", \"belanja\", \"belanja\", \"belanja\", \"belanja\", \"belanja\", \"beli\", \"beli\", \"beli\", \"beli\", \"beli\", \"beli\", \"beli\", \"beli\", \"beli\", \"benah\", \"benci\", \"bener\", \"beneran\", \"bentuk\", \"ber\", \"berhari\", \"best\", \"best\", \"beta\", \"beta\", \"blank\", \"blgnya\", \"bnerin\", \"bohongin\", \"bom\", \"bom\", \"bontang\", \"box\", \"bpom\", \"browser\", \"browser\", \"browser\", \"browser\", \"brush\", \"brush\", \"buah\", \"buah\", \"bug\", \"bug\", \"bug\", \"bug\", \"buka\", \"buka\", \"buka\", \"buka\", \"buka\", \"buka\", \"buka\", \"buka\", \"bukti\", \"bukti\", \"bukti\", \"buru\", \"buruk\", \"buruk\", \"buruk\", \"buruk\", \"but\", \"but\", \"but\", \"but\", \"cacat\", \"call\", \"camat\", \"camat\", \"cancel\", \"cancel\", \"cancel\", \"cancel\", \"cancel\", \"cancel\", \"cancel\", \"cantik\", \"cantik\", \"care\", \"care\", \"cari\", \"cari\", \"cari\", \"cari\", \"cart\", \"cash\", \"cash\", \"cek\", \"cek\", \"cek\", \"cek\", \"cek\", \"cek\", \"cek\", \"cek\", \"cepat\", \"cepat\", \"cepat\", \"cepat\", \"cepat\", \"cepat\", \"cepat\", \"cepet\", \"cepet\", \"cepet\", \"cepet\", \"cepet\", \"check\", \"check\", \"check\", \"check\", \"close\", \"closed\", \"closed\", \"closed\", \"closed\", \"cocok\", \"cocok\", \"cocok\", \"cocok\", \"cocok\", \"code\", \"collection\", \"commerce\", \"commers\", \"complain\", \"complain\", \"connection\", \"counter\", \"crash\", \"crash\", \"crash\", \"customer\", \"customer\", \"customer\", \"dadak\", \"dadak\", \"daerah\", \"daftar\", \"daftar\", \"dana\", \"dana\", \"data\", \"data\", \"data\", \"date\", \"dd\", \"debit\", \"degdegan\", \"delivery\", \"delivery\", \"dengen\", \"deskripsi\", \"deskripsi\", \"destination\", \"detail\", \"detail\", \"detail\", \"detik\", \"dftar\", \"dicancel\", \"dicancel\", \"dicantumin\", \"digunain\", \"digunain\", \"dikit\", \"dikit\", \"dikit\", \"dimasukin\", \"discount\", \"discount\", \"discount\", \"discount\", \"discount\", \"disko\", \"disko\", \"diskon\", \"diskon\", \"diskon\", \"diskon\", \"diskon\", \"diskon\", \"disociolla\", \"ditanggepin\", \"diupdate\", \"diupdate\", \"diupdate\", \"dm\", \"doang\", \"doang\", \"doang\", \"doang\", \"doang\", \"doang\", \"doank\", \"dowload\", \"drtd\", \"duit\", \"duuh\", \"easy\", \"ecek\", \"edit\", \"edit\", \"edit\", \"edit\", \"email\", \"email\", \"email\", \"email\", \"email\", \"emosi\", \"emosi\", \"emosi\", \"eror\", \"error\", \"error\", \"error\", \"error\", \"error\", \"error\", \"euyy\", \"eveerr\", \"event\", \"event\", \"event\", \"failed\", \"favorit\", \"favorite\", \"feedback\", \"filter\", \"finally\", \"first\", \"fitur\", \"fitur\", \"fitur\", \"fitur\", \"flash\", \"flash\", \"fokus\", \"force\", \"forgot\", \"foto\", \"ga\", \"gagal\", \"gagal\", \"gagal\", \"gagal\", \"gagal\", \"gagal\", \"gambar\", \"gambar\", \"gambar\", \"gambar\", \"gambar\", \"ganggu\", \"ganggu\", \"gedor\", \"gin\", \"gin\", \"gin\", \"gin\", \"good\", \"gopay\", \"gopay\", \"habis\", \"habis\", \"habis\", \"habis\", \"habis\", \"halaman\", \"halaman\", \"handphone\", \"handphone\", \"handphone\", \"handphone\", \"happy\", \"hapus\", \"hapus\", \"hapus\", \"hapus\", \"harga\", \"harga\", \"harga\", \"harga\", \"harga\", \"harga\", \"hasil\", \"hasil\", \"henti\", \"henti\", \"hhmm\", \"hidup\", \"hidup\", \"hilang\", \"hilang\", \"hilang\", \"hilang\", \"histori\", \"histori\", \"home\", \"home\", \"home\", \"home\", \"hubung\", \"ig\", \"ig\", \"ig\", \"impression\", \"indomaret\", \"input\", \"input\", \"instagram\", \"install\", \"install\", \"install\", \"install\", \"install\", \"insyaa\", \"internet\", \"internet\", \"internet\", \"internet\", \"internet\", \"iseng\", \"isi\", \"isi\", \"isi\", \"isi\", \"isi\", \"isi\", \"it\", \"it\", \"it\", \"it\", \"it\", \"it\", \"it\", \"jam\", \"jam\", \"jam\", \"jam\", \"jam\", \"jam\", \"jamin\", \"jamin\", \"jamin\", \"jamin\", \"jarak\", \"jaring\", \"jaring\", \"jaring\", \"jaring\", \"jaring\", \"jaring\", \"jaring\", \"jasa\", \"jasa\", \"jelajah\", \"jerawat\", \"job\", \"job\", \"jual\", \"jual\", \"jual\", \"jual\", \"judul\", \"kacau\", \"kah\", \"kali\", \"kalimantan\", \"kaltim\", \"kardus\", \"kecewa\", \"kecewa\", \"kecewa\", \"kecewa\", \"kecewa\", \"kecewa\", \"kecewa\", \"kecewa\", \"kecewa\", \"kecewa\", \"kejut\", \"kelas\", \"ken\", \"ken\", \"ken\", \"kencang\", \"kencang\", \"kencang\", \"keren\", \"kerjasama\", \"kesal\", \"kesal\", \"kesal\", \"kesal\", \"kesal\", \"khusnudzon\", \"kli\", \"kluar\", \"know\", \"komen\", \"komen\", \"komenan\", \"kompensasi\", \"koneksi\", \"koneksi\", \"koneksi\", \"koneksi\", \"konfirm\", \"konfirmasi\", \"konfirmasi\", \"konfirmasi\", \"konfirmasi\", \"konsumen\", \"konsumen\", \"konsumen\", \"konsumen\", \"konsumen\", \"kontak\", \"konten\", \"korea\", \"korea\", \"koreksi\", \"kosmetik\", \"kosmetik\", \"kosmetik\", \"kosong\", \"kosong\", \"kosong\", \"kosong\", \"kosong\", \"kosong\", \"kosong\", \"kota\", \"kota\", \"kota\", \"kotor\", \"kredibel\", \"kredivo\", \"kualitas\", \"kualitas\", \"kualitas\", \"kualitas\", \"kualitas\", \"kuota\", \"kuota\", \"kuota\", \"kuota\", \"kuota\", \"kupon\", \"kupon\", \"kupon\", \"kyaknya\", \"kyk\", \"kyk\", \"lag\", \"lag\", \"lahir\", \"lahir\", \"lakban\", \"laku\", \"laku\", \"laku\", \"laku\", \"laman\", \"lambat\", \"lambat\", \"lambat\", \"lancar\", \"lancar\", \"lancar\", \"lancar\", \"lancar\", \"lancar\", \"lancar\", \"laptop\", \"laptop\", \"layan\", \"layan\", \"layan\", \"layan\", \"layan\", \"layan\", \"layar\", \"lem\", \"lengkap\", \"lengkap\", \"lengkap\", \"lengkap\", \"lengkap\", \"letter\", \"lihat\", \"lihat\", \"lihat\", \"lihat\", \"lihat\", \"lihat\", \"lihat\", \"like\", \"like\", \"like\", \"lipgloss\", \"live\", \"loading\", \"loading\", \"loading\", \"loadingnya\", \"loadingnya\", \"loadingnya\", \"loadingnya\", \"loadingnya\", \"loadingnya\", \"loadingnya\", \"log\", \"log\", \"log\", \"log\", \"logistic\", \"logout\", \"logout\", \"loh\", \"loh\", \"love\", \"loyalitas\", \"lu\", \"lupa\", \"lupa\", \"lupa\", \"lwmot\", \"maaf\", \"maaf\", \"maaf\", \"maaf\", \"mahal\", \"mahal\", \"maintenance\", \"maintenance\", \"maintenance\", \"makan\", \"makasih\", \"make\", \"make\", \"makeover\", \"maksa\", \"malas\", \"malas\", \"malas\", \"malas\", \"males\", \"males\", \"males\", \"manfaat\", \"manfaat\", \"mangkanya\", \"mantap\", \"mantengin\", \"many\", \"many\", \"masuk\", \"masuk\", \"masuk\", \"masuk\", \"masuk\", \"masuk\", \"masuk\", \"masuk\", \"masuk\", \"masuk\", \"masuk\", \"mencet\", \"menu\", \"menu\", \"menu\", \"menu\", \"menu\", \"menu\", \"menu\", \"metode\", \"mikat\", \"mlu\", \"mlu\", \"moga\", \"moga\", \"moga\", \"moga\", \"moga\", \"monyet\", \"mual\", \"muat\", \"muat\", \"much\", \"mudah\", \"mudah\", \"mudah\", \"mudah\", \"mundur\", \"murah\", \"murah\", \"murah\", \"mutar\", \"mutar\", \"nan\", \"nanggung\", \"negeri\", \"news\", \"ngaruh\", \"nge\", \"nge\", \"ngebantu\", \"ngebantu\", \"ngebantu\", \"ngecewain\", \"ngeklik\", \"ngeklik\", \"ngelag\", \"ngelag\", \"nice\", \"nihil\", \"nilai\", \"nilai\", \"ningmas\", \"no\", \"no\", \"no\", \"nol\", \"nominal\", \"nominal\", \"normal\", \"normal\", \"not\", \"not\", \"not\", \"not\", \"notif\", \"notifikasi\", \"nya\", \"nya\", \"nya\", \"nyaman\", \"nyaman\", \"nyaman\", \"nyampe\", \"nyampe\", \"nyata\", \"nyata\", \"nyata\", \"nyata\", \"nyata\", \"nyata\", \"nyata\", \"nyata\", \"nyata\", \"oh\", \"oh\", \"oh\", \"on\", \"on\", \"on\", \"on\", \"ongkirnya\", \"ongkirnya\", \"ongkirnya\", \"ongkirnya\", \"online\", \"online\", \"online\", \"online\", \"online\", \"online\", \"online\", \"operasi\", \"or\", \"or\", \"ordinary\", \"original\", \"original\", \"original\", \"original\", \"original\", \"out\", \"out\", \"out\", \"out\", \"out\", \"out\", \"overall\", \"overall\", \"overall\", \"ovo\", \"ovo\", \"packing\", \"padhal\", \"page\", \"paket\", \"paket\", \"paket\", \"paket\", \"paket\", \"paket\", \"paket\", \"palsu\", \"panik\", \"parah\", \"parah\", \"parah\", \"parah\", \"parah\", \"parah\", \"parah\", \"pasword\", \"pasword\", \"pasword\", \"payah\", \"payah\", \"payah\", \"payah\", \"payment\", \"payment\", \"payment\", \"payment\", \"payment\", \"payment\", \"perbaharuin\", \"percaya\", \"percaya\", \"percaya\", \"performa\", \"performa\", \"perintah\", \"perintah\", \"permata\", \"php\", \"pilih\", \"pilih\", \"pilih\", \"pilih\", \"pilih\", \"pinta\", \"pinta\", \"pintu\", \"poin\", \"poin\", \"poin\", \"poin\", \"point\", \"point\", \"pokok\", \"pokok\", \"pokok\", \"pokok\", \"pokok\", \"polling\", \"posting\", \"praktis\", \"prodak\", \"product\", \"product\", \"product\", \"produk\", \"produk\", \"produk\", \"produk\", \"produk\", \"produk\", \"produk\", \"produk\", \"produk\", \"promo\", \"promo\", \"promo\", \"promo\", \"promo\", \"proses\", \"proses\", \"proses\", \"proses\", \"proses\", \"protes\", \"puas\", \"puas\", \"puas\", \"puas\", \"puas\", \"publish\", \"putar\", \"qanya\", \"qr\", \"ram\", \"ram\", \"ramah\", \"ramah\", \"rapih\", \"rapih\", \"rating\", \"rating\", \"recommended\", \"recommended\", \"recommended\", \"recommended\", \"recommended\", \"referensi\", \"refund\", \"refund\", \"refund\", \"refund\", \"refund\", \"refund\", \"register\", \"register\", \"registrasi\", \"rekening\", \"rekomend\", \"rekomendasi\", \"rekomendasi\", \"reload\", \"reload\", \"report\", \"reset\", \"reset\", \"resi\", \"resi\", \"resi\", \"respon\", \"respon\", \"responding\", \"responnya\", \"responsif\", \"responsif\", \"rollover\", \"rumah\", \"rumah\", \"rumah\", \"rumah\", \"rumit\", \"rupiah\", \"rusak\", \"rusak\", \"rusak\", \"rusak\", \"sahabat\", \"saing\", \"saing\", \"saing\", \"salah\", \"salah\", \"salah\", \"salah\", \"salah\", \"salah\", \"salah\", \"salah\", \"saldo\", \"sale\", \"sale\", \"sale\", \"sampe\", \"sampe\", \"sampe\", \"sampe\", \"sampe\", \"sampe\", \"sampe\", \"saran\", \"saran\", \"saran\", \"saran\", \"saran\", \"scan\", \"scan\", \"scroll\", \"scroll\", \"scroll\", \"scroll\", \"search\", \"searching\", \"sebentar\", \"section\", \"sedia\", \"sedia\", \"sedia\", \"sedia\", \"sedih\", \"sedih\", \"sedih\", \"sedih\", \"sedih\", \"selisih\", \"seller\", \"semangat\", \"semangat\", \"sen\", \"serang\", \"servernya\", \"servernya\", \"service\", \"service\", \"servicenya\", \"sesal\", \"sesal\", \"sesal\", \"sesal\", \"setting\", \"shipped\", \"shipping\", \"shipping\", \"shop\", \"shop\", \"shop\", \"shop\", \"shop\", \"shopping\", \"shopping\", \"shopping\", \"shopping\", \"shopping\", \"sia\", \"sig\", \"sign\", \"sign\", \"sinyal\", \"sinyal\", \"sinyal\", \"sinyal\", \"sinyal\", \"sinyal\", \"sinyal\", \"sip\", \"sisa\", \"skincare\", \"skincare\", \"skincare\", \"skincare\", \"skincare\", \"snail\", \"so\", \"so\", \"so\", \"so\", \"so\", \"so\", \"sociolla\", \"soco\", \"soco\", \"soco\", \"soco\", \"soco\", \"soco\", \"soco\", \"soco\", \"soco\", \"soco\", \"solution\", \"sorry\", \"sorry\", \"spray\", \"standar\", \"status\", \"status\", \"status\", \"stock\", \"stock\", \"stock\", \"stocknya\", \"stok\", \"stok\", \"stok\", \"stok\", \"stok\", \"stop\", \"store\", \"store\", \"stuck\", \"stuck\", \"sudahh\", \"suka\", \"suka\", \"suka\", \"sukaa\", \"sukaa\", \"sukses\", \"sukses\", \"sukses\", \"sukses\", \"sulit\", \"sulit\", \"sulit\", \"sulit\", \"sulit\", \"sulit\", \"sulit\", \"sulit\", \"sulit\", \"sumpah\", \"sumpah\", \"sumpah\", \"sumpah\", \"sumpah\", \"sumpah\", \"sumpah\", \"super\", \"super\", \"support\", \"suruh\", \"suruh\", \"suruh\", \"suruh\", \"sy\", \"tahan\", \"tai\", \"tambahin\", \"tambahin\", \"tampil\", \"tampil\", \"tampil\", \"tampil\", \"tampil\", \"tampung\", \"tang\", \"tanggal\", \"tanggal\", \"tanggal\", \"tanggal\", \"tanggal\", \"tanggal\", \"tanggap\", \"tanggap\", \"tanggap\", \"tarif\", \"tarik\", \"tekan\", \"tekan\", \"teman\", \"teman\", \"terpecaya\", \"terupdate\", \"tf\", \"tf\", \"tf\", \"thank\", \"thank\", \"tibatiba\", \"timeline\", \"tindak\", \"tinggal\", \"tinggal\", \"tinggal\", \"tinggal\", \"tinggal\", \"tinggal\", \"tingkat\", \"tingkat\", \"tingkat\", \"tingkat\", \"tips\", \"tolak\", \"toner\", \"too\", \"total\", \"tpi\", \"tracknya\", \"transfer\", \"transfer\", \"transfer\", \"transfer\", \"trouble\", \"truecica\", \"trusted\", \"trusted\", \"trusted\", \"trusted\", \"tua\", \"tumpah\", \"tutup\", \"tutup\", \"tutup\", \"uang\", \"uang\", \"uang\", \"uang\", \"uang\", \"uang\", \"udah\", \"udah\", \"udah\", \"udah\", \"udah\", \"udah\", \"udah\", \"udah\", \"uji\", \"ujung\", \"ujung\", \"ukur\", \"uninstall\", \"uninstall\", \"uninstall\", \"uninstall\", \"uninstall\", \"untung\", \"untung\", \"untung\", \"untung\", \"uo\", \"up\", \"up\", \"upa\", \"update\", \"updatenya\", \"updatenya\", \"upgrade\", \"upgrade\", \"upload\", \"upload\", \"upload\", \"uras\", \"us\", \"used\", \"useless\", \"user\", \"user\", \"user\", \"utama\", \"utama\", \"uu\", \"verifikasi\", \"versi\", \"versi\", \"versi\", \"version\", \"vo\", \"voucher\", \"voucher\", \"wahana\", \"wahana\", \"wajah\", \"wajib\", \"waku\", \"web\", \"web\", \"web\", \"web\", \"web\", \"web\", \"website\", \"website\", \"website\", \"website\", \"website\", \"why\", \"why\", \"wifi\", \"wifi\", \"wifi\", \"wifi\", \"wifi\", \"wishlist\", \"work\", \"ya\", \"ya\", \"ya\", \"ya\", \"ya\", \"ya\", \"ya\", \"ya\", \"ya\", \"you\", \"you\", \"yqng\"]}, \"R\": 30, \"lambda.step\": 0.01, \"plot.opts\": {\"xlab\": \"PC1\", \"ylab\": \"PC2\"}, \"topic.order\": [3, 1, 11, 12, 10, 5, 6, 2, 7, 4, 8, 9]};\n",
              "\n",
              "function LDAvis_load_lib(url, callback){\n",
              "  var s = document.createElement('script');\n",
              "  s.src = url;\n",
              "  s.async = true;\n",
              "  s.onreadystatechange = s.onload = callback;\n",
              "  s.onerror = function(){console.warn(\"failed to load library \" + url);};\n",
              "  document.getElementsByTagName(\"head\")[0].appendChild(s);\n",
              "}\n",
              "\n",
              "if(typeof(LDAvis) !== \"undefined\"){\n",
              "   // already loaded: just create the visualization\n",
              "   !function(LDAvis){\n",
              "       new LDAvis(\"#\" + \"ldavis_el641400345445887529886104673\", ldavis_el641400345445887529886104673_data);\n",
              "   }(LDAvis);\n",
              "}else if(typeof define === \"function\" && define.amd){\n",
              "   // require.js is available: use it to load d3/LDAvis\n",
              "   require.config({paths: {d3: \"https://cdnjs.cloudflare.com/ajax/libs/d3/3.5.5/d3.min\"}});\n",
              "   require([\"d3\"], function(d3){\n",
              "      window.d3 = d3;\n",
              "      LDAvis_load_lib(\"https://cdn.rawgit.com/bmabey/pyLDAvis/files/ldavis.v1.0.0.js\", function(){\n",
              "        new LDAvis(\"#\" + \"ldavis_el641400345445887529886104673\", ldavis_el641400345445887529886104673_data);\n",
              "      });\n",
              "    });\n",
              "}else{\n",
              "    // require.js not available: dynamically load d3 & LDAvis\n",
              "    LDAvis_load_lib(\"https://cdnjs.cloudflare.com/ajax/libs/d3/3.5.5/d3.min.js\", function(){\n",
              "         LDAvis_load_lib(\"https://cdn.rawgit.com/bmabey/pyLDAvis/files/ldavis.v1.0.0.js\", function(){\n",
              "                 new LDAvis(\"#\" + \"ldavis_el641400345445887529886104673\", ldavis_el641400345445887529886104673_data);\n",
              "            })\n",
              "         });\n",
              "}\n",
              "</script>"
            ],
            "text/plain": [
              "PreparedData(topic_coordinates=              x         y  topics  cluster       Freq\n",
              "topic                                                \n",
              "2      0.071004 -0.175032       1        1  13.291927\n",
              "0     -0.181150  0.039186       2        1  12.371748\n",
              "10     0.138823 -0.163687       3        1  10.619828\n",
              "11    -0.085970 -0.107789       4        1   9.199863\n",
              "9     -0.138409  0.076183       5        1   9.154912\n",
              "4     -0.079936 -0.061277       6        1   9.104225\n",
              "5     -0.106584  0.058366       7        1   7.305093\n",
              "1      0.024031  0.033083       8        1   7.115916\n",
              "6     -0.067867 -0.000013       9        1   6.991171\n",
              "3      0.134772  0.196578      10        1   5.870042\n",
              "7      0.128636 -0.017075      11        1   5.401363\n",
              "8      0.162649  0.121475      12        1   3.573911, topic_info=          Term        Freq       Total Category  logprob  loglift\n",
              "1730    update  207.000000  207.000000  Default  30.0000  30.0000\n",
              "1577      suka  183.000000  183.000000  Default  29.0000  29.0000\n",
              "145      bagus  193.000000  193.000000  Default  28.0000  28.0000\n",
              "1050       nan  115.000000  115.000000  Default  27.0000  27.0000\n",
              "585       good   78.000000   78.000000  Default  26.0000  26.0000\n",
              "...        ...         ...         ...      ...      ...      ...\n",
              "1188     paket    1.526873   22.925979  Topic12  -5.5256   0.6225\n",
              "979      masuk    1.831840   77.345487  Topic12  -5.3435  -0.4115\n",
              "170      bantu    1.600382   51.701529  Topic12  -5.4786  -0.1437\n",
              "616      harga    1.412219   37.873166  Topic12  -5.6037   0.0424\n",
              "1509  skincare    1.117588   49.342559  Topic12  -5.8376  -0.4561\n",
              "\n",
              "[721 rows x 6 columns], token_table=      Topic      Freq  Term\n",
              "term                       \n",
              "0         3  0.196210    00\n",
              "0         8  0.784842    00\n",
              "2         1  0.582704    10\n",
              "2         3  0.083243    10\n",
              "2         8  0.166487    10\n",
              "...     ...       ...   ...\n",
              "1811      9  0.059279    ya\n",
              "1811     11  0.014820    ya\n",
              "1818      6  0.845978   you\n",
              "1818      9  0.076907   you\n",
              "1821     11  0.593741  yqng\n",
              "\n",
              "[1275 rows x 3 columns], R=30, lambda_step=0.01, plot_opts={'xlab': 'PC1', 'ylab': 'PC2'}, topic_order=[3, 1, 11, 12, 10, 5, 6, 2, 7, 4, 8, 9])"
            ]
          },
          "metadata": {
            "tags": []
          },
          "execution_count": 14
        }
      ]
    },
    {
      "cell_type": "code",
      "metadata": {
        "id": "95Ysxfe6kOqu",
        "colab": {
          "base_uri": "https://localhost:8080/"
        },
        "outputId": "1d26622e-c442-49b0-b8b5-ceab0a823dc1"
      },
      "source": [
        "from sklearn.decomposition import NMF\n",
        "from sklearn.feature_extraction.text import TfidfVectorizer\n",
        "\n",
        "tfidf_vectorizer = TfidfVectorizer()\n",
        "tfidf = tfidf_vectorizer.fit_transform(dataa)\n",
        "nmf_model = NMF(n_components = 12, random_state=0)\n",
        "nmf = nmf_model.fit(tfidf)\n",
        "\n",
        "print(\"\\nTopics in NMF model:\")\n",
        "tfidf_feature_names = tfidf_vectorizer.get_feature_names()\n",
        "tau.print_Topics(nmf, tfidf_feature_names, n_topics, Top_Words)"
      ],
      "execution_count": 15,
      "outputs": [
        {
          "output_type": "stream",
          "text": [
            "\n",
            "Topics in NMF model:\n",
            "Topic #1:\n",
            "nan zonk handphonenya ha habis hadap hadiah hadir hah hair halaman halilintar hambat handphone handuk guardian hape happy hapus harap harga hari harian hasil hbximyevg\n",
            "Topic #2:\n",
            "bagus promo skincare banget moga koneksi jaring lengkap sinyal brand diskon tampil cantik soco bantu event lancar kosmetik log wifi layan beli dimasukin jual paket\n",
            "Topic #3:\n",
            "good job so love one very feeling euyy for skincare application it aplication promo enough but many think mudah lambat gopaynya gojek rekomend sale all\n",
            "Topic #4:\n",
            "update pinta dikit perintah udah suruh kesal kecewa install males ganggu nyaman habis uninstall soco updatenya nyampe diupdate upgrade sampe kuota asa an akses ad\n",
            "Topic #5:\n",
            "suka henti diskon tutup soco loading promo packing view pilih product moga bantu loadingnya kualitas pinta sndiri sukses socobox discount shopping mi log aplikasinyaa siciolla\n",
            "Topic #6:\n",
            "buka henti udah diupdate close web install shop force sinyal kesal tutup parah loading soco menu otomatis bug lancar websitenya nya kencang astaga app bag\n",
            "Topic #7:\n",
            "mantap diskon keren disko jual force close goods tingkat konfirm dm korea waktuu skincare shipping gift sampe pokok shop trusted moga cepet pergi online lengkap\n",
            "Topic #8:\n",
            "error connection lambat udah beli input koneksi jaring install lancar lihat uninstall parah super internet wifi kuota kecewa website flash baguss ram sale sistem sinyal\n",
            "Topic #9:\n",
            "produk lihat beli henti original lengkap detail cari diskon close tutup cepat cantik jamin skincare jual halaman reload home web tarik males bug percaya ken\n",
            "Topic #10:\n",
            "belanja mudah original diskon soco skincare keren jamin bantu kesal kosmetik up make online trusted thank nyaman harga you cepat recommended pokok force parah puas\n",
            "Topic #11:\n",
            "sulit log buruk out masuk cari check email loading pinta diskon kesal daftar salah doang upgrade mudah bantu web dikit mesan nge diupdate sinyal search\n",
            "Topic #12:\n",
            "ya masuk udah daftar email kecewa loading bayar beli lambat uninstall sampe promo salah install konfirmasi proses tingkat refund wifi maaf kosong sign service customer\n"
          ],
          "name": "stdout"
        }
      ]
    },
    {
      "cell_type": "code",
      "metadata": {
        "colab": {
          "base_uri": "https://localhost:8080/"
        },
        "id": "NwTQZECJ62Ta",
        "outputId": "579a8a89-1bde-4f41-ef6d-db5e9a199fc9"
      },
      "source": [
        "# Sama seperti LDA kita bisa melihat distribusi topic setiap dokumen\n",
        "vsm_topics = nmf.transform(tfidf)\n",
        "vsm_topics[:10]"
      ],
      "execution_count": 16,
      "outputs": [
        {
          "output_type": "execute_result",
          "data": {
            "text/plain": [
              "array([[0.00000000e+00, 0.00000000e+00, 3.37249054e-01, 0.00000000e+00,\n",
              "        0.00000000e+00, 0.00000000e+00, 0.00000000e+00, 0.00000000e+00,\n",
              "        0.00000000e+00, 0.00000000e+00, 0.00000000e+00, 0.00000000e+00],\n",
              "       [0.00000000e+00, 5.37666627e-02, 0.00000000e+00, 0.00000000e+00,\n",
              "        1.28101083e-01, 0.00000000e+00, 1.36980854e-03, 8.64672814e-02,\n",
              "        6.90777638e-03, 9.83090824e-02, 3.96810648e-04, 1.62685542e-02],\n",
              "       [0.00000000e+00, 0.00000000e+00, 0.00000000e+00, 6.55496097e-04,\n",
              "        0.00000000e+00, 0.00000000e+00, 0.00000000e+00, 3.37749564e-04,\n",
              "        0.00000000e+00, 7.70897929e-03, 6.88672728e-02, 3.18684649e-02],\n",
              "       [0.00000000e+00, 0.00000000e+00, 0.00000000e+00, 1.59294971e-03,\n",
              "        0.00000000e+00, 5.70635550e-03, 0.00000000e+00, 3.02688950e-03,\n",
              "        0.00000000e+00, 1.08560027e-02, 8.68340676e-03, 9.12127623e-02],\n",
              "       [0.00000000e+00, 3.19174779e-04, 9.45257085e-05, 6.06660424e-03,\n",
              "        2.75791956e-04, 9.79203761e-03, 0.00000000e+00, 7.58039016e-03,\n",
              "        8.42241847e-04, 8.84721192e-03, 1.34106646e-02, 5.11806120e-02],\n",
              "       [0.00000000e+00, 0.00000000e+00, 0.00000000e+00, 2.90471994e-03,\n",
              "        0.00000000e+00, 0.00000000e+00, 1.54543958e-04, 4.44824267e-03,\n",
              "        0.00000000e+00, 1.10945407e-02, 0.00000000e+00, 3.79714808e-02],\n",
              "       [0.00000000e+00, 5.01906396e-05, 0.00000000e+00, 1.79610947e-03,\n",
              "        6.76011748e-04, 1.90922546e-03, 7.97053295e-05, 4.84146678e-06,\n",
              "        3.41235283e-05, 2.58096725e-03, 1.06195894e-03, 3.88286611e-02],\n",
              "       [0.00000000e+00, 0.00000000e+00, 0.00000000e+00, 2.91770998e-01,\n",
              "        0.00000000e+00, 0.00000000e+00, 0.00000000e+00, 0.00000000e+00,\n",
              "        0.00000000e+00, 0.00000000e+00, 0.00000000e+00, 0.00000000e+00],\n",
              "       [0.00000000e+00, 1.47541623e-03, 1.27431820e-03, 0.00000000e+00,\n",
              "        0.00000000e+00, 0.00000000e+00, 0.00000000e+00, 0.00000000e+00,\n",
              "        0.00000000e+00, 2.77434236e-01, 2.46838207e-03, 0.00000000e+00],\n",
              "       [0.00000000e+00, 0.00000000e+00, 0.00000000e+00, 2.19733391e-01,\n",
              "        0.00000000e+00, 1.35003318e-01, 0.00000000e+00, 0.00000000e+00,\n",
              "        0.00000000e+00, 0.00000000e+00, 0.00000000e+00, 0.00000000e+00]])"
            ]
          },
          "metadata": {
            "tags": []
          },
          "execution_count": 16
        }
      ]
    },
    {
      "cell_type": "code",
      "metadata": {
        "colab": {
          "base_uri": "https://localhost:8080/",
          "height": 302
        },
        "id": "7v4ZwVs17kE2",
        "outputId": "47e9e814-3889-4166-bdbe-6153367bd476"
      },
      "source": [
        "# Seandainya diasumsikan 1 dokumen hanya 1 topic dengan nilai skor topic terbesar\n",
        "doc_topic =  [a.argmax()+1 for a in tqdm(vsm_topics)] # topic of docs\n",
        "print('In total there are {0} major topics, distributed as follows'.format(len(set(doc_topic))))\n",
        "sns.countplot(doc_topic)\n",
        "plt.show()"
      ],
      "execution_count": 17,
      "outputs": [
        {
          "output_type": "stream",
          "text": [
            "100%|██████████| 2073/2073 [00:00<00:00, 267392.20it/s]\n"
          ],
          "name": "stderr"
        },
        {
          "output_type": "stream",
          "text": [
            "In total there are 12 major topics, distributed as follows\n"
          ],
          "name": "stdout"
        },
        {
          "output_type": "display_data",
          "data": {
            "image/png": "[encoded data removed]",
            "text/plain": [
              "<Figure size 432x288 with 1 Axes>"
            ]
          },
          "metadata": {
            "tags": []
          }
        }
      ]
    },
    {
      "cell_type": "code",
      "metadata": {
        "id": "koCPKA61eGF7"
      },
      "source": [
        ""
      ],
      "execution_count": null,
      "outputs": []
    }
  ]
}