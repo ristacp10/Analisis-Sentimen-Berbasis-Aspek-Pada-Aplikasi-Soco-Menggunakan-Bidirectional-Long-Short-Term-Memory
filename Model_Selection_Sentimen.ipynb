{
  "nbformat": 4,
  "nbformat_minor": 0,
  "metadata": {
    "colab": {
      "name": "Model Selection Sentimen.ipynb",
      "provenance": [],
      "authorship_tag": "ABX9TyMRgObu7frMM8IuHnN12BXp",
      "include_colab_link": true
    },
    "kernelspec": {
      "name": "python3",
      "display_name": "Python 3"
    },
    "language_info": {
      "name": "python"
    }
  },
  "cells": [
    {
      "cell_type": "markdown",
      "metadata": {
        "id": "view-in-github",
        "colab_type": "text"
      },
      "source": [
        "<a href=\"https://colab.research.google.com/github/ristacp10/Analisis-Sentimen-Berbasis-Aspek-Pada-Aplikasi-Soco-Menggunakan-Bidirectional-Long-Short-Term-Memory/blob/main/Model_Selection_Sentimen.ipynb\" target=\"_parent\"><img src=\"https://colab.research.google.com/assets/colab-badge.svg\" alt=\"Open In Colab\"/></a>"
      ]
    },
    {
      "cell_type": "code",
      "metadata": {
        "colab": {
          "base_uri": "https://localhost:8080/"
        },
        "id": "K3Mtv1Obw0x0",
        "outputId": "575ca9c6-70b8-43fa-b1a6-12f319da1138"
      },
      "source": [
        "!mkdir CSV\n",
        "!wget -P CSV/ https://raw.githubusercontent.com/ristacp10/Analisis-Sentimen-Berbasis-Aspek-Pada-Aplikasi-Soco-Menggunakan-Bidirectional-Long-Short-Term-Memory/main/CSV/prepros_sent.csv"
      ],
      "execution_count": 1,
      "outputs": [
        {
          "output_type": "stream",
          "text": [
            "--2021-08-16 03:59:40--  https://raw.githubusercontent.com/ristacp10/Analisis-Sentimen-Berbasis-Aspek-Pada-Aplikasi-Soco-Menggunakan-Bidirectional-Long-Short-Term-Memory/main/CSV/prepros_sent.csv\n",
            "Resolving raw.githubusercontent.com (raw.githubusercontent.com)... 185.199.109.133, 185.199.108.133, 185.199.111.133, ...\n",
            "Connecting to raw.githubusercontent.com (raw.githubusercontent.com)|185.199.109.133|:443... connected.\n",
            "HTTP request sent, awaiting response... 200 OK\n",
            "Length: 452927 (442K) [text/plain]\n",
            "Saving to: ‘CSV/prepros_sent.csv’\n",
            "\n",
            "prepros_sent.csv    100%[===================>] 442.31K  --.-KB/s    in 0.05s   \n",
            "\n",
            "2021-08-16 03:59:40 (8.98 MB/s) - ‘CSV/prepros_sent.csv’ saved [452927/452927]\n",
            "\n"
          ],
          "name": "stdout"
        }
      ]
    },
    {
      "cell_type": "code",
      "metadata": {
        "colab": {
          "base_uri": "https://localhost:8080/"
        },
        "id": "6h9Hyd-Dx7vl",
        "outputId": "cd88b2ba-4719-4eb7-b035-4203f2e8f354"
      },
      "source": [
        "!pip install graphviz dtreeviz\n",
        "import numpy as np\n",
        "import tensorflow as tf\n",
        "import nltk, pandas as pd; nltk.download('popular')\n",
        "import graphviz, matplotlib.pyplot as plt, seaborn as sns\n",
        "from tensorflow.keras.preprocessing.text import Tokenizer\n",
        "from tensorflow.keras.preprocessing.sequence import pad_sequences\n",
        "from tensorflow.keras.models import Sequential\n",
        "from tensorflow.keras.layers import Embedding\n",
        "from sklearn import svm\n",
        "from sklearn.svm import SVC\n",
        "import sklearn.metrics as metric\n",
        "from sklearn.metrics import classification_report, confusion_matrix, accuracy_score\n",
        "from sklearn.model_selection import cross_val_score, RandomizedSearchCV, GridSearchCV, train_test_split\n",
        "from sklearn.pipeline import make_pipeline\n",
        "from pandas.plotting import scatter_matrix \n",
        "from sklearn import model_selection, tree\n",
        "from sklearn import tree\n",
        "from dtreeviz.trees import *\n",
        "from IPython.core.display import display, HTML\n",
        "from matplotlib.colors import ListedColormap\n",
        "from sklearn.tree import DecisionTreeClassifier\n",
        "from sklearn.linear_model import LogisticRegression\n",
        "from sklearn import neighbors\n",
        "from sklearn.gaussian_process.kernels import RBF\n",
        "from sklearn.ensemble import RandomForestClassifier, AdaBoostClassifier\n",
        "from sklearn.datasets import make_blobs, make_moons, make_circles, make_classification\n",
        "from sklearn.ensemble import VotingClassifier\n",
        "from sklearn.feature_extraction.text import TfidfVectorizer\n",
        "from collections import Counter\n",
        "sns.set(style=\"ticks\", color_codes=True)"
      ],
      "execution_count": 2,
      "outputs": [
        {
          "output_type": "stream",
          "text": [
            "Requirement already satisfied: graphviz in /usr/local/lib/python3.7/dist-packages (0.10.1)\n",
            "Collecting dtreeviz\n",
            "  Downloading dtreeviz-1.3.tar.gz (60 kB)\n",
            "\u001b[K     |████████████████████████████████| 60 kB 3.0 MB/s \n",
            "\u001b[?25hRequirement already satisfied: pandas in /usr/local/lib/python3.7/dist-packages (from dtreeviz) (1.1.5)\n",
            "Requirement already satisfied: numpy in /usr/local/lib/python3.7/dist-packages (from dtreeviz) (1.19.5)\n",
            "Requirement already satisfied: scikit-learn in /usr/local/lib/python3.7/dist-packages (from dtreeviz) (0.22.2.post1)\n",
            "Requirement already satisfied: matplotlib in /usr/local/lib/python3.7/dist-packages (from dtreeviz) (3.2.2)\n",
            "Collecting colour\n",
            "  Downloading colour-0.1.5-py2.py3-none-any.whl (23 kB)\n",
            "Requirement already satisfied: pytest in /usr/local/lib/python3.7/dist-packages (from dtreeviz) (3.6.4)\n",
            "Requirement already satisfied: kiwisolver>=1.0.1 in /usr/local/lib/python3.7/dist-packages (from matplotlib->dtreeviz) (1.3.1)\n",
            "Requirement already satisfied: python-dateutil>=2.1 in /usr/local/lib/python3.7/dist-packages (from matplotlib->dtreeviz) (2.8.2)\n",
            "Requirement already satisfied: pyparsing!=2.0.4,!=2.1.2,!=2.1.6,>=2.0.1 in /usr/local/lib/python3.7/dist-packages (from matplotlib->dtreeviz) (2.4.7)\n",
            "Requirement already satisfied: cycler>=0.10 in /usr/local/lib/python3.7/dist-packages (from matplotlib->dtreeviz) (0.10.0)\n",
            "Requirement already satisfied: six in /usr/local/lib/python3.7/dist-packages (from cycler>=0.10->matplotlib->dtreeviz) (1.15.0)\n",
            "Requirement already satisfied: pytz>=2017.2 in /usr/local/lib/python3.7/dist-packages (from pandas->dtreeviz) (2018.9)\n",
            "Requirement already satisfied: setuptools in /usr/local/lib/python3.7/dist-packages (from pytest->dtreeviz) (57.2.0)\n",
            "Requirement already satisfied: more-itertools>=4.0.0 in /usr/local/lib/python3.7/dist-packages (from pytest->dtreeviz) (8.8.0)\n",
            "Requirement already satisfied: attrs>=17.4.0 in /usr/local/lib/python3.7/dist-packages (from pytest->dtreeviz) (21.2.0)\n",
            "Requirement already satisfied: atomicwrites>=1.0 in /usr/local/lib/python3.7/dist-packages (from pytest->dtreeviz) (1.4.0)\n",
            "Requirement already satisfied: py>=1.5.0 in /usr/local/lib/python3.7/dist-packages (from pytest->dtreeviz) (1.10.0)\n",
            "Requirement already satisfied: pluggy<0.8,>=0.5 in /usr/local/lib/python3.7/dist-packages (from pytest->dtreeviz) (0.7.1)\n",
            "Requirement already satisfied: joblib>=0.11 in /usr/local/lib/python3.7/dist-packages (from scikit-learn->dtreeviz) (1.0.1)\n",
            "Requirement already satisfied: scipy>=0.17.0 in /usr/local/lib/python3.7/dist-packages (from scikit-learn->dtreeviz) (1.4.1)\n",
            "Building wheels for collected packages: dtreeviz\n",
            "  Building wheel for dtreeviz (setup.py) ... \u001b[?25l\u001b[?25hdone\n",
            "  Created wheel for dtreeviz: filename=dtreeviz-1.3-py3-none-any.whl size=66637 sha256=f54b3ac98672b65e9202eeee7d93ef9ac981b9754cdca3534e5fa613b993d5d8\n",
            "  Stored in directory: /root/.cache/pip/wheels/9f/a6/a1/898c991294471015f13c1e5b456fb8134c1af835db4dd93a7a\n",
            "Successfully built dtreeviz\n",
            "Installing collected packages: colour, dtreeviz\n",
            "Successfully installed colour-0.1.5 dtreeviz-1.3\n",
            "[nltk_data] Downloading collection 'popular'\n",
            "[nltk_data]    | \n",
            "[nltk_data]    | Downloading package cmudict to /root/nltk_data...\n",
            "[nltk_data]    |   Unzipping corpora/cmudict.zip.\n",
            "[nltk_data]    | Downloading package gazetteers to /root/nltk_data...\n",
            "[nltk_data]    |   Unzipping corpora/gazetteers.zip.\n",
            "[nltk_data]    | Downloading package genesis to /root/nltk_data...\n",
            "[nltk_data]    |   Unzipping corpora/genesis.zip.\n",
            "[nltk_data]    | Downloading package gutenberg to /root/nltk_data...\n",
            "[nltk_data]    |   Unzipping corpora/gutenberg.zip.\n",
            "[nltk_data]    | Downloading package inaugural to /root/nltk_data...\n",
            "[nltk_data]    |   Unzipping corpora/inaugural.zip.\n",
            "[nltk_data]    | Downloading package movie_reviews to\n",
            "[nltk_data]    |     /root/nltk_data...\n",
            "[nltk_data]    |   Unzipping corpora/movie_reviews.zip.\n",
            "[nltk_data]    | Downloading package names to /root/nltk_data...\n",
            "[nltk_data]    |   Unzipping corpora/names.zip.\n",
            "[nltk_data]    | Downloading package shakespeare to /root/nltk_data...\n",
            "[nltk_data]    |   Unzipping corpora/shakespeare.zip.\n",
            "[nltk_data]    | Downloading package stopwords to /root/nltk_data...\n",
            "[nltk_data]    |   Unzipping corpora/stopwords.zip.\n",
            "[nltk_data]    | Downloading package treebank to /root/nltk_data...\n",
            "[nltk_data]    |   Unzipping corpora/treebank.zip.\n",
            "[nltk_data]    | Downloading package twitter_samples to\n",
            "[nltk_data]    |     /root/nltk_data...\n",
            "[nltk_data]    |   Unzipping corpora/twitter_samples.zip.\n",
            "[nltk_data]    | Downloading package omw to /root/nltk_data...\n",
            "[nltk_data]    |   Unzipping corpora/omw.zip.\n",
            "[nltk_data]    | Downloading package wordnet to /root/nltk_data...\n",
            "[nltk_data]    |   Unzipping corpora/wordnet.zip.\n",
            "[nltk_data]    | Downloading package wordnet_ic to /root/nltk_data...\n",
            "[nltk_data]    |   Unzipping corpora/wordnet_ic.zip.\n",
            "[nltk_data]    | Downloading package words to /root/nltk_data...\n",
            "[nltk_data]    |   Unzipping corpora/words.zip.\n",
            "[nltk_data]    | Downloading package maxent_ne_chunker to\n",
            "[nltk_data]    |     /root/nltk_data...\n",
            "[nltk_data]    |   Unzipping chunkers/maxent_ne_chunker.zip.\n",
            "[nltk_data]    | Downloading package punkt to /root/nltk_data...\n",
            "[nltk_data]    |   Unzipping tokenizers/punkt.zip.\n",
            "[nltk_data]    | Downloading package snowball_data to\n",
            "[nltk_data]    |     /root/nltk_data...\n",
            "[nltk_data]    | Downloading package averaged_perceptron_tagger to\n",
            "[nltk_data]    |     /root/nltk_data...\n",
            "[nltk_data]    |   Unzipping taggers/averaged_perceptron_tagger.zip.\n",
            "[nltk_data]    | \n",
            "[nltk_data]  Done downloading collection popular\n"
          ],
          "name": "stdout"
        }
      ]
    },
    {
      "cell_type": "code",
      "metadata": {
        "colab": {
          "base_uri": "https://localhost:8080/",
          "height": 235
        },
        "id": "GRLdPZZex8IA",
        "outputId": "ca950845-b0b7-4169-8e45-47919dc66b0a"
      },
      "source": [
        "names = ['At','Sentimen', 'Review', 'Bintang', 'Aspek', 'data_cleaned']\n",
        "file = 'CSV/prepros_sent.csv'\n",
        " \n",
        "try:\n",
        "  data = pd.read_csv(file)\n",
        "except:\n",
        "  data = pd.read_csv(file, names=names).values\n",
        "\n",
        "dataset = pd.DataFrame()\n",
        "dataset = pd.DataFrame()\n",
        "dataset['data_cleaned'] = data['data_cleaned'].tolist()\n",
        "dataset['Sentimen'] = data['Sentimen'].tolist()\n",
        "dataset.head(6)"
      ],
      "execution_count": 3,
      "outputs": [
        {
          "output_type": "execute_result",
          "data": {
            "text/html": [
              "<div>\n",
              "<style scoped>\n",
              "    .dataframe tbody tr th:only-of-type {\n",
              "        vertical-align: middle;\n",
              "    }\n",
              "\n",
              "    .dataframe tbody tr th {\n",
              "        vertical-align: top;\n",
              "    }\n",
              "\n",
              "    .dataframe thead th {\n",
              "        text-align: right;\n",
              "    }\n",
              "</style>\n",
              "<table border=\"1\" class=\"dataframe\">\n",
              "  <thead>\n",
              "    <tr style=\"text-align: right;\">\n",
              "      <th></th>\n",
              "      <th>data_cleaned</th>\n",
              "      <th>Sentimen</th>\n",
              "    </tr>\n",
              "  </thead>\n",
              "  <tbody>\n",
              "    <tr>\n",
              "      <th>0</th>\n",
              "      <td>good</td>\n",
              "      <td>Positif</td>\n",
              "    </tr>\n",
              "    <tr>\n",
              "      <th>1</th>\n",
              "      <td>senang belanja sini karena deh pasti original ...</td>\n",
              "      <td>Positif</td>\n",
              "    </tr>\n",
              "    <tr>\n",
              "      <th>2</th>\n",
              "      <td>pertama kali order langsung kecewa di cancel k...</td>\n",
              "      <td>Negatif</td>\n",
              "    </tr>\n",
              "    <tr>\n",
              "      <th>3</th>\n",
              "      <td>sociola parah proses refund tidak tahu harus t...</td>\n",
              "      <td>Negatif</td>\n",
              "    </tr>\n",
              "    <tr>\n",
              "      <th>4</th>\n",
              "      <td>saya order product di tanggal  11  september d...</td>\n",
              "      <td>Negatif</td>\n",
              "    </tr>\n",
              "    <tr>\n",
              "      <th>5</th>\n",
              "      <td>kecewa sekali dengan customer service nya soci...</td>\n",
              "      <td>Netral</td>\n",
              "    </tr>\n",
              "  </tbody>\n",
              "</table>\n",
              "</div>"
            ],
            "text/plain": [
              "                                        data_cleaned Sentimen\n",
              "0                                               good  Positif\n",
              "1  senang belanja sini karena deh pasti original ...  Positif\n",
              "2  pertama kali order langsung kecewa di cancel k...  Negatif\n",
              "3  sociola parah proses refund tidak tahu harus t...  Negatif\n",
              "4  saya order product di tanggal  11  september d...  Negatif\n",
              "5  kecewa sekali dengan customer service nya soci...   Netral"
            ]
          },
          "metadata": {
            "tags": []
          },
          "execution_count": 3
        }
      ]
    },
    {
      "cell_type": "markdown",
      "metadata": {
        "id": "-gYgH0pu0584"
      },
      "source": [
        "# **BIDIRECTIONAL LSTM**"
      ]
    },
    {
      "cell_type": "code",
      "metadata": {
        "id": "rJpsbT2Qx8ZP"
      },
      "source": [
        "labels = dataset['Sentimen'].tolist()\n",
        "articles = dataset['data_cleaned'].astype(str).tolist()"
      ],
      "execution_count": 4,
      "outputs": []
    },
    {
      "cell_type": "code",
      "metadata": {
        "id": "OInEO71Qx8mw"
      },
      "source": [
        "vocab_size = 5000\n",
        "embedding_dim = 16\n",
        "max_length = 200\n",
        "trunc_type = 'post'\n",
        "padding_type = 'post'\n",
        "oov_tok = '<OOV>'\n",
        "training_portion = .8"
      ],
      "execution_count": 5,
      "outputs": []
    },
    {
      "cell_type": "code",
      "metadata": {
        "id": "kKjQoNwJ0gup"
      },
      "source": [
        "# Simple Split ... sebaiknya CV dan gunakan fungsi pisah train-test (misal sklearn)\n",
        "train_size = int(len(articles) * training_portion)\n",
        "\n",
        "train_articles = articles[0: train_size]\n",
        "train_labels = labels[0: train_size]\n",
        "validation_articles = articles[train_size:]\n",
        "validation_labels = labels[train_size:]"
      ],
      "execution_count": 6,
      "outputs": []
    },
    {
      "cell_type": "code",
      "metadata": {
        "colab": {
          "base_uri": "https://localhost:8080/",
          "height": 35
        },
        "id": "hPpd81Wg0g5H",
        "outputId": "aa6fedaa-ab29-4dc0-f6b2-29ba93e95563"
      },
      "source": [
        "# Siapkan Struktur Data Training Data\n",
        "tokenizer = Tokenizer(num_words = vocab_size, oov_token=oov_tok)\n",
        "tokenizer.fit_on_texts(train_articles)\n",
        "word_index = tokenizer.word_index\n",
        "train_sequences = tokenizer.texts_to_sequences(train_articles)\n",
        "train_padded = pad_sequences(train_sequences, maxlen=max_length, padding=padding_type, truncating=trunc_type)\n",
        "# Siapkan Struktur Data Test Data\n",
        "validation_sequences = tokenizer.texts_to_sequences(validation_articles)\n",
        "validation_padded = pad_sequences(validation_sequences, maxlen=max_length, padding=padding_type, truncating=trunc_type)\n",
        "# Siapkan Struktur data untuk Sentimen (perhatikan pada contoh ini sentimen adalah string)\n",
        "label_tokenizer = Tokenizer()\n",
        "label_tokenizer.fit_on_texts(labels)\n",
        "training_label_seq = np.array(label_tokenizer.texts_to_sequences(train_labels))\n",
        "validation_label_seq = np.array(label_tokenizer.texts_to_sequences(validation_labels))\n",
        "\n",
        "'Done'"
      ],
      "execution_count": 7,
      "outputs": [
        {
          "output_type": "execute_result",
          "data": {
            "application/vnd.google.colaboratory.intrinsic+json": {
              "type": "string"
            },
            "text/plain": [
              "'Done'"
            ]
          },
          "metadata": {
            "tags": []
          },
          "execution_count": 7
        }
      ]
    },
    {
      "cell_type": "code",
      "metadata": {
        "colab": {
          "base_uri": "https://localhost:8080/"
        },
        "id": "fUIMEpa80m5k",
        "outputId": "7c409e6c-8e67-4727-a140-fb4985abf018"
      },
      "source": [
        "model = tf.keras.Sequential([\n",
        "    tf.keras.layers.Embedding(vocab_size, embedding_dim),\n",
        "    tf.keras.layers.Bidirectional(tf.keras.layers.LSTM(embedding_dim)),\n",
        "    tf.keras.layers.Dense(embedding_dim, activation='relu'),\n",
        "    tf.keras.layers.Dense(4, activation='softmax')\n",
        "])\n",
        "print(model.summary())\n",
        "model.compile(loss='sparse_categorical_crossentropy', optimizer='adam', metrics=['accuracy'])"
      ],
      "execution_count": 8,
      "outputs": [
        {
          "output_type": "stream",
          "text": [
            "Model: \"sequential\"\n",
            "_________________________________________________________________\n",
            "Layer (type)                 Output Shape              Param #   \n",
            "=================================================================\n",
            "embedding (Embedding)        (None, None, 16)          80000     \n",
            "_________________________________________________________________\n",
            "bidirectional (Bidirectional (None, 32)                4224      \n",
            "_________________________________________________________________\n",
            "dense (Dense)                (None, 16)                528       \n",
            "_________________________________________________________________\n",
            "dense_1 (Dense)              (None, 4)                 68        \n",
            "=================================================================\n",
            "Total params: 84,820\n",
            "Trainable params: 84,820\n",
            "Non-trainable params: 0\n",
            "_________________________________________________________________\n",
            "None\n"
          ],
          "name": "stdout"
        }
      ]
    },
    {
      "cell_type": "code",
      "metadata": {
        "colab": {
          "base_uri": "https://localhost:8080/"
        },
        "id": "-hBlz6Gs0nE9",
        "outputId": "9a1f7710-94c1-41d5-b5dc-f30565883ff7"
      },
      "source": [
        "num_epochs = 10\n",
        "history = model.fit(train_padded, training_label_seq, epochs=num_epochs, validation_data=(validation_padded, validation_label_seq), verbose=2)\n",
        "lstm = history.history['accuracy']"
      ],
      "execution_count": 9,
      "outputs": [
        {
          "output_type": "stream",
          "text": [
            "Epoch 1/10\n",
            "52/52 - 10s - loss: 1.1755 - accuracy: 0.4481 - val_loss: 1.0061 - val_accuracy: 0.6506\n",
            "Epoch 2/10\n",
            "52/52 - 5s - loss: 0.9116 - accuracy: 0.6405 - val_loss: 0.8368 - val_accuracy: 0.6771\n",
            "Epoch 3/10\n",
            "52/52 - 5s - loss: 0.7198 - accuracy: 0.7117 - val_loss: 0.6763 - val_accuracy: 0.7494\n",
            "Epoch 4/10\n",
            "52/52 - 5s - loss: 0.6018 - accuracy: 0.7612 - val_loss: 0.5985 - val_accuracy: 0.7904\n",
            "Epoch 5/10\n",
            "52/52 - 5s - loss: 0.5411 - accuracy: 0.7919 - val_loss: 0.6367 - val_accuracy: 0.7566\n",
            "Epoch 6/10\n",
            "52/52 - 5s - loss: 0.5216 - accuracy: 0.8010 - val_loss: 0.5948 - val_accuracy: 0.8024\n",
            "Epoch 7/10\n",
            "52/52 - 5s - loss: 0.4992 - accuracy: 0.8028 - val_loss: 0.5969 - val_accuracy: 0.7880\n",
            "Epoch 8/10\n",
            "52/52 - 5s - loss: 0.4525 - accuracy: 0.8197 - val_loss: 0.6118 - val_accuracy: 0.7711\n",
            "Epoch 9/10\n",
            "52/52 - 5s - loss: 0.4205 - accuracy: 0.8287 - val_loss: 0.6604 - val_accuracy: 0.7494\n",
            "Epoch 10/10\n",
            "52/52 - 5s - loss: 0.3980 - accuracy: 0.8396 - val_loss: 0.7028 - val_accuracy: 0.7422\n"
          ],
          "name": "stdout"
        }
      ]
    },
    {
      "cell_type": "code",
      "metadata": {
        "colab": {
          "base_uri": "https://localhost:8080/",
          "height": 553
        },
        "id": "g4rqeQck0tGt",
        "outputId": "098ddd28-9cae-44ca-e3b5-5126f89e4776"
      },
      "source": [
        "import matplotlib.pyplot as plt\n",
        "\n",
        "def plot_graphs(history, string):\n",
        "    plt.plot(history.history[string])\n",
        "    plt.plot(history.history['val_'+string])\n",
        "    plt.xlabel(\"Epochs\")\n",
        "    plt.ylabel(string)\n",
        "    plt.legend([string, 'val_'+string])\n",
        "    plt.show()\n",
        "\n",
        "plot_graphs(history, \"accuracy\")\n",
        "plot_graphs(history, \"loss\")"
      ],
      "execution_count": 10,
      "outputs": [
        {
          "output_type": "display_data",
          "data": {
            "image/png": "[encoded data removed]",
            "text/plain": [
              "<Figure size 432x288 with 1 Axes>"
            ]
          },
          "metadata": {
            "tags": []
          }
        },
        {
          "output_type": "display_data",
          "data": {
            "image/png": "[encoded data removed]",
            "text/plain": [
              "<Figure size 432x288 with 1 Axes>"
            ]
          },
          "metadata": {
            "tags": []
          }
        }
      ]
    },
    {
      "cell_type": "code",
      "metadata": {
        "colab": {
          "base_uri": "https://localhost:8080/"
        },
        "id": "DcCtlqU50tPa",
        "outputId": "79977951-6f48-4d92-b93c-4a0208057ba5"
      },
      "source": [
        "data_cleaned = articles\n",
        "seq = tokenizer.texts_to_sequences(data_cleaned)\n",
        "padded = pad_sequences(seq, maxlen=max_length)\n",
        "pred = model.predict(padded)\n",
        "Sentimen = labels\n",
        "print(pred, Sentimen[np.argmax(pred)])"
      ],
      "execution_count": 11,
      "outputs": [
        {
          "output_type": "stream",
          "text": [
            "[[1.0511939e-04 6.6787474e-02 8.5054362e-01 8.2563788e-02]\n",
            " [1.3612924e-04 6.9406137e-02 8.4580374e-01 8.4653988e-02]\n",
            " [1.5229470e-04 7.1825951e-02 8.4029609e-01 8.7725624e-02]\n",
            " ...\n",
            " [1.2966030e-04 7.1208112e-02 8.4267122e-01 8.5990995e-02]\n",
            " [1.4391851e-04 7.4149579e-02 8.3525532e-01 9.0451188e-02]\n",
            " [1.6052647e-04 7.4055269e-02 8.3464432e-01 9.1139905e-02]] Positif\n"
          ],
          "name": "stdout"
        }
      ]
    },
    {
      "cell_type": "code",
      "metadata": {
        "colab": {
          "base_uri": "https://localhost:8080/"
        },
        "id": "BafpHgsH0y6b",
        "outputId": "2c7ac5c1-0530-4928-85ca-a3aefa9857c5"
      },
      "source": [
        "from sklearn.metrics import classification_report, confusion_matrix, accuracy_score\n",
        "pred = model.predict(validation_padded)\n",
        "print('Akurasi = ', accuracy_score(validation_label_seq, pred.argmax(axis=1)))\n",
        "print(confusion_matrix(validation_label_seq, pred.argmax(axis=1)))\n",
        "print(classification_report(validation_label_seq, pred.argmax(axis=1)))"
      ],
      "execution_count": 12,
      "outputs": [
        {
          "output_type": "stream",
          "text": [
            "Akurasi =  0.7421686746987952\n",
            "[[191  37   0]\n",
            " [ 13 117   0]\n",
            " [ 47  10   0]]\n",
            "              precision    recall  f1-score   support\n",
            "\n",
            "           1       0.76      0.84      0.80       228\n",
            "           2       0.71      0.90      0.80       130\n",
            "           3       0.00      0.00      0.00        57\n",
            "\n",
            "    accuracy                           0.74       415\n",
            "   macro avg       0.49      0.58      0.53       415\n",
            "weighted avg       0.64      0.74      0.69       415\n",
            "\n"
          ],
          "name": "stdout"
        },
        {
          "output_type": "stream",
          "text": [
            "/usr/local/lib/python3.7/dist-packages/sklearn/metrics/_classification.py:1272: UndefinedMetricWarning: Precision and F-score are ill-defined and being set to 0.0 in labels with no predicted samples. Use `zero_division` parameter to control this behavior.\n",
            "  _warn_prf(average, modifier, msg_start, len(result))\n"
          ],
          "name": "stderr"
        }
      ]
    },
    {
      "cell_type": "markdown",
      "metadata": {
        "id": "krEuOiqc08Dz"
      },
      "source": [
        "# **KNN**"
      ]
    },
    {
      "cell_type": "code",
      "metadata": {
        "colab": {
          "base_uri": "https://localhost:8080/"
        },
        "id": "E2FhMWf10zE_",
        "outputId": "4e13d00c-9e75-4aa0-979d-0710bee98f93"
      },
      "source": [
        "# Optimal parameter k-NN dengan GRIDSEARCH\n",
        "from sklearn.neighbors import KNeighborsClassifier\n",
        "from sklearn.model_selection import train_test_split\n",
        "from sklearn.feature_extraction.text import TfidfVectorizer\n",
        "\n",
        "seed = 99\n",
        "X = dataset['data_cleaned'].values.astype('U')\n",
        "y = dataset['Sentimen'].values.astype('U')\n",
        "\n",
        "X_train, X_test, y_train, y_test = train_test_split(X, y, test_size=0.2, random_state=seed)\n",
        "\n",
        "kCV = 10\n",
        "metric = 'accuracy'\n",
        "params = {}\n",
        "params['tfidfvectorizer__min_df'] = [10]\n",
        "params['tfidfvectorizer__max_df'] = [0.5]\n",
        "params['tfidfvectorizer__smooth_idf'] = [False]\n",
        "params['tfidfvectorizer__sublinear_tf'] = [True]\n",
        "params['tfidfvectorizer__ngram_range'] = [(1, 1)]\n",
        "params['kneighborsclassifier__n_neighbors'] = [5]\n",
        "params['kneighborsclassifier__weights'] = ('distance', 'uniform')\n",
        "\n",
        "pipe = make_pipeline(TfidfVectorizer(), KNeighborsClassifier())\n",
        "gridCV = GridSearchCV(pipe, params, cv=kCV, scoring=metric, verbose=1, n_jobs=-1)\n",
        "gridCV.fit(X_train, y_train)\n",
        "print(gridCV.best_score_)\n",
        "print(gridCV.best_params_)"
      ],
      "execution_count": 13,
      "outputs": [
        {
          "output_type": "stream",
          "text": [
            "Fitting 10 folds for each of 2 candidates, totalling 20 fits\n"
          ],
          "name": "stdout"
        },
        {
          "output_type": "stream",
          "text": [
            "[Parallel(n_jobs=-1)]: Using backend LokyBackend with 2 concurrent workers.\n"
          ],
          "name": "stderr"
        },
        {
          "output_type": "stream",
          "text": [
            "0.5651296093464768\n",
            "{'kneighborsclassifier__n_neighbors': 5, 'kneighborsclassifier__weights': 'uniform', 'tfidfvectorizer__max_df': 0.5, 'tfidfvectorizer__min_df': 10, 'tfidfvectorizer__ngram_range': (1, 1), 'tfidfvectorizer__smooth_idf': False, 'tfidfvectorizer__sublinear_tf': True}\n"
          ],
          "name": "stdout"
        },
        {
          "output_type": "stream",
          "text": [
            "[Parallel(n_jobs=-1)]: Done  20 out of  20 | elapsed:    2.0s finished\n"
          ],
          "name": "stderr"
        }
      ]
    },
    {
      "cell_type": "code",
      "metadata": {
        "colab": {
          "base_uri": "https://localhost:8080/"
        },
        "id": "DqzSp8Lw1Bbh",
        "outputId": "9e599929-9ccc-475f-ca85-60f727ef0074"
      },
      "source": [
        "knn_score = gridCV.best_score_\n",
        "#y_kNN = knn_score.predict(X_test)\n",
        "\n",
        "#knn_score = accuracy_score(y_test, y_kNN)\n",
        "print('Akurasi = ', knn_score)\n",
        "#print(confusion_matrix(y_test, y_kNN))\n",
        "#print(classification_report(y_test, y_kNN))"
      ],
      "execution_count": 14,
      "outputs": [
        {
          "output_type": "stream",
          "text": [
            "Akurasi =  0.5651296093464768\n"
          ],
          "name": "stdout"
        }
      ]
    },
    {
      "cell_type": "code",
      "metadata": {
        "id": "GI5fYPf_1BpO"
      },
      "source": [
        "tfidf_vectorizer = TfidfVectorizer(lowercase=True, smooth_idf= False, sublinear_tf=True, \n",
        "                                   ngram_range=(1, 1), max_df=0.5, min_df=10)"
      ],
      "execution_count": 15,
      "outputs": []
    },
    {
      "cell_type": "code",
      "metadata": {
        "colab": {
          "base_uri": "https://localhost:8080/"
        },
        "id": "_k88ChPf1B0T",
        "outputId": "57272361-88b3-4f70-b2d8-ecb3222ce23a"
      },
      "source": [
        "seed = 99\n",
        "X = dataset['data_cleaned'].values.astype('U')\n",
        "y = dataset['Sentimen'].values.astype('U')\n",
        "\n",
        "X_train, X_test, y_train, y_test = train_test_split(X, y, test_size=0.2, random_state=seed)\n",
        "X_train = tfidf_vectorizer.fit_transform(X_train) # \"Fit_Transform\"\n",
        "X_test = tfidf_vectorizer.transform(X_test) # Perhatikan disini hanya \"Transform\"\n",
        "\n",
        "print(X_train.shape, X_test.shape)"
      ],
      "execution_count": 16,
      "outputs": [
        {
          "output_type": "stream",
          "text": [
            "(1658, 331) (415, 331)\n"
          ],
          "name": "stdout"
        }
      ]
    },
    {
      "cell_type": "code",
      "metadata": {
        "colab": {
          "base_uri": "https://localhost:8080/"
        },
        "id": "_OW7chm71Kdv",
        "outputId": "ecd794a5-02f0-4073-9a6b-e6396514eb29"
      },
      "source": [
        "def hapusKosong(X,y):\n",
        "    y = y[X.getnnz(1)>0] # delete label dokumen yang memiliki row =0 di tfidf-nya\n",
        "    X = X[X.getnnz(1)>0] # Remove Zero Rows\n",
        "    return X, y\n",
        "\n",
        "X_train, y_train = hapusKosong(X_train, y_train)\n",
        "X_test, y_test = hapusKosong(X_test, y_test)\n",
        "print(X_train.shape, X_test.shape)"
      ],
      "execution_count": 17,
      "outputs": [
        {
          "output_type": "stream",
          "text": [
            "(1637, 331) (409, 331)\n"
          ],
          "name": "stdout"
        }
      ]
    },
    {
      "cell_type": "code",
      "metadata": {
        "colab": {
          "base_uri": "https://localhost:8080/"
        },
        "id": "VM8bpYrH1Li5",
        "outputId": "ec3255f9-84f7-4cb8-ce0b-aecf80196b9b"
      },
      "source": [
        "model = neighbors.KNeighborsClassifier(n_neighbors = 5, weights = 'distance')\n",
        "kNN = model.fit(X_train, y_train)\n",
        "y_kNN = kNN.predict(X_test)\n",
        "\n",
        "print('Akurasi = ', accuracy_score(y_test, y_kNN))\n",
        "print(confusion_matrix(y_test, y_kNN))\n",
        "print(classification_report(y_test, y_kNN))"
      ],
      "execution_count": 18,
      "outputs": [
        {
          "output_type": "stream",
          "text": [
            "Akurasi =  0.7163814180929096\n",
            "[[145  21  15]\n",
            " [ 41   7  11]\n",
            " [ 24   4 141]]\n",
            "              precision    recall  f1-score   support\n",
            "\n",
            "     Negatif       0.69      0.80      0.74       181\n",
            "      Netral       0.22      0.12      0.15        59\n",
            "     Positif       0.84      0.83      0.84       169\n",
            "\n",
            "    accuracy                           0.72       409\n",
            "   macro avg       0.58      0.58      0.58       409\n",
            "weighted avg       0.69      0.72      0.70       409\n",
            "\n"
          ],
          "name": "stdout"
        }
      ]
    },
    {
      "cell_type": "markdown",
      "metadata": {
        "id": "1H_310-w1UHF"
      },
      "source": [
        "# **SVM**"
      ]
    },
    {
      "cell_type": "code",
      "metadata": {
        "colab": {
          "base_uri": "https://localhost:8080/"
        },
        "id": "_yBt7ntj1Q-Z",
        "outputId": "d87127bf-0b1a-4294-c3d7-df19bf07c50b"
      },
      "source": [
        "# Optimal parameter SVM dengan GRIDSEARCH\n",
        "\n",
        "seed = 99\n",
        "X = dataset['data_cleaned'].values.astype('U')\n",
        "y = dataset['Sentimen'].values.astype('U')\n",
        "\n",
        "X_train, X_test, y_train, y_test = train_test_split(X, y, test_size=0.2, random_state=seed)\n",
        "paramsSVM = {}\n",
        "paramsSVM['tfidfvectorizer__min_df'] = [2]\n",
        "paramsSVM['tfidfvectorizer__max_df'] = [0.5]\n",
        "paramsSVM['tfidfvectorizer__smooth_idf'] = [True]\n",
        "paramsSVM['tfidfvectorizer__sublinear_tf'] = [True]\n",
        "paramsSVM['tfidfvectorizer__ngram_range'] = [(1, 1)]\n",
        "paramsSVM['svc__C'] = [10] #sp.stats.uniform(scale=1)\n",
        "paramsSVM['svc__gamma'] = [0.1]\n",
        "paramsSVM['svc__kernel'] = ['linear']\n",
        "paramsSVM['svc__decision_function_shape'] = ['ovo']\n",
        "\n",
        "pipeSVM = make_pipeline(TfidfVectorizer(), svm.SVC())\n",
        "gridsvmCV = GridSearchCV(pipeSVM, paramsSVM, cv=kCV, scoring=metric, verbose=1,  n_jobs=-1) # , pre_dispatch='2*n_jobs' pre_dispatch min 2* n_jobs\n",
        "gridsvmCV.fit(X_train, y_train)\n",
        "print(gridsvmCV.best_score_)\n",
        "print(gridsvmCV.best_params_)"
      ],
      "execution_count": 19,
      "outputs": [
        {
          "output_type": "stream",
          "text": [
            "Fitting 10 folds for each of 1 candidates, totalling 10 fits\n"
          ],
          "name": "stdout"
        },
        {
          "output_type": "stream",
          "text": [
            "[Parallel(n_jobs=-1)]: Using backend LokyBackend with 2 concurrent workers.\n",
            "[Parallel(n_jobs=-1)]: Done  10 out of  10 | elapsed:    2.4s finished\n"
          ],
          "name": "stderr"
        },
        {
          "output_type": "stream",
          "text": [
            "0.7086929536327127\n",
            "{'svc__C': 10, 'svc__decision_function_shape': 'ovo', 'svc__gamma': 0.1, 'svc__kernel': 'linear', 'tfidfvectorizer__max_df': 0.5, 'tfidfvectorizer__min_df': 2, 'tfidfvectorizer__ngram_range': (1, 1), 'tfidfvectorizer__smooth_idf': True, 'tfidfvectorizer__sublinear_tf': True}\n"
          ],
          "name": "stdout"
        }
      ]
    },
    {
      "cell_type": "code",
      "metadata": {
        "colab": {
          "base_uri": "https://localhost:8080/"
        },
        "id": "QTMGG8TB1RIl",
        "outputId": "29b457cc-2edf-4d22-df1a-bd8bba7eb9f2"
      },
      "source": [
        "svm_score = gridsvmCV.best_score_\n",
        "#y_pred = dSVM.predict(X_test)\n",
        "\n",
        "#svm_score = accuracy_score(y_test, y_pred)\n",
        "print('Akurasi = ', svm_score)\n",
        "#print(confusion_matrix(y_test, y_pred))\n",
        "#print(classification_report(y_test, y_pred))"
      ],
      "execution_count": 20,
      "outputs": [
        {
          "output_type": "stream",
          "text": [
            "Akurasi =  0.7086929536327127\n"
          ],
          "name": "stdout"
        }
      ]
    },
    {
      "cell_type": "code",
      "metadata": {
        "id": "YiAn6l2S1ZwN"
      },
      "source": [
        "tfidf_vectorizer = TfidfVectorizer(lowercase=True, smooth_idf= True, sublinear_tf=True, \n",
        "                                   ngram_range=(1, 1), max_df=0.5, min_df=2)"
      ],
      "execution_count": 21,
      "outputs": []
    },
    {
      "cell_type": "code",
      "metadata": {
        "colab": {
          "base_uri": "https://localhost:8080/"
        },
        "id": "kClRLF2d1Z7E",
        "outputId": "723353f8-6c07-4a36-a0dc-d28fc2884d75"
      },
      "source": [
        "seed = 99\n",
        "X = dataset['data_cleaned'].values.astype('U')\n",
        "y = dataset['Sentimen'].values.astype('U')\n",
        "\n",
        "X_train, X_test, y_train, y_test = train_test_split(X, y, test_size=0.2, random_state=seed)\n",
        "X_train = tfidf_vectorizer.fit_transform(X_train) # \"Fit_Transform\"\n",
        "X_test = tfidf_vectorizer.transform(X_test) # Perhatikan disini hanya \"Transform\"\n",
        "\n",
        "print(X_train.shape, X_test.shape)"
      ],
      "execution_count": 22,
      "outputs": [
        {
          "output_type": "stream",
          "text": [
            "(1658, 974) (415, 974)\n"
          ],
          "name": "stdout"
        }
      ]
    },
    {
      "cell_type": "code",
      "metadata": {
        "colab": {
          "base_uri": "https://localhost:8080/"
        },
        "id": "cp0RatJb1eDJ",
        "outputId": "98aaecc7-58ce-4141-cd49-64812d3abab7"
      },
      "source": [
        "def hapusKosong(X,y):\n",
        "    y = y[X.getnnz(1)>0] # delete label dokumen yang memiliki row =0 di tfidf-nya\n",
        "    X = X[X.getnnz(1)>0] # Remove Zero Rows\n",
        "    return X, y\n",
        "\n",
        "X_train, y_train = hapusKosong(X_train, y_train)\n",
        "X_test, y_test = hapusKosong(X_test, y_test)\n",
        "print(X_train.shape, X_test.shape)"
      ],
      "execution_count": 23,
      "outputs": [
        {
          "output_type": "stream",
          "text": [
            "(1651, 974) (412, 974)\n"
          ],
          "name": "stdout"
        }
      ]
    },
    {
      "cell_type": "code",
      "metadata": {
        "colab": {
          "base_uri": "https://localhost:8080/"
        },
        "id": "mIMlkZ8a1eNN",
        "outputId": "0cf4c79e-a4c4-4995-e4fb-9a90c19bb324"
      },
      "source": [
        "kCV = 10\n",
        "metric = 'accuracy'\n",
        "\n",
        "dSVM = svm.SVC(C = 10, kernel = 'linear', gamma = 0.1, decision_function_shape = 'ovo')\n",
        "dSVM.fit(X_train, y_train)\n",
        "y_SVM = dSVM.predict(X_test)\n",
        "print('Akurasi = ', accuracy_score(y_test, y_SVM))\n",
        "print(confusion_matrix(y_test, y_SVM))\n",
        "print(classification_report(y_test, y_SVM))"
      ],
      "execution_count": 24,
      "outputs": [
        {
          "output_type": "stream",
          "text": [
            "Akurasi =  0.7135922330097088\n",
            "[[140  21  21]\n",
            " [ 35  16   8]\n",
            " [ 26   7 138]]\n",
            "              precision    recall  f1-score   support\n",
            "\n",
            "     Negatif       0.70      0.77      0.73       182\n",
            "      Netral       0.36      0.27      0.31        59\n",
            "     Positif       0.83      0.81      0.82       171\n",
            "\n",
            "    accuracy                           0.71       412\n",
            "   macro avg       0.63      0.62      0.62       412\n",
            "weighted avg       0.70      0.71      0.71       412\n",
            "\n"
          ],
          "name": "stdout"
        }
      ]
    },
    {
      "cell_type": "markdown",
      "metadata": {
        "id": "APUmMm_-1nEb"
      },
      "source": [
        "# **ANN**"
      ]
    },
    {
      "cell_type": "code",
      "metadata": {
        "colab": {
          "base_uri": "https://localhost:8080/"
        },
        "id": "kcxtvpWm1nhH",
        "outputId": "74439be9-067d-4dff-e6a5-1d51e5d389ad"
      },
      "source": [
        "# Optimal parameter ANN dengan RandomSEARCH\n",
        "from sklearn.neural_network import MLPClassifier\n",
        "\n",
        "seed = 99\n",
        "X = dataset['data_cleaned'].values.astype('U')\n",
        "y = dataset['Sentimen'].values.astype('U')\n",
        "\n",
        "X_train, X_test, y_train, y_test = train_test_split(X, y, test_size=0.2, random_state=seed)\n",
        "paramsNN = {}\n",
        "paramsNN['tfidfvectorizer__min_df'] = [5]\n",
        "paramsNN['tfidfvectorizer__max_df'] = [0.95]\n",
        "paramsNN['tfidfvectorizer__smooth_idf'] = [False]\n",
        "paramsNN['tfidfvectorizer__sublinear_tf'] = [True]\n",
        "paramsNN['tfidfvectorizer__ngram_range'] = [(1, 1)]\n",
        "paramsNN['mlpclassifier__hidden_layer_sizes'] = [(20,30)]\n",
        "paramsNN['mlpclassifier__learning_rate'] = ['adaptive']\n",
        "paramsNN['mlpclassifier__activation'] = ['logistic']\n",
        "\n",
        "pipeNN = make_pipeline(TfidfVectorizer(), MLPClassifier())\n",
        "randNnCV = RandomizedSearchCV(pipeNN, paramsNN, cv=kCV, scoring=metric, verbose=1, n_iter=30, random_state=seed, n_jobs=-1) # , pre_dispatch='2*n_jobs' pre_dispatch min 2* n_jobs\n",
        "randNnCV.fit(X_train, y_train)\n",
        "print(randNnCV.best_score_)\n",
        "print(randNnCV.best_params_)"
      ],
      "execution_count": 25,
      "outputs": [
        {
          "output_type": "stream",
          "text": [
            "Fitting 10 folds for each of 1 candidates, totalling 10 fits\n"
          ],
          "name": "stdout"
        },
        {
          "output_type": "stream",
          "text": [
            "/usr/local/lib/python3.7/dist-packages/sklearn/model_selection/_search.py:281: UserWarning: The total space of parameters 1 is smaller than n_iter=30. Running 1 iterations. For exhaustive searches, use GridSearchCV.\n",
            "  % (grid_size, self.n_iter, grid_size), UserWarning)\n",
            "[Parallel(n_jobs=-1)]: Using backend LokyBackend with 2 concurrent workers.\n",
            "[Parallel(n_jobs=-1)]: Done  10 out of  10 | elapsed:   20.9s finished\n"
          ],
          "name": "stderr"
        },
        {
          "output_type": "stream",
          "text": [
            "0.7340124132895218\n",
            "{'tfidfvectorizer__sublinear_tf': True, 'tfidfvectorizer__smooth_idf': False, 'tfidfvectorizer__ngram_range': (1, 1), 'tfidfvectorizer__min_df': 5, 'tfidfvectorizer__max_df': 0.95, 'mlpclassifier__learning_rate': 'adaptive', 'mlpclassifier__hidden_layer_sizes': (20, 30), 'mlpclassifier__activation': 'logistic'}\n"
          ],
          "name": "stdout"
        },
        {
          "output_type": "stream",
          "text": [
            "/usr/local/lib/python3.7/dist-packages/sklearn/neural_network/_multilayer_perceptron.py:571: ConvergenceWarning: Stochastic Optimizer: Maximum iterations (200) reached and the optimization hasn't converged yet.\n",
            "  % self.max_iter, ConvergenceWarning)\n"
          ],
          "name": "stderr"
        }
      ]
    },
    {
      "cell_type": "code",
      "metadata": {
        "colab": {
          "base_uri": "https://localhost:8080/"
        },
        "id": "QHc-Ov611pEw",
        "outputId": "f1a1c5b9-fd63-4186-a60d-2486cf2e1e81"
      },
      "source": [
        "nn_score = randNnCV.best_score_\n",
        "#y_NN = NN.predict(X_test)\n",
        "\n",
        "#nn_score = accuracy_score(y_test, y_NN)\n",
        "print('Akurasi = ', nn_score)\n",
        "#print(confusion_matrix(y_test, y_NN))\n",
        "#print(classification_report(y_test, y_NN))"
      ],
      "execution_count": 26,
      "outputs": [
        {
          "output_type": "stream",
          "text": [
            "Akurasi =  0.7340124132895218\n"
          ],
          "name": "stdout"
        }
      ]
    },
    {
      "cell_type": "code",
      "metadata": {
        "id": "_dgfmoIS1pS8"
      },
      "source": [
        "seed = 99\n",
        "X = dataset['data_cleaned'].values.astype('U')\n",
        "y = dataset['Sentimen'].values.astype('U')\n",
        "\n",
        "X_train, X_test, y_train, y_test = train_test_split(X, y, test_size=0.2, random_state=seed)"
      ],
      "execution_count": 27,
      "outputs": []
    },
    {
      "cell_type": "code",
      "metadata": {
        "colab": {
          "base_uri": "https://localhost:8080/"
        },
        "id": "auc920ke1uUf",
        "outputId": "24c3a62d-ca61-4b48-c1a2-507a09563374"
      },
      "source": [
        "tfidf_vectorizer = TfidfVectorizer(lowercase=True, smooth_idf= False, sublinear_tf=True, \n",
        "                                   ngram_range=(1, 1), max_df=0.95, min_df=5)\n",
        "\n",
        "X_train = tfidf_vectorizer.fit_transform(X_train) # \"Fit_Transform\"\n",
        "X_test = tfidf_vectorizer.transform(X_test) # Perhatikan disini hanya \"Transform\"\n",
        "\n",
        "print(X_train.shape, X_test.shape)"
      ],
      "execution_count": 28,
      "outputs": [
        {
          "output_type": "stream",
          "text": [
            "(1658, 510) (415, 510)\n"
          ],
          "name": "stdout"
        }
      ]
    },
    {
      "cell_type": "code",
      "metadata": {
        "colab": {
          "base_uri": "https://localhost:8080/"
        },
        "id": "reKh0if41ud3",
        "outputId": "c307d7e7-a9ac-4f3f-93de-c1cb72448882"
      },
      "source": [
        "def hapusKosong(X,y):\n",
        "    y = y[X.getnnz(1)>0] # delete label dokumen yang memiliki row =0 di tfidf-nya\n",
        "    X = X[X.getnnz(1)>0] # Remove Zero Rows\n",
        "    return X, y\n",
        "\n",
        "X_train, y_train = hapusKosong(X_train, y_train)\n",
        "X_test, y_test = hapusKosong(X_test, y_test)\n",
        "print(X_train.shape, X_test.shape)"
      ],
      "execution_count": 29,
      "outputs": [
        {
          "output_type": "stream",
          "text": [
            "(1641, 510) (411, 510)\n"
          ],
          "name": "stdout"
        }
      ]
    },
    {
      "cell_type": "code",
      "metadata": {
        "colab": {
          "base_uri": "https://localhost:8080/"
        },
        "id": "I09VVs-X1ze4",
        "outputId": "a2d1732d-dad5-430c-8044-f18622ce6f71"
      },
      "source": [
        "NN = MLPClassifier(hidden_layer_sizes = (20,30), learning_rate = 'adaptive', activation = 'logistic')\n",
        "NN.fit(X_train, y_train)\n",
        "y_NN = NN.predict(X_test)\n",
        "\n",
        "print('Akurasi = ', accuracy_score(y_test, y_NN))\n",
        "print(confusion_matrix(y_test, y_NN))\n",
        "print(classification_report(y_test, y_NN))"
      ],
      "execution_count": 30,
      "outputs": [
        {
          "output_type": "stream",
          "text": [
            "Akurasi =  0.7299270072992701\n",
            "[[149  13  19]\n",
            " [ 40   6  13]\n",
            " [ 24   2 145]]\n",
            "              precision    recall  f1-score   support\n",
            "\n",
            "     Negatif       0.70      0.82      0.76       181\n",
            "      Netral       0.29      0.10      0.15        59\n",
            "     Positif       0.82      0.85      0.83       171\n",
            "\n",
            "    accuracy                           0.73       411\n",
            "   macro avg       0.60      0.59      0.58       411\n",
            "weighted avg       0.69      0.73      0.70       411\n",
            "\n"
          ],
          "name": "stdout"
        },
        {
          "output_type": "stream",
          "text": [
            "/usr/local/lib/python3.7/dist-packages/sklearn/neural_network/_multilayer_perceptron.py:571: ConvergenceWarning: Stochastic Optimizer: Maximum iterations (200) reached and the optimization hasn't converged yet.\n",
            "  % self.max_iter, ConvergenceWarning)\n"
          ],
          "name": "stderr"
        }
      ]
    },
    {
      "cell_type": "markdown",
      "metadata": {
        "id": "SD-O13mu15K0"
      },
      "source": [
        "# **DECISION TREE**"
      ]
    },
    {
      "cell_type": "code",
      "metadata": {
        "id": "6VlBlSqJ1zsy"
      },
      "source": [
        "seed = 99\n",
        "X = dataset['data_cleaned'].values.astype('U')\n",
        "y = dataset['Sentimen'].values.astype('U')\n",
        "\n",
        "X_train, X_test, y_train, y_test = train_test_split(X, y, test_size=0.2, random_state=seed)"
      ],
      "execution_count": 31,
      "outputs": []
    },
    {
      "cell_type": "code",
      "metadata": {
        "colab": {
          "base_uri": "https://localhost:8080/"
        },
        "id": "U9XLHuiU1z0b",
        "outputId": "ca15b447-8b1f-40a7-bbeb-a2941171ca35"
      },
      "source": [
        "from sklearn.feature_extraction.text import TfidfVectorizer\n",
        "\n",
        "tfidf_vectorizer = TfidfVectorizer(lowercase=True, smooth_idf= True, sublinear_tf=True, \n",
        "                                   ngram_range=(1, 2), max_df=0.90, min_df=2)\n",
        "\n",
        "X_train = tfidf_vectorizer.fit_transform(X_train) # \"Fit_Transform\"\n",
        "X_test = tfidf_vectorizer.transform(X_test) # Perhatikan disini hanya \"Transform\"\n",
        "\n",
        "print(X_train.shape, X_test.shape)"
      ],
      "execution_count": 32,
      "outputs": [
        {
          "output_type": "stream",
          "text": [
            "(1658, 3878) (415, 3878)\n"
          ],
          "name": "stdout"
        }
      ]
    },
    {
      "cell_type": "code",
      "metadata": {
        "colab": {
          "base_uri": "https://localhost:8080/"
        },
        "id": "nt763Fmp1-TX",
        "outputId": "8badb926-76cf-4ba1-f975-2ad8075d94c9"
      },
      "source": [
        "def hapusKosong(X,y):\n",
        "    y = y[X.getnnz(1)>0] # delete label dokumen yang memiliki row =0 di tfidf-nya\n",
        "    X = X[X.getnnz(1)>0] # Remove Zero Rows\n",
        "    return X, y\n",
        "\n",
        "X_train, y_train = hapusKosong(X_train, y_train)\n",
        "X_test, y_test = hapusKosong(X_test, y_test)\n",
        "print(X_train.shape, X_test.shape)"
      ],
      "execution_count": 33,
      "outputs": [
        {
          "output_type": "stream",
          "text": [
            "(1651, 3878) (412, 3878)\n"
          ],
          "name": "stdout"
        }
      ]
    },
    {
      "cell_type": "code",
      "metadata": {
        "colab": {
          "base_uri": "https://localhost:8080/"
        },
        "id": "aCarnvWg1-g_",
        "outputId": "2d17057a-cdd8-4d79-abc0-2cc86fd1b296"
      },
      "source": [
        "# Decision Tree Classification\n",
        "dt = tree.DecisionTreeClassifier()\n",
        "dt.fit(X_train, y_train)\n",
        "y_dt = dt.predict(X_test)\n",
        "\n",
        "dt_score = accuracy_score(y_test, y_dt)\n",
        "print('Akurasi = ', dt_score)\n",
        "print(confusion_matrix(y_test, y_dt))\n",
        "print(classification_report(y_test, y_dt))"
      ],
      "execution_count": 34,
      "outputs": [
        {
          "output_type": "stream",
          "text": [
            "Akurasi =  0.6553398058252428\n",
            "[[129  27  26]\n",
            " [ 37  11  11]\n",
            " [ 34   7 130]]\n",
            "              precision    recall  f1-score   support\n",
            "\n",
            "     Negatif       0.65      0.71      0.68       182\n",
            "      Netral       0.24      0.19      0.21        59\n",
            "     Positif       0.78      0.76      0.77       171\n",
            "\n",
            "    accuracy                           0.66       412\n",
            "   macro avg       0.56      0.55      0.55       412\n",
            "weighted avg       0.64      0.66      0.65       412\n",
            "\n"
          ],
          "name": "stdout"
        }
      ]
    },
    {
      "cell_type": "markdown",
      "metadata": {
        "id": "UBBA-wzN2Gef"
      },
      "source": [
        "# **RANDOM FOREST**"
      ]
    },
    {
      "cell_type": "code",
      "metadata": {
        "colab": {
          "base_uri": "https://localhost:8080/"
        },
        "id": "BiQa0KN52HCX",
        "outputId": "1d58ee54-3f51-49fb-8de2-bef07167af43"
      },
      "source": [
        "# Random Forest Classification\n",
        "\n",
        "rf = RandomForestClassifier(n_estimators = 1000)\n",
        "rf.fit(X_train, y_train)\n",
        "y_rf = rf.predict(X_test)\n",
        "\n",
        "rf_score = accuracy_score(y_test, y_rf)\n",
        "print('Akurasi = ', rf_score)\n",
        "print(confusion_matrix(y_test, y_rf))\n",
        "print(classification_report(y_test, y_rf))"
      ],
      "execution_count": 35,
      "outputs": [
        {
          "output_type": "stream",
          "text": [
            "Akurasi =  0.7524271844660194\n",
            "[[172   1   9]\n",
            " [ 51   1   7]\n",
            " [ 32   2 137]]\n",
            "              precision    recall  f1-score   support\n",
            "\n",
            "     Negatif       0.67      0.95      0.79       182\n",
            "      Netral       0.25      0.02      0.03        59\n",
            "     Positif       0.90      0.80      0.85       171\n",
            "\n",
            "    accuracy                           0.75       412\n",
            "   macro avg       0.61      0.59      0.55       412\n",
            "weighted avg       0.71      0.75      0.70       412\n",
            "\n"
          ],
          "name": "stdout"
        }
      ]
    },
    {
      "cell_type": "markdown",
      "metadata": {
        "id": "cLc1QKk82UoF"
      },
      "source": [
        "# **BOXPLOT SELEKSI MODEL**"
      ]
    },
    {
      "cell_type": "code",
      "metadata": {
        "colab": {
          "base_uri": "https://localhost:8080/",
          "height": 730
        },
        "id": "li4zYXO62VFb",
        "outputId": "349772fc-98e1-4a70-ff3a-afe9dec35fa7"
      },
      "source": [
        "#clf = LogisticRegression(solver='liblinear')\n",
        "kNN = neighbors.KNeighborsClassifier()\n",
        "dt = tree.DecisionTreeClassifier()\n",
        "rf = RandomForestClassifier()\n",
        "Models = [('DT', dt), ('RF', rf), ('k-NN',kNN), ('SVM', dSVM), ('NN',NN)]\n",
        "Scores = {}\n",
        "for model_name, model in Models:\n",
        "    Scores[model_name] = cross_val_score(model, X_train, y_train, cv=10, scoring='accuracy')\n",
        "Scores['BiLSTM'] = lstm\n",
        "dt = pd.DataFrame.from_dict(Scores)\n",
        "ax = sns.boxplot(data=dt)\n",
        "for m, s in Scores.items():\n",
        "    print(m, list(s)[:1])"
      ],
      "execution_count": 36,
      "outputs": [
        {
          "output_type": "stream",
          "text": [
            "/usr/local/lib/python3.7/dist-packages/sklearn/neural_network/_multilayer_perceptron.py:571: ConvergenceWarning: Stochastic Optimizer: Maximum iterations (200) reached and the optimization hasn't converged yet.\n",
            "  % self.max_iter, ConvergenceWarning)\n",
            "/usr/local/lib/python3.7/dist-packages/sklearn/neural_network/_multilayer_perceptron.py:571: ConvergenceWarning: Stochastic Optimizer: Maximum iterations (200) reached and the optimization hasn't converged yet.\n",
            "  % self.max_iter, ConvergenceWarning)\n",
            "/usr/local/lib/python3.7/dist-packages/sklearn/neural_network/_multilayer_perceptron.py:571: ConvergenceWarning: Stochastic Optimizer: Maximum iterations (200) reached and the optimization hasn't converged yet.\n",
            "  % self.max_iter, ConvergenceWarning)\n",
            "/usr/local/lib/python3.7/dist-packages/sklearn/neural_network/_multilayer_perceptron.py:571: ConvergenceWarning: Stochastic Optimizer: Maximum iterations (200) reached and the optimization hasn't converged yet.\n",
            "  % self.max_iter, ConvergenceWarning)\n",
            "/usr/local/lib/python3.7/dist-packages/sklearn/neural_network/_multilayer_perceptron.py:571: ConvergenceWarning: Stochastic Optimizer: Maximum iterations (200) reached and the optimization hasn't converged yet.\n",
            "  % self.max_iter, ConvergenceWarning)\n",
            "/usr/local/lib/python3.7/dist-packages/sklearn/neural_network/_multilayer_perceptron.py:571: ConvergenceWarning: Stochastic Optimizer: Maximum iterations (200) reached and the optimization hasn't converged yet.\n",
            "  % self.max_iter, ConvergenceWarning)\n",
            "/usr/local/lib/python3.7/dist-packages/sklearn/neural_network/_multilayer_perceptron.py:571: ConvergenceWarning: Stochastic Optimizer: Maximum iterations (200) reached and the optimization hasn't converged yet.\n",
            "  % self.max_iter, ConvergenceWarning)\n",
            "/usr/local/lib/python3.7/dist-packages/sklearn/neural_network/_multilayer_perceptron.py:571: ConvergenceWarning: Stochastic Optimizer: Maximum iterations (200) reached and the optimization hasn't converged yet.\n",
            "  % self.max_iter, ConvergenceWarning)\n",
            "/usr/local/lib/python3.7/dist-packages/sklearn/neural_network/_multilayer_perceptron.py:571: ConvergenceWarning: Stochastic Optimizer: Maximum iterations (200) reached and the optimization hasn't converged yet.\n",
            "  % self.max_iter, ConvergenceWarning)\n",
            "/usr/local/lib/python3.7/dist-packages/sklearn/neural_network/_multilayer_perceptron.py:571: ConvergenceWarning: Stochastic Optimizer: Maximum iterations (200) reached and the optimization hasn't converged yet.\n",
            "  % self.max_iter, ConvergenceWarning)\n"
          ],
          "name": "stderr"
        },
        {
          "output_type": "stream",
          "text": [
            "DT [0.7289156626506024]\n",
            "RF [0.7289156626506024]\n",
            "k-NN [0.7710843373493976]\n",
            "SVM [0.7469879518072289]\n",
            "NN [0.7710843373493976]\n",
            "BiLSTM [0.4481302797794342]\n"
          ],
          "name": "stdout"
        },
        {
          "output_type": "display_data",
          "data": {
            "image/png": "[encoded data removed]",
            "text/plain": [
              "<Figure size 432x288 with 1 Axes>"
            ]
          },
          "metadata": {
            "tags": []
          }
        }
      ]
    },
    {
      "cell_type": "code",
      "metadata": {
        "id": "rwHa46Pa4ZmP"
      },
      "source": [
        ""
      ],
      "execution_count": 36,
      "outputs": []
    }
  ]
}