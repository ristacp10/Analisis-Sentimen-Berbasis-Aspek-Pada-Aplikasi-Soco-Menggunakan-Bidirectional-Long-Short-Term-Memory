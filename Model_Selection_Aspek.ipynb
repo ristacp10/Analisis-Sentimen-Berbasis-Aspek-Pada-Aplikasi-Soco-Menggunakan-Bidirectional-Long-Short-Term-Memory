{
  "nbformat": 4,
  "nbformat_minor": 0,
  "metadata": {
    "colab": {
      "name": "Model Selection Aspek.ipynb",
      "provenance": [],
      "authorship_tag": "ABX9TyOVYZKA2M5QTrJ89ckA3uwL",
      "include_colab_link": true
    },
    "kernelspec": {
      "name": "python3",
      "display_name": "Python 3"
    },
    "language_info": {
      "name": "python"
    }
  },
  "cells": [
    {
      "cell_type": "markdown",
      "metadata": {
        "id": "view-in-github",
        "colab_type": "text"
      },
      "source": [
        "<a href=\"https://colab.research.google.com/github/ristacp10/Analisis-Sentimen-Berbasis-Aspek-Pada-Aplikasi-Soco-Menggunakan-Bidirectional-Long-Short-Term-Memory/blob/main/Model_Selection_Aspek.ipynb\" target=\"_parent\"><img src=\"https://colab.research.google.com/assets/colab-badge.svg\" alt=\"Open In Colab\"/></a>"
      ]
    },
    {
      "cell_type": "code",
      "metadata": {
        "colab": {
          "base_uri": "https://localhost:8080/"
        },
        "id": "zSq8TfBEYs0Y",
        "outputId": "6e8325ff-e867-4f9d-e4b1-feac2c71e5bf"
      },
      "source": [
        "!mkdir CSV\n",
        "!wget -P CSV/ https://raw.githubusercontent.com/ristacp10/Analisis-Sentimen-Berbasis-Aspek-Pada-Aplikasi-Soco-Menggunakan-Bidirectional-Long-Short-Term-Memory/main/CSV/PREPROSS.csv"
      ],
      "execution_count": 1,
      "outputs": [
        {
          "output_type": "stream",
          "text": [
            "--2021-08-13 17:05:45--  https://raw.githubusercontent.com/ristacp10/Analisis-Sentimen-Berbasis-Aspek-Pada-Aplikasi-Soco-Menggunakan-Bidirectional-Long-Short-Term-Memory/main/CSV/PREPROSS.csv\n",
            "Resolving raw.githubusercontent.com (raw.githubusercontent.com)... 185.199.108.133, 185.199.109.133, 185.199.110.133, ...\n",
            "Connecting to raw.githubusercontent.com (raw.githubusercontent.com)|185.199.108.133|:443... connected.\n",
            "HTTP request sent, awaiting response... 200 OK\n",
            "Length: 333914 (326K) [text/plain]\n",
            "Saving to: ‘CSV/PREPROSS.csv’\n",
            "\n",
            "PREPROSS.csv        100%[===================>] 326.09K  --.-KB/s    in 0.03s   \n",
            "\n",
            "2021-08-13 17:05:45 (9.49 MB/s) - ‘CSV/PREPROSS.csv’ saved [333914/333914]\n",
            "\n"
          ],
          "name": "stdout"
        }
      ]
    },
    {
      "cell_type": "code",
      "metadata": {
        "colab": {
          "base_uri": "https://localhost:8080/"
        },
        "id": "1eQb7cozZHUA",
        "outputId": "64fa85d4-8349-45cd-fc0f-4c7bda7089da"
      },
      "source": [
        "!pip install graphviz dtreeviz\n",
        "import numpy as np\n",
        "import tensorflow as tf\n",
        "import nltk, pandas as pd; nltk.download('popular')\n",
        "import graphviz, matplotlib.pyplot as plt, seaborn as sns\n",
        "from tensorflow.keras.preprocessing.text import Tokenizer\n",
        "from tensorflow.keras.preprocessing.sequence import pad_sequences\n",
        "from tensorflow.keras.models import Sequential\n",
        "from tensorflow.keras.layers import Embedding\n",
        "from sklearn import svm\n",
        "from sklearn.svm import SVC\n",
        "import sklearn.metrics as metric\n",
        "from sklearn.metrics import classification_report, confusion_matrix, accuracy_score\n",
        "from sklearn.model_selection import cross_val_score, RandomizedSearchCV, GridSearchCV, train_test_split\n",
        "from sklearn.pipeline import make_pipeline\n",
        "from pandas.plotting import scatter_matrix \n",
        "from sklearn import model_selection, tree\n",
        "from sklearn import tree\n",
        "from dtreeviz.trees import *\n",
        "from IPython.core.display import display, HTML\n",
        "from matplotlib.colors import ListedColormap\n",
        "from sklearn.tree import DecisionTreeClassifier\n",
        "from sklearn.linear_model import LogisticRegression\n",
        "from sklearn import neighbors\n",
        "from sklearn.gaussian_process.kernels import RBF\n",
        "from sklearn.ensemble import RandomForestClassifier, AdaBoostClassifier\n",
        "from sklearn.datasets import make_blobs, make_moons, make_circles, make_classification\n",
        "from sklearn.ensemble import VotingClassifier\n",
        "from sklearn.feature_extraction.text import TfidfVectorizer\n",
        "from collections import Counter\n",
        "sns.set(style=\"ticks\", color_codes=True)"
      ],
      "execution_count": 2,
      "outputs": [
        {
          "output_type": "stream",
          "text": [
            "Requirement already satisfied: graphviz in /usr/local/lib/python3.7/dist-packages (0.10.1)\n",
            "Collecting dtreeviz\n",
            "  Downloading dtreeviz-1.3.tar.gz (60 kB)\n",
            "\u001b[K     |████████████████████████████████| 60 kB 3.3 MB/s \n",
            "\u001b[?25hRequirement already satisfied: pandas in /usr/local/lib/python3.7/dist-packages (from dtreeviz) (1.1.5)\n",
            "Requirement already satisfied: numpy in /usr/local/lib/python3.7/dist-packages (from dtreeviz) (1.19.5)\n",
            "Requirement already satisfied: scikit-learn in /usr/local/lib/python3.7/dist-packages (from dtreeviz) (0.22.2.post1)\n",
            "Requirement already satisfied: matplotlib in /usr/local/lib/python3.7/dist-packages (from dtreeviz) (3.2.2)\n",
            "Collecting colour\n",
            "  Downloading colour-0.1.5-py2.py3-none-any.whl (23 kB)\n",
            "Requirement already satisfied: pytest in /usr/local/lib/python3.7/dist-packages (from dtreeviz) (3.6.4)\n",
            "Requirement already satisfied: pyparsing!=2.0.4,!=2.1.2,!=2.1.6,>=2.0.1 in /usr/local/lib/python3.7/dist-packages (from matplotlib->dtreeviz) (2.4.7)\n",
            "Requirement already satisfied: python-dateutil>=2.1 in /usr/local/lib/python3.7/dist-packages (from matplotlib->dtreeviz) (2.8.2)\n",
            "Requirement already satisfied: kiwisolver>=1.0.1 in /usr/local/lib/python3.7/dist-packages (from matplotlib->dtreeviz) (1.3.1)\n",
            "Requirement already satisfied: cycler>=0.10 in /usr/local/lib/python3.7/dist-packages (from matplotlib->dtreeviz) (0.10.0)\n",
            "Requirement already satisfied: six in /usr/local/lib/python3.7/dist-packages (from cycler>=0.10->matplotlib->dtreeviz) (1.15.0)\n",
            "Requirement already satisfied: pytz>=2017.2 in /usr/local/lib/python3.7/dist-packages (from pandas->dtreeviz) (2018.9)\n",
            "Requirement already satisfied: atomicwrites>=1.0 in /usr/local/lib/python3.7/dist-packages (from pytest->dtreeviz) (1.4.0)\n",
            "Requirement already satisfied: more-itertools>=4.0.0 in /usr/local/lib/python3.7/dist-packages (from pytest->dtreeviz) (8.8.0)\n",
            "Requirement already satisfied: py>=1.5.0 in /usr/local/lib/python3.7/dist-packages (from pytest->dtreeviz) (1.10.0)\n",
            "Requirement already satisfied: attrs>=17.4.0 in /usr/local/lib/python3.7/dist-packages (from pytest->dtreeviz) (21.2.0)\n",
            "Requirement already satisfied: setuptools in /usr/local/lib/python3.7/dist-packages (from pytest->dtreeviz) (57.2.0)\n",
            "Requirement already satisfied: pluggy<0.8,>=0.5 in /usr/local/lib/python3.7/dist-packages (from pytest->dtreeviz) (0.7.1)\n",
            "Requirement already satisfied: joblib>=0.11 in /usr/local/lib/python3.7/dist-packages (from scikit-learn->dtreeviz) (1.0.1)\n",
            "Requirement already satisfied: scipy>=0.17.0 in /usr/local/lib/python3.7/dist-packages (from scikit-learn->dtreeviz) (1.4.1)\n",
            "Building wheels for collected packages: dtreeviz\n",
            "  Building wheel for dtreeviz (setup.py) ... \u001b[?25l\u001b[?25hdone\n",
            "  Created wheel for dtreeviz: filename=dtreeviz-1.3-py3-none-any.whl size=66637 sha256=d54a44120378a12f49891fd2760fd88031b73cd08bb3a49d7d2b9a87f1f0aef6\n",
            "  Stored in directory: /root/.cache/pip/wheels/9f/a6/a1/898c991294471015f13c1e5b456fb8134c1af835db4dd93a7a\n",
            "Successfully built dtreeviz\n",
            "Installing collected packages: colour, dtreeviz\n",
            "Successfully installed colour-0.1.5 dtreeviz-1.3\n",
            "[nltk_data] Downloading collection 'popular'\n",
            "[nltk_data]    | \n",
            "[nltk_data]    | Downloading package cmudict to /root/nltk_data...\n",
            "[nltk_data]    |   Unzipping corpora/cmudict.zip.\n",
            "[nltk_data]    | Downloading package gazetteers to /root/nltk_data...\n",
            "[nltk_data]    |   Unzipping corpora/gazetteers.zip.\n",
            "[nltk_data]    | Downloading package genesis to /root/nltk_data...\n",
            "[nltk_data]    |   Unzipping corpora/genesis.zip.\n",
            "[nltk_data]    | Downloading package gutenberg to /root/nltk_data...\n",
            "[nltk_data]    |   Unzipping corpora/gutenberg.zip.\n",
            "[nltk_data]    | Downloading package inaugural to /root/nltk_data...\n",
            "[nltk_data]    |   Unzipping corpora/inaugural.zip.\n",
            "[nltk_data]    | Downloading package movie_reviews to\n",
            "[nltk_data]    |     /root/nltk_data...\n",
            "[nltk_data]    |   Unzipping corpora/movie_reviews.zip.\n",
            "[nltk_data]    | Downloading package names to /root/nltk_data...\n",
            "[nltk_data]    |   Unzipping corpora/names.zip.\n",
            "[nltk_data]    | Downloading package shakespeare to /root/nltk_data...\n",
            "[nltk_data]    |   Unzipping corpora/shakespeare.zip.\n",
            "[nltk_data]    | Downloading package stopwords to /root/nltk_data...\n",
            "[nltk_data]    |   Unzipping corpora/stopwords.zip.\n",
            "[nltk_data]    | Downloading package treebank to /root/nltk_data...\n",
            "[nltk_data]    |   Unzipping corpora/treebank.zip.\n",
            "[nltk_data]    | Downloading package twitter_samples to\n",
            "[nltk_data]    |     /root/nltk_data...\n",
            "[nltk_data]    |   Unzipping corpora/twitter_samples.zip.\n",
            "[nltk_data]    | Downloading package omw to /root/nltk_data...\n",
            "[nltk_data]    |   Unzipping corpora/omw.zip.\n",
            "[nltk_data]    | Downloading package wordnet to /root/nltk_data...\n",
            "[nltk_data]    |   Unzipping corpora/wordnet.zip.\n",
            "[nltk_data]    | Downloading package wordnet_ic to /root/nltk_data...\n",
            "[nltk_data]    |   Unzipping corpora/wordnet_ic.zip.\n",
            "[nltk_data]    | Downloading package words to /root/nltk_data...\n",
            "[nltk_data]    |   Unzipping corpora/words.zip.\n",
            "[nltk_data]    | Downloading package maxent_ne_chunker to\n",
            "[nltk_data]    |     /root/nltk_data...\n",
            "[nltk_data]    |   Unzipping chunkers/maxent_ne_chunker.zip.\n",
            "[nltk_data]    | Downloading package punkt to /root/nltk_data...\n",
            "[nltk_data]    |   Unzipping tokenizers/punkt.zip.\n",
            "[nltk_data]    | Downloading package snowball_data to\n",
            "[nltk_data]    |     /root/nltk_data...\n",
            "[nltk_data]    | Downloading package averaged_perceptron_tagger to\n",
            "[nltk_data]    |     /root/nltk_data...\n",
            "[nltk_data]    |   Unzipping taggers/averaged_perceptron_tagger.zip.\n",
            "[nltk_data]    | \n",
            "[nltk_data]  Done downloading collection popular\n"
          ],
          "name": "stdout"
        }
      ]
    },
    {
      "cell_type": "code",
      "metadata": {
        "colab": {
          "base_uri": "https://localhost:8080/",
          "height": 204
        },
        "id": "mp_UcTD3dYf5",
        "outputId": "f0d4dea1-e5f5-43ad-bf55-f9addf3d5e6a"
      },
      "source": [
        "names = ['At','Sentimen', 'Review', 'Bintang', 'Aspek', 'data_cleaned_aspek']\n",
        "file = 'CSV/PREPROSS.csv'\n",
        " \n",
        "try:\n",
        "  data = pd.read_csv(file)\n",
        "except:\n",
        "  data = pd.read_csv(file, names=names).values\n",
        "\n",
        "dataset = pd.DataFrame()\n",
        "dataset = pd.DataFrame()\n",
        "dataset['data_cleaned_aspek'] = data['data_cleaned_aspek'].tolist()\n",
        "dataset['Aspek'] = data['Aspek'].tolist()\n",
        "dataset.head()"
      ],
      "execution_count": 3,
      "outputs": [
        {
          "output_type": "execute_result",
          "data": {
            "text/html": [
              "<div>\n",
              "<style scoped>\n",
              "    .dataframe tbody tr th:only-of-type {\n",
              "        vertical-align: middle;\n",
              "    }\n",
              "\n",
              "    .dataframe tbody tr th {\n",
              "        vertical-align: top;\n",
              "    }\n",
              "\n",
              "    .dataframe thead th {\n",
              "        text-align: right;\n",
              "    }\n",
              "</style>\n",
              "<table border=\"1\" class=\"dataframe\">\n",
              "  <thead>\n",
              "    <tr style=\"text-align: right;\">\n",
              "      <th></th>\n",
              "      <th>data_cleaned_aspek</th>\n",
              "      <th>Aspek</th>\n",
              "    </tr>\n",
              "  </thead>\n",
              "  <tbody>\n",
              "    <tr>\n",
              "      <th>0</th>\n",
              "      <td>good</td>\n",
              "      <td>Lainnya</td>\n",
              "    </tr>\n",
              "    <tr>\n",
              "      <th>1</th>\n",
              "      <td>belanja original bayar diskon responsif metode...</td>\n",
              "      <td>Layanan</td>\n",
              "    </tr>\n",
              "    <tr>\n",
              "      <th>2</th>\n",
              "      <td>kecewa cancel kosong proses uang sulit check o...</td>\n",
              "      <td>Layanan</td>\n",
              "    </tr>\n",
              "    <tr>\n",
              "      <th>3</th>\n",
              "      <td>parah proses refund masuk kerja uang  775   43...</td>\n",
              "      <td>Layanan</td>\n",
              "    </tr>\n",
              "    <tr>\n",
              "      <th>4</th>\n",
              "      <td>product tanggal  11  september udah  16  oktob...</td>\n",
              "      <td>Layanan</td>\n",
              "    </tr>\n",
              "  </tbody>\n",
              "</table>\n",
              "</div>"
            ],
            "text/plain": [
              "                                  data_cleaned_aspek    Aspek\n",
              "0                                               good  Lainnya\n",
              "1  belanja original bayar diskon responsif metode...  Layanan\n",
              "2  kecewa cancel kosong proses uang sulit check o...  Layanan\n",
              "3  parah proses refund masuk kerja uang  775   43...  Layanan\n",
              "4  product tanggal  11  september udah  16  oktob...  Layanan"
            ]
          },
          "metadata": {
            "tags": []
          },
          "execution_count": 3
        }
      ]
    },
    {
      "cell_type": "markdown",
      "metadata": {
        "id": "wivip0zxdb4u"
      },
      "source": [
        "# **BIDIRECTIONAL LSTM**"
      ]
    },
    {
      "cell_type": "code",
      "metadata": {
        "id": "tMfNPLj7dhEY"
      },
      "source": [
        "labels = dataset['Aspek'].tolist()\n",
        "articles = dataset['data_cleaned_aspek'].astype(str).tolist()"
      ],
      "execution_count": 4,
      "outputs": []
    },
    {
      "cell_type": "code",
      "metadata": {
        "id": "_ETUrzoodhM5"
      },
      "source": [
        "vocab_size = 5000\n",
        "embedding_dim = 16\n",
        "max_length = 200\n",
        "trunc_type = 'post'\n",
        "padding_type = 'post'\n",
        "oov_tok = '<OOV>'\n",
        "training_portion = .8"
      ],
      "execution_count": 5,
      "outputs": []
    },
    {
      "cell_type": "code",
      "metadata": {
        "id": "DNq7p7PZdhXg"
      },
      "source": [
        "# Simple Split ... sebaiknya CV dan gunakan fungsi pisah train-test (misal sklearn)\n",
        "train_size = int(len(articles) * training_portion)\n",
        "\n",
        "train_articles = articles[0: train_size]\n",
        "train_labels = labels[0: train_size]\n",
        "validation_articles = articles[train_size:]\n",
        "validation_labels = labels[train_size:]"
      ],
      "execution_count": 6,
      "outputs": []
    },
    {
      "cell_type": "code",
      "metadata": {
        "colab": {
          "base_uri": "https://localhost:8080/",
          "height": 35
        },
        "id": "SrU5rpxhdoWp",
        "outputId": "864f4538-c1b0-454b-cdf1-d3e5228ef7c4"
      },
      "source": [
        "# Siapkan Struktur Data Training Data\n",
        "tokenizer = Tokenizer(num_words = vocab_size, oov_token=oov_tok)\n",
        "tokenizer.fit_on_texts(train_articles)\n",
        "word_index = tokenizer.word_index\n",
        "train_sequences = tokenizer.texts_to_sequences(train_articles)\n",
        "train_padded = pad_sequences(train_sequences, maxlen=max_length, padding=padding_type, truncating=trunc_type)\n",
        "# Siapkan Struktur Data Test Data\n",
        "validation_sequences = tokenizer.texts_to_sequences(validation_articles)\n",
        "validation_padded = pad_sequences(validation_sequences, maxlen=max_length, padding=padding_type, truncating=trunc_type)\n",
        "# Siapkan Struktur data untuk Sentimen (perhatikan pada contoh ini sentimen adalah string)\n",
        "label_tokenizer = Tokenizer()\n",
        "label_tokenizer.fit_on_texts(labels)\n",
        "training_label_seq = np.array(label_tokenizer.texts_to_sequences(train_labels))\n",
        "validation_label_seq = np.array(label_tokenizer.texts_to_sequences(validation_labels))\n",
        "\n",
        "'Done'"
      ],
      "execution_count": 7,
      "outputs": [
        {
          "output_type": "execute_result",
          "data": {
            "application/vnd.google.colaboratory.intrinsic+json": {
              "type": "string"
            },
            "text/plain": [
              "'Done'"
            ]
          },
          "metadata": {
            "tags": []
          },
          "execution_count": 7
        }
      ]
    },
    {
      "cell_type": "code",
      "metadata": {
        "colab": {
          "base_uri": "https://localhost:8080/"
        },
        "id": "WshkLiFbdo1x",
        "outputId": "f90657d7-41b8-4e42-dc80-4e7406672c56"
      },
      "source": [
        "model = tf.keras.Sequential([\n",
        "    tf.keras.layers.Embedding(vocab_size, embedding_dim),\n",
        "    tf.keras.layers.Bidirectional(tf.keras.layers.LSTM(embedding_dim)),\n",
        "    tf.keras.layers.Dense(embedding_dim, activation='relu'),\n",
        "    tf.keras.layers.Dense(5, activation='softmax')\n",
        "])\n",
        "print(model.summary())\n",
        "model.compile(loss='sparse_categorical_crossentropy', optimizer='adam', metrics=['accuracy'])"
      ],
      "execution_count": 8,
      "outputs": [
        {
          "output_type": "stream",
          "text": [
            "Model: \"sequential\"\n",
            "_________________________________________________________________\n",
            "Layer (type)                 Output Shape              Param #   \n",
            "=================================================================\n",
            "embedding (Embedding)        (None, None, 16)          80000     \n",
            "_________________________________________________________________\n",
            "bidirectional (Bidirectional (None, 32)                4224      \n",
            "_________________________________________________________________\n",
            "dense (Dense)                (None, 16)                528       \n",
            "_________________________________________________________________\n",
            "dense_1 (Dense)              (None, 5)                 85        \n",
            "=================================================================\n",
            "Total params: 84,837\n",
            "Trainable params: 84,837\n",
            "Non-trainable params: 0\n",
            "_________________________________________________________________\n",
            "None\n"
          ],
          "name": "stdout"
        }
      ]
    },
    {
      "cell_type": "code",
      "metadata": {
        "colab": {
          "base_uri": "https://localhost:8080/"
        },
        "id": "t6gbtZfxdv_h",
        "outputId": "927d0cfc-564a-4fb3-c964-432637f91d2c"
      },
      "source": [
        "num_epochs = 10\n",
        "history = model.fit(train_padded, training_label_seq, epochs=num_epochs, validation_data=(validation_padded, validation_label_seq), verbose=2)\n",
        "lstm = history.history['accuracy']"
      ],
      "execution_count": 9,
      "outputs": [
        {
          "output_type": "stream",
          "text": [
            "Epoch 1/10\n",
            "52/52 - 9s - loss: 1.4358 - accuracy: 0.4843 - val_loss: 1.0643 - val_accuracy: 0.6193\n",
            "Epoch 2/10\n",
            "52/52 - 5s - loss: 1.1235 - accuracy: 0.5881 - val_loss: 0.9319 - val_accuracy: 0.6627\n",
            "Epoch 3/10\n",
            "52/52 - 5s - loss: 0.9525 - accuracy: 0.6309 - val_loss: 0.8840 - val_accuracy: 0.6795\n",
            "Epoch 4/10\n",
            "52/52 - 5s - loss: 0.8315 - accuracy: 0.6858 - val_loss: 0.8205 - val_accuracy: 0.6892\n",
            "Epoch 5/10\n",
            "52/52 - 5s - loss: 0.6979 - accuracy: 0.7497 - val_loss: 0.7731 - val_accuracy: 0.7181\n",
            "Epoch 6/10\n",
            "52/52 - 5s - loss: 0.5584 - accuracy: 0.7943 - val_loss: 0.7519 - val_accuracy: 0.7108\n",
            "Epoch 7/10\n",
            "52/52 - 5s - loss: 0.4664 - accuracy: 0.8166 - val_loss: 0.7703 - val_accuracy: 0.7108\n",
            "Epoch 8/10\n",
            "52/52 - 5s - loss: 0.4170 - accuracy: 0.8281 - val_loss: 0.8007 - val_accuracy: 0.6988\n",
            "Epoch 9/10\n",
            "52/52 - 5s - loss: 0.3721 - accuracy: 0.8456 - val_loss: 0.7603 - val_accuracy: 0.7349\n",
            "Epoch 10/10\n",
            "52/52 - 5s - loss: 0.3359 - accuracy: 0.8709 - val_loss: 0.7949 - val_accuracy: 0.7349\n"
          ],
          "name": "stdout"
        }
      ]
    },
    {
      "cell_type": "code",
      "metadata": {
        "colab": {
          "base_uri": "https://localhost:8080/",
          "height": 553
        },
        "id": "MNunFDTCdwKJ",
        "outputId": "1ff87377-837a-4d86-b581-35dfa782a693"
      },
      "source": [
        "import matplotlib.pyplot as plt\n",
        "\n",
        "def plot_graphs(history, string):\n",
        "    plt.plot(history.history[string])\n",
        "    plt.plot(history.history['val_'+string])\n",
        "    plt.xlabel(\"Epochs\")\n",
        "    plt.ylabel(string)\n",
        "    plt.legend([string, 'val_'+string])\n",
        "    plt.show()\n",
        "\n",
        "plot_graphs(history, \"accuracy\")\n",
        "plot_graphs(history, \"loss\")"
      ],
      "execution_count": 10,
      "outputs": [
        {
          "output_type": "display_data",
          "data": {
            "image/png": "[encoded data removed]",
            "text/plain": [
              "<Figure size 432x288 with 1 Axes>"
            ]
          },
          "metadata": {
            "tags": []
          }
        },
        {
          "output_type": "display_data",
          "data": {
            "image/png": "[encoded data removed]",
            "text/plain": [
              "<Figure size 432x288 with 1 Axes>"
            ]
          },
          "metadata": {
            "tags": []
          }
        }
      ]
    },
    {
      "cell_type": "code",
      "metadata": {
        "colab": {
          "base_uri": "https://localhost:8080/",
          "height": 197
        },
        "id": "BuN0hOzId_tj",
        "outputId": "75f76f8f-bb87-40f7-8d17-b40f50988e27"
      },
      "source": [
        "data_cleaned = articles\n",
        "seq = tokenizer.texts_to_sequences(data_cleaned)\n",
        "padded = pad_sequences(seq, maxlen=max_length)\n",
        "pred = model.predict(padded)\n",
        "Aspek = labels\n",
        "print(pred, Aspek[np.argmax(pred)])"
      ],
      "execution_count": 12,
      "outputs": [
        {
          "output_type": "error",
          "ename": "IndexError",
          "evalue": "ignored",
          "traceback": [
            "\u001b[0;31m---------------------------------------------------------------------------\u001b[0m",
            "\u001b[0;31mIndexError\u001b[0m                                Traceback (most recent call last)",
            "\u001b[0;32m<ipython-input-12-8f8e0b6c08d5>\u001b[0m in \u001b[0;36m<module>\u001b[0;34m()\u001b[0m\n\u001b[1;32m      4\u001b[0m \u001b[0mpred\u001b[0m \u001b[0;34m=\u001b[0m \u001b[0mmodel\u001b[0m\u001b[0;34m.\u001b[0m\u001b[0mpredict\u001b[0m\u001b[0;34m(\u001b[0m\u001b[0mpadded\u001b[0m\u001b[0;34m)\u001b[0m\u001b[0;34m\u001b[0m\u001b[0;34m\u001b[0m\u001b[0m\n\u001b[1;32m      5\u001b[0m \u001b[0mAspek\u001b[0m \u001b[0;34m=\u001b[0m \u001b[0mlabels\u001b[0m\u001b[0;34m\u001b[0m\u001b[0;34m\u001b[0m\u001b[0m\n\u001b[0;32m----> 6\u001b[0;31m \u001b[0mprint\u001b[0m\u001b[0;34m(\u001b[0m\u001b[0mpred\u001b[0m\u001b[0;34m,\u001b[0m \u001b[0mAspek\u001b[0m\u001b[0;34m[\u001b[0m\u001b[0mnp\u001b[0m\u001b[0;34m.\u001b[0m\u001b[0margmax\u001b[0m\u001b[0;34m(\u001b[0m\u001b[0mpred\u001b[0m\u001b[0;34m)\u001b[0m\u001b[0;34m]\u001b[0m\u001b[0;34m)\u001b[0m\u001b[0;34m\u001b[0m\u001b[0;34m\u001b[0m\u001b[0m\n\u001b[0m",
            "\u001b[0;31mIndexError\u001b[0m: list index out of range"
          ]
        }
      ]
    },
    {
      "cell_type": "code",
      "metadata": {
        "colab": {
          "base_uri": "https://localhost:8080/"
        },
        "id": "VbFtbYYXd_7A",
        "outputId": "33e4d26c-9e0f-4df7-b575-86138558e1f0"
      },
      "source": [
        "from sklearn.metrics import classification_report, confusion_matrix, accuracy_score\n",
        "pred = model.predict(validation_padded)\n",
        "print('Akurasi = ', accuracy_score(validation_label_seq, pred.argmax(axis=1)))\n",
        "print(confusion_matrix(validation_label_seq, pred.argmax(axis=1)))\n",
        "print(classification_report(validation_label_seq, pred.argmax(axis=1)))"
      ],
      "execution_count": 13,
      "outputs": [
        {
          "output_type": "stream",
          "text": [
            "Akurasi =  0.7349397590361446\n",
            "[[180  23  10   1]\n",
            " [ 55  99   2   2]\n",
            " [  9   1  14   2]\n",
            " [  1   2   2  12]]\n",
            "              precision    recall  f1-score   support\n",
            "\n",
            "           1       0.73      0.84      0.78       214\n",
            "           2       0.79      0.63      0.70       158\n",
            "           3       0.50      0.54      0.52        26\n",
            "           4       0.71      0.71      0.71        17\n",
            "\n",
            "    accuracy                           0.73       415\n",
            "   macro avg       0.68      0.68      0.68       415\n",
            "weighted avg       0.74      0.73      0.73       415\n",
            "\n"
          ],
          "name": "stdout"
        }
      ]
    },
    {
      "cell_type": "markdown",
      "metadata": {
        "id": "7oq0QFZda3UO"
      },
      "source": [
        "# **KNN**"
      ]
    },
    {
      "cell_type": "code",
      "metadata": {
        "colab": {
          "base_uri": "https://localhost:8080/"
        },
        "id": "lF08pAHiajbx",
        "outputId": "96345aa8-58a4-4585-c5b0-e843472de8cb"
      },
      "source": [
        "# Optimal parameter k-NN dengan GRIDSEARCH\n",
        "from sklearn.neighbors import KNeighborsClassifier\n",
        "from sklearn.model_selection import train_test_split\n",
        "from sklearn.feature_extraction.text import TfidfVectorizer\n",
        "\n",
        "seed = 99\n",
        "X = dataset['data_cleaned_aspek'].values.astype('U')\n",
        "y = dataset['Aspek'].values.astype('U')\n",
        "\n",
        "X_train, X_test, y_train, y_test = train_test_split(X, y, test_size=0.2, random_state=seed)\n",
        "\n",
        "kCV = 10\n",
        "metric = 'accuracy'\n",
        "params = {}\n",
        "params['tfidfvectorizer__min_df'] = [10]\n",
        "params['tfidfvectorizer__max_df'] = [0.5]\n",
        "params['tfidfvectorizer__smooth_idf'] = [False]\n",
        "params['tfidfvectorizer__sublinear_tf'] = [True]\n",
        "params['tfidfvectorizer__ngram_range'] = [(1, 1)]\n",
        "params['kneighborsclassifier__n_neighbors'] = [5]\n",
        "params['kneighborsclassifier__weights'] = ('distance', 'uniform')\n",
        "\n",
        "pipe = make_pipeline(TfidfVectorizer(), KNeighborsClassifier())\n",
        "gridCV = GridSearchCV(pipe, params, cv=kCV, scoring=metric, verbose=1, n_jobs=-1)\n",
        "gridCV.fit(X_train, y_train)\n",
        "print(gridCV.best_score_)\n",
        "print(gridCV.best_params_)"
      ],
      "execution_count": 15,
      "outputs": [
        {
          "output_type": "stream",
          "text": [
            "Fitting 10 folds for each of 2 candidates, totalling 20 fits\n"
          ],
          "name": "stdout"
        },
        {
          "output_type": "stream",
          "text": [
            "[Parallel(n_jobs=-1)]: Using backend LokyBackend with 2 concurrent workers.\n"
          ],
          "name": "stderr"
        },
        {
          "output_type": "stream",
          "text": [
            "0.7038590726542534\n",
            "{'kneighborsclassifier__n_neighbors': 5, 'kneighborsclassifier__weights': 'distance', 'tfidfvectorizer__max_df': 0.5, 'tfidfvectorizer__min_df': 10, 'tfidfvectorizer__ngram_range': (1, 1), 'tfidfvectorizer__smooth_idf': False, 'tfidfvectorizer__sublinear_tf': True}\n"
          ],
          "name": "stdout"
        },
        {
          "output_type": "stream",
          "text": [
            "[Parallel(n_jobs=-1)]: Done  20 out of  20 | elapsed:    1.6s finished\n"
          ],
          "name": "stderr"
        }
      ]
    },
    {
      "cell_type": "code",
      "metadata": {
        "colab": {
          "base_uri": "https://localhost:8080/"
        },
        "id": "fZxmKWxcapr2",
        "outputId": "a1735ee4-5330-4885-8ca5-fe9a5843c469"
      },
      "source": [
        "knn_score = gridCV.best_score_\n",
        "#y_kNN = knn_score.predict(X_test)\n",
        "\n",
        "#knn_score = accuracy_score(y_test, y_kNN)\n",
        "print('Akurasi = ', knn_score)\n",
        "#print(confusion_matrix(y_test, y_kNN))\n",
        "#print(classification_report(y_test, y_kNN))"
      ],
      "execution_count": 16,
      "outputs": [
        {
          "output_type": "stream",
          "text": [
            "Akurasi =  0.7038590726542534\n"
          ],
          "name": "stdout"
        }
      ]
    },
    {
      "cell_type": "code",
      "metadata": {
        "id": "NrGn1arjaqbx"
      },
      "source": [
        "tfidf_vectorizer = TfidfVectorizer(lowercase=True, smooth_idf= False, sublinear_tf=True, \n",
        "                                   ngram_range=(1, 1), max_df=0.5, min_df=10)"
      ],
      "execution_count": 17,
      "outputs": []
    },
    {
      "cell_type": "code",
      "metadata": {
        "colab": {
          "base_uri": "https://localhost:8080/"
        },
        "id": "9iCo7OpSaqkL",
        "outputId": "d3c0af5b-8c08-4450-9516-2f3675a036c5"
      },
      "source": [
        "seed = 99\n",
        "X = dataset['data_cleaned_aspek'].values.astype('U')\n",
        "y = dataset['Aspek'].values.astype('U')\n",
        "\n",
        "X_train, X_test, y_train, y_test = train_test_split(X, y, test_size=0.2, random_state=seed)\n",
        "X_train = tfidf_vectorizer.fit_transform(X_train) # \"Fit_Transform\"\n",
        "X_test = tfidf_vectorizer.transform(X_test) # Perhatikan disini hanya \"Transform\"\n",
        "\n",
        "print(X_train.shape, X_test.shape)"
      ],
      "execution_count": 18,
      "outputs": [
        {
          "output_type": "stream",
          "text": [
            "(1658, 147) (415, 147)\n"
          ],
          "name": "stdout"
        }
      ]
    },
    {
      "cell_type": "code",
      "metadata": {
        "colab": {
          "base_uri": "https://localhost:8080/"
        },
        "id": "eMcnuj8nawSp",
        "outputId": "1f5c4043-8a72-41f7-dfcf-cb6974ec635a"
      },
      "source": [
        "def hapusKosong(X,y):\n",
        "    y = y[X.getnnz(1)>0] # delete label dokumen yang memiliki row =0 di tfidf-nya\n",
        "    X = X[X.getnnz(1)>0] # Remove Zero Rows\n",
        "    return X, y\n",
        "\n",
        "X_train, y_train = hapusKosong(X_train, y_train)\n",
        "X_test, y_test = hapusKosong(X_test, y_test)\n",
        "print(X_train.shape, X_test.shape)"
      ],
      "execution_count": 19,
      "outputs": [
        {
          "output_type": "stream",
          "text": [
            "(1581, 147) (391, 147)\n"
          ],
          "name": "stdout"
        }
      ]
    },
    {
      "cell_type": "code",
      "metadata": {
        "colab": {
          "base_uri": "https://localhost:8080/"
        },
        "id": "UKTTwVZqawc6",
        "outputId": "c1799309-8728-4a5e-9999-57da10a6baae"
      },
      "source": [
        "model = neighbors.KNeighborsClassifier(n_neighbors = 5, weights = 'distance')\n",
        "kNN = model.fit(X_train, y_train)\n",
        "y_kNN = kNN.predict(X_test)\n",
        "\n",
        "print('Akurasi = ', accuracy_score(y_test, y_kNN))\n",
        "print(confusion_matrix(y_test, y_kNN))\n",
        "print(classification_report(y_test, y_kNN))"
      ],
      "execution_count": 20,
      "outputs": [
        {
          "output_type": "stream",
          "text": [
            "Akurasi =  0.7595907928388747\n",
            "[[113   2   1  15]\n",
            " [ 15  36   4   8]\n",
            " [  3   2  14   2]\n",
            " [ 34   6   2 134]]\n",
            "              precision    recall  f1-score   support\n",
            "\n",
            "     Lainnya       0.68      0.86      0.76       131\n",
            "     Layanan       0.78      0.57      0.66        63\n",
            "      Produk       0.67      0.67      0.67        21\n",
            "    Tampilan       0.84      0.76      0.80       176\n",
            "\n",
            "    accuracy                           0.76       391\n",
            "   macro avg       0.74      0.72      0.72       391\n",
            "weighted avg       0.77      0.76      0.76       391\n",
            "\n"
          ],
          "name": "stdout"
        }
      ]
    },
    {
      "cell_type": "markdown",
      "metadata": {
        "id": "lYW8JQLua-3t"
      },
      "source": [
        "# **SVM**"
      ]
    },
    {
      "cell_type": "code",
      "metadata": {
        "colab": {
          "base_uri": "https://localhost:8080/"
        },
        "id": "v37fSMpQa0Jy",
        "outputId": "89654a18-b80b-4696-9743-4b9e9884ad67"
      },
      "source": [
        "# Optimal parameter SVM dengan GRIDSEARCH\n",
        "\n",
        "seed = 99\n",
        "X = dataset['data_cleaned_aspek'].values.astype('U')\n",
        "y = dataset['Aspek'].values.astype('U')\n",
        "\n",
        "X_train, X_test, y_train, y_test = train_test_split(X, y, test_size=0.2, random_state=seed)\n",
        "paramsSVM = {}\n",
        "paramsSVM['tfidfvectorizer__min_df'] = [2]\n",
        "paramsSVM['tfidfvectorizer__max_df'] = [0.5]\n",
        "paramsSVM['tfidfvectorizer__smooth_idf'] = [True]\n",
        "paramsSVM['tfidfvectorizer__sublinear_tf'] = [True]\n",
        "paramsSVM['tfidfvectorizer__ngram_range'] = [(1, 1)]\n",
        "paramsSVM['svc__C'] = [10] #sp.stats.uniform(scale=1)\n",
        "paramsSVM['svc__gamma'] = [0.1]\n",
        "paramsSVM['svc__kernel'] = ['rbf']\n",
        "paramsSVM['svc__decision_function_shape'] = ['ovo']\n",
        "\n",
        "pipeSVM = make_pipeline(TfidfVectorizer(), svm.SVC())\n",
        "gridsvmCV = GridSearchCV(pipeSVM, paramsSVM, cv=kCV, scoring=metric, verbose=1,  n_jobs=-1) # , pre_dispatch='2*n_jobs' pre_dispatch min 2* n_jobs\n",
        "gridsvmCV.fit(X_train, y_train)\n",
        "print(gridsvmCV.best_score_)\n",
        "print(gridsvmCV.best_params_)"
      ],
      "execution_count": 21,
      "outputs": [
        {
          "output_type": "stream",
          "text": [
            "Fitting 10 folds for each of 1 candidates, totalling 10 fits\n"
          ],
          "name": "stdout"
        },
        {
          "output_type": "stream",
          "text": [
            "[Parallel(n_jobs=-1)]: Using backend LokyBackend with 2 concurrent workers.\n",
            "[Parallel(n_jobs=-1)]: Done  10 out of  10 | elapsed:    1.4s finished\n"
          ],
          "name": "stderr"
        },
        {
          "output_type": "stream",
          "text": [
            "0.777418765972983\n",
            "{'svc__C': 10, 'svc__decision_function_shape': 'ovo', 'svc__gamma': 0.1, 'svc__kernel': 'rbf', 'tfidfvectorizer__max_df': 0.5, 'tfidfvectorizer__min_df': 2, 'tfidfvectorizer__ngram_range': (1, 1), 'tfidfvectorizer__smooth_idf': True, 'tfidfvectorizer__sublinear_tf': True}\n"
          ],
          "name": "stdout"
        }
      ]
    },
    {
      "cell_type": "code",
      "metadata": {
        "colab": {
          "base_uri": "https://localhost:8080/"
        },
        "id": "n6GvQ1X7a0UE",
        "outputId": "dd7acf11-7886-4cf7-85a8-0610c9b1932b"
      },
      "source": [
        "svm_score = gridsvmCV.best_score_\n",
        "#y_pred = dSVM.predict(X_test)\n",
        "\n",
        "#svm_score = accuracy_score(y_test, y_pred)\n",
        "print('Akurasi = ', svm_score)\n",
        "#print(confusion_matrix(y_test, y_pred))\n",
        "#print(classification_report(y_test, y_pred))"
      ],
      "execution_count": 22,
      "outputs": [
        {
          "output_type": "stream",
          "text": [
            "Akurasi =  0.777418765972983\n"
          ],
          "name": "stdout"
        }
      ]
    },
    {
      "cell_type": "code",
      "metadata": {
        "id": "Q7oP9xY1a0sr"
      },
      "source": [
        "tfidf_vectorizer = TfidfVectorizer(lowercase=True, smooth_idf= True, sublinear_tf=True, \n",
        "                                   ngram_range=(1, 1), max_df=0.5, min_df=2)"
      ],
      "execution_count": 23,
      "outputs": []
    },
    {
      "cell_type": "code",
      "metadata": {
        "colab": {
          "base_uri": "https://localhost:8080/"
        },
        "id": "ugZTAm5Ta03A",
        "outputId": "9c69bf45-9c97-44b9-a158-787144efea8f"
      },
      "source": [
        "seed = 99\n",
        "X = dataset['data_cleaned_aspek'].values.astype('U')\n",
        "y = dataset['Aspek'].values.astype('U')\n",
        "\n",
        "X_train, X_test, y_train, y_test = train_test_split(X, y, test_size=0.2, random_state=seed)\n",
        "X_train = tfidf_vectorizer.fit_transform(X_train) # \"Fit_Transform\"\n",
        "X_test = tfidf_vectorizer.transform(X_test) # Perhatikan disini hanya \"Transform\"\n",
        "\n",
        "print(X_train.shape, X_test.shape)"
      ],
      "execution_count": 25,
      "outputs": [
        {
          "output_type": "stream",
          "text": [
            "(1658, 661) (415, 661)\n"
          ],
          "name": "stdout"
        }
      ]
    },
    {
      "cell_type": "code",
      "metadata": {
        "colab": {
          "base_uri": "https://localhost:8080/"
        },
        "id": "Up85JogabPvB",
        "outputId": "c954801d-a3ea-480e-8ad3-cffa4a7b5265"
      },
      "source": [
        "def hapusKosong(X,y):\n",
        "    y = y[X.getnnz(1)>0] # delete label dokumen yang memiliki row =0 di tfidf-nya\n",
        "    X = X[X.getnnz(1)>0] # Remove Zero Rows\n",
        "    return X, y\n",
        "\n",
        "X_train, y_train = hapusKosong(X_train, y_train)\n",
        "X_test, y_test = hapusKosong(X_test, y_test)\n",
        "print(X_train.shape, X_test.shape)"
      ],
      "execution_count": 26,
      "outputs": [
        {
          "output_type": "stream",
          "text": [
            "(1642, 661) (407, 661)\n"
          ],
          "name": "stdout"
        }
      ]
    },
    {
      "cell_type": "code",
      "metadata": {
        "colab": {
          "base_uri": "https://localhost:8080/"
        },
        "id": "5Npr_X6dbP3-",
        "outputId": "1d1f223b-b944-4284-94b5-a4350a89b6a5"
      },
      "source": [
        "kCV = 10\n",
        "metric = 'accuracy'\n",
        "\n",
        "dSVM = svm.SVC(C = 10, kernel = 'rbf', gamma = 0.1, decision_function_shape = 'ovo')\n",
        "dSVM.fit(X_train, y_train)\n",
        "y_SVM = dSVM.predict(X_test)\n",
        "print('Akurasi = ', accuracy_score(y_test, y_SVM))\n",
        "print(confusion_matrix(y_test, y_SVM))\n",
        "print(classification_report(y_test, y_SVM))"
      ],
      "execution_count": 27,
      "outputs": [
        {
          "output_type": "stream",
          "text": [
            "Akurasi =  0.8034398034398035\n",
            "[[118   4   1  18]\n",
            " [ 13  44   2   5]\n",
            " [  2   1  14   4]\n",
            " [ 22   7   1 151]]\n",
            "              precision    recall  f1-score   support\n",
            "\n",
            "     Lainnya       0.76      0.84      0.80       141\n",
            "     Layanan       0.79      0.69      0.73        64\n",
            "      Produk       0.78      0.67      0.72        21\n",
            "    Tampilan       0.85      0.83      0.84       181\n",
            "\n",
            "    accuracy                           0.80       407\n",
            "   macro avg       0.79      0.76      0.77       407\n",
            "weighted avg       0.80      0.80      0.80       407\n",
            "\n"
          ],
          "name": "stdout"
        }
      ]
    },
    {
      "cell_type": "markdown",
      "metadata": {
        "id": "OwEUyY9lbcEp"
      },
      "source": [
        "# **ANN**"
      ]
    },
    {
      "cell_type": "code",
      "metadata": {
        "colab": {
          "base_uri": "https://localhost:8080/"
        },
        "id": "IOsRFV8RbQE7",
        "outputId": "9b8e93f0-db67-42bb-e1ef-cab5784b1bc9"
      },
      "source": [
        "# Optimal parameter ANN dengan RandomSEARCH\n",
        "from sklearn.neural_network import MLPClassifier\n",
        "\n",
        "seed = 99\n",
        "X = dataset['data_cleaned_aspek'].values.astype('U')\n",
        "y = dataset['Aspek'].values.astype('U')\n",
        "\n",
        "X_train, X_test, y_train, y_test = train_test_split(X, y, test_size=0.2, random_state=seed)\n",
        "paramsNN = {}\n",
        "paramsNN['tfidfvectorizer__min_df'] = [5]\n",
        "paramsNN['tfidfvectorizer__max_df'] = [0.95]\n",
        "paramsNN['tfidfvectorizer__smooth_idf'] = [False]\n",
        "paramsNN['tfidfvectorizer__sublinear_tf'] = [True]\n",
        "paramsNN['tfidfvectorizer__ngram_range'] = [(1, 1)]\n",
        "paramsNN['mlpclassifier__hidden_layer_sizes'] = [(20,30)]\n",
        "paramsNN['mlpclassifier__learning_rate'] = ['adaptive']\n",
        "paramsNN['mlpclassifier__activation'] = ['logistic']\n",
        "\n",
        "pipeNN = make_pipeline(TfidfVectorizer(), MLPClassifier())\n",
        "randNnCV = RandomizedSearchCV(pipeNN, paramsNN, cv=kCV, scoring=metric, verbose=1, n_iter=30, random_state=seed, n_jobs=-1) # , pre_dispatch='2*n_jobs' pre_dispatch min 2* n_jobs\n",
        "randNnCV.fit(X_train, y_train)\n",
        "print(randNnCV.best_score_)\n",
        "print(randNnCV.best_params_)"
      ],
      "execution_count": 28,
      "outputs": [
        {
          "output_type": "stream",
          "text": [
            "/usr/local/lib/python3.7/dist-packages/sklearn/model_selection/_search.py:281: UserWarning: The total space of parameters 1 is smaller than n_iter=30. Running 1 iterations. For exhaustive searches, use GridSearchCV.\n",
            "  % (grid_size, self.n_iter, grid_size), UserWarning)\n",
            "[Parallel(n_jobs=-1)]: Using backend LokyBackend with 2 concurrent workers.\n"
          ],
          "name": "stderr"
        },
        {
          "output_type": "stream",
          "text": [
            "Fitting 10 folds for each of 1 candidates, totalling 10 fits\n"
          ],
          "name": "stdout"
        },
        {
          "output_type": "stream",
          "text": [
            "[Parallel(n_jobs=-1)]: Done  10 out of  10 | elapsed:   18.3s finished\n"
          ],
          "name": "stderr"
        },
        {
          "output_type": "stream",
          "text": [
            "0.7689813800657175\n",
            "{'tfidfvectorizer__sublinear_tf': True, 'tfidfvectorizer__smooth_idf': False, 'tfidfvectorizer__ngram_range': (1, 1), 'tfidfvectorizer__min_df': 5, 'tfidfvectorizer__max_df': 0.95, 'mlpclassifier__learning_rate': 'adaptive', 'mlpclassifier__hidden_layer_sizes': (20, 30), 'mlpclassifier__activation': 'logistic'}\n"
          ],
          "name": "stdout"
        },
        {
          "output_type": "stream",
          "text": [
            "/usr/local/lib/python3.7/dist-packages/sklearn/neural_network/_multilayer_perceptron.py:571: ConvergenceWarning: Stochastic Optimizer: Maximum iterations (200) reached and the optimization hasn't converged yet.\n",
            "  % self.max_iter, ConvergenceWarning)\n"
          ],
          "name": "stderr"
        }
      ]
    },
    {
      "cell_type": "code",
      "metadata": {
        "colab": {
          "base_uri": "https://localhost:8080/"
        },
        "id": "_8_5Iahcbfzl",
        "outputId": "00d95872-1b07-412a-fc83-ae8f22b4c707"
      },
      "source": [
        "nn_score = randNnCV.best_score_\n",
        "#y_NN = NN.predict(X_test)\n",
        "\n",
        "#nn_score = accuracy_score(y_test, y_NN)\n",
        "print('Akurasi = ', nn_score)\n",
        "#print(confusion_matrix(y_test, y_NN))\n",
        "#print(classification_report(y_test, y_NN))"
      ],
      "execution_count": 29,
      "outputs": [
        {
          "output_type": "stream",
          "text": [
            "Akurasi =  0.7689813800657175\n"
          ],
          "name": "stdout"
        }
      ]
    },
    {
      "cell_type": "code",
      "metadata": {
        "id": "jqA1ThoSbj2o"
      },
      "source": [
        "seed = 99\n",
        "X = dataset['data_cleaned_aspek'].values.astype('U')\n",
        "y = dataset['Aspek'].values.astype('U')\n",
        "\n",
        "X_train, X_test, y_train, y_test = train_test_split(X, y, test_size=0.2, random_state=seed)"
      ],
      "execution_count": 30,
      "outputs": []
    },
    {
      "cell_type": "code",
      "metadata": {
        "colab": {
          "base_uri": "https://localhost:8080/"
        },
        "id": "pwW0ADcLbkAB",
        "outputId": "3139c054-de07-41f0-93f2-a46ef983926a"
      },
      "source": [
        "tfidf_vectorizer = TfidfVectorizer(lowercase=True, smooth_idf= False, sublinear_tf=True, \n",
        "                                   ngram_range=(1, 1), max_df=0.95, min_df=5)\n",
        "\n",
        "X_train = tfidf_vectorizer.fit_transform(X_train) # \"Fit_Transform\"\n",
        "X_test = tfidf_vectorizer.transform(X_test) # Perhatikan disini hanya \"Transform\"\n",
        "\n",
        "print(X_train.shape, X_test.shape)"
      ],
      "execution_count": 31,
      "outputs": [
        {
          "output_type": "stream",
          "text": [
            "(1658, 275) (415, 275)\n"
          ],
          "name": "stdout"
        }
      ]
    },
    {
      "cell_type": "code",
      "metadata": {
        "colab": {
          "base_uri": "https://localhost:8080/"
        },
        "id": "hb9kDLLIbf7U",
        "outputId": "d1d973d4-a182-445e-d0cc-4ab8613cb25c"
      },
      "source": [
        "def hapusKosong(X,y):\n",
        "    y = y[X.getnnz(1)>0] # delete label dokumen yang memiliki row =0 di tfidf-nya\n",
        "    X = X[X.getnnz(1)>0] # Remove Zero Rows\n",
        "    return X, y\n",
        "\n",
        "X_train, y_train = hapusKosong(X_train, y_train)\n",
        "X_test, y_test = hapusKosong(X_test, y_test)\n",
        "print(X_train.shape, X_test.shape)"
      ],
      "execution_count": 32,
      "outputs": [
        {
          "output_type": "stream",
          "text": [
            "(1610, 275) (399, 275)\n"
          ],
          "name": "stdout"
        }
      ]
    },
    {
      "cell_type": "code",
      "metadata": {
        "colab": {
          "base_uri": "https://localhost:8080/"
        },
        "id": "Knf8z-dFbplF",
        "outputId": "e30dc7bb-eb9f-4759-bd61-d829ac5548eb"
      },
      "source": [
        "NN = MLPClassifier(hidden_layer_sizes = (20,30), learning_rate = 'adaptive', activation = 'logistic')\n",
        "NN.fit(X_train, y_train)\n",
        "y_NN = NN.predict(X_test)\n",
        "\n",
        "print('Akurasi = ', accuracy_score(y_test, y_NN))\n",
        "print(confusion_matrix(y_test, y_NN))\n",
        "print(classification_report(y_test, y_NN))"
      ],
      "execution_count": 33,
      "outputs": [
        {
          "output_type": "stream",
          "text": [
            "Akurasi =  0.8120300751879699\n",
            "[[119   3   0  15]\n",
            " [  9  44   3   8]\n",
            " [  3   2  13   3]\n",
            " [ 17  12   0 148]]\n",
            "              precision    recall  f1-score   support\n",
            "\n",
            "     Lainnya       0.80      0.87      0.84       137\n",
            "     Layanan       0.72      0.69      0.70        64\n",
            "      Produk       0.81      0.62      0.70        21\n",
            "    Tampilan       0.85      0.84      0.84       177\n",
            "\n",
            "    accuracy                           0.81       399\n",
            "   macro avg       0.80      0.75      0.77       399\n",
            "weighted avg       0.81      0.81      0.81       399\n",
            "\n"
          ],
          "name": "stdout"
        },
        {
          "output_type": "stream",
          "text": [
            "/usr/local/lib/python3.7/dist-packages/sklearn/neural_network/_multilayer_perceptron.py:571: ConvergenceWarning: Stochastic Optimizer: Maximum iterations (200) reached and the optimization hasn't converged yet.\n",
            "  % self.max_iter, ConvergenceWarning)\n"
          ],
          "name": "stderr"
        }
      ]
    },
    {
      "cell_type": "markdown",
      "metadata": {
        "id": "GYJRK7XabxqR"
      },
      "source": [
        "# **DECISION TREE**"
      ]
    },
    {
      "cell_type": "code",
      "metadata": {
        "id": "pChZx5wobpuF"
      },
      "source": [
        "seed = 99\n",
        "X = dataset['data_cleaned_aspek'].values.astype('U')\n",
        "y = dataset['Aspek'].values.astype('U')\n",
        "\n",
        "X_train, X_test, y_train, y_test = train_test_split(X, y, test_size=0.2, random_state=seed)"
      ],
      "execution_count": 34,
      "outputs": []
    },
    {
      "cell_type": "code",
      "metadata": {
        "colab": {
          "base_uri": "https://localhost:8080/"
        },
        "id": "LOVYYGTrcA79",
        "outputId": "237e91b8-8f3d-4e16-efa2-91617891c256"
      },
      "source": [
        "from sklearn.feature_extraction.text import TfidfVectorizer\n",
        "\n",
        "tfidf_vectorizer = TfidfVectorizer(lowercase=True, smooth_idf= True, sublinear_tf=True, \n",
        "                                   ngram_range=(1, 2), max_df=0.90, min_df=2)\n",
        "\n",
        "X_train = tfidf_vectorizer.fit_transform(X_train) # \"Fit_Transform\"\n",
        "X_test = tfidf_vectorizer.transform(X_test) # Perhatikan disini hanya \"Transform\"\n",
        "\n",
        "print(X_train.shape, X_test.shape)"
      ],
      "execution_count": 35,
      "outputs": [
        {
          "output_type": "stream",
          "text": [
            "(1658, 1311) (415, 1311)\n"
          ],
          "name": "stdout"
        }
      ]
    },
    {
      "cell_type": "code",
      "metadata": {
        "colab": {
          "base_uri": "https://localhost:8080/"
        },
        "id": "geQGAbXOcBFR",
        "outputId": "1cd71fe6-1138-4831-962b-e63eb80721ec"
      },
      "source": [
        "def hapusKosong(X,y):\n",
        "    y = y[X.getnnz(1)>0] # delete label dokumen yang memiliki row =0 di tfidf-nya\n",
        "    X = X[X.getnnz(1)>0] # Remove Zero Rows\n",
        "    return X, y\n",
        "\n",
        "X_train, y_train = hapusKosong(X_train, y_train)\n",
        "X_test, y_test = hapusKosong(X_test, y_test)\n",
        "print(X_train.shape, X_test.shape)"
      ],
      "execution_count": 36,
      "outputs": [
        {
          "output_type": "stream",
          "text": [
            "(1642, 1311) (407, 1311)\n"
          ],
          "name": "stdout"
        }
      ]
    },
    {
      "cell_type": "code",
      "metadata": {
        "colab": {
          "base_uri": "https://localhost:8080/"
        },
        "id": "Ero86DEWcBNx",
        "outputId": "44e14549-8340-445d-8939-126854c319bc"
      },
      "source": [
        "# Decision Tree Classification\n",
        "dt = tree.DecisionTreeClassifier()\n",
        "dt.fit(X_train, y_train)\n",
        "y_dt = dt.predict(X_test)\n",
        "\n",
        "dt_score = accuracy_score(y_test, y_dt)\n",
        "print('Akurasi = ', dt_score)\n",
        "print(confusion_matrix(y_test, y_dt))\n",
        "print(classification_report(y_test, y_dt))"
      ],
      "execution_count": 37,
      "outputs": [
        {
          "output_type": "stream",
          "text": [
            "Akurasi =  0.7346437346437347\n",
            "[[122   3   2  14]\n",
            " [ 15  33   3  13]\n",
            " [  5   3  11   2]\n",
            " [ 31  13   4 133]]\n",
            "              precision    recall  f1-score   support\n",
            "\n",
            "     Lainnya       0.71      0.87      0.78       141\n",
            "     Layanan       0.63      0.52      0.57        64\n",
            "      Produk       0.55      0.52      0.54        21\n",
            "    Tampilan       0.82      0.73      0.78       181\n",
            "\n",
            "    accuracy                           0.73       407\n",
            "   macro avg       0.68      0.66      0.66       407\n",
            "weighted avg       0.74      0.73      0.73       407\n",
            "\n"
          ],
          "name": "stdout"
        }
      ]
    },
    {
      "cell_type": "markdown",
      "metadata": {
        "id": "Uq_LnnrZcMeh"
      },
      "source": [
        "# **RANDOM FOREST**"
      ]
    },
    {
      "cell_type": "code",
      "metadata": {
        "colab": {
          "base_uri": "https://localhost:8080/"
        },
        "id": "CA09xmkHcIo0",
        "outputId": "cac125b9-cad1-4244-c7ce-62327191c968"
      },
      "source": [
        "# Random Forest Classification\n",
        "\n",
        "rf = RandomForestClassifier(n_estimators = 1000)\n",
        "rf.fit(X_train, y_train)\n",
        "y_rf = rf.predict(X_test)\n",
        "\n",
        "rf_score = accuracy_score(y_test, y_rf)\n",
        "print('Akurasi = ', rf_score)\n",
        "print(confusion_matrix(y_test, y_rf))\n",
        "print(classification_report(y_test, y_rf))"
      ],
      "execution_count": 38,
      "outputs": [
        {
          "output_type": "stream",
          "text": [
            "Akurasi =  0.7862407862407862\n",
            "[[125   3   0  13]\n",
            " [ 13  32   4  15]\n",
            " [  5   0  12   4]\n",
            " [ 24   4   2 151]]\n",
            "              precision    recall  f1-score   support\n",
            "\n",
            "     Lainnya       0.75      0.89      0.81       141\n",
            "     Layanan       0.82      0.50      0.62        64\n",
            "      Produk       0.67      0.57      0.62        21\n",
            "    Tampilan       0.83      0.83      0.83       181\n",
            "\n",
            "    accuracy                           0.79       407\n",
            "   macro avg       0.77      0.70      0.72       407\n",
            "weighted avg       0.79      0.79      0.78       407\n",
            "\n"
          ],
          "name": "stdout"
        }
      ]
    },
    {
      "cell_type": "markdown",
      "metadata": {
        "id": "WKZDarMVcUQ5"
      },
      "source": [
        "# **LOGISTIC REGRESI**"
      ]
    },
    {
      "cell_type": "code",
      "metadata": {
        "colab": {
          "base_uri": "https://localhost:8080/"
        },
        "id": "N7F-ZRI3cIxb",
        "outputId": "912829bb-91db-4b79-eb99-c062014a3704"
      },
      "source": [
        "# Logistic Regression\n",
        "\n",
        "clf = LogisticRegression(solver='liblinear')\n",
        "clf.fit(X_train, y_train)\n",
        "y_clf = clf.predict(X_test)\n",
        "\n",
        "lr_score = accuracy_score(y_test, y_clf)\n",
        "print('Akurasi = ', lr_score)\n",
        "print(confusion_matrix(y_test, y_clf))\n",
        "print(classification_report(y_test, y_clf))"
      ],
      "execution_count": 39,
      "outputs": [
        {
          "output_type": "stream",
          "text": [
            "Akurasi =  0.7813267813267813\n",
            "[[113   6   0  22]\n",
            " [ 14  34   2  14]\n",
            " [  5   1  11   4]\n",
            " [ 16   5   0 160]]\n",
            "              precision    recall  f1-score   support\n",
            "\n",
            "     Lainnya       0.76      0.80      0.78       141\n",
            "     Layanan       0.74      0.53      0.62        64\n",
            "      Produk       0.85      0.52      0.65        21\n",
            "    Tampilan       0.80      0.88      0.84       181\n",
            "\n",
            "    accuracy                           0.78       407\n",
            "   macro avg       0.79      0.69      0.72       407\n",
            "weighted avg       0.78      0.78      0.78       407\n",
            "\n"
          ],
          "name": "stdout"
        }
      ]
    },
    {
      "cell_type": "markdown",
      "metadata": {
        "id": "LvcQF1kzcjpW"
      },
      "source": [
        "# **BOXPLOT SELEKSI MODEL**"
      ]
    },
    {
      "cell_type": "code",
      "metadata": {
        "colab": {
          "base_uri": "https://localhost:8080/",
          "height": 747
        },
        "id": "Dbd7TaP2cs-v",
        "outputId": "33b2ac21-fa14-492a-c50d-6f746e1d7793"
      },
      "source": [
        "clf = LogisticRegression(solver='liblinear')\n",
        "kNN = neighbors.KNeighborsClassifier()\n",
        "dt = tree.DecisionTreeClassifier()\n",
        "rf = RandomForestClassifier()\n",
        "Models = [('DT', dt), ('RF', rf),('RL', clf), ('k-NN',kNN), ('SVM', dSVM), ('NN',NN)]\n",
        "Scores = {}\n",
        "for model_name, model in Models:\n",
        "    Scores[model_name] = cross_val_score(model, X_train, y_train, cv=10, scoring='accuracy')\n",
        "Scores['BiLSTM'] = lstm\n",
        "dt = pd.DataFrame.from_dict(Scores)\n",
        "ax = sns.boxplot(data=dt)\n",
        "for m, s in Scores.items():\n",
        "    print(m, list(s)[:1])"
      ],
      "execution_count": 40,
      "outputs": [
        {
          "output_type": "stream",
          "text": [
            "/usr/local/lib/python3.7/dist-packages/sklearn/neural_network/_multilayer_perceptron.py:571: ConvergenceWarning: Stochastic Optimizer: Maximum iterations (200) reached and the optimization hasn't converged yet.\n",
            "  % self.max_iter, ConvergenceWarning)\n",
            "/usr/local/lib/python3.7/dist-packages/sklearn/neural_network/_multilayer_perceptron.py:571: ConvergenceWarning: Stochastic Optimizer: Maximum iterations (200) reached and the optimization hasn't converged yet.\n",
            "  % self.max_iter, ConvergenceWarning)\n",
            "/usr/local/lib/python3.7/dist-packages/sklearn/neural_network/_multilayer_perceptron.py:571: ConvergenceWarning: Stochastic Optimizer: Maximum iterations (200) reached and the optimization hasn't converged yet.\n",
            "  % self.max_iter, ConvergenceWarning)\n",
            "/usr/local/lib/python3.7/dist-packages/sklearn/neural_network/_multilayer_perceptron.py:571: ConvergenceWarning: Stochastic Optimizer: Maximum iterations (200) reached and the optimization hasn't converged yet.\n",
            "  % self.max_iter, ConvergenceWarning)\n",
            "/usr/local/lib/python3.7/dist-packages/sklearn/neural_network/_multilayer_perceptron.py:571: ConvergenceWarning: Stochastic Optimizer: Maximum iterations (200) reached and the optimization hasn't converged yet.\n",
            "  % self.max_iter, ConvergenceWarning)\n",
            "/usr/local/lib/python3.7/dist-packages/sklearn/neural_network/_multilayer_perceptron.py:571: ConvergenceWarning: Stochastic Optimizer: Maximum iterations (200) reached and the optimization hasn't converged yet.\n",
            "  % self.max_iter, ConvergenceWarning)\n",
            "/usr/local/lib/python3.7/dist-packages/sklearn/neural_network/_multilayer_perceptron.py:571: ConvergenceWarning: Stochastic Optimizer: Maximum iterations (200) reached and the optimization hasn't converged yet.\n",
            "  % self.max_iter, ConvergenceWarning)\n",
            "/usr/local/lib/python3.7/dist-packages/sklearn/neural_network/_multilayer_perceptron.py:571: ConvergenceWarning: Stochastic Optimizer: Maximum iterations (200) reached and the optimization hasn't converged yet.\n",
            "  % self.max_iter, ConvergenceWarning)\n",
            "/usr/local/lib/python3.7/dist-packages/sklearn/neural_network/_multilayer_perceptron.py:571: ConvergenceWarning: Stochastic Optimizer: Maximum iterations (200) reached and the optimization hasn't converged yet.\n",
            "  % self.max_iter, ConvergenceWarning)\n",
            "/usr/local/lib/python3.7/dist-packages/sklearn/neural_network/_multilayer_perceptron.py:571: ConvergenceWarning: Stochastic Optimizer: Maximum iterations (200) reached and the optimization hasn't converged yet.\n",
            "  % self.max_iter, ConvergenceWarning)\n"
          ],
          "name": "stderr"
        },
        {
          "output_type": "stream",
          "text": [
            "DT [0.8]\n",
            "RF [0.8242424242424242]\n",
            "RL [0.7757575757575758]\n",
            "k-NN [0.6848484848484848]\n",
            "SVM [0.8121212121212121]\n",
            "NN [0.806060606060606]\n",
            "BiLSTM [0.48431846499443054]\n"
          ],
          "name": "stdout"
        },
        {
          "output_type": "display_data",
          "data": {
            "image/png": "[encoded data removed]",
            "text/plain": [
              "<Figure size 432x288 with 1 Axes>"
            ]
          },
          "metadata": {
            "tags": []
          }
        }
      ]
    },
    {
      "cell_type": "code",
      "metadata": {
        "id": "uWIHh3pcc7zT"
      },
      "source": [
        ""
      ],
      "execution_count": null,
      "outputs": []
    }
  ]
}