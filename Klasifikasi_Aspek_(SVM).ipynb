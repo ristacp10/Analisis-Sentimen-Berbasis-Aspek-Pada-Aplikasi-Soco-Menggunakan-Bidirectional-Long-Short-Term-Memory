{
  "nbformat": 4,
  "nbformat_minor": 0,
  "metadata": {
    "colab": {
      "name": "Klasifikasi Aspek (SVM).ipynb",
      "provenance": [],
      "collapsed_sections": [],
      "include_colab_link": true
    },
    "kernelspec": {
      "name": "python3",
      "display_name": "Python 3"
    },
    "language_info": {
      "name": "python"
    }
  },
  "cells": [
    {
      "cell_type": "markdown",
      "metadata": {
        "id": "view-in-github",
        "colab_type": "text"
      },
      "source": [
        "<a href=\"https://colab.research.google.com/github/ristacp10/Analisis-Sentimen-Berbasis-Aspek-Pada-Aplikasi-Soco-Menggunakan-Bidirectional-Long-Short-Term-Memory/blob/main/Klasifikasi_Aspek_(SVM).ipynb\" target=\"_parent\"><img src=\"https://colab.research.google.com/assets/colab-badge.svg\" alt=\"Open In Colab\"/></a>"
      ]
    },
    {
      "cell_type": "code",
      "metadata": {
        "colab": {
          "base_uri": "https://localhost:8080/"
        },
        "id": "UgGuV1hwZSof",
        "outputId": "93d0bc06-8160-45c3-a99b-7a6094e6dda6"
      },
      "source": [
        "!mkdir CSV\n",
        "!wget -P CSV/ https://raw.githubusercontent.com/ristacp10/Analisis-Sentimen-Berbasis-Aspek-Pada-Aplikasi-Soco-Menggunakan-Bidirectional-Long-Short-Term-Memory/main/CSV/PREPROSS.csv"
      ],
      "execution_count": 2,
      "outputs": [
        {
          "output_type": "stream",
          "text": [
            "mkdir: cannot create directory ‘CSV’: File exists\n",
            "--2021-08-13 16:26:47--  https://raw.githubusercontent.com/ristacp10/Analisis-Sentimen-Berbasis-Aspek-Pada-Aplikasi-Soco-Menggunakan-Bidirectional-Long-Short-Term-Memory/main/CSV/PREPROSS.csv\n",
            "Resolving raw.githubusercontent.com (raw.githubusercontent.com)... 185.199.111.133, 185.199.109.133, 185.199.110.133, ...\n",
            "Connecting to raw.githubusercontent.com (raw.githubusercontent.com)|185.199.111.133|:443... connected.\n",
            "HTTP request sent, awaiting response... 200 OK\n",
            "Length: 333914 (326K) [text/plain]\n",
            "Saving to: ‘CSV/PREPROSS.csv.1’\n",
            "\n",
            "PREPROSS.csv.1      100%[===================>] 326.09K  --.-KB/s    in 0.02s   \n",
            "\n",
            "2021-08-13 16:26:47 (13.9 MB/s) - ‘CSV/PREPROSS.csv.1’ saved [333914/333914]\n",
            "\n"
          ],
          "name": "stdout"
        }
      ]
    },
    {
      "cell_type": "code",
      "metadata": {
        "id": "PERz94rOZZSf"
      },
      "source": [
        "import pandas as pd\n",
        "import numpy as np\n",
        "from sklearn import svm\n",
        "from sklearn.svm import SVC\n",
        "import sklearn.metrics as metric\n",
        "from sklearn.metrics import classification_report, confusion_matrix, accuracy_score\n",
        "from sklearn.model_selection import cross_val_score, RandomizedSearchCV, GridSearchCV\n",
        "from sklearn.pipeline import make_pipeline\n",
        "from sklearn.model_selection import train_test_split\n",
        "from sklearn.feature_extraction.text import TfidfVectorizer"
      ],
      "execution_count": 3,
      "outputs": []
    },
    {
      "cell_type": "code",
      "metadata": {
        "colab": {
          "base_uri": "https://localhost:8080/",
          "height": 204
        },
        "id": "5E39tlKSZg4_",
        "outputId": "1d821c09-40c8-4bbc-c18b-d4e49c429408"
      },
      "source": [
        "names = ['At','Sentimen', 'Review', 'Bintang', 'Aspek', 'data_cleaned_aspek']\n",
        "file = 'CSV/PREPROSS.csv'\n",
        " \n",
        "try:\n",
        "  data = pd.read_csv(file)\n",
        "except:\n",
        "  data = pd.read_csv(file, names=names).values\n",
        "\n",
        "dataset = pd.DataFrame()\n",
        "dataset = pd.DataFrame()\n",
        "dataset['data_cleaned_aspek'] = data['data_cleaned_aspek'].tolist()\n",
        "dataset['Aspek'] = data['Aspek'].tolist()\n",
        "dataset.head()"
      ],
      "execution_count": 4,
      "outputs": [
        {
          "output_type": "execute_result",
          "data": {
            "text/html": [
              "<div>\n",
              "<style scoped>\n",
              "    .dataframe tbody tr th:only-of-type {\n",
              "        vertical-align: middle;\n",
              "    }\n",
              "\n",
              "    .dataframe tbody tr th {\n",
              "        vertical-align: top;\n",
              "    }\n",
              "\n",
              "    .dataframe thead th {\n",
              "        text-align: right;\n",
              "    }\n",
              "</style>\n",
              "<table border=\"1\" class=\"dataframe\">\n",
              "  <thead>\n",
              "    <tr style=\"text-align: right;\">\n",
              "      <th></th>\n",
              "      <th>data_cleaned_aspek</th>\n",
              "      <th>Aspek</th>\n",
              "    </tr>\n",
              "  </thead>\n",
              "  <tbody>\n",
              "    <tr>\n",
              "      <th>0</th>\n",
              "      <td>good</td>\n",
              "      <td>Lainnya</td>\n",
              "    </tr>\n",
              "    <tr>\n",
              "      <th>1</th>\n",
              "      <td>belanja original bayar diskon responsif metode...</td>\n",
              "      <td>Layanan</td>\n",
              "    </tr>\n",
              "    <tr>\n",
              "      <th>2</th>\n",
              "      <td>kecewa cancel kosong proses uang sulit check o...</td>\n",
              "      <td>Layanan</td>\n",
              "    </tr>\n",
              "    <tr>\n",
              "      <th>3</th>\n",
              "      <td>parah proses refund masuk kerja uang  775   43...</td>\n",
              "      <td>Layanan</td>\n",
              "    </tr>\n",
              "    <tr>\n",
              "      <th>4</th>\n",
              "      <td>product tanggal  11  september udah  16  oktob...</td>\n",
              "      <td>Layanan</td>\n",
              "    </tr>\n",
              "  </tbody>\n",
              "</table>\n",
              "</div>"
            ],
            "text/plain": [
              "                                  data_cleaned_aspek    Aspek\n",
              "0                                               good  Lainnya\n",
              "1  belanja original bayar diskon responsif metode...  Layanan\n",
              "2  kecewa cancel kosong proses uang sulit check o...  Layanan\n",
              "3  parah proses refund masuk kerja uang  775   43...  Layanan\n",
              "4  product tanggal  11  september udah  16  oktob...  Layanan"
            ]
          },
          "metadata": {
            "tags": []
          },
          "execution_count": 4
        }
      ]
    },
    {
      "cell_type": "markdown",
      "metadata": {
        "id": "6Zic_H_Mj4U9"
      },
      "source": [
        "## SVM"
      ]
    },
    {
      "cell_type": "code",
      "metadata": {
        "id": "s_vIyuRpkBuI"
      },
      "source": [
        "tfidf_vectorizer = TfidfVectorizer(lowercase=True, smooth_idf= True, sublinear_tf=True, \n",
        "                                   ngram_range=(1, 1), max_df=0.5, min_df=2)"
      ],
      "execution_count": 5,
      "outputs": []
    },
    {
      "cell_type": "code",
      "metadata": {
        "colab": {
          "base_uri": "https://localhost:8080/"
        },
        "id": "VlUtcX2ak0AT",
        "outputId": "d544db91-b114-4725-f712-92ae53cdd818"
      },
      "source": [
        "seed = 99\n",
        "X = dataset['data_cleaned_aspek'].values.astype('U')\n",
        "y = dataset['Aspek'].values.astype('U')\n",
        "\n",
        "X_train, X_test, y_train, y_test = train_test_split(X, y, test_size=0.2, random_state=seed)\n",
        "X_train = tfidf_vectorizer.fit_transform(X_train)\n",
        "X_test = tfidf_vectorizer.transform(X_test)\n",
        "\n",
        "print(X_train.shape, X_test.shape)"
      ],
      "execution_count": 6,
      "outputs": [
        {
          "output_type": "stream",
          "text": [
            "(1658, 661) (415, 661)\n"
          ],
          "name": "stdout"
        }
      ]
    },
    {
      "cell_type": "code",
      "metadata": {
        "colab": {
          "base_uri": "https://localhost:8080/"
        },
        "id": "nz0qhz5Ak3X9",
        "outputId": "21af1aa8-e278-42ed-84cc-e69d0d1b11f5"
      },
      "source": [
        "def hapusKosong(X,y):\n",
        "    y = y[X.getnnz(1)>0] # delete label dokumen yang memiliki row =0 di tfidf-nya\n",
        "    X = X[X.getnnz(1)>0] # Remove Zero Rows\n",
        "    return X, y\n",
        "\n",
        "X_train, y_train = hapusKosong(X_train, y_train)\n",
        "X_test, y_test = hapusKosong(X_test, y_test)\n",
        "print(X_train.shape, X_test.shape)"
      ],
      "execution_count": 7,
      "outputs": [
        {
          "output_type": "stream",
          "text": [
            "(1642, 661) (407, 661)\n"
          ],
          "name": "stdout"
        }
      ]
    },
    {
      "cell_type": "markdown",
      "metadata": {
        "id": "hzbJALEqKC1-"
      },
      "source": [
        "## **Kernel RBF**"
      ]
    },
    {
      "cell_type": "code",
      "metadata": {
        "colab": {
          "base_uri": "https://localhost:8080/"
        },
        "id": "xmwY_h5y47Fj",
        "outputId": "d49719d2-2c72-4117-e12e-a69b179c2b2a"
      },
      "source": [
        "kCV = 10\n",
        "C = [0.1, 10, 100]\n",
        "gamma = [1.0, 0.1, 0.01, 0.001]\n",
        "kernel = ['rbf']\n",
        " \n",
        "estimator = svm.SVC()\n",
        "gridsvmCV = GridSearchCV(estimator, cv=kCV, param_grid = dict(C = C, gamma=gamma, kernel = kernel), verbose=1,  n_jobs=-1)\n",
        "best_model = gridsvmCV.fit(X_train, y_train)\n",
        "gridsvmCV.cv_results_\n",
        "#y_SVM = best_model.predict(X_test)\n",
        "#print('Akurasi = ', accuracy_score(y_test, y_SVM))\n",
        "#print(confusion_matrix(y_test, y_SVM))"
      ],
      "execution_count": 8,
      "outputs": [
        {
          "output_type": "stream",
          "text": [
            "Fitting 10 folds for each of 12 candidates, totalling 120 fits\n"
          ],
          "name": "stdout"
        },
        {
          "output_type": "stream",
          "text": [
            "[Parallel(n_jobs=-1)]: Using backend LokyBackend with 2 concurrent workers.\n",
            "[Parallel(n_jobs=-1)]: Done  46 tasks      | elapsed:    6.7s\n",
            "[Parallel(n_jobs=-1)]: Done 120 out of 120 | elapsed:   15.3s finished\n"
          ],
          "name": "stderr"
        },
        {
          "output_type": "execute_result",
          "data": {
            "text/plain": [
              "{'mean_fit_time': array([0.24625151, 0.23159122, 0.21711338, 0.20063553, 0.2867965 ,\n",
              "        0.18673556, 0.19699395, 0.226559  , 0.28374124, 0.19928677,\n",
              "        0.18462591, 0.1936357 ]),\n",
              " 'mean_score_time': array([0.01914117, 0.01921685, 0.01894412, 0.01898818, 0.01748886,\n",
              "        0.01389508, 0.01632252, 0.01928947, 0.01737893, 0.01389821,\n",
              "        0.01475582, 0.01616073]),\n",
              " 'mean_test_score': array([0.58405026, 0.52923503, 0.44336659, 0.44336659, 0.76002217,\n",
              "        0.77341094, 0.7125425 , 0.54081301, 0.75941242, 0.74666297,\n",
              "        0.77280488, 0.7125425 ]),\n",
              " 'param_C': masked_array(data=[0.1, 0.1, 0.1, 0.1, 10, 10, 10, 10, 100, 100, 100, 100],\n",
              "              mask=[False, False, False, False, False, False, False, False,\n",
              "                    False, False, False, False],\n",
              "        fill_value='?',\n",
              "             dtype=object),\n",
              " 'param_gamma': masked_array(data=[1.0, 0.1, 0.01, 0.001, 1.0, 0.1, 0.01, 0.001, 1.0, 0.1,\n",
              "                    0.01, 0.001],\n",
              "              mask=[False, False, False, False, False, False, False, False,\n",
              "                    False, False, False, False],\n",
              "        fill_value='?',\n",
              "             dtype=object),\n",
              " 'param_kernel': masked_array(data=['rbf', 'rbf', 'rbf', 'rbf', 'rbf', 'rbf', 'rbf', 'rbf',\n",
              "                    'rbf', 'rbf', 'rbf', 'rbf'],\n",
              "              mask=[False, False, False, False, False, False, False, False,\n",
              "                    False, False, False, False],\n",
              "        fill_value='?',\n",
              "             dtype=object),\n",
              " 'params': [{'C': 0.1, 'gamma': 1.0, 'kernel': 'rbf'},\n",
              "  {'C': 0.1, 'gamma': 0.1, 'kernel': 'rbf'},\n",
              "  {'C': 0.1, 'gamma': 0.01, 'kernel': 'rbf'},\n",
              "  {'C': 0.1, 'gamma': 0.001, 'kernel': 'rbf'},\n",
              "  {'C': 10, 'gamma': 1.0, 'kernel': 'rbf'},\n",
              "  {'C': 10, 'gamma': 0.1, 'kernel': 'rbf'},\n",
              "  {'C': 10, 'gamma': 0.01, 'kernel': 'rbf'},\n",
              "  {'C': 10, 'gamma': 0.001, 'kernel': 'rbf'},\n",
              "  {'C': 100, 'gamma': 1.0, 'kernel': 'rbf'},\n",
              "  {'C': 100, 'gamma': 0.1, 'kernel': 'rbf'},\n",
              "  {'C': 100, 'gamma': 0.01, 'kernel': 'rbf'},\n",
              "  {'C': 100, 'gamma': 0.001, 'kernel': 'rbf'}],\n",
              " 'rank_test_score': array([ 8, 10, 11, 11,  3,  1,  6,  9,  4,  5,  2,  6], dtype=int32),\n",
              " 'split0_test_score': array([0.59393939, 0.52121212, 0.43636364, 0.43636364, 0.81818182,\n",
              "        0.84848485, 0.72727273, 0.52727273, 0.81818182, 0.78181818,\n",
              "        0.85454545, 0.72727273]),\n",
              " 'split1_test_score': array([0.56363636, 0.53333333, 0.44242424, 0.44242424, 0.74545455,\n",
              "        0.75757576, 0.7030303 , 0.53939394, 0.74545455, 0.69090909,\n",
              "        0.74545455, 0.7030303 ]),\n",
              " 'split2_test_score': array([0.62195122, 0.54268293, 0.44512195, 0.44512195, 0.75609756,\n",
              "        0.74390244, 0.75      , 0.54268293, 0.75609756, 0.75      ,\n",
              "        0.75609756, 0.74390244]),\n",
              " 'split3_test_score': array([0.59756098, 0.54878049, 0.44512195, 0.44512195, 0.81097561,\n",
              "        0.81097561, 0.76219512, 0.54878049, 0.80487805, 0.7804878 ,\n",
              "        0.79268293, 0.76219512]),\n",
              " 'split4_test_score': array([0.56707317, 0.5304878 , 0.44512195, 0.44512195, 0.69512195,\n",
              "        0.72560976, 0.70121951, 0.5304878 , 0.69512195, 0.68902439,\n",
              "        0.72560976, 0.69512195]),\n",
              " 'split5_test_score': array([0.53658537, 0.51219512, 0.44512195, 0.44512195, 0.71341463,\n",
              "        0.73780488, 0.67073171, 0.51219512, 0.7195122 , 0.74390244,\n",
              "        0.75      , 0.67682927]),\n",
              " 'split6_test_score': array([0.59146341, 0.5304878 , 0.44512195, 0.44512195, 0.79878049,\n",
              "        0.80487805, 0.73170732, 0.55487805, 0.79878049, 0.77439024,\n",
              "        0.79878049, 0.73170732]),\n",
              " 'split7_test_score': array([0.6097561 , 0.5304878 , 0.44512195, 0.44512195, 0.76829268,\n",
              "        0.76829268, 0.7195122 , 0.58536585, 0.76829268, 0.72560976,\n",
              "        0.76829268, 0.72560976]),\n",
              " 'split8_test_score': array([0.57317073, 0.51219512, 0.44512195, 0.44512195, 0.73170732,\n",
              "        0.75609756, 0.67073171, 0.51219512, 0.72560976, 0.73780488,\n",
              "        0.75      , 0.67073171]),\n",
              " 'split9_test_score': array([0.58536585, 0.5304878 , 0.43902439, 0.43902439, 0.76219512,\n",
              "        0.7804878 , 0.68902439, 0.55487805, 0.76219512, 0.79268293,\n",
              "        0.78658537, 0.68902439]),\n",
              " 'std_fit_time': array([0.01329404, 0.00440878, 0.00402474, 0.00345305, 0.00805124,\n",
              "        0.00395991, 0.00224136, 0.00566598, 0.00411983, 0.00382702,\n",
              "        0.00371185, 0.00416599]),\n",
              " 'std_score_time': array([0.00274062, 0.00068278, 0.00028719, 0.00023072, 0.00274211,\n",
              "        0.00029527, 0.00038929, 0.00073049, 0.00088126, 0.00079209,\n",
              "        0.00366686, 0.00141081]),\n",
              " 'std_test_score': array([0.0234745 , 0.01109517, 0.00300588, 0.00300588, 0.03868821,\n",
              "        0.03617687, 0.02961313, 0.02092251, 0.03772418, 0.03498258,\n",
              "        0.03500905, 0.02859106])}"
            ]
          },
          "metadata": {
            "tags": []
          },
          "execution_count": 8
        }
      ]
    },
    {
      "cell_type": "code",
      "metadata": {
        "colab": {
          "base_uri": "https://localhost:8080/",
          "height": 1000
        },
        "id": "qUkE1BKttukh",
        "outputId": "8c267c1c-e970-4c78-c354-cf46e5f9af29"
      },
      "source": [
        "dat = pd.DataFrame(gridsvmCV.cv_results_)\n",
        "dat"
      ],
      "execution_count": 9,
      "outputs": [
        {
          "output_type": "execute_result",
          "data": {
            "text/html": [
              "<div>\n",
              "<style scoped>\n",
              "    .dataframe tbody tr th:only-of-type {\n",
              "        vertical-align: middle;\n",
              "    }\n",
              "\n",
              "    .dataframe tbody tr th {\n",
              "        vertical-align: top;\n",
              "    }\n",
              "\n",
              "    .dataframe thead th {\n",
              "        text-align: right;\n",
              "    }\n",
              "</style>\n",
              "<table border=\"1\" class=\"dataframe\">\n",
              "  <thead>\n",
              "    <tr style=\"text-align: right;\">\n",
              "      <th></th>\n",
              "      <th>mean_fit_time</th>\n",
              "      <th>std_fit_time</th>\n",
              "      <th>mean_score_time</th>\n",
              "      <th>std_score_time</th>\n",
              "      <th>param_C</th>\n",
              "      <th>param_gamma</th>\n",
              "      <th>param_kernel</th>\n",
              "      <th>params</th>\n",
              "      <th>split0_test_score</th>\n",
              "      <th>split1_test_score</th>\n",
              "      <th>split2_test_score</th>\n",
              "      <th>split3_test_score</th>\n",
              "      <th>split4_test_score</th>\n",
              "      <th>split5_test_score</th>\n",
              "      <th>split6_test_score</th>\n",
              "      <th>split7_test_score</th>\n",
              "      <th>split8_test_score</th>\n",
              "      <th>split9_test_score</th>\n",
              "      <th>mean_test_score</th>\n",
              "      <th>std_test_score</th>\n",
              "      <th>rank_test_score</th>\n",
              "    </tr>\n",
              "  </thead>\n",
              "  <tbody>\n",
              "    <tr>\n",
              "      <th>0</th>\n",
              "      <td>0.246252</td>\n",
              "      <td>0.013294</td>\n",
              "      <td>0.019141</td>\n",
              "      <td>0.002741</td>\n",
              "      <td>0.1</td>\n",
              "      <td>1</td>\n",
              "      <td>rbf</td>\n",
              "      <td>{'C': 0.1, 'gamma': 1.0, 'kernel': 'rbf'}</td>\n",
              "      <td>0.593939</td>\n",
              "      <td>0.563636</td>\n",
              "      <td>0.621951</td>\n",
              "      <td>0.597561</td>\n",
              "      <td>0.567073</td>\n",
              "      <td>0.536585</td>\n",
              "      <td>0.591463</td>\n",
              "      <td>0.609756</td>\n",
              "      <td>0.573171</td>\n",
              "      <td>0.585366</td>\n",
              "      <td>0.584050</td>\n",
              "      <td>0.023475</td>\n",
              "      <td>8</td>\n",
              "    </tr>\n",
              "    <tr>\n",
              "      <th>1</th>\n",
              "      <td>0.231591</td>\n",
              "      <td>0.004409</td>\n",
              "      <td>0.019217</td>\n",
              "      <td>0.000683</td>\n",
              "      <td>0.1</td>\n",
              "      <td>0.1</td>\n",
              "      <td>rbf</td>\n",
              "      <td>{'C': 0.1, 'gamma': 0.1, 'kernel': 'rbf'}</td>\n",
              "      <td>0.521212</td>\n",
              "      <td>0.533333</td>\n",
              "      <td>0.542683</td>\n",
              "      <td>0.548780</td>\n",
              "      <td>0.530488</td>\n",
              "      <td>0.512195</td>\n",
              "      <td>0.530488</td>\n",
              "      <td>0.530488</td>\n",
              "      <td>0.512195</td>\n",
              "      <td>0.530488</td>\n",
              "      <td>0.529235</td>\n",
              "      <td>0.011095</td>\n",
              "      <td>10</td>\n",
              "    </tr>\n",
              "    <tr>\n",
              "      <th>2</th>\n",
              "      <td>0.217113</td>\n",
              "      <td>0.004025</td>\n",
              "      <td>0.018944</td>\n",
              "      <td>0.000287</td>\n",
              "      <td>0.1</td>\n",
              "      <td>0.01</td>\n",
              "      <td>rbf</td>\n",
              "      <td>{'C': 0.1, 'gamma': 0.01, 'kernel': 'rbf'}</td>\n",
              "      <td>0.436364</td>\n",
              "      <td>0.442424</td>\n",
              "      <td>0.445122</td>\n",
              "      <td>0.445122</td>\n",
              "      <td>0.445122</td>\n",
              "      <td>0.445122</td>\n",
              "      <td>0.445122</td>\n",
              "      <td>0.445122</td>\n",
              "      <td>0.445122</td>\n",
              "      <td>0.439024</td>\n",
              "      <td>0.443367</td>\n",
              "      <td>0.003006</td>\n",
              "      <td>11</td>\n",
              "    </tr>\n",
              "    <tr>\n",
              "      <th>3</th>\n",
              "      <td>0.200636</td>\n",
              "      <td>0.003453</td>\n",
              "      <td>0.018988</td>\n",
              "      <td>0.000231</td>\n",
              "      <td>0.1</td>\n",
              "      <td>0.001</td>\n",
              "      <td>rbf</td>\n",
              "      <td>{'C': 0.1, 'gamma': 0.001, 'kernel': 'rbf'}</td>\n",
              "      <td>0.436364</td>\n",
              "      <td>0.442424</td>\n",
              "      <td>0.445122</td>\n",
              "      <td>0.445122</td>\n",
              "      <td>0.445122</td>\n",
              "      <td>0.445122</td>\n",
              "      <td>0.445122</td>\n",
              "      <td>0.445122</td>\n",
              "      <td>0.445122</td>\n",
              "      <td>0.439024</td>\n",
              "      <td>0.443367</td>\n",
              "      <td>0.003006</td>\n",
              "      <td>11</td>\n",
              "    </tr>\n",
              "    <tr>\n",
              "      <th>4</th>\n",
              "      <td>0.286796</td>\n",
              "      <td>0.008051</td>\n",
              "      <td>0.017489</td>\n",
              "      <td>0.002742</td>\n",
              "      <td>10</td>\n",
              "      <td>1</td>\n",
              "      <td>rbf</td>\n",
              "      <td>{'C': 10, 'gamma': 1.0, 'kernel': 'rbf'}</td>\n",
              "      <td>0.818182</td>\n",
              "      <td>0.745455</td>\n",
              "      <td>0.756098</td>\n",
              "      <td>0.810976</td>\n",
              "      <td>0.695122</td>\n",
              "      <td>0.713415</td>\n",
              "      <td>0.798780</td>\n",
              "      <td>0.768293</td>\n",
              "      <td>0.731707</td>\n",
              "      <td>0.762195</td>\n",
              "      <td>0.760022</td>\n",
              "      <td>0.038688</td>\n",
              "      <td>3</td>\n",
              "    </tr>\n",
              "    <tr>\n",
              "      <th>5</th>\n",
              "      <td>0.186736</td>\n",
              "      <td>0.003960</td>\n",
              "      <td>0.013895</td>\n",
              "      <td>0.000295</td>\n",
              "      <td>10</td>\n",
              "      <td>0.1</td>\n",
              "      <td>rbf</td>\n",
              "      <td>{'C': 10, 'gamma': 0.1, 'kernel': 'rbf'}</td>\n",
              "      <td>0.848485</td>\n",
              "      <td>0.757576</td>\n",
              "      <td>0.743902</td>\n",
              "      <td>0.810976</td>\n",
              "      <td>0.725610</td>\n",
              "      <td>0.737805</td>\n",
              "      <td>0.804878</td>\n",
              "      <td>0.768293</td>\n",
              "      <td>0.756098</td>\n",
              "      <td>0.780488</td>\n",
              "      <td>0.773411</td>\n",
              "      <td>0.036177</td>\n",
              "      <td>1</td>\n",
              "    </tr>\n",
              "    <tr>\n",
              "      <th>6</th>\n",
              "      <td>0.196994</td>\n",
              "      <td>0.002241</td>\n",
              "      <td>0.016323</td>\n",
              "      <td>0.000389</td>\n",
              "      <td>10</td>\n",
              "      <td>0.01</td>\n",
              "      <td>rbf</td>\n",
              "      <td>{'C': 10, 'gamma': 0.01, 'kernel': 'rbf'}</td>\n",
              "      <td>0.727273</td>\n",
              "      <td>0.703030</td>\n",
              "      <td>0.750000</td>\n",
              "      <td>0.762195</td>\n",
              "      <td>0.701220</td>\n",
              "      <td>0.670732</td>\n",
              "      <td>0.731707</td>\n",
              "      <td>0.719512</td>\n",
              "      <td>0.670732</td>\n",
              "      <td>0.689024</td>\n",
              "      <td>0.712542</td>\n",
              "      <td>0.029613</td>\n",
              "      <td>6</td>\n",
              "    </tr>\n",
              "    <tr>\n",
              "      <th>7</th>\n",
              "      <td>0.226559</td>\n",
              "      <td>0.005666</td>\n",
              "      <td>0.019289</td>\n",
              "      <td>0.000730</td>\n",
              "      <td>10</td>\n",
              "      <td>0.001</td>\n",
              "      <td>rbf</td>\n",
              "      <td>{'C': 10, 'gamma': 0.001, 'kernel': 'rbf'}</td>\n",
              "      <td>0.527273</td>\n",
              "      <td>0.539394</td>\n",
              "      <td>0.542683</td>\n",
              "      <td>0.548780</td>\n",
              "      <td>0.530488</td>\n",
              "      <td>0.512195</td>\n",
              "      <td>0.554878</td>\n",
              "      <td>0.585366</td>\n",
              "      <td>0.512195</td>\n",
              "      <td>0.554878</td>\n",
              "      <td>0.540813</td>\n",
              "      <td>0.020923</td>\n",
              "      <td>9</td>\n",
              "    </tr>\n",
              "    <tr>\n",
              "      <th>8</th>\n",
              "      <td>0.283741</td>\n",
              "      <td>0.004120</td>\n",
              "      <td>0.017379</td>\n",
              "      <td>0.000881</td>\n",
              "      <td>100</td>\n",
              "      <td>1</td>\n",
              "      <td>rbf</td>\n",
              "      <td>{'C': 100, 'gamma': 1.0, 'kernel': 'rbf'}</td>\n",
              "      <td>0.818182</td>\n",
              "      <td>0.745455</td>\n",
              "      <td>0.756098</td>\n",
              "      <td>0.804878</td>\n",
              "      <td>0.695122</td>\n",
              "      <td>0.719512</td>\n",
              "      <td>0.798780</td>\n",
              "      <td>0.768293</td>\n",
              "      <td>0.725610</td>\n",
              "      <td>0.762195</td>\n",
              "      <td>0.759412</td>\n",
              "      <td>0.037724</td>\n",
              "      <td>4</td>\n",
              "    </tr>\n",
              "    <tr>\n",
              "      <th>9</th>\n",
              "      <td>0.199287</td>\n",
              "      <td>0.003827</td>\n",
              "      <td>0.013898</td>\n",
              "      <td>0.000792</td>\n",
              "      <td>100</td>\n",
              "      <td>0.1</td>\n",
              "      <td>rbf</td>\n",
              "      <td>{'C': 100, 'gamma': 0.1, 'kernel': 'rbf'}</td>\n",
              "      <td>0.781818</td>\n",
              "      <td>0.690909</td>\n",
              "      <td>0.750000</td>\n",
              "      <td>0.780488</td>\n",
              "      <td>0.689024</td>\n",
              "      <td>0.743902</td>\n",
              "      <td>0.774390</td>\n",
              "      <td>0.725610</td>\n",
              "      <td>0.737805</td>\n",
              "      <td>0.792683</td>\n",
              "      <td>0.746663</td>\n",
              "      <td>0.034983</td>\n",
              "      <td>5</td>\n",
              "    </tr>\n",
              "    <tr>\n",
              "      <th>10</th>\n",
              "      <td>0.184626</td>\n",
              "      <td>0.003712</td>\n",
              "      <td>0.014756</td>\n",
              "      <td>0.003667</td>\n",
              "      <td>100</td>\n",
              "      <td>0.01</td>\n",
              "      <td>rbf</td>\n",
              "      <td>{'C': 100, 'gamma': 0.01, 'kernel': 'rbf'}</td>\n",
              "      <td>0.854545</td>\n",
              "      <td>0.745455</td>\n",
              "      <td>0.756098</td>\n",
              "      <td>0.792683</td>\n",
              "      <td>0.725610</td>\n",
              "      <td>0.750000</td>\n",
              "      <td>0.798780</td>\n",
              "      <td>0.768293</td>\n",
              "      <td>0.750000</td>\n",
              "      <td>0.786585</td>\n",
              "      <td>0.772805</td>\n",
              "      <td>0.035009</td>\n",
              "      <td>2</td>\n",
              "    </tr>\n",
              "    <tr>\n",
              "      <th>11</th>\n",
              "      <td>0.193636</td>\n",
              "      <td>0.004166</td>\n",
              "      <td>0.016161</td>\n",
              "      <td>0.001411</td>\n",
              "      <td>100</td>\n",
              "      <td>0.001</td>\n",
              "      <td>rbf</td>\n",
              "      <td>{'C': 100, 'gamma': 0.001, 'kernel': 'rbf'}</td>\n",
              "      <td>0.727273</td>\n",
              "      <td>0.703030</td>\n",
              "      <td>0.743902</td>\n",
              "      <td>0.762195</td>\n",
              "      <td>0.695122</td>\n",
              "      <td>0.676829</td>\n",
              "      <td>0.731707</td>\n",
              "      <td>0.725610</td>\n",
              "      <td>0.670732</td>\n",
              "      <td>0.689024</td>\n",
              "      <td>0.712542</td>\n",
              "      <td>0.028591</td>\n",
              "      <td>6</td>\n",
              "    </tr>\n",
              "  </tbody>\n",
              "</table>\n",
              "</div>"
            ],
            "text/plain": [
              "    mean_fit_time  std_fit_time  ...  std_test_score  rank_test_score\n",
              "0        0.246252      0.013294  ...        0.023475                8\n",
              "1        0.231591      0.004409  ...        0.011095               10\n",
              "2        0.217113      0.004025  ...        0.003006               11\n",
              "3        0.200636      0.003453  ...        0.003006               11\n",
              "4        0.286796      0.008051  ...        0.038688                3\n",
              "5        0.186736      0.003960  ...        0.036177                1\n",
              "6        0.196994      0.002241  ...        0.029613                6\n",
              "7        0.226559      0.005666  ...        0.020923                9\n",
              "8        0.283741      0.004120  ...        0.037724                4\n",
              "9        0.199287      0.003827  ...        0.034983                5\n",
              "10       0.184626      0.003712  ...        0.035009                2\n",
              "11       0.193636      0.004166  ...        0.028591                6\n",
              "\n",
              "[12 rows x 21 columns]"
            ]
          },
          "metadata": {
            "tags": []
          },
          "execution_count": 9
        }
      ]
    },
    {
      "cell_type": "code",
      "metadata": {
        "colab": {
          "base_uri": "https://localhost:8080/",
          "height": 421
        },
        "id": "CeCwvA7n7fUQ",
        "outputId": "1ea68e38-1faf-400b-c6f7-00f13c4f9be7"
      },
      "source": [
        "dat[['param_C','param_gamma', 'mean_test_score']]"
      ],
      "execution_count": 10,
      "outputs": [
        {
          "output_type": "execute_result",
          "data": {
            "text/html": [
              "<div>\n",
              "<style scoped>\n",
              "    .dataframe tbody tr th:only-of-type {\n",
              "        vertical-align: middle;\n",
              "    }\n",
              "\n",
              "    .dataframe tbody tr th {\n",
              "        vertical-align: top;\n",
              "    }\n",
              "\n",
              "    .dataframe thead th {\n",
              "        text-align: right;\n",
              "    }\n",
              "</style>\n",
              "<table border=\"1\" class=\"dataframe\">\n",
              "  <thead>\n",
              "    <tr style=\"text-align: right;\">\n",
              "      <th></th>\n",
              "      <th>param_C</th>\n",
              "      <th>param_gamma</th>\n",
              "      <th>mean_test_score</th>\n",
              "    </tr>\n",
              "  </thead>\n",
              "  <tbody>\n",
              "    <tr>\n",
              "      <th>0</th>\n",
              "      <td>0.1</td>\n",
              "      <td>1</td>\n",
              "      <td>0.584050</td>\n",
              "    </tr>\n",
              "    <tr>\n",
              "      <th>1</th>\n",
              "      <td>0.1</td>\n",
              "      <td>0.1</td>\n",
              "      <td>0.529235</td>\n",
              "    </tr>\n",
              "    <tr>\n",
              "      <th>2</th>\n",
              "      <td>0.1</td>\n",
              "      <td>0.01</td>\n",
              "      <td>0.443367</td>\n",
              "    </tr>\n",
              "    <tr>\n",
              "      <th>3</th>\n",
              "      <td>0.1</td>\n",
              "      <td>0.001</td>\n",
              "      <td>0.443367</td>\n",
              "    </tr>\n",
              "    <tr>\n",
              "      <th>4</th>\n",
              "      <td>10</td>\n",
              "      <td>1</td>\n",
              "      <td>0.760022</td>\n",
              "    </tr>\n",
              "    <tr>\n",
              "      <th>5</th>\n",
              "      <td>10</td>\n",
              "      <td>0.1</td>\n",
              "      <td>0.773411</td>\n",
              "    </tr>\n",
              "    <tr>\n",
              "      <th>6</th>\n",
              "      <td>10</td>\n",
              "      <td>0.01</td>\n",
              "      <td>0.712542</td>\n",
              "    </tr>\n",
              "    <tr>\n",
              "      <th>7</th>\n",
              "      <td>10</td>\n",
              "      <td>0.001</td>\n",
              "      <td>0.540813</td>\n",
              "    </tr>\n",
              "    <tr>\n",
              "      <th>8</th>\n",
              "      <td>100</td>\n",
              "      <td>1</td>\n",
              "      <td>0.759412</td>\n",
              "    </tr>\n",
              "    <tr>\n",
              "      <th>9</th>\n",
              "      <td>100</td>\n",
              "      <td>0.1</td>\n",
              "      <td>0.746663</td>\n",
              "    </tr>\n",
              "    <tr>\n",
              "      <th>10</th>\n",
              "      <td>100</td>\n",
              "      <td>0.01</td>\n",
              "      <td>0.772805</td>\n",
              "    </tr>\n",
              "    <tr>\n",
              "      <th>11</th>\n",
              "      <td>100</td>\n",
              "      <td>0.001</td>\n",
              "      <td>0.712542</td>\n",
              "    </tr>\n",
              "  </tbody>\n",
              "</table>\n",
              "</div>"
            ],
            "text/plain": [
              "   param_C param_gamma  mean_test_score\n",
              "0      0.1           1         0.584050\n",
              "1      0.1         0.1         0.529235\n",
              "2      0.1        0.01         0.443367\n",
              "3      0.1       0.001         0.443367\n",
              "4       10           1         0.760022\n",
              "5       10         0.1         0.773411\n",
              "6       10        0.01         0.712542\n",
              "7       10       0.001         0.540813\n",
              "8      100           1         0.759412\n",
              "9      100         0.1         0.746663\n",
              "10     100        0.01         0.772805\n",
              "11     100       0.001         0.712542"
            ]
          },
          "metadata": {
            "tags": []
          },
          "execution_count": 10
        }
      ]
    },
    {
      "cell_type": "code",
      "metadata": {
        "colab": {
          "base_uri": "https://localhost:8080/"
        },
        "id": "w28NFiLE8yKZ",
        "outputId": "e3b246a8-22b2-4cd2-af6f-9b040217dcca"
      },
      "source": [
        "gridsvmCV.best_params_"
      ],
      "execution_count": 11,
      "outputs": [
        {
          "output_type": "execute_result",
          "data": {
            "text/plain": [
              "{'C': 10, 'gamma': 0.1, 'kernel': 'rbf'}"
            ]
          },
          "metadata": {
            "tags": []
          },
          "execution_count": 11
        }
      ]
    },
    {
      "cell_type": "code",
      "metadata": {
        "colab": {
          "base_uri": "https://localhost:8080/"
        },
        "id": "ON-0yDwpNRqI",
        "outputId": "fcfdadfb-304e-47a4-cd7f-2c9987d76140"
      },
      "source": [
        "gridsvmCV.best_score_"
      ],
      "execution_count": 12,
      "outputs": [
        {
          "output_type": "execute_result",
          "data": {
            "text/plain": [
              "0.773410938654841"
            ]
          },
          "metadata": {
            "tags": []
          },
          "execution_count": 12
        }
      ]
    },
    {
      "cell_type": "code",
      "metadata": {
        "id": "sWeYBNOl95Mx",
        "colab": {
          "base_uri": "https://localhost:8080/",
          "height": 350
        },
        "outputId": "ebf1f15d-edf9-4e1e-d392-c4b2a5f65255"
      },
      "source": [
        "import seaborn as sns\n",
        "import matplotlib.pyplot as plt\n",
        "sns.set_style(\"white\")\n",
        "\n",
        "sns.lineplot('param_gamma', 'mean_test_score',hue='param_C', ci=None, marker='o',\n",
        "             data=dat, palette=['blue', 'red', 'green'])"
      ],
      "execution_count": 13,
      "outputs": [
        {
          "output_type": "stream",
          "text": [
            "/usr/local/lib/python3.7/dist-packages/seaborn/_decorators.py:43: FutureWarning: Pass the following variables as keyword args: x, y. From version 0.12, the only valid positional argument will be `data`, and passing other arguments without an explicit keyword will result in an error or misinterpretation.\n",
            "  FutureWarning\n"
          ],
          "name": "stderr"
        },
        {
          "output_type": "execute_result",
          "data": {
            "text/plain": [
              "<matplotlib.axes._subplots.AxesSubplot at 0x7ff156e40390>"
            ]
          },
          "metadata": {
            "tags": []
          },
          "execution_count": 13
        },
        {
          "output_type": "display_data",
          "data": {
            "image/png": "[encoded data removed]",
            "text/plain": [
              "<Figure size 432x288 with 1 Axes>"
            ]
          },
          "metadata": {
            "tags": []
          }
        }
      ]
    },
    {
      "cell_type": "markdown",
      "metadata": {
        "id": "fkvu4slgKQHo"
      },
      "source": [
        "## **Kernel Poly**"
      ]
    },
    {
      "cell_type": "code",
      "metadata": {
        "id": "8ShnHuVwFk6V",
        "colab": {
          "base_uri": "https://localhost:8080/"
        },
        "outputId": "aff6f51a-694f-4c31-fbd9-86c8dd6d0c95"
      },
      "source": [
        "kCV = 10\n",
        "C = [0.1, 10, 100]\n",
        "gamma = [1.0, 0.1, 0.01, 0.001]\n",
        "kernel = ['poly']\n",
        " \n",
        "estimator = svm.SVC()\n",
        "gridsvmCV = GridSearchCV(estimator, cv=kCV, param_grid = dict(C = C, gamma=gamma, kernel = kernel), verbose=1,  n_jobs=-1)\n",
        "best_model = gridsvmCV.fit(X_train, y_train)\n",
        "gridsvmCV.cv_results_"
      ],
      "execution_count": 14,
      "outputs": [
        {
          "output_type": "stream",
          "text": [
            "Fitting 10 folds for each of 12 candidates, totalling 120 fits\n"
          ],
          "name": "stdout"
        },
        {
          "output_type": "stream",
          "text": [
            "[Parallel(n_jobs=-1)]: Using backend LokyBackend with 2 concurrent workers.\n",
            "[Parallel(n_jobs=-1)]: Done  46 tasks      | elapsed:    4.7s\n",
            "[Parallel(n_jobs=-1)]: Done 120 out of 120 | elapsed:   12.6s finished\n"
          ],
          "name": "stderr"
        },
        {
          "output_type": "execute_result",
          "data": {
            "text/plain": [
              "{'mean_fit_time': array([0.23900077, 0.15349295, 0.15365505, 0.15517888, 0.26098762,\n",
              "        0.22445555, 0.15288181, 0.15521555, 0.2626457 , 0.23809071,\n",
              "        0.15545416, 0.1573034 ]),\n",
              " 'mean_score_time': array([0.0137361 , 0.01365764, 0.01367133, 0.01402972, 0.01389601,\n",
              "        0.01398787, 0.0143815 , 0.01526182, 0.01214027, 0.01448815,\n",
              "        0.01505656, 0.01411157]),\n",
              " 'mean_test_score': array([0.58587583, 0.44336659, 0.44336659, 0.44336659, 0.69059128,\n",
              "        0.44336659, 0.44336659, 0.44336659, 0.68998152, 0.58587583,\n",
              "        0.44336659, 0.44336659]),\n",
              " 'param_C': masked_array(data=[0.1, 0.1, 0.1, 0.1, 10, 10, 10, 10, 100, 100, 100, 100],\n",
              "              mask=[False, False, False, False, False, False, False, False,\n",
              "                    False, False, False, False],\n",
              "        fill_value='?',\n",
              "             dtype=object),\n",
              " 'param_gamma': masked_array(data=[1.0, 0.1, 0.01, 0.001, 1.0, 0.1, 0.01, 0.001, 1.0, 0.1,\n",
              "                    0.01, 0.001],\n",
              "              mask=[False, False, False, False, False, False, False, False,\n",
              "                    False, False, False, False],\n",
              "        fill_value='?',\n",
              "             dtype=object),\n",
              " 'param_kernel': masked_array(data=['poly', 'poly', 'poly', 'poly', 'poly', 'poly', 'poly',\n",
              "                    'poly', 'poly', 'poly', 'poly', 'poly'],\n",
              "              mask=[False, False, False, False, False, False, False, False,\n",
              "                    False, False, False, False],\n",
              "        fill_value='?',\n",
              "             dtype=object),\n",
              " 'params': [{'C': 0.1, 'gamma': 1.0, 'kernel': 'poly'},\n",
              "  {'C': 0.1, 'gamma': 0.1, 'kernel': 'poly'},\n",
              "  {'C': 0.1, 'gamma': 0.01, 'kernel': 'poly'},\n",
              "  {'C': 0.1, 'gamma': 0.001, 'kernel': 'poly'},\n",
              "  {'C': 10, 'gamma': 1.0, 'kernel': 'poly'},\n",
              "  {'C': 10, 'gamma': 0.1, 'kernel': 'poly'},\n",
              "  {'C': 10, 'gamma': 0.01, 'kernel': 'poly'},\n",
              "  {'C': 10, 'gamma': 0.001, 'kernel': 'poly'},\n",
              "  {'C': 100, 'gamma': 1.0, 'kernel': 'poly'},\n",
              "  {'C': 100, 'gamma': 0.1, 'kernel': 'poly'},\n",
              "  {'C': 100, 'gamma': 0.01, 'kernel': 'poly'},\n",
              "  {'C': 100, 'gamma': 0.001, 'kernel': 'poly'}],\n",
              " 'rank_test_score': array([3, 5, 5, 5, 1, 5, 5, 5, 2, 3, 5, 5], dtype=int32),\n",
              " 'split0_test_score': array([0.58787879, 0.43636364, 0.43636364, 0.43636364, 0.72727273,\n",
              "        0.43636364, 0.43636364, 0.43636364, 0.72727273, 0.58787879,\n",
              "        0.43636364, 0.43636364]),\n",
              " 'split1_test_score': array([0.57575758, 0.44242424, 0.44242424, 0.44242424, 0.7030303 ,\n",
              "        0.44242424, 0.44242424, 0.44242424, 0.7030303 , 0.57575758,\n",
              "        0.44242424, 0.44242424]),\n",
              " 'split2_test_score': array([0.6097561 , 0.44512195, 0.44512195, 0.44512195, 0.68902439,\n",
              "        0.44512195, 0.44512195, 0.44512195, 0.68902439, 0.6097561 ,\n",
              "        0.44512195, 0.44512195]),\n",
              " 'split3_test_score': array([0.6097561 , 0.44512195, 0.44512195, 0.44512195, 0.73170732,\n",
              "        0.44512195, 0.44512195, 0.44512195, 0.73170732, 0.6097561 ,\n",
              "        0.44512195, 0.44512195]),\n",
              " 'split4_test_score': array([0.56707317, 0.44512195, 0.44512195, 0.44512195, 0.65243902,\n",
              "        0.44512195, 0.44512195, 0.44512195, 0.65243902, 0.56707317,\n",
              "        0.44512195, 0.44512195]),\n",
              " 'split5_test_score': array([0.53658537, 0.44512195, 0.44512195, 0.44512195, 0.62195122,\n",
              "        0.44512195, 0.44512195, 0.44512195, 0.62195122, 0.53658537,\n",
              "        0.44512195, 0.44512195]),\n",
              " 'split6_test_score': array([0.59756098, 0.44512195, 0.44512195, 0.44512195, 0.70731707,\n",
              "        0.44512195, 0.44512195, 0.44512195, 0.70731707, 0.59756098,\n",
              "        0.44512195, 0.44512195]),\n",
              " 'split7_test_score': array([0.60365854, 0.44512195, 0.44512195, 0.44512195, 0.69512195,\n",
              "        0.44512195, 0.44512195, 0.44512195, 0.69512195, 0.60365854,\n",
              "        0.44512195, 0.44512195]),\n",
              " 'split8_test_score': array([0.57317073, 0.44512195, 0.44512195, 0.44512195, 0.68902439,\n",
              "        0.44512195, 0.44512195, 0.44512195, 0.68292683, 0.57317073,\n",
              "        0.44512195, 0.44512195]),\n",
              " 'split9_test_score': array([0.59756098, 0.43902439, 0.43902439, 0.43902439, 0.68902439,\n",
              "        0.43902439, 0.43902439, 0.43902439, 0.68902439, 0.59756098,\n",
              "        0.43902439, 0.43902439]),\n",
              " 'std_fit_time': array([0.00828498, 0.00394664, 0.00389124, 0.00498902, 0.00515556,\n",
              "        0.00523121, 0.00293717, 0.00475926, 0.0040802 , 0.00742201,\n",
              "        0.00384823, 0.00522011]),\n",
              " 'std_score_time': array([0.00109652, 0.00078034, 0.00080047, 0.00116058, 0.0024719 ,\n",
              "        0.00097089, 0.00110395, 0.00281758, 0.00045457, 0.00197432,\n",
              "        0.00233561, 0.00136364]),\n",
              " 'std_test_score': array([0.02186491, 0.00300588, 0.00300588, 0.00300588, 0.03108936,\n",
              "        0.00300588, 0.00300588, 0.00300588, 0.03117379, 0.02186491,\n",
              "        0.00300588, 0.00300588])}"
            ]
          },
          "metadata": {
            "tags": []
          },
          "execution_count": 14
        }
      ]
    },
    {
      "cell_type": "code",
      "metadata": {
        "colab": {
          "base_uri": "https://localhost:8080/",
          "height": 1000
        },
        "id": "1znXHsYLKhEY",
        "outputId": "a75aa76d-98e7-4585-e3b9-ec4d33c78515"
      },
      "source": [
        "da = pd.DataFrame(gridsvmCV.cv_results_)\n",
        "da"
      ],
      "execution_count": 15,
      "outputs": [
        {
          "output_type": "execute_result",
          "data": {
            "text/html": [
              "<div>\n",
              "<style scoped>\n",
              "    .dataframe tbody tr th:only-of-type {\n",
              "        vertical-align: middle;\n",
              "    }\n",
              "\n",
              "    .dataframe tbody tr th {\n",
              "        vertical-align: top;\n",
              "    }\n",
              "\n",
              "    .dataframe thead th {\n",
              "        text-align: right;\n",
              "    }\n",
              "</style>\n",
              "<table border=\"1\" class=\"dataframe\">\n",
              "  <thead>\n",
              "    <tr style=\"text-align: right;\">\n",
              "      <th></th>\n",
              "      <th>mean_fit_time</th>\n",
              "      <th>std_fit_time</th>\n",
              "      <th>mean_score_time</th>\n",
              "      <th>std_score_time</th>\n",
              "      <th>param_C</th>\n",
              "      <th>param_gamma</th>\n",
              "      <th>param_kernel</th>\n",
              "      <th>params</th>\n",
              "      <th>split0_test_score</th>\n",
              "      <th>split1_test_score</th>\n",
              "      <th>split2_test_score</th>\n",
              "      <th>split3_test_score</th>\n",
              "      <th>split4_test_score</th>\n",
              "      <th>split5_test_score</th>\n",
              "      <th>split6_test_score</th>\n",
              "      <th>split7_test_score</th>\n",
              "      <th>split8_test_score</th>\n",
              "      <th>split9_test_score</th>\n",
              "      <th>mean_test_score</th>\n",
              "      <th>std_test_score</th>\n",
              "      <th>rank_test_score</th>\n",
              "    </tr>\n",
              "  </thead>\n",
              "  <tbody>\n",
              "    <tr>\n",
              "      <th>0</th>\n",
              "      <td>0.239001</td>\n",
              "      <td>0.008285</td>\n",
              "      <td>0.013736</td>\n",
              "      <td>0.001097</td>\n",
              "      <td>0.1</td>\n",
              "      <td>1</td>\n",
              "      <td>poly</td>\n",
              "      <td>{'C': 0.1, 'gamma': 1.0, 'kernel': 'poly'}</td>\n",
              "      <td>0.587879</td>\n",
              "      <td>0.575758</td>\n",
              "      <td>0.609756</td>\n",
              "      <td>0.609756</td>\n",
              "      <td>0.567073</td>\n",
              "      <td>0.536585</td>\n",
              "      <td>0.597561</td>\n",
              "      <td>0.603659</td>\n",
              "      <td>0.573171</td>\n",
              "      <td>0.597561</td>\n",
              "      <td>0.585876</td>\n",
              "      <td>0.021865</td>\n",
              "      <td>3</td>\n",
              "    </tr>\n",
              "    <tr>\n",
              "      <th>1</th>\n",
              "      <td>0.153493</td>\n",
              "      <td>0.003947</td>\n",
              "      <td>0.013658</td>\n",
              "      <td>0.000780</td>\n",
              "      <td>0.1</td>\n",
              "      <td>0.1</td>\n",
              "      <td>poly</td>\n",
              "      <td>{'C': 0.1, 'gamma': 0.1, 'kernel': 'poly'}</td>\n",
              "      <td>0.436364</td>\n",
              "      <td>0.442424</td>\n",
              "      <td>0.445122</td>\n",
              "      <td>0.445122</td>\n",
              "      <td>0.445122</td>\n",
              "      <td>0.445122</td>\n",
              "      <td>0.445122</td>\n",
              "      <td>0.445122</td>\n",
              "      <td>0.445122</td>\n",
              "      <td>0.439024</td>\n",
              "      <td>0.443367</td>\n",
              "      <td>0.003006</td>\n",
              "      <td>5</td>\n",
              "    </tr>\n",
              "    <tr>\n",
              "      <th>2</th>\n",
              "      <td>0.153655</td>\n",
              "      <td>0.003891</td>\n",
              "      <td>0.013671</td>\n",
              "      <td>0.000800</td>\n",
              "      <td>0.1</td>\n",
              "      <td>0.01</td>\n",
              "      <td>poly</td>\n",
              "      <td>{'C': 0.1, 'gamma': 0.01, 'kernel': 'poly'}</td>\n",
              "      <td>0.436364</td>\n",
              "      <td>0.442424</td>\n",
              "      <td>0.445122</td>\n",
              "      <td>0.445122</td>\n",
              "      <td>0.445122</td>\n",
              "      <td>0.445122</td>\n",
              "      <td>0.445122</td>\n",
              "      <td>0.445122</td>\n",
              "      <td>0.445122</td>\n",
              "      <td>0.439024</td>\n",
              "      <td>0.443367</td>\n",
              "      <td>0.003006</td>\n",
              "      <td>5</td>\n",
              "    </tr>\n",
              "    <tr>\n",
              "      <th>3</th>\n",
              "      <td>0.155179</td>\n",
              "      <td>0.004989</td>\n",
              "      <td>0.014030</td>\n",
              "      <td>0.001161</td>\n",
              "      <td>0.1</td>\n",
              "      <td>0.001</td>\n",
              "      <td>poly</td>\n",
              "      <td>{'C': 0.1, 'gamma': 0.001, 'kernel': 'poly'}</td>\n",
              "      <td>0.436364</td>\n",
              "      <td>0.442424</td>\n",
              "      <td>0.445122</td>\n",
              "      <td>0.445122</td>\n",
              "      <td>0.445122</td>\n",
              "      <td>0.445122</td>\n",
              "      <td>0.445122</td>\n",
              "      <td>0.445122</td>\n",
              "      <td>0.445122</td>\n",
              "      <td>0.439024</td>\n",
              "      <td>0.443367</td>\n",
              "      <td>0.003006</td>\n",
              "      <td>5</td>\n",
              "    </tr>\n",
              "    <tr>\n",
              "      <th>4</th>\n",
              "      <td>0.260988</td>\n",
              "      <td>0.005156</td>\n",
              "      <td>0.013896</td>\n",
              "      <td>0.002472</td>\n",
              "      <td>10</td>\n",
              "      <td>1</td>\n",
              "      <td>poly</td>\n",
              "      <td>{'C': 10, 'gamma': 1.0, 'kernel': 'poly'}</td>\n",
              "      <td>0.727273</td>\n",
              "      <td>0.703030</td>\n",
              "      <td>0.689024</td>\n",
              "      <td>0.731707</td>\n",
              "      <td>0.652439</td>\n",
              "      <td>0.621951</td>\n",
              "      <td>0.707317</td>\n",
              "      <td>0.695122</td>\n",
              "      <td>0.689024</td>\n",
              "      <td>0.689024</td>\n",
              "      <td>0.690591</td>\n",
              "      <td>0.031089</td>\n",
              "      <td>1</td>\n",
              "    </tr>\n",
              "    <tr>\n",
              "      <th>5</th>\n",
              "      <td>0.224456</td>\n",
              "      <td>0.005231</td>\n",
              "      <td>0.013988</td>\n",
              "      <td>0.000971</td>\n",
              "      <td>10</td>\n",
              "      <td>0.1</td>\n",
              "      <td>poly</td>\n",
              "      <td>{'C': 10, 'gamma': 0.1, 'kernel': 'poly'}</td>\n",
              "      <td>0.436364</td>\n",
              "      <td>0.442424</td>\n",
              "      <td>0.445122</td>\n",
              "      <td>0.445122</td>\n",
              "      <td>0.445122</td>\n",
              "      <td>0.445122</td>\n",
              "      <td>0.445122</td>\n",
              "      <td>0.445122</td>\n",
              "      <td>0.445122</td>\n",
              "      <td>0.439024</td>\n",
              "      <td>0.443367</td>\n",
              "      <td>0.003006</td>\n",
              "      <td>5</td>\n",
              "    </tr>\n",
              "    <tr>\n",
              "      <th>6</th>\n",
              "      <td>0.152882</td>\n",
              "      <td>0.002937</td>\n",
              "      <td>0.014382</td>\n",
              "      <td>0.001104</td>\n",
              "      <td>10</td>\n",
              "      <td>0.01</td>\n",
              "      <td>poly</td>\n",
              "      <td>{'C': 10, 'gamma': 0.01, 'kernel': 'poly'}</td>\n",
              "      <td>0.436364</td>\n",
              "      <td>0.442424</td>\n",
              "      <td>0.445122</td>\n",
              "      <td>0.445122</td>\n",
              "      <td>0.445122</td>\n",
              "      <td>0.445122</td>\n",
              "      <td>0.445122</td>\n",
              "      <td>0.445122</td>\n",
              "      <td>0.445122</td>\n",
              "      <td>0.439024</td>\n",
              "      <td>0.443367</td>\n",
              "      <td>0.003006</td>\n",
              "      <td>5</td>\n",
              "    </tr>\n",
              "    <tr>\n",
              "      <th>7</th>\n",
              "      <td>0.155216</td>\n",
              "      <td>0.004759</td>\n",
              "      <td>0.015262</td>\n",
              "      <td>0.002818</td>\n",
              "      <td>10</td>\n",
              "      <td>0.001</td>\n",
              "      <td>poly</td>\n",
              "      <td>{'C': 10, 'gamma': 0.001, 'kernel': 'poly'}</td>\n",
              "      <td>0.436364</td>\n",
              "      <td>0.442424</td>\n",
              "      <td>0.445122</td>\n",
              "      <td>0.445122</td>\n",
              "      <td>0.445122</td>\n",
              "      <td>0.445122</td>\n",
              "      <td>0.445122</td>\n",
              "      <td>0.445122</td>\n",
              "      <td>0.445122</td>\n",
              "      <td>0.439024</td>\n",
              "      <td>0.443367</td>\n",
              "      <td>0.003006</td>\n",
              "      <td>5</td>\n",
              "    </tr>\n",
              "    <tr>\n",
              "      <th>8</th>\n",
              "      <td>0.262646</td>\n",
              "      <td>0.004080</td>\n",
              "      <td>0.012140</td>\n",
              "      <td>0.000455</td>\n",
              "      <td>100</td>\n",
              "      <td>1</td>\n",
              "      <td>poly</td>\n",
              "      <td>{'C': 100, 'gamma': 1.0, 'kernel': 'poly'}</td>\n",
              "      <td>0.727273</td>\n",
              "      <td>0.703030</td>\n",
              "      <td>0.689024</td>\n",
              "      <td>0.731707</td>\n",
              "      <td>0.652439</td>\n",
              "      <td>0.621951</td>\n",
              "      <td>0.707317</td>\n",
              "      <td>0.695122</td>\n",
              "      <td>0.682927</td>\n",
              "      <td>0.689024</td>\n",
              "      <td>0.689982</td>\n",
              "      <td>0.031174</td>\n",
              "      <td>2</td>\n",
              "    </tr>\n",
              "    <tr>\n",
              "      <th>9</th>\n",
              "      <td>0.238091</td>\n",
              "      <td>0.007422</td>\n",
              "      <td>0.014488</td>\n",
              "      <td>0.001974</td>\n",
              "      <td>100</td>\n",
              "      <td>0.1</td>\n",
              "      <td>poly</td>\n",
              "      <td>{'C': 100, 'gamma': 0.1, 'kernel': 'poly'}</td>\n",
              "      <td>0.587879</td>\n",
              "      <td>0.575758</td>\n",
              "      <td>0.609756</td>\n",
              "      <td>0.609756</td>\n",
              "      <td>0.567073</td>\n",
              "      <td>0.536585</td>\n",
              "      <td>0.597561</td>\n",
              "      <td>0.603659</td>\n",
              "      <td>0.573171</td>\n",
              "      <td>0.597561</td>\n",
              "      <td>0.585876</td>\n",
              "      <td>0.021865</td>\n",
              "      <td>3</td>\n",
              "    </tr>\n",
              "    <tr>\n",
              "      <th>10</th>\n",
              "      <td>0.155454</td>\n",
              "      <td>0.003848</td>\n",
              "      <td>0.015057</td>\n",
              "      <td>0.002336</td>\n",
              "      <td>100</td>\n",
              "      <td>0.01</td>\n",
              "      <td>poly</td>\n",
              "      <td>{'C': 100, 'gamma': 0.01, 'kernel': 'poly'}</td>\n",
              "      <td>0.436364</td>\n",
              "      <td>0.442424</td>\n",
              "      <td>0.445122</td>\n",
              "      <td>0.445122</td>\n",
              "      <td>0.445122</td>\n",
              "      <td>0.445122</td>\n",
              "      <td>0.445122</td>\n",
              "      <td>0.445122</td>\n",
              "      <td>0.445122</td>\n",
              "      <td>0.439024</td>\n",
              "      <td>0.443367</td>\n",
              "      <td>0.003006</td>\n",
              "      <td>5</td>\n",
              "    </tr>\n",
              "    <tr>\n",
              "      <th>11</th>\n",
              "      <td>0.157303</td>\n",
              "      <td>0.005220</td>\n",
              "      <td>0.014112</td>\n",
              "      <td>0.001364</td>\n",
              "      <td>100</td>\n",
              "      <td>0.001</td>\n",
              "      <td>poly</td>\n",
              "      <td>{'C': 100, 'gamma': 0.001, 'kernel': 'poly'}</td>\n",
              "      <td>0.436364</td>\n",
              "      <td>0.442424</td>\n",
              "      <td>0.445122</td>\n",
              "      <td>0.445122</td>\n",
              "      <td>0.445122</td>\n",
              "      <td>0.445122</td>\n",
              "      <td>0.445122</td>\n",
              "      <td>0.445122</td>\n",
              "      <td>0.445122</td>\n",
              "      <td>0.439024</td>\n",
              "      <td>0.443367</td>\n",
              "      <td>0.003006</td>\n",
              "      <td>5</td>\n",
              "    </tr>\n",
              "  </tbody>\n",
              "</table>\n",
              "</div>"
            ],
            "text/plain": [
              "    mean_fit_time  std_fit_time  ...  std_test_score  rank_test_score\n",
              "0        0.239001      0.008285  ...        0.021865                3\n",
              "1        0.153493      0.003947  ...        0.003006                5\n",
              "2        0.153655      0.003891  ...        0.003006                5\n",
              "3        0.155179      0.004989  ...        0.003006                5\n",
              "4        0.260988      0.005156  ...        0.031089                1\n",
              "5        0.224456      0.005231  ...        0.003006                5\n",
              "6        0.152882      0.002937  ...        0.003006                5\n",
              "7        0.155216      0.004759  ...        0.003006                5\n",
              "8        0.262646      0.004080  ...        0.031174                2\n",
              "9        0.238091      0.007422  ...        0.021865                3\n",
              "10       0.155454      0.003848  ...        0.003006                5\n",
              "11       0.157303      0.005220  ...        0.003006                5\n",
              "\n",
              "[12 rows x 21 columns]"
            ]
          },
          "metadata": {
            "tags": []
          },
          "execution_count": 15
        }
      ]
    },
    {
      "cell_type": "code",
      "metadata": {
        "colab": {
          "base_uri": "https://localhost:8080/",
          "height": 421
        },
        "id": "_hUnFe33KhQJ",
        "outputId": "75c0b01f-1be0-4db2-e237-87959f491d54"
      },
      "source": [
        "da[['param_C','param_gamma', 'mean_test_score']]"
      ],
      "execution_count": 16,
      "outputs": [
        {
          "output_type": "execute_result",
          "data": {
            "text/html": [
              "<div>\n",
              "<style scoped>\n",
              "    .dataframe tbody tr th:only-of-type {\n",
              "        vertical-align: middle;\n",
              "    }\n",
              "\n",
              "    .dataframe tbody tr th {\n",
              "        vertical-align: top;\n",
              "    }\n",
              "\n",
              "    .dataframe thead th {\n",
              "        text-align: right;\n",
              "    }\n",
              "</style>\n",
              "<table border=\"1\" class=\"dataframe\">\n",
              "  <thead>\n",
              "    <tr style=\"text-align: right;\">\n",
              "      <th></th>\n",
              "      <th>param_C</th>\n",
              "      <th>param_gamma</th>\n",
              "      <th>mean_test_score</th>\n",
              "    </tr>\n",
              "  </thead>\n",
              "  <tbody>\n",
              "    <tr>\n",
              "      <th>0</th>\n",
              "      <td>0.1</td>\n",
              "      <td>1</td>\n",
              "      <td>0.585876</td>\n",
              "    </tr>\n",
              "    <tr>\n",
              "      <th>1</th>\n",
              "      <td>0.1</td>\n",
              "      <td>0.1</td>\n",
              "      <td>0.443367</td>\n",
              "    </tr>\n",
              "    <tr>\n",
              "      <th>2</th>\n",
              "      <td>0.1</td>\n",
              "      <td>0.01</td>\n",
              "      <td>0.443367</td>\n",
              "    </tr>\n",
              "    <tr>\n",
              "      <th>3</th>\n",
              "      <td>0.1</td>\n",
              "      <td>0.001</td>\n",
              "      <td>0.443367</td>\n",
              "    </tr>\n",
              "    <tr>\n",
              "      <th>4</th>\n",
              "      <td>10</td>\n",
              "      <td>1</td>\n",
              "      <td>0.690591</td>\n",
              "    </tr>\n",
              "    <tr>\n",
              "      <th>5</th>\n",
              "      <td>10</td>\n",
              "      <td>0.1</td>\n",
              "      <td>0.443367</td>\n",
              "    </tr>\n",
              "    <tr>\n",
              "      <th>6</th>\n",
              "      <td>10</td>\n",
              "      <td>0.01</td>\n",
              "      <td>0.443367</td>\n",
              "    </tr>\n",
              "    <tr>\n",
              "      <th>7</th>\n",
              "      <td>10</td>\n",
              "      <td>0.001</td>\n",
              "      <td>0.443367</td>\n",
              "    </tr>\n",
              "    <tr>\n",
              "      <th>8</th>\n",
              "      <td>100</td>\n",
              "      <td>1</td>\n",
              "      <td>0.689982</td>\n",
              "    </tr>\n",
              "    <tr>\n",
              "      <th>9</th>\n",
              "      <td>100</td>\n",
              "      <td>0.1</td>\n",
              "      <td>0.585876</td>\n",
              "    </tr>\n",
              "    <tr>\n",
              "      <th>10</th>\n",
              "      <td>100</td>\n",
              "      <td>0.01</td>\n",
              "      <td>0.443367</td>\n",
              "    </tr>\n",
              "    <tr>\n",
              "      <th>11</th>\n",
              "      <td>100</td>\n",
              "      <td>0.001</td>\n",
              "      <td>0.443367</td>\n",
              "    </tr>\n",
              "  </tbody>\n",
              "</table>\n",
              "</div>"
            ],
            "text/plain": [
              "   param_C param_gamma  mean_test_score\n",
              "0      0.1           1         0.585876\n",
              "1      0.1         0.1         0.443367\n",
              "2      0.1        0.01         0.443367\n",
              "3      0.1       0.001         0.443367\n",
              "4       10           1         0.690591\n",
              "5       10         0.1         0.443367\n",
              "6       10        0.01         0.443367\n",
              "7       10       0.001         0.443367\n",
              "8      100           1         0.689982\n",
              "9      100         0.1         0.585876\n",
              "10     100        0.01         0.443367\n",
              "11     100       0.001         0.443367"
            ]
          },
          "metadata": {
            "tags": []
          },
          "execution_count": 16
        }
      ]
    },
    {
      "cell_type": "code",
      "metadata": {
        "colab": {
          "base_uri": "https://localhost:8080/"
        },
        "id": "YX25JnLeKr3H",
        "outputId": "b1283ea4-c3eb-457f-9ad7-3c3f2a4c2040"
      },
      "source": [
        "gridsvmCV.best_params_"
      ],
      "execution_count": 17,
      "outputs": [
        {
          "output_type": "execute_result",
          "data": {
            "text/plain": [
              "{'C': 10, 'gamma': 1.0, 'kernel': 'poly'}"
            ]
          },
          "metadata": {
            "tags": []
          },
          "execution_count": 17
        }
      ]
    },
    {
      "cell_type": "code",
      "metadata": {
        "colab": {
          "base_uri": "https://localhost:8080/"
        },
        "id": "xkLQI6W_NVAp",
        "outputId": "4450800b-6c51-42c9-d81d-dfe0a255e67c"
      },
      "source": [
        "gridsvmCV.best_score_"
      ],
      "execution_count": 18,
      "outputs": [
        {
          "output_type": "execute_result",
          "data": {
            "text/plain": [
              "0.6905912786400592"
            ]
          },
          "metadata": {
            "tags": []
          },
          "execution_count": 18
        }
      ]
    },
    {
      "cell_type": "code",
      "metadata": {
        "colab": {
          "base_uri": "https://localhost:8080/",
          "height": 352
        },
        "id": "gSj50B0lKvH2",
        "outputId": "dcff4acb-6c41-4a3b-d297-926baadbf7df"
      },
      "source": [
        "import seaborn as sns\n",
        "import matplotlib.pyplot as plt\n",
        "sns.set_style(\"white\")\n",
        "\n",
        "sns.lineplot('param_gamma', 'mean_test_score',hue='param_C', ci=None, marker='o',\n",
        "             data=da, palette=['blue', 'red', 'green'])"
      ],
      "execution_count": 19,
      "outputs": [
        {
          "output_type": "stream",
          "text": [
            "/usr/local/lib/python3.7/dist-packages/seaborn/_decorators.py:43: FutureWarning: Pass the following variables as keyword args: x, y. From version 0.12, the only valid positional argument will be `data`, and passing other arguments without an explicit keyword will result in an error or misinterpretation.\n",
            "  FutureWarning\n"
          ],
          "name": "stderr"
        },
        {
          "output_type": "execute_result",
          "data": {
            "text/plain": [
              "<matplotlib.axes._subplots.AxesSubplot at 0x7ff15532be50>"
            ]
          },
          "metadata": {
            "tags": []
          },
          "execution_count": 19
        },
        {
          "output_type": "display_data",
          "data": {
            "image/png": "[encoded data removed]",
            "text/plain": [
              "<Figure size 432x288 with 1 Axes>"
            ]
          },
          "metadata": {
            "tags": []
          }
        }
      ]
    },
    {
      "cell_type": "markdown",
      "metadata": {
        "id": "yV8rA3rQK-1V"
      },
      "source": [
        "## **Kernel Linear**"
      ]
    },
    {
      "cell_type": "code",
      "metadata": {
        "colab": {
          "base_uri": "https://localhost:8080/"
        },
        "id": "rkd44NlOK0N-",
        "outputId": "212078e6-fa8e-4a7a-e25b-a5a5b1128319"
      },
      "source": [
        "kCV = 10\n",
        "C = [0.1, 10, 100]\n",
        "gamma = [1.0, 0.1, 0.01, 0.001]\n",
        "kernel = ['linear']\n",
        " \n",
        "estimator = svm.SVC()\n",
        "gridsvmCV = GridSearchCV(estimator, cv=kCV, param_grid = dict(C = C, gamma=gamma, kernel = kernel), verbose=1,  n_jobs=-1)\n",
        "best_model = gridsvmCV.fit(X_train, y_train)\n",
        "gridsvmCV.cv_results_"
      ],
      "execution_count": 20,
      "outputs": [
        {
          "output_type": "stream",
          "text": [
            "Fitting 10 folds for each of 12 candidates, totalling 120 fits\n"
          ],
          "name": "stdout"
        },
        {
          "output_type": "stream",
          "text": [
            "[Parallel(n_jobs=-1)]: Using backend LokyBackend with 2 concurrent workers.\n",
            "[Parallel(n_jobs=-1)]: Done  88 tasks      | elapsed:    8.2s\n",
            "[Parallel(n_jobs=-1)]: Done 120 out of 120 | elapsed:   12.7s finished\n"
          ],
          "name": "stderr"
        },
        {
          "output_type": "execute_result",
          "data": {
            "text/plain": [
              "{'mean_fit_time': array([0.1547677 , 0.15025332, 0.14868882, 0.14952571, 0.16896288,\n",
              "        0.1742486 , 0.17404554, 0.17477238, 0.27678201, 0.27550869,\n",
              "        0.27466865, 0.26613038]),\n",
              " 'mean_score_time': array([0.01170015, 0.01203575, 0.0116993 , 0.01122439, 0.00916729,\n",
              "        0.00858972, 0.00812769, 0.00859525, 0.00745091, 0.00743384,\n",
              "        0.00785024, 0.00743372]),\n",
              " 'mean_test_score': array([0.62850333, 0.62850333, 0.62850333, 0.62850333, 0.75031412,\n",
              "        0.75031412, 0.75031412, 0.75031412, 0.73263119, 0.73263119,\n",
              "        0.73263119, 0.73263119]),\n",
              " 'param_C': masked_array(data=[0.1, 0.1, 0.1, 0.1, 10, 10, 10, 10, 100, 100, 100, 100],\n",
              "              mask=[False, False, False, False, False, False, False, False,\n",
              "                    False, False, False, False],\n",
              "        fill_value='?',\n",
              "             dtype=object),\n",
              " 'param_gamma': masked_array(data=[1.0, 0.1, 0.01, 0.001, 1.0, 0.1, 0.01, 0.001, 1.0, 0.1,\n",
              "                    0.01, 0.001],\n",
              "              mask=[False, False, False, False, False, False, False, False,\n",
              "                    False, False, False, False],\n",
              "        fill_value='?',\n",
              "             dtype=object),\n",
              " 'param_kernel': masked_array(data=['linear', 'linear', 'linear', 'linear', 'linear',\n",
              "                    'linear', 'linear', 'linear', 'linear', 'linear',\n",
              "                    'linear', 'linear'],\n",
              "              mask=[False, False, False, False, False, False, False, False,\n",
              "                    False, False, False, False],\n",
              "        fill_value='?',\n",
              "             dtype=object),\n",
              " 'params': [{'C': 0.1, 'gamma': 1.0, 'kernel': 'linear'},\n",
              "  {'C': 0.1, 'gamma': 0.1, 'kernel': 'linear'},\n",
              "  {'C': 0.1, 'gamma': 0.01, 'kernel': 'linear'},\n",
              "  {'C': 0.1, 'gamma': 0.001, 'kernel': 'linear'},\n",
              "  {'C': 10, 'gamma': 1.0, 'kernel': 'linear'},\n",
              "  {'C': 10, 'gamma': 0.1, 'kernel': 'linear'},\n",
              "  {'C': 10, 'gamma': 0.01, 'kernel': 'linear'},\n",
              "  {'C': 10, 'gamma': 0.001, 'kernel': 'linear'},\n",
              "  {'C': 100, 'gamma': 1.0, 'kernel': 'linear'},\n",
              "  {'C': 100, 'gamma': 0.1, 'kernel': 'linear'},\n",
              "  {'C': 100, 'gamma': 0.01, 'kernel': 'linear'},\n",
              "  {'C': 100, 'gamma': 0.001, 'kernel': 'linear'}],\n",
              " 'rank_test_score': array([9, 9, 9, 9, 1, 1, 1, 1, 5, 5, 5, 5], dtype=int32),\n",
              " 'split0_test_score': array([0.62424242, 0.62424242, 0.62424242, 0.62424242, 0.79393939,\n",
              "        0.79393939, 0.79393939, 0.79393939, 0.78787879, 0.78787879,\n",
              "        0.78787879, 0.78787879]),\n",
              " 'split1_test_score': array([0.63030303, 0.63030303, 0.63030303, 0.63030303, 0.69090909,\n",
              "        0.69090909, 0.69090909, 0.69090909, 0.6969697 , 0.6969697 ,\n",
              "        0.6969697 , 0.6969697 ]),\n",
              " 'split2_test_score': array([0.65853659, 0.65853659, 0.65853659, 0.65853659, 0.73780488,\n",
              "        0.73780488, 0.73780488, 0.73780488, 0.73780488, 0.73780488,\n",
              "        0.73780488, 0.73780488]),\n",
              " 'split3_test_score': array([0.65243902, 0.65243902, 0.65243902, 0.65243902, 0.76829268,\n",
              "        0.76829268, 0.76829268, 0.76829268, 0.76829268, 0.76829268,\n",
              "        0.76829268, 0.76829268]),\n",
              " 'split4_test_score': array([0.61585366, 0.61585366, 0.61585366, 0.61585366, 0.73170732,\n",
              "        0.73170732, 0.73170732, 0.73170732, 0.7195122 , 0.7195122 ,\n",
              "        0.7195122 , 0.7195122 ]),\n",
              " 'split5_test_score': array([0.59756098, 0.59756098, 0.59756098, 0.59756098, 0.75      ,\n",
              "        0.75      , 0.75      , 0.75      , 0.75      , 0.75      ,\n",
              "        0.75      , 0.75      ]),\n",
              " 'split6_test_score': array([0.62804878, 0.62804878, 0.62804878, 0.62804878, 0.76829268,\n",
              "        0.76829268, 0.76829268, 0.76829268, 0.73780488, 0.73780488,\n",
              "        0.73780488, 0.73780488]),\n",
              " 'split7_test_score': array([0.65243902, 0.65243902, 0.65243902, 0.65243902, 0.73170732,\n",
              "        0.73170732, 0.73170732, 0.73170732, 0.68902439, 0.68902439,\n",
              "        0.68902439, 0.68902439]),\n",
              " 'split8_test_score': array([0.61585366, 0.61585366, 0.61585366, 0.61585366, 0.75      ,\n",
              "        0.75      , 0.75      , 0.75      , 0.68902439, 0.68902439,\n",
              "        0.68902439, 0.68902439]),\n",
              " 'split9_test_score': array([0.6097561, 0.6097561, 0.6097561, 0.6097561, 0.7804878, 0.7804878,\n",
              "        0.7804878, 0.7804878, 0.75     , 0.75     , 0.75     , 0.75     ]),\n",
              " 'std_fit_time': array([0.00795464, 0.0045445 , 0.00439741, 0.00638814, 0.00767649,\n",
              "        0.00931561, 0.01130174, 0.01171638, 0.09359336, 0.09400999,\n",
              "        0.08756752, 0.08942262]),\n",
              " 'std_score_time': array([0.00117598, 0.00129919, 0.00146952, 0.00054845, 0.00311141,\n",
              "        0.00073673, 0.00038369, 0.00058624, 0.00036075, 0.00042059,\n",
              "        0.00096502, 0.00075145]),\n",
              " 'std_test_score': array([0.01923109, 0.01923109, 0.01923109, 0.01923109, 0.02799667,\n",
              "        0.02799667, 0.02799667, 0.02799667, 0.03198106, 0.03198106,\n",
              "        0.03198106, 0.03198106])}"
            ]
          },
          "metadata": {
            "tags": []
          },
          "execution_count": 20
        }
      ]
    },
    {
      "cell_type": "code",
      "metadata": {
        "colab": {
          "base_uri": "https://localhost:8080/",
          "height": 1000
        },
        "id": "qzapZvkkLHtX",
        "outputId": "2ec85e8c-044f-4c7e-b1a3-31c54ad8fc13"
      },
      "source": [
        "db = pd.DataFrame(gridsvmCV.cv_results_)\n",
        "db"
      ],
      "execution_count": 21,
      "outputs": [
        {
          "output_type": "execute_result",
          "data": {
            "text/html": [
              "<div>\n",
              "<style scoped>\n",
              "    .dataframe tbody tr th:only-of-type {\n",
              "        vertical-align: middle;\n",
              "    }\n",
              "\n",
              "    .dataframe tbody tr th {\n",
              "        vertical-align: top;\n",
              "    }\n",
              "\n",
              "    .dataframe thead th {\n",
              "        text-align: right;\n",
              "    }\n",
              "</style>\n",
              "<table border=\"1\" class=\"dataframe\">\n",
              "  <thead>\n",
              "    <tr style=\"text-align: right;\">\n",
              "      <th></th>\n",
              "      <th>mean_fit_time</th>\n",
              "      <th>std_fit_time</th>\n",
              "      <th>mean_score_time</th>\n",
              "      <th>std_score_time</th>\n",
              "      <th>param_C</th>\n",
              "      <th>param_gamma</th>\n",
              "      <th>param_kernel</th>\n",
              "      <th>params</th>\n",
              "      <th>split0_test_score</th>\n",
              "      <th>split1_test_score</th>\n",
              "      <th>split2_test_score</th>\n",
              "      <th>split3_test_score</th>\n",
              "      <th>split4_test_score</th>\n",
              "      <th>split5_test_score</th>\n",
              "      <th>split6_test_score</th>\n",
              "      <th>split7_test_score</th>\n",
              "      <th>split8_test_score</th>\n",
              "      <th>split9_test_score</th>\n",
              "      <th>mean_test_score</th>\n",
              "      <th>std_test_score</th>\n",
              "      <th>rank_test_score</th>\n",
              "    </tr>\n",
              "  </thead>\n",
              "  <tbody>\n",
              "    <tr>\n",
              "      <th>0</th>\n",
              "      <td>0.154768</td>\n",
              "      <td>0.007955</td>\n",
              "      <td>0.011700</td>\n",
              "      <td>0.001176</td>\n",
              "      <td>0.1</td>\n",
              "      <td>1</td>\n",
              "      <td>linear</td>\n",
              "      <td>{'C': 0.1, 'gamma': 1.0, 'kernel': 'linear'}</td>\n",
              "      <td>0.624242</td>\n",
              "      <td>0.630303</td>\n",
              "      <td>0.658537</td>\n",
              "      <td>0.652439</td>\n",
              "      <td>0.615854</td>\n",
              "      <td>0.597561</td>\n",
              "      <td>0.628049</td>\n",
              "      <td>0.652439</td>\n",
              "      <td>0.615854</td>\n",
              "      <td>0.609756</td>\n",
              "      <td>0.628503</td>\n",
              "      <td>0.019231</td>\n",
              "      <td>9</td>\n",
              "    </tr>\n",
              "    <tr>\n",
              "      <th>1</th>\n",
              "      <td>0.150253</td>\n",
              "      <td>0.004545</td>\n",
              "      <td>0.012036</td>\n",
              "      <td>0.001299</td>\n",
              "      <td>0.1</td>\n",
              "      <td>0.1</td>\n",
              "      <td>linear</td>\n",
              "      <td>{'C': 0.1, 'gamma': 0.1, 'kernel': 'linear'}</td>\n",
              "      <td>0.624242</td>\n",
              "      <td>0.630303</td>\n",
              "      <td>0.658537</td>\n",
              "      <td>0.652439</td>\n",
              "      <td>0.615854</td>\n",
              "      <td>0.597561</td>\n",
              "      <td>0.628049</td>\n",
              "      <td>0.652439</td>\n",
              "      <td>0.615854</td>\n",
              "      <td>0.609756</td>\n",
              "      <td>0.628503</td>\n",
              "      <td>0.019231</td>\n",
              "      <td>9</td>\n",
              "    </tr>\n",
              "    <tr>\n",
              "      <th>2</th>\n",
              "      <td>0.148689</td>\n",
              "      <td>0.004397</td>\n",
              "      <td>0.011699</td>\n",
              "      <td>0.001470</td>\n",
              "      <td>0.1</td>\n",
              "      <td>0.01</td>\n",
              "      <td>linear</td>\n",
              "      <td>{'C': 0.1, 'gamma': 0.01, 'kernel': 'linear'}</td>\n",
              "      <td>0.624242</td>\n",
              "      <td>0.630303</td>\n",
              "      <td>0.658537</td>\n",
              "      <td>0.652439</td>\n",
              "      <td>0.615854</td>\n",
              "      <td>0.597561</td>\n",
              "      <td>0.628049</td>\n",
              "      <td>0.652439</td>\n",
              "      <td>0.615854</td>\n",
              "      <td>0.609756</td>\n",
              "      <td>0.628503</td>\n",
              "      <td>0.019231</td>\n",
              "      <td>9</td>\n",
              "    </tr>\n",
              "    <tr>\n",
              "      <th>3</th>\n",
              "      <td>0.149526</td>\n",
              "      <td>0.006388</td>\n",
              "      <td>0.011224</td>\n",
              "      <td>0.000548</td>\n",
              "      <td>0.1</td>\n",
              "      <td>0.001</td>\n",
              "      <td>linear</td>\n",
              "      <td>{'C': 0.1, 'gamma': 0.001, 'kernel': 'linear'}</td>\n",
              "      <td>0.624242</td>\n",
              "      <td>0.630303</td>\n",
              "      <td>0.658537</td>\n",
              "      <td>0.652439</td>\n",
              "      <td>0.615854</td>\n",
              "      <td>0.597561</td>\n",
              "      <td>0.628049</td>\n",
              "      <td>0.652439</td>\n",
              "      <td>0.615854</td>\n",
              "      <td>0.609756</td>\n",
              "      <td>0.628503</td>\n",
              "      <td>0.019231</td>\n",
              "      <td>9</td>\n",
              "    </tr>\n",
              "    <tr>\n",
              "      <th>4</th>\n",
              "      <td>0.168963</td>\n",
              "      <td>0.007676</td>\n",
              "      <td>0.009167</td>\n",
              "      <td>0.003111</td>\n",
              "      <td>10</td>\n",
              "      <td>1</td>\n",
              "      <td>linear</td>\n",
              "      <td>{'C': 10, 'gamma': 1.0, 'kernel': 'linear'}</td>\n",
              "      <td>0.793939</td>\n",
              "      <td>0.690909</td>\n",
              "      <td>0.737805</td>\n",
              "      <td>0.768293</td>\n",
              "      <td>0.731707</td>\n",
              "      <td>0.750000</td>\n",
              "      <td>0.768293</td>\n",
              "      <td>0.731707</td>\n",
              "      <td>0.750000</td>\n",
              "      <td>0.780488</td>\n",
              "      <td>0.750314</td>\n",
              "      <td>0.027997</td>\n",
              "      <td>1</td>\n",
              "    </tr>\n",
              "    <tr>\n",
              "      <th>5</th>\n",
              "      <td>0.174249</td>\n",
              "      <td>0.009316</td>\n",
              "      <td>0.008590</td>\n",
              "      <td>0.000737</td>\n",
              "      <td>10</td>\n",
              "      <td>0.1</td>\n",
              "      <td>linear</td>\n",
              "      <td>{'C': 10, 'gamma': 0.1, 'kernel': 'linear'}</td>\n",
              "      <td>0.793939</td>\n",
              "      <td>0.690909</td>\n",
              "      <td>0.737805</td>\n",
              "      <td>0.768293</td>\n",
              "      <td>0.731707</td>\n",
              "      <td>0.750000</td>\n",
              "      <td>0.768293</td>\n",
              "      <td>0.731707</td>\n",
              "      <td>0.750000</td>\n",
              "      <td>0.780488</td>\n",
              "      <td>0.750314</td>\n",
              "      <td>0.027997</td>\n",
              "      <td>1</td>\n",
              "    </tr>\n",
              "    <tr>\n",
              "      <th>6</th>\n",
              "      <td>0.174046</td>\n",
              "      <td>0.011302</td>\n",
              "      <td>0.008128</td>\n",
              "      <td>0.000384</td>\n",
              "      <td>10</td>\n",
              "      <td>0.01</td>\n",
              "      <td>linear</td>\n",
              "      <td>{'C': 10, 'gamma': 0.01, 'kernel': 'linear'}</td>\n",
              "      <td>0.793939</td>\n",
              "      <td>0.690909</td>\n",
              "      <td>0.737805</td>\n",
              "      <td>0.768293</td>\n",
              "      <td>0.731707</td>\n",
              "      <td>0.750000</td>\n",
              "      <td>0.768293</td>\n",
              "      <td>0.731707</td>\n",
              "      <td>0.750000</td>\n",
              "      <td>0.780488</td>\n",
              "      <td>0.750314</td>\n",
              "      <td>0.027997</td>\n",
              "      <td>1</td>\n",
              "    </tr>\n",
              "    <tr>\n",
              "      <th>7</th>\n",
              "      <td>0.174772</td>\n",
              "      <td>0.011716</td>\n",
              "      <td>0.008595</td>\n",
              "      <td>0.000586</td>\n",
              "      <td>10</td>\n",
              "      <td>0.001</td>\n",
              "      <td>linear</td>\n",
              "      <td>{'C': 10, 'gamma': 0.001, 'kernel': 'linear'}</td>\n",
              "      <td>0.793939</td>\n",
              "      <td>0.690909</td>\n",
              "      <td>0.737805</td>\n",
              "      <td>0.768293</td>\n",
              "      <td>0.731707</td>\n",
              "      <td>0.750000</td>\n",
              "      <td>0.768293</td>\n",
              "      <td>0.731707</td>\n",
              "      <td>0.750000</td>\n",
              "      <td>0.780488</td>\n",
              "      <td>0.750314</td>\n",
              "      <td>0.027997</td>\n",
              "      <td>1</td>\n",
              "    </tr>\n",
              "    <tr>\n",
              "      <th>8</th>\n",
              "      <td>0.276782</td>\n",
              "      <td>0.093593</td>\n",
              "      <td>0.007451</td>\n",
              "      <td>0.000361</td>\n",
              "      <td>100</td>\n",
              "      <td>1</td>\n",
              "      <td>linear</td>\n",
              "      <td>{'C': 100, 'gamma': 1.0, 'kernel': 'linear'}</td>\n",
              "      <td>0.787879</td>\n",
              "      <td>0.696970</td>\n",
              "      <td>0.737805</td>\n",
              "      <td>0.768293</td>\n",
              "      <td>0.719512</td>\n",
              "      <td>0.750000</td>\n",
              "      <td>0.737805</td>\n",
              "      <td>0.689024</td>\n",
              "      <td>0.689024</td>\n",
              "      <td>0.750000</td>\n",
              "      <td>0.732631</td>\n",
              "      <td>0.031981</td>\n",
              "      <td>5</td>\n",
              "    </tr>\n",
              "    <tr>\n",
              "      <th>9</th>\n",
              "      <td>0.275509</td>\n",
              "      <td>0.094010</td>\n",
              "      <td>0.007434</td>\n",
              "      <td>0.000421</td>\n",
              "      <td>100</td>\n",
              "      <td>0.1</td>\n",
              "      <td>linear</td>\n",
              "      <td>{'C': 100, 'gamma': 0.1, 'kernel': 'linear'}</td>\n",
              "      <td>0.787879</td>\n",
              "      <td>0.696970</td>\n",
              "      <td>0.737805</td>\n",
              "      <td>0.768293</td>\n",
              "      <td>0.719512</td>\n",
              "      <td>0.750000</td>\n",
              "      <td>0.737805</td>\n",
              "      <td>0.689024</td>\n",
              "      <td>0.689024</td>\n",
              "      <td>0.750000</td>\n",
              "      <td>0.732631</td>\n",
              "      <td>0.031981</td>\n",
              "      <td>5</td>\n",
              "    </tr>\n",
              "    <tr>\n",
              "      <th>10</th>\n",
              "      <td>0.274669</td>\n",
              "      <td>0.087568</td>\n",
              "      <td>0.007850</td>\n",
              "      <td>0.000965</td>\n",
              "      <td>100</td>\n",
              "      <td>0.01</td>\n",
              "      <td>linear</td>\n",
              "      <td>{'C': 100, 'gamma': 0.01, 'kernel': 'linear'}</td>\n",
              "      <td>0.787879</td>\n",
              "      <td>0.696970</td>\n",
              "      <td>0.737805</td>\n",
              "      <td>0.768293</td>\n",
              "      <td>0.719512</td>\n",
              "      <td>0.750000</td>\n",
              "      <td>0.737805</td>\n",
              "      <td>0.689024</td>\n",
              "      <td>0.689024</td>\n",
              "      <td>0.750000</td>\n",
              "      <td>0.732631</td>\n",
              "      <td>0.031981</td>\n",
              "      <td>5</td>\n",
              "    </tr>\n",
              "    <tr>\n",
              "      <th>11</th>\n",
              "      <td>0.266130</td>\n",
              "      <td>0.089423</td>\n",
              "      <td>0.007434</td>\n",
              "      <td>0.000751</td>\n",
              "      <td>100</td>\n",
              "      <td>0.001</td>\n",
              "      <td>linear</td>\n",
              "      <td>{'C': 100, 'gamma': 0.001, 'kernel': 'linear'}</td>\n",
              "      <td>0.787879</td>\n",
              "      <td>0.696970</td>\n",
              "      <td>0.737805</td>\n",
              "      <td>0.768293</td>\n",
              "      <td>0.719512</td>\n",
              "      <td>0.750000</td>\n",
              "      <td>0.737805</td>\n",
              "      <td>0.689024</td>\n",
              "      <td>0.689024</td>\n",
              "      <td>0.750000</td>\n",
              "      <td>0.732631</td>\n",
              "      <td>0.031981</td>\n",
              "      <td>5</td>\n",
              "    </tr>\n",
              "  </tbody>\n",
              "</table>\n",
              "</div>"
            ],
            "text/plain": [
              "    mean_fit_time  std_fit_time  ...  std_test_score  rank_test_score\n",
              "0        0.154768      0.007955  ...        0.019231                9\n",
              "1        0.150253      0.004545  ...        0.019231                9\n",
              "2        0.148689      0.004397  ...        0.019231                9\n",
              "3        0.149526      0.006388  ...        0.019231                9\n",
              "4        0.168963      0.007676  ...        0.027997                1\n",
              "5        0.174249      0.009316  ...        0.027997                1\n",
              "6        0.174046      0.011302  ...        0.027997                1\n",
              "7        0.174772      0.011716  ...        0.027997                1\n",
              "8        0.276782      0.093593  ...        0.031981                5\n",
              "9        0.275509      0.094010  ...        0.031981                5\n",
              "10       0.274669      0.087568  ...        0.031981                5\n",
              "11       0.266130      0.089423  ...        0.031981                5\n",
              "\n",
              "[12 rows x 21 columns]"
            ]
          },
          "metadata": {
            "tags": []
          },
          "execution_count": 21
        }
      ]
    },
    {
      "cell_type": "code",
      "metadata": {
        "colab": {
          "base_uri": "https://localhost:8080/",
          "height": 421
        },
        "id": "Z65a2m3rLPOo",
        "outputId": "e87cedb2-6437-42e1-cd2f-37c6805139db"
      },
      "source": [
        "db[['param_C','param_gamma', 'mean_test_score']]"
      ],
      "execution_count": 22,
      "outputs": [
        {
          "output_type": "execute_result",
          "data": {
            "text/html": [
              "<div>\n",
              "<style scoped>\n",
              "    .dataframe tbody tr th:only-of-type {\n",
              "        vertical-align: middle;\n",
              "    }\n",
              "\n",
              "    .dataframe tbody tr th {\n",
              "        vertical-align: top;\n",
              "    }\n",
              "\n",
              "    .dataframe thead th {\n",
              "        text-align: right;\n",
              "    }\n",
              "</style>\n",
              "<table border=\"1\" class=\"dataframe\">\n",
              "  <thead>\n",
              "    <tr style=\"text-align: right;\">\n",
              "      <th></th>\n",
              "      <th>param_C</th>\n",
              "      <th>param_gamma</th>\n",
              "      <th>mean_test_score</th>\n",
              "    </tr>\n",
              "  </thead>\n",
              "  <tbody>\n",
              "    <tr>\n",
              "      <th>0</th>\n",
              "      <td>0.1</td>\n",
              "      <td>1</td>\n",
              "      <td>0.628503</td>\n",
              "    </tr>\n",
              "    <tr>\n",
              "      <th>1</th>\n",
              "      <td>0.1</td>\n",
              "      <td>0.1</td>\n",
              "      <td>0.628503</td>\n",
              "    </tr>\n",
              "    <tr>\n",
              "      <th>2</th>\n",
              "      <td>0.1</td>\n",
              "      <td>0.01</td>\n",
              "      <td>0.628503</td>\n",
              "    </tr>\n",
              "    <tr>\n",
              "      <th>3</th>\n",
              "      <td>0.1</td>\n",
              "      <td>0.001</td>\n",
              "      <td>0.628503</td>\n",
              "    </tr>\n",
              "    <tr>\n",
              "      <th>4</th>\n",
              "      <td>10</td>\n",
              "      <td>1</td>\n",
              "      <td>0.750314</td>\n",
              "    </tr>\n",
              "    <tr>\n",
              "      <th>5</th>\n",
              "      <td>10</td>\n",
              "      <td>0.1</td>\n",
              "      <td>0.750314</td>\n",
              "    </tr>\n",
              "    <tr>\n",
              "      <th>6</th>\n",
              "      <td>10</td>\n",
              "      <td>0.01</td>\n",
              "      <td>0.750314</td>\n",
              "    </tr>\n",
              "    <tr>\n",
              "      <th>7</th>\n",
              "      <td>10</td>\n",
              "      <td>0.001</td>\n",
              "      <td>0.750314</td>\n",
              "    </tr>\n",
              "    <tr>\n",
              "      <th>8</th>\n",
              "      <td>100</td>\n",
              "      <td>1</td>\n",
              "      <td>0.732631</td>\n",
              "    </tr>\n",
              "    <tr>\n",
              "      <th>9</th>\n",
              "      <td>100</td>\n",
              "      <td>0.1</td>\n",
              "      <td>0.732631</td>\n",
              "    </tr>\n",
              "    <tr>\n",
              "      <th>10</th>\n",
              "      <td>100</td>\n",
              "      <td>0.01</td>\n",
              "      <td>0.732631</td>\n",
              "    </tr>\n",
              "    <tr>\n",
              "      <th>11</th>\n",
              "      <td>100</td>\n",
              "      <td>0.001</td>\n",
              "      <td>0.732631</td>\n",
              "    </tr>\n",
              "  </tbody>\n",
              "</table>\n",
              "</div>"
            ],
            "text/plain": [
              "   param_C param_gamma  mean_test_score\n",
              "0      0.1           1         0.628503\n",
              "1      0.1         0.1         0.628503\n",
              "2      0.1        0.01         0.628503\n",
              "3      0.1       0.001         0.628503\n",
              "4       10           1         0.750314\n",
              "5       10         0.1         0.750314\n",
              "6       10        0.01         0.750314\n",
              "7       10       0.001         0.750314\n",
              "8      100           1         0.732631\n",
              "9      100         0.1         0.732631\n",
              "10     100        0.01         0.732631\n",
              "11     100       0.001         0.732631"
            ]
          },
          "metadata": {
            "tags": []
          },
          "execution_count": 22
        }
      ]
    },
    {
      "cell_type": "code",
      "metadata": {
        "colab": {
          "base_uri": "https://localhost:8080/"
        },
        "id": "lLZpbYiPLPjX",
        "outputId": "8b915f2d-ce16-4a79-ebdc-e390544ffc39"
      },
      "source": [
        "gridsvmCV.best_params_"
      ],
      "execution_count": 23,
      "outputs": [
        {
          "output_type": "execute_result",
          "data": {
            "text/plain": [
              "{'C': 10, 'gamma': 1.0, 'kernel': 'linear'}"
            ]
          },
          "metadata": {
            "tags": []
          },
          "execution_count": 23
        }
      ]
    },
    {
      "cell_type": "code",
      "metadata": {
        "colab": {
          "base_uri": "https://localhost:8080/"
        },
        "id": "ZV_QrJ2vNYF-",
        "outputId": "e0755e86-9685-42c5-bbcc-03efe5a952f2"
      },
      "source": [
        "gridsvmCV.best_score_"
      ],
      "execution_count": 24,
      "outputs": [
        {
          "output_type": "execute_result",
          "data": {
            "text/plain": [
              "0.7503141167775313"
            ]
          },
          "metadata": {
            "tags": []
          },
          "execution_count": 24
        }
      ]
    },
    {
      "cell_type": "code",
      "metadata": {
        "colab": {
          "base_uri": "https://localhost:8080/",
          "height": 350
        },
        "id": "12UXIs7cLX5f",
        "outputId": "99c0fd50-307d-4d16-f661-20ee976b7172"
      },
      "source": [
        "import seaborn as sns\n",
        "import matplotlib.pyplot as plt\n",
        "sns.set_style(\"white\")\n",
        "\n",
        "sns.lineplot('param_gamma', 'mean_test_score',hue='param_C', ci=None, marker='o',\n",
        "             data=db, palette=['blue', 'red', 'green'])"
      ],
      "execution_count": 25,
      "outputs": [
        {
          "output_type": "stream",
          "text": [
            "/usr/local/lib/python3.7/dist-packages/seaborn/_decorators.py:43: FutureWarning: Pass the following variables as keyword args: x, y. From version 0.12, the only valid positional argument will be `data`, and passing other arguments without an explicit keyword will result in an error or misinterpretation.\n",
            "  FutureWarning\n"
          ],
          "name": "stderr"
        },
        {
          "output_type": "execute_result",
          "data": {
            "text/plain": [
              "<matplotlib.axes._subplots.AxesSubplot at 0x7ff156f18ad0>"
            ]
          },
          "metadata": {
            "tags": []
          },
          "execution_count": 25
        },
        {
          "output_type": "display_data",
          "data": {
            "image/png": "[encoded data removed]",
            "text/plain": [
              "<Figure size 432x288 with 1 Axes>"
            ]
          },
          "metadata": {
            "tags": []
          }
        }
      ]
    },
    {
      "cell_type": "markdown",
      "metadata": {
        "id": "z7T1l_zyLpCC"
      },
      "source": [
        "## **Kernel Sigmoid**"
      ]
    },
    {
      "cell_type": "code",
      "metadata": {
        "colab": {
          "base_uri": "https://localhost:8080/"
        },
        "id": "yP1E4xgYLksP",
        "outputId": "b92e3d6e-b753-41b2-904d-61ff4222fcf4"
      },
      "source": [
        "kCV = 10\n",
        "C = [0.1, 10, 100]\n",
        "gamma = [1.0, 0.1, 0.01, 0.001]\n",
        "kernel = ['sigmoid']\n",
        " \n",
        "estimator = svm.SVC()\n",
        "gridsvmCV = GridSearchCV(estimator, cv=kCV, param_grid = dict(C = C, gamma=gamma, kernel = kernel), verbose=1,  n_jobs=-1)\n",
        "best_model = gridsvmCV.fit(X_train, y_train)\n",
        "gridsvmCV.cv_results_"
      ],
      "execution_count": 26,
      "outputs": [
        {
          "output_type": "stream",
          "text": [
            "Fitting 10 folds for each of 12 candidates, totalling 120 fits\n"
          ],
          "name": "stdout"
        },
        {
          "output_type": "stream",
          "text": [
            "[Parallel(n_jobs=-1)]: Using backend LokyBackend with 2 concurrent workers.\n",
            "[Parallel(n_jobs=-1)]: Done  88 tasks      | elapsed:    7.8s\n",
            "[Parallel(n_jobs=-1)]: Done 120 out of 120 | elapsed:   10.6s finished\n"
          ],
          "name": "stderr"
        },
        {
          "output_type": "execute_result",
          "data": {
            "text/plain": [
              "{'mean_fit_time': array([0.1708333 , 0.18160064, 0.16984272, 0.15716343, 0.13753166,\n",
              "        0.15358071, 0.16947217, 0.17859731, 0.1291249 , 0.18078454,\n",
              "        0.15021474, 0.15635071]),\n",
              " 'mean_score_time': array([0.01413102, 0.01418836, 0.01399934, 0.01634274, 0.00806134,\n",
              "        0.01075222, 0.01272242, 0.01431684, 0.00718424, 0.00967407,\n",
              "        0.01129858, 0.0120652 ]),\n",
              " 'mean_test_score': array([0.62301922, 0.44336659, 0.44336659, 0.44336659, 0.71739837,\n",
              "        0.77769032, 0.62850333, 0.44336659, 0.68998891, 0.75031412,\n",
              "        0.77830007, 0.62850333]),\n",
              " 'param_C': masked_array(data=[0.1, 0.1, 0.1, 0.1, 10, 10, 10, 10, 100, 100, 100, 100],\n",
              "              mask=[False, False, False, False, False, False, False, False,\n",
              "                    False, False, False, False],\n",
              "        fill_value='?',\n",
              "             dtype=object),\n",
              " 'param_gamma': masked_array(data=[1.0, 0.1, 0.01, 0.001, 1.0, 0.1, 0.01, 0.001, 1.0, 0.1,\n",
              "                    0.01, 0.001],\n",
              "              mask=[False, False, False, False, False, False, False, False,\n",
              "                    False, False, False, False],\n",
              "        fill_value='?',\n",
              "             dtype=object),\n",
              " 'param_kernel': masked_array(data=['sigmoid', 'sigmoid', 'sigmoid', 'sigmoid', 'sigmoid',\n",
              "                    'sigmoid', 'sigmoid', 'sigmoid', 'sigmoid', 'sigmoid',\n",
              "                    'sigmoid', 'sigmoid'],\n",
              "              mask=[False, False, False, False, False, False, False, False,\n",
              "                    False, False, False, False],\n",
              "        fill_value='?',\n",
              "             dtype=object),\n",
              " 'params': [{'C': 0.1, 'gamma': 1.0, 'kernel': 'sigmoid'},\n",
              "  {'C': 0.1, 'gamma': 0.1, 'kernel': 'sigmoid'},\n",
              "  {'C': 0.1, 'gamma': 0.01, 'kernel': 'sigmoid'},\n",
              "  {'C': 0.1, 'gamma': 0.001, 'kernel': 'sigmoid'},\n",
              "  {'C': 10, 'gamma': 1.0, 'kernel': 'sigmoid'},\n",
              "  {'C': 10, 'gamma': 0.1, 'kernel': 'sigmoid'},\n",
              "  {'C': 10, 'gamma': 0.01, 'kernel': 'sigmoid'},\n",
              "  {'C': 10, 'gamma': 0.001, 'kernel': 'sigmoid'},\n",
              "  {'C': 100, 'gamma': 1.0, 'kernel': 'sigmoid'},\n",
              "  {'C': 100, 'gamma': 0.1, 'kernel': 'sigmoid'},\n",
              "  {'C': 100, 'gamma': 0.01, 'kernel': 'sigmoid'},\n",
              "  {'C': 100, 'gamma': 0.001, 'kernel': 'sigmoid'}],\n",
              " 'rank_test_score': array([8, 9, 9, 9, 4, 2, 6, 9, 5, 3, 1, 6], dtype=int32),\n",
              " 'split0_test_score': array([0.63030303, 0.43636364, 0.43636364, 0.43636364, 0.76969697,\n",
              "        0.84242424, 0.62424242, 0.43636364, 0.73939394, 0.79393939,\n",
              "        0.84242424, 0.62424242]),\n",
              " 'split1_test_score': array([0.61818182, 0.44242424, 0.44242424, 0.44242424, 0.6969697 ,\n",
              "        0.74545455, 0.63030303, 0.44242424, 0.67878788, 0.69090909,\n",
              "        0.74545455, 0.63030303]),\n",
              " 'split2_test_score': array([0.63414634, 0.44512195, 0.44512195, 0.44512195, 0.72560976,\n",
              "        0.75609756, 0.65853659, 0.44512195, 0.7195122 , 0.73170732,\n",
              "        0.75609756, 0.65853659]),\n",
              " 'split3_test_score': array([0.65853659, 0.44512195, 0.44512195, 0.44512195, 0.72560976,\n",
              "        0.81707317, 0.65243902, 0.44512195, 0.7195122 , 0.76829268,\n",
              "        0.81707317, 0.65243902]),\n",
              " 'split4_test_score': array([0.6097561 , 0.44512195, 0.44512195, 0.44512195, 0.69512195,\n",
              "        0.73170732, 0.61585366, 0.44512195, 0.6402439 , 0.73780488,\n",
              "        0.73780488, 0.61585366]),\n",
              " 'split5_test_score': array([0.58536585, 0.44512195, 0.44512195, 0.44512195, 0.67682927,\n",
              "        0.74390244, 0.59756098, 0.44512195, 0.65243902, 0.75      ,\n",
              "        0.74390244, 0.59756098]),\n",
              " 'split6_test_score': array([0.62804878, 0.44512195, 0.44512195, 0.44512195, 0.75      ,\n",
              "        0.82317073, 0.62804878, 0.44512195, 0.7195122 , 0.76829268,\n",
              "        0.82317073, 0.62804878]),\n",
              " 'split7_test_score': array([0.64634146, 0.44512195, 0.44512195, 0.44512195, 0.68902439,\n",
              "        0.76829268, 0.65243902, 0.44512195, 0.68292683, 0.73170732,\n",
              "        0.76829268, 0.65243902]),\n",
              " 'split8_test_score': array([0.6097561 , 0.44512195, 0.44512195, 0.44512195, 0.75      ,\n",
              "        0.76219512, 0.61585366, 0.44512195, 0.70731707, 0.75      ,\n",
              "        0.76219512, 0.61585366]),\n",
              " 'split9_test_score': array([0.6097561 , 0.43902439, 0.43902439, 0.43902439, 0.69512195,\n",
              "        0.78658537, 0.6097561 , 0.43902439, 0.6402439 , 0.7804878 ,\n",
              "        0.78658537, 0.6097561 ]),\n",
              " 'std_fit_time': array([0.00559068, 0.00674138, 0.00414198, 0.00413816, 0.01212458,\n",
              "        0.00784245, 0.00407406, 0.00345722, 0.01444713, 0.02267442,\n",
              "        0.00312402, 0.01508909]),\n",
              " 'std_score_time': array([0.00125622, 0.00035582, 0.00038873, 0.00480791, 0.00028151,\n",
              "        0.00032479, 0.00045834, 0.00019121, 0.00052457, 0.00042815,\n",
              "        0.00163547, 0.00117428]),\n",
              " 'std_test_score': array([0.01994112, 0.00300588, 0.00300588, 0.00300588, 0.02975983,\n",
              "        0.0360263 , 0.01923109, 0.00300588, 0.03448254, 0.02799667,\n",
              "        0.03528688, 0.01923109])}"
            ]
          },
          "metadata": {
            "tags": []
          },
          "execution_count": 26
        }
      ]
    },
    {
      "cell_type": "code",
      "metadata": {
        "colab": {
          "base_uri": "https://localhost:8080/",
          "height": 1000
        },
        "id": "KKl1OCcbLyb-",
        "outputId": "baeee43e-480e-43da-ce76-3b5e7a428861"
      },
      "source": [
        "dc = pd.DataFrame(gridsvmCV.cv_results_)\n",
        "dc"
      ],
      "execution_count": 27,
      "outputs": [
        {
          "output_type": "execute_result",
          "data": {
            "text/html": [
              "<div>\n",
              "<style scoped>\n",
              "    .dataframe tbody tr th:only-of-type {\n",
              "        vertical-align: middle;\n",
              "    }\n",
              "\n",
              "    .dataframe tbody tr th {\n",
              "        vertical-align: top;\n",
              "    }\n",
              "\n",
              "    .dataframe thead th {\n",
              "        text-align: right;\n",
              "    }\n",
              "</style>\n",
              "<table border=\"1\" class=\"dataframe\">\n",
              "  <thead>\n",
              "    <tr style=\"text-align: right;\">\n",
              "      <th></th>\n",
              "      <th>mean_fit_time</th>\n",
              "      <th>std_fit_time</th>\n",
              "      <th>mean_score_time</th>\n",
              "      <th>std_score_time</th>\n",
              "      <th>param_C</th>\n",
              "      <th>param_gamma</th>\n",
              "      <th>param_kernel</th>\n",
              "      <th>params</th>\n",
              "      <th>split0_test_score</th>\n",
              "      <th>split1_test_score</th>\n",
              "      <th>split2_test_score</th>\n",
              "      <th>split3_test_score</th>\n",
              "      <th>split4_test_score</th>\n",
              "      <th>split5_test_score</th>\n",
              "      <th>split6_test_score</th>\n",
              "      <th>split7_test_score</th>\n",
              "      <th>split8_test_score</th>\n",
              "      <th>split9_test_score</th>\n",
              "      <th>mean_test_score</th>\n",
              "      <th>std_test_score</th>\n",
              "      <th>rank_test_score</th>\n",
              "    </tr>\n",
              "  </thead>\n",
              "  <tbody>\n",
              "    <tr>\n",
              "      <th>0</th>\n",
              "      <td>0.170833</td>\n",
              "      <td>0.005591</td>\n",
              "      <td>0.014131</td>\n",
              "      <td>0.001256</td>\n",
              "      <td>0.1</td>\n",
              "      <td>1</td>\n",
              "      <td>sigmoid</td>\n",
              "      <td>{'C': 0.1, 'gamma': 1.0, 'kernel': 'sigmoid'}</td>\n",
              "      <td>0.630303</td>\n",
              "      <td>0.618182</td>\n",
              "      <td>0.634146</td>\n",
              "      <td>0.658537</td>\n",
              "      <td>0.609756</td>\n",
              "      <td>0.585366</td>\n",
              "      <td>0.628049</td>\n",
              "      <td>0.646341</td>\n",
              "      <td>0.609756</td>\n",
              "      <td>0.609756</td>\n",
              "      <td>0.623019</td>\n",
              "      <td>0.019941</td>\n",
              "      <td>8</td>\n",
              "    </tr>\n",
              "    <tr>\n",
              "      <th>1</th>\n",
              "      <td>0.181601</td>\n",
              "      <td>0.006741</td>\n",
              "      <td>0.014188</td>\n",
              "      <td>0.000356</td>\n",
              "      <td>0.1</td>\n",
              "      <td>0.1</td>\n",
              "      <td>sigmoid</td>\n",
              "      <td>{'C': 0.1, 'gamma': 0.1, 'kernel': 'sigmoid'}</td>\n",
              "      <td>0.436364</td>\n",
              "      <td>0.442424</td>\n",
              "      <td>0.445122</td>\n",
              "      <td>0.445122</td>\n",
              "      <td>0.445122</td>\n",
              "      <td>0.445122</td>\n",
              "      <td>0.445122</td>\n",
              "      <td>0.445122</td>\n",
              "      <td>0.445122</td>\n",
              "      <td>0.439024</td>\n",
              "      <td>0.443367</td>\n",
              "      <td>0.003006</td>\n",
              "      <td>9</td>\n",
              "    </tr>\n",
              "    <tr>\n",
              "      <th>2</th>\n",
              "      <td>0.169843</td>\n",
              "      <td>0.004142</td>\n",
              "      <td>0.013999</td>\n",
              "      <td>0.000389</td>\n",
              "      <td>0.1</td>\n",
              "      <td>0.01</td>\n",
              "      <td>sigmoid</td>\n",
              "      <td>{'C': 0.1, 'gamma': 0.01, 'kernel': 'sigmoid'}</td>\n",
              "      <td>0.436364</td>\n",
              "      <td>0.442424</td>\n",
              "      <td>0.445122</td>\n",
              "      <td>0.445122</td>\n",
              "      <td>0.445122</td>\n",
              "      <td>0.445122</td>\n",
              "      <td>0.445122</td>\n",
              "      <td>0.445122</td>\n",
              "      <td>0.445122</td>\n",
              "      <td>0.439024</td>\n",
              "      <td>0.443367</td>\n",
              "      <td>0.003006</td>\n",
              "      <td>9</td>\n",
              "    </tr>\n",
              "    <tr>\n",
              "      <th>3</th>\n",
              "      <td>0.157163</td>\n",
              "      <td>0.004138</td>\n",
              "      <td>0.016343</td>\n",
              "      <td>0.004808</td>\n",
              "      <td>0.1</td>\n",
              "      <td>0.001</td>\n",
              "      <td>sigmoid</td>\n",
              "      <td>{'C': 0.1, 'gamma': 0.001, 'kernel': 'sigmoid'}</td>\n",
              "      <td>0.436364</td>\n",
              "      <td>0.442424</td>\n",
              "      <td>0.445122</td>\n",
              "      <td>0.445122</td>\n",
              "      <td>0.445122</td>\n",
              "      <td>0.445122</td>\n",
              "      <td>0.445122</td>\n",
              "      <td>0.445122</td>\n",
              "      <td>0.445122</td>\n",
              "      <td>0.439024</td>\n",
              "      <td>0.443367</td>\n",
              "      <td>0.003006</td>\n",
              "      <td>9</td>\n",
              "    </tr>\n",
              "    <tr>\n",
              "      <th>4</th>\n",
              "      <td>0.137532</td>\n",
              "      <td>0.012125</td>\n",
              "      <td>0.008061</td>\n",
              "      <td>0.000282</td>\n",
              "      <td>10</td>\n",
              "      <td>1</td>\n",
              "      <td>sigmoid</td>\n",
              "      <td>{'C': 10, 'gamma': 1.0, 'kernel': 'sigmoid'}</td>\n",
              "      <td>0.769697</td>\n",
              "      <td>0.696970</td>\n",
              "      <td>0.725610</td>\n",
              "      <td>0.725610</td>\n",
              "      <td>0.695122</td>\n",
              "      <td>0.676829</td>\n",
              "      <td>0.750000</td>\n",
              "      <td>0.689024</td>\n",
              "      <td>0.750000</td>\n",
              "      <td>0.695122</td>\n",
              "      <td>0.717398</td>\n",
              "      <td>0.029760</td>\n",
              "      <td>4</td>\n",
              "    </tr>\n",
              "    <tr>\n",
              "      <th>5</th>\n",
              "      <td>0.153581</td>\n",
              "      <td>0.007842</td>\n",
              "      <td>0.010752</td>\n",
              "      <td>0.000325</td>\n",
              "      <td>10</td>\n",
              "      <td>0.1</td>\n",
              "      <td>sigmoid</td>\n",
              "      <td>{'C': 10, 'gamma': 0.1, 'kernel': 'sigmoid'}</td>\n",
              "      <td>0.842424</td>\n",
              "      <td>0.745455</td>\n",
              "      <td>0.756098</td>\n",
              "      <td>0.817073</td>\n",
              "      <td>0.731707</td>\n",
              "      <td>0.743902</td>\n",
              "      <td>0.823171</td>\n",
              "      <td>0.768293</td>\n",
              "      <td>0.762195</td>\n",
              "      <td>0.786585</td>\n",
              "      <td>0.777690</td>\n",
              "      <td>0.036026</td>\n",
              "      <td>2</td>\n",
              "    </tr>\n",
              "    <tr>\n",
              "      <th>6</th>\n",
              "      <td>0.169472</td>\n",
              "      <td>0.004074</td>\n",
              "      <td>0.012722</td>\n",
              "      <td>0.000458</td>\n",
              "      <td>10</td>\n",
              "      <td>0.01</td>\n",
              "      <td>sigmoid</td>\n",
              "      <td>{'C': 10, 'gamma': 0.01, 'kernel': 'sigmoid'}</td>\n",
              "      <td>0.624242</td>\n",
              "      <td>0.630303</td>\n",
              "      <td>0.658537</td>\n",
              "      <td>0.652439</td>\n",
              "      <td>0.615854</td>\n",
              "      <td>0.597561</td>\n",
              "      <td>0.628049</td>\n",
              "      <td>0.652439</td>\n",
              "      <td>0.615854</td>\n",
              "      <td>0.609756</td>\n",
              "      <td>0.628503</td>\n",
              "      <td>0.019231</td>\n",
              "      <td>6</td>\n",
              "    </tr>\n",
              "    <tr>\n",
              "      <th>7</th>\n",
              "      <td>0.178597</td>\n",
              "      <td>0.003457</td>\n",
              "      <td>0.014317</td>\n",
              "      <td>0.000191</td>\n",
              "      <td>10</td>\n",
              "      <td>0.001</td>\n",
              "      <td>sigmoid</td>\n",
              "      <td>{'C': 10, 'gamma': 0.001, 'kernel': 'sigmoid'}</td>\n",
              "      <td>0.436364</td>\n",
              "      <td>0.442424</td>\n",
              "      <td>0.445122</td>\n",
              "      <td>0.445122</td>\n",
              "      <td>0.445122</td>\n",
              "      <td>0.445122</td>\n",
              "      <td>0.445122</td>\n",
              "      <td>0.445122</td>\n",
              "      <td>0.445122</td>\n",
              "      <td>0.439024</td>\n",
              "      <td>0.443367</td>\n",
              "      <td>0.003006</td>\n",
              "      <td>9</td>\n",
              "    </tr>\n",
              "    <tr>\n",
              "      <th>8</th>\n",
              "      <td>0.129125</td>\n",
              "      <td>0.014447</td>\n",
              "      <td>0.007184</td>\n",
              "      <td>0.000525</td>\n",
              "      <td>100</td>\n",
              "      <td>1</td>\n",
              "      <td>sigmoid</td>\n",
              "      <td>{'C': 100, 'gamma': 1.0, 'kernel': 'sigmoid'}</td>\n",
              "      <td>0.739394</td>\n",
              "      <td>0.678788</td>\n",
              "      <td>0.719512</td>\n",
              "      <td>0.719512</td>\n",
              "      <td>0.640244</td>\n",
              "      <td>0.652439</td>\n",
              "      <td>0.719512</td>\n",
              "      <td>0.682927</td>\n",
              "      <td>0.707317</td>\n",
              "      <td>0.640244</td>\n",
              "      <td>0.689989</td>\n",
              "      <td>0.034483</td>\n",
              "      <td>5</td>\n",
              "    </tr>\n",
              "    <tr>\n",
              "      <th>9</th>\n",
              "      <td>0.180785</td>\n",
              "      <td>0.022674</td>\n",
              "      <td>0.009674</td>\n",
              "      <td>0.000428</td>\n",
              "      <td>100</td>\n",
              "      <td>0.1</td>\n",
              "      <td>sigmoid</td>\n",
              "      <td>{'C': 100, 'gamma': 0.1, 'kernel': 'sigmoid'}</td>\n",
              "      <td>0.793939</td>\n",
              "      <td>0.690909</td>\n",
              "      <td>0.731707</td>\n",
              "      <td>0.768293</td>\n",
              "      <td>0.737805</td>\n",
              "      <td>0.750000</td>\n",
              "      <td>0.768293</td>\n",
              "      <td>0.731707</td>\n",
              "      <td>0.750000</td>\n",
              "      <td>0.780488</td>\n",
              "      <td>0.750314</td>\n",
              "      <td>0.027997</td>\n",
              "      <td>3</td>\n",
              "    </tr>\n",
              "    <tr>\n",
              "      <th>10</th>\n",
              "      <td>0.150215</td>\n",
              "      <td>0.003124</td>\n",
              "      <td>0.011299</td>\n",
              "      <td>0.001635</td>\n",
              "      <td>100</td>\n",
              "      <td>0.01</td>\n",
              "      <td>sigmoid</td>\n",
              "      <td>{'C': 100, 'gamma': 0.01, 'kernel': 'sigmoid'}</td>\n",
              "      <td>0.842424</td>\n",
              "      <td>0.745455</td>\n",
              "      <td>0.756098</td>\n",
              "      <td>0.817073</td>\n",
              "      <td>0.737805</td>\n",
              "      <td>0.743902</td>\n",
              "      <td>0.823171</td>\n",
              "      <td>0.768293</td>\n",
              "      <td>0.762195</td>\n",
              "      <td>0.786585</td>\n",
              "      <td>0.778300</td>\n",
              "      <td>0.035287</td>\n",
              "      <td>1</td>\n",
              "    </tr>\n",
              "    <tr>\n",
              "      <th>11</th>\n",
              "      <td>0.156351</td>\n",
              "      <td>0.015089</td>\n",
              "      <td>0.012065</td>\n",
              "      <td>0.001174</td>\n",
              "      <td>100</td>\n",
              "      <td>0.001</td>\n",
              "      <td>sigmoid</td>\n",
              "      <td>{'C': 100, 'gamma': 0.001, 'kernel': 'sigmoid'}</td>\n",
              "      <td>0.624242</td>\n",
              "      <td>0.630303</td>\n",
              "      <td>0.658537</td>\n",
              "      <td>0.652439</td>\n",
              "      <td>0.615854</td>\n",
              "      <td>0.597561</td>\n",
              "      <td>0.628049</td>\n",
              "      <td>0.652439</td>\n",
              "      <td>0.615854</td>\n",
              "      <td>0.609756</td>\n",
              "      <td>0.628503</td>\n",
              "      <td>0.019231</td>\n",
              "      <td>6</td>\n",
              "    </tr>\n",
              "  </tbody>\n",
              "</table>\n",
              "</div>"
            ],
            "text/plain": [
              "    mean_fit_time  std_fit_time  ...  std_test_score  rank_test_score\n",
              "0        0.170833      0.005591  ...        0.019941                8\n",
              "1        0.181601      0.006741  ...        0.003006                9\n",
              "2        0.169843      0.004142  ...        0.003006                9\n",
              "3        0.157163      0.004138  ...        0.003006                9\n",
              "4        0.137532      0.012125  ...        0.029760                4\n",
              "5        0.153581      0.007842  ...        0.036026                2\n",
              "6        0.169472      0.004074  ...        0.019231                6\n",
              "7        0.178597      0.003457  ...        0.003006                9\n",
              "8        0.129125      0.014447  ...        0.034483                5\n",
              "9        0.180785      0.022674  ...        0.027997                3\n",
              "10       0.150215      0.003124  ...        0.035287                1\n",
              "11       0.156351      0.015089  ...        0.019231                6\n",
              "\n",
              "[12 rows x 21 columns]"
            ]
          },
          "metadata": {
            "tags": []
          },
          "execution_count": 27
        }
      ]
    },
    {
      "cell_type": "code",
      "metadata": {
        "colab": {
          "base_uri": "https://localhost:8080/",
          "height": 421
        },
        "id": "zk3GBR53L2WN",
        "outputId": "d7e78cb7-41d5-40b8-b4e5-29934c2c89eb"
      },
      "source": [
        "dc[['param_C','param_gamma', 'mean_test_score']]"
      ],
      "execution_count": 28,
      "outputs": [
        {
          "output_type": "execute_result",
          "data": {
            "text/html": [
              "<div>\n",
              "<style scoped>\n",
              "    .dataframe tbody tr th:only-of-type {\n",
              "        vertical-align: middle;\n",
              "    }\n",
              "\n",
              "    .dataframe tbody tr th {\n",
              "        vertical-align: top;\n",
              "    }\n",
              "\n",
              "    .dataframe thead th {\n",
              "        text-align: right;\n",
              "    }\n",
              "</style>\n",
              "<table border=\"1\" class=\"dataframe\">\n",
              "  <thead>\n",
              "    <tr style=\"text-align: right;\">\n",
              "      <th></th>\n",
              "      <th>param_C</th>\n",
              "      <th>param_gamma</th>\n",
              "      <th>mean_test_score</th>\n",
              "    </tr>\n",
              "  </thead>\n",
              "  <tbody>\n",
              "    <tr>\n",
              "      <th>0</th>\n",
              "      <td>0.1</td>\n",
              "      <td>1</td>\n",
              "      <td>0.623019</td>\n",
              "    </tr>\n",
              "    <tr>\n",
              "      <th>1</th>\n",
              "      <td>0.1</td>\n",
              "      <td>0.1</td>\n",
              "      <td>0.443367</td>\n",
              "    </tr>\n",
              "    <tr>\n",
              "      <th>2</th>\n",
              "      <td>0.1</td>\n",
              "      <td>0.01</td>\n",
              "      <td>0.443367</td>\n",
              "    </tr>\n",
              "    <tr>\n",
              "      <th>3</th>\n",
              "      <td>0.1</td>\n",
              "      <td>0.001</td>\n",
              "      <td>0.443367</td>\n",
              "    </tr>\n",
              "    <tr>\n",
              "      <th>4</th>\n",
              "      <td>10</td>\n",
              "      <td>1</td>\n",
              "      <td>0.717398</td>\n",
              "    </tr>\n",
              "    <tr>\n",
              "      <th>5</th>\n",
              "      <td>10</td>\n",
              "      <td>0.1</td>\n",
              "      <td>0.777690</td>\n",
              "    </tr>\n",
              "    <tr>\n",
              "      <th>6</th>\n",
              "      <td>10</td>\n",
              "      <td>0.01</td>\n",
              "      <td>0.628503</td>\n",
              "    </tr>\n",
              "    <tr>\n",
              "      <th>7</th>\n",
              "      <td>10</td>\n",
              "      <td>0.001</td>\n",
              "      <td>0.443367</td>\n",
              "    </tr>\n",
              "    <tr>\n",
              "      <th>8</th>\n",
              "      <td>100</td>\n",
              "      <td>1</td>\n",
              "      <td>0.689989</td>\n",
              "    </tr>\n",
              "    <tr>\n",
              "      <th>9</th>\n",
              "      <td>100</td>\n",
              "      <td>0.1</td>\n",
              "      <td>0.750314</td>\n",
              "    </tr>\n",
              "    <tr>\n",
              "      <th>10</th>\n",
              "      <td>100</td>\n",
              "      <td>0.01</td>\n",
              "      <td>0.778300</td>\n",
              "    </tr>\n",
              "    <tr>\n",
              "      <th>11</th>\n",
              "      <td>100</td>\n",
              "      <td>0.001</td>\n",
              "      <td>0.628503</td>\n",
              "    </tr>\n",
              "  </tbody>\n",
              "</table>\n",
              "</div>"
            ],
            "text/plain": [
              "   param_C param_gamma  mean_test_score\n",
              "0      0.1           1         0.623019\n",
              "1      0.1         0.1         0.443367\n",
              "2      0.1        0.01         0.443367\n",
              "3      0.1       0.001         0.443367\n",
              "4       10           1         0.717398\n",
              "5       10         0.1         0.777690\n",
              "6       10        0.01         0.628503\n",
              "7       10       0.001         0.443367\n",
              "8      100           1         0.689989\n",
              "9      100         0.1         0.750314\n",
              "10     100        0.01         0.778300\n",
              "11     100       0.001         0.628503"
            ]
          },
          "metadata": {
            "tags": []
          },
          "execution_count": 28
        }
      ]
    },
    {
      "cell_type": "code",
      "metadata": {
        "colab": {
          "base_uri": "https://localhost:8080/"
        },
        "id": "95gnhUacMIWS",
        "outputId": "ccb7df41-abe9-4be0-d60b-d4ddab5f363a"
      },
      "source": [
        "gridsvmCV.best_params_"
      ],
      "execution_count": 29,
      "outputs": [
        {
          "output_type": "execute_result",
          "data": {
            "text/plain": [
              "{'C': 100, 'gamma': 0.01, 'kernel': 'sigmoid'}"
            ]
          },
          "metadata": {
            "tags": []
          },
          "execution_count": 29
        }
      ]
    },
    {
      "cell_type": "code",
      "metadata": {
        "colab": {
          "base_uri": "https://localhost:8080/"
        },
        "id": "OvFVzqacNa33",
        "outputId": "b3e39fd0-eadd-4d92-f7b2-c64f47fc562c"
      },
      "source": [
        "gridsvmCV.best_score_"
      ],
      "execution_count": 30,
      "outputs": [
        {
          "output_type": "execute_result",
          "data": {
            "text/plain": [
              "0.77830007390983"
            ]
          },
          "metadata": {
            "tags": []
          },
          "execution_count": 30
        }
      ]
    },
    {
      "cell_type": "code",
      "metadata": {
        "colab": {
          "base_uri": "https://localhost:8080/",
          "height": 350
        },
        "id": "oiXP_OgsMEGI",
        "outputId": "fc1e8076-e76d-4656-eb7a-de38458a4814"
      },
      "source": [
        "import seaborn as sns\n",
        "import matplotlib.pyplot as plt\n",
        "sns.set_style(\"white\")\n",
        "\n",
        "sns.lineplot('param_gamma', 'mean_test_score',hue='param_C', ci=None, marker='o',\n",
        "             data=dc, palette=['blue', 'red', 'green'])"
      ],
      "execution_count": 31,
      "outputs": [
        {
          "output_type": "stream",
          "text": [
            "/usr/local/lib/python3.7/dist-packages/seaborn/_decorators.py:43: FutureWarning: Pass the following variables as keyword args: x, y. From version 0.12, the only valid positional argument will be `data`, and passing other arguments without an explicit keyword will result in an error or misinterpretation.\n",
            "  FutureWarning\n"
          ],
          "name": "stderr"
        },
        {
          "output_type": "execute_result",
          "data": {
            "text/plain": [
              "<matplotlib.axes._subplots.AxesSubplot at 0x7ff154df4310>"
            ]
          },
          "metadata": {
            "tags": []
          },
          "execution_count": 31
        },
        {
          "output_type": "display_data",
          "data": {
            "image/png": "[encoded data removed]",
            "text/plain": [
              "<Figure size 432x288 with 1 Axes>"
            ]
          },
          "metadata": {
            "tags": []
          }
        }
      ]
    },
    {
      "cell_type": "code",
      "metadata": {
        "colab": {
          "base_uri": "https://localhost:8080/"
        },
        "id": "uCVMK5sIsH0q",
        "outputId": "8071eb02-5dac-4dbb-ab08-f8dad640f583"
      },
      "source": [
        "kCV = 10\n",
        "C = [100]\n",
        "gamma = [0.01]\n",
        "kernel = ['sigmoid']\n",
        " \n",
        "estimator = svm.SVC()\n",
        "gridsvmCV = GridSearchCV(estimator, cv=kCV, param_grid = dict(C = C, gamma=gamma, kernel = kernel), verbose=1,  n_jobs=-1)\n",
        "best_model = gridsvmCV.fit(X_train, y_train)\n",
        "y_SVM = best_model.predict(X_test)\n",
        "#print('Akurasi = ', accuracy_score(y_test, y_SVM))\n",
        "print(confusion_matrix(y_test, y_SVM))"
      ],
      "execution_count": 32,
      "outputs": [
        {
          "output_type": "stream",
          "text": [
            "Fitting 10 folds for each of 1 candidates, totalling 10 fits\n"
          ],
          "name": "stdout"
        },
        {
          "output_type": "stream",
          "text": [
            "[Parallel(n_jobs=-1)]: Using backend LokyBackend with 2 concurrent workers.\n"
          ],
          "name": "stderr"
        },
        {
          "output_type": "stream",
          "text": [
            "[[118   4   1  18]\n",
            " [ 11  42   3   8]\n",
            " [  2   0  14   5]\n",
            " [ 16   9   1 155]]\n"
          ],
          "name": "stdout"
        },
        {
          "output_type": "stream",
          "text": [
            "[Parallel(n_jobs=-1)]: Done  10 out of  10 | elapsed:    0.8s finished\n"
          ],
          "name": "stderr"
        }
      ]
    },
    {
      "cell_type": "code",
      "metadata": {
        "colab": {
          "base_uri": "https://localhost:8080/",
          "height": 497
        },
        "id": "_WVV6EXUMPwA",
        "outputId": "f1142df9-5063-4429-8f3f-54c5d00863ff"
      },
      "source": [
        "import seaborn as sns\n",
        "import matplotlib.pyplot as plt\n",
        "cm = confusion_matrix(y_test, y_SVM)\n",
        "index = ['Lainnya', 'Layanan', 'Produk', 'Tampilan']\n",
        "columns = ['Lainnya', 'Layanan', 'Produk', 'Tampilan']\n",
        "cm_df = pd.DataFrame(cm,columns, index)                      \n",
        "\n",
        "fig, ax = plt.subplots(figsize=(9,8))\n",
        "sns.heatmap(cm_df, annot=True, cmap='Blues', fmt=\".0f\", ax = ax)\n",
        "plt.xlabel(\"Prediksi\")\n",
        "plt.ylabel(\"Aktual\")\n",
        "plt.show()"
      ],
      "execution_count": 33,
      "outputs": [
        {
          "output_type": "display_data",
          "data": {
            "image/png": "[encoded data removed]",
            "text/plain": [
              "<Figure size 648x576 with 2 Axes>"
            ]
          },
          "metadata": {
            "tags": []
          }
        }
      ]
    }
  ]
}