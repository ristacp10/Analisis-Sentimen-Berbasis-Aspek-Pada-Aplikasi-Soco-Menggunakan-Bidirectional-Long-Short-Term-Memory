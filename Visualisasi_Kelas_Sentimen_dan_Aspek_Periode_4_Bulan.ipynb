{
  "nbformat": 4,
  "nbformat_minor": 0,
  "metadata": {
    "colab": {
      "name": "Visualisasi Kelas Sentimen dan Aspek Periode 4 Bulan.ipynb",
      "provenance": []
    },
    "kernelspec": {
      "name": "python3",
      "display_name": "Python 3"
    },
    "language_info": {
      "name": "python"
    }
  },
  "cells": [
    {
      "cell_type": "code",
      "metadata": {
        "colab": {
          "base_uri": "https://localhost:8080/"
        },
        "id": "SpZWJ70MAsKX",
        "outputId": "68fe1a10-903e-4dba-b376-bdb3a7693f59"
      },
      "source": [
        "!mkdir CSV\n",
        "!wget -P CSV/ https://raw.githubusercontent.com/ristacp10/Analisis-Sentimen-Berbasis-Aspek-Pada-Aplikasi-Soco-Menggunakan-Bidirectional-Long-Short-Term-Memory/main/CSV/REVIEWSOCO_ASPEKSENT.csv"
      ],
      "execution_count": 1,
      "outputs": [
        {
          "output_type": "stream",
          "text": [
            "--2021-08-12 21:00:24--  https://raw.githubusercontent.com/ristacp10/Analisis-Sentimen-Berbasis-Aspek-Pada-Aplikasi-Soco-Menggunakan-Bidirectional-Long-Short-Term-Memory/main/CSV/REVIEWSOCO_ASPEKSENT.csv\n",
            "Resolving raw.githubusercontent.com (raw.githubusercontent.com)... 185.199.108.133, 185.199.109.133, 185.199.110.133, ...\n",
            "Connecting to raw.githubusercontent.com (raw.githubusercontent.com)|185.199.108.133|:443... connected.\n",
            "HTTP request sent, awaiting response... 200 OK\n",
            "Length: 287894 (281K) [text/plain]\n",
            "Saving to: ‘CSV/REVIEWSOCO_ASPEKSENT.csv’\n",
            "\n",
            "\rREVIEWSOCO_ASPEKSEN   0%[                    ]       0  --.-KB/s               \rREVIEWSOCO_ASPEKSEN 100%[===================>] 281.15K  --.-KB/s    in 0.02s   \n",
            "\n",
            "2021-08-12 21:00:25 (11.1 MB/s) - ‘CSV/REVIEWSOCO_ASPEKSENT.csv’ saved [287894/287894]\n",
            "\n"
          ],
          "name": "stdout"
        }
      ]
    },
    {
      "cell_type": "code",
      "metadata": {
        "id": "UPOcnwX7BN4y"
      },
      "source": [
        "import seaborn as sns\n",
        "import pandas as pd\n",
        "sns.set_style(\"white\")"
      ],
      "execution_count": 2,
      "outputs": []
    },
    {
      "cell_type": "code",
      "metadata": {
        "colab": {
          "base_uri": "https://localhost:8080/",
          "height": 204
        },
        "id": "paQOoZfXBH9E",
        "outputId": "69437e5a-1330-48c9-cda0-0ca6765a7fa2"
      },
      "source": [
        "df = pd.read_csv('CSV/REVIEWSOCO_ASPEKSENT.csv')\n",
        "df.head()"
      ],
      "execution_count": 3,
      "outputs": [
        {
          "output_type": "execute_result",
          "data": {
            "text/html": [
              "<div>\n",
              "<style scoped>\n",
              "    .dataframe tbody tr th:only-of-type {\n",
              "        vertical-align: middle;\n",
              "    }\n",
              "\n",
              "    .dataframe tbody tr th {\n",
              "        vertical-align: top;\n",
              "    }\n",
              "\n",
              "    .dataframe thead th {\n",
              "        text-align: right;\n",
              "    }\n",
              "</style>\n",
              "<table border=\"1\" class=\"dataframe\">\n",
              "  <thead>\n",
              "    <tr style=\"text-align: right;\">\n",
              "      <th></th>\n",
              "      <th>At</th>\n",
              "      <th>Review</th>\n",
              "      <th>Bintang</th>\n",
              "      <th>Sentimen</th>\n",
              "      <th>Aspek</th>\n",
              "    </tr>\n",
              "  </thead>\n",
              "  <tbody>\n",
              "    <tr>\n",
              "      <th>0</th>\n",
              "      <td>2020-10-18 19:32:19</td>\n",
              "      <td>gud</td>\n",
              "      <td>5</td>\n",
              "      <td>Positif</td>\n",
              "      <td>Lainnya</td>\n",
              "    </tr>\n",
              "    <tr>\n",
              "      <th>1</th>\n",
              "      <td>2020-10-17 20:18:47</td>\n",
              "      <td>Seneng belanja disini karna dah pastinya ori, ...</td>\n",
              "      <td>5</td>\n",
              "      <td>Positif</td>\n",
              "      <td>Layanan</td>\n",
              "    </tr>\n",
              "    <tr>\n",
              "      <th>2</th>\n",
              "      <td>2020-10-17 07:44:22</td>\n",
              "      <td>Pertamakali order langsung kecewa, di cancel k...</td>\n",
              "      <td>1</td>\n",
              "      <td>Negatif</td>\n",
              "      <td>Layanan</td>\n",
              "    </tr>\n",
              "    <tr>\n",
              "      <th>3</th>\n",
              "      <td>2020-10-17 05:29:05</td>\n",
              "      <td>Sociolla parah. Proses refund gak tau harus nu...</td>\n",
              "      <td>1</td>\n",
              "      <td>Negatif</td>\n",
              "      <td>Layanan</td>\n",
              "    </tr>\n",
              "    <tr>\n",
              "      <th>4</th>\n",
              "      <td>2020-10-17 00:12:18</td>\n",
              "      <td>Sy order 4 product di tanggal 11 september dan...</td>\n",
              "      <td>1</td>\n",
              "      <td>Negatif</td>\n",
              "      <td>Layanan</td>\n",
              "    </tr>\n",
              "  </tbody>\n",
              "</table>\n",
              "</div>"
            ],
            "text/plain": [
              "                    At  ...    Aspek\n",
              "0  2020-10-18 19:32:19  ...  Lainnya\n",
              "1  2020-10-17 20:18:47  ...  Layanan\n",
              "2  2020-10-17 07:44:22  ...  Layanan\n",
              "3  2020-10-17 05:29:05  ...  Layanan\n",
              "4  2020-10-17 00:12:18  ...  Layanan\n",
              "\n",
              "[5 rows x 5 columns]"
            ]
          },
          "metadata": {
            "tags": []
          },
          "execution_count": 3
        }
      ]
    },
    {
      "cell_type": "markdown",
      "metadata": {
        "id": "ZPo6IRuMBVdp"
      },
      "source": [
        "# **KELAS SENTIMEN**"
      ]
    },
    {
      "cell_type": "code",
      "metadata": {
        "colab": {
          "base_uri": "https://localhost:8080/"
        },
        "id": "35pMEOpPBRCS",
        "outputId": "a951e964-ea88-4f1e-a0d6-263abb588516"
      },
      "source": [
        "df['At'] = pd.to_datetime(df['At'])\n",
        "datesen_counts = (df.groupby(pd.Grouper(key='At', freq='4MS'))['Sentimen']\n",
        "                  .value_counts()\n",
        "                  .rename('Data')\n",
        "                  .reset_index()\n",
        "                  .sort_values('At'))\n",
        "datesen_counts['At'] = pd.to_datetime(datesen_counts[\"At\"].dt.strftime('%Y-%m')).dt.to_period('m')\n",
        "datesen_counts['At'] = datesen_counts['At'].dt.strftime('%Y-%m')\n",
        "print(datesen_counts)"
      ],
      "execution_count": 4,
      "outputs": [
        {
          "output_type": "stream",
          "text": [
            "         At Sentimen  Data\n",
            "0   2019-04  Negatif   406\n",
            "1   2019-04  Positif   306\n",
            "2   2019-04   Netral   122\n",
            "3   2019-08  Positif   292\n",
            "4   2019-08  Negatif   151\n",
            "5   2019-08   Netral    69\n",
            "6   2019-12  Negatif   180\n",
            "7   2019-12  Positif   104\n",
            "8   2019-12   Netral    51\n",
            "9   2020-04  Negatif   104\n",
            "10  2020-04  Positif    89\n",
            "11  2020-04   Netral    22\n",
            "12  2020-08  Positif    90\n",
            "13  2020-08  Negatif    63\n",
            "14  2020-08   Netral    23\n",
            "15  2020-08       Ne     1\n"
          ],
          "name": "stdout"
        }
      ]
    },
    {
      "cell_type": "code",
      "metadata": {
        "colab": {
          "base_uri": "https://localhost:8080/",
          "height": 296
        },
        "id": "AZp9akE3Ba7g",
        "outputId": "091d93d8-7b44-4392-ee09-310cce058a5b"
      },
      "source": [
        "import seaborn as sns\n",
        "print(\"Visualisasi Kelas Sentimen Periode 4 Bulan\")\n",
        "p = sns.lineplot(x=\"At\", y =\"Data\", hue=\"Sentimen\", style=\"Sentimen\", data = datesen_counts)"
      ],
      "execution_count": 5,
      "outputs": [
        {
          "output_type": "stream",
          "text": [
            "Visualisasi Kelas Sentimen Periode 4 Bulan\n"
          ],
          "name": "stdout"
        },
        {
          "output_type": "display_data",
          "data": {
            "image/png": "[encoded data removed]",
            "text/plain": [
              "<Figure size 432x288 with 1 Axes>"
            ]
          },
          "metadata": {
            "tags": []
          }
        }
      ]
    },
    {
      "cell_type": "markdown",
      "metadata": {
        "id": "EVZVrDqeBn5S"
      },
      "source": [
        "# **KELAS SENTIMEN TERHADAP ASPEK**"
      ]
    },
    {
      "cell_type": "markdown",
      "metadata": {
        "id": "H4Ocas0YBpoF"
      },
      "source": [
        "#### **KELAS SENTIMEN POSITIF TERHADAP ASPEK** **bold text**"
      ]
    },
    {
      "cell_type": "code",
      "metadata": {
        "colab": {
          "base_uri": "https://localhost:8080/"
        },
        "id": "B8jl9g8tBm48",
        "outputId": "d5b1adaf-6d64-4386-864d-a429f291c685"
      },
      "source": [
        "df['At'] = pd.to_datetime(df['At'])\n",
        "aspek_counts = (df.groupby([pd.Grouper(key='At', freq='4MS'), df['Aspek']], sort = True)['Sentimen']\n",
        "                  .value_counts()\n",
        "                  .rename('Data')\n",
        "                  .reset_index()\n",
        "                  .sort_values('At'))\n",
        "aspek_counts['At'] = pd.to_datetime(aspek_counts[\"At\"].dt.strftime('%Y-%m')).dt.to_period('m')\n",
        "aspek_counts['At'] = aspek_counts['At'].dt.strftime('%Y-%m')\n",
        "aspek_counts = aspek_counts[aspek_counts['Sentimen'] == 'Positif']\n",
        "aspek_counts['Sentimen'] = aspek_counts['Sentimen'].apply(str)\n",
        "print(aspek_counts)"
      ],
      "execution_count": 6,
      "outputs": [
        {
          "output_type": "stream",
          "text": [
            "         At     Aspek Sentimen  Data\n",
            "0   2019-04   Lainnya  Positif   199\n",
            "10  2019-04  Tampilan  Positif    30\n",
            "6   2019-04    Produk  Positif    37\n",
            "3   2019-04   Layanan  Positif    40\n",
            "22  2019-08  Tampilan  Positif    33\n",
            "17  2019-08    Produk  Positif    42\n",
            "14  2019-08   Layanan  Positif    48\n",
            "11  2019-08   Lainnya  Positif   169\n",
            "34  2019-12  Tampilan  Positif    25\n",
            "29  2019-12    Produk  Positif    10\n",
            "27  2019-12   Layanan  Positif    13\n",
            "23  2019-12   Lainnya  Positif    56\n",
            "45  2020-04  Tampilan  Positif    10\n",
            "41  2020-04    Produk  Positif    20\n",
            "39  2020-04   Layanan  Positif    16\n",
            "35  2020-04   Lainnya  Positif    43\n",
            "53  2020-08    Produk  Positif    10\n",
            "57  2020-08  Tampilan  Positif    14\n",
            "50  2020-08   Layanan  Positif    22\n",
            "46  2020-08   Lainnya  Positif    44\n"
          ],
          "name": "stdout"
        }
      ]
    },
    {
      "cell_type": "code",
      "metadata": {
        "colab": {
          "base_uri": "https://localhost:8080/",
          "height": 296
        },
        "id": "q8GJHe5NBtdJ",
        "outputId": "0b465744-3d24-44ac-8576-73ab65cf39ad"
      },
      "source": [
        "print(\"Visualisasi Kelas Sentimen Positif Tiap Aspek Periode 4 Bulan\")\n",
        "p = sns.lineplot(x=\"At\", y =\"Data\", hue=\"Aspek\", style=\"Aspek\", data = aspek_counts)"
      ],
      "execution_count": 7,
      "outputs": [
        {
          "output_type": "stream",
          "text": [
            "Visualisasi Kelas Sentimen Positif Tiap Aspek Periode 4 Bulan\n"
          ],
          "name": "stdout"
        },
        {
          "output_type": "display_data",
          "data": {
            "image/png": "[encoded data removed]",
            "text/plain": [
              "<Figure size 432x288 with 1 Axes>"
            ]
          },
          "metadata": {
            "tags": []
          }
        }
      ]
    },
    {
      "cell_type": "markdown",
      "metadata": {
        "id": "S4VBovViB4tX"
      },
      "source": [
        "#### **KELAS SENTIMEN NEGATIF TERHADAP ASPEK**"
      ]
    },
    {
      "cell_type": "code",
      "metadata": {
        "colab": {
          "base_uri": "https://localhost:8080/"
        },
        "id": "_aCccAVlB5Lt",
        "outputId": "9ac5372e-1e10-4b69-f36d-84bd3cddb86c"
      },
      "source": [
        "df['At'] = pd.to_datetime(df['At'])\n",
        "aspek_counts = (df.groupby([pd.Grouper(key='At', freq='4MS'), df['Aspek']], sort = True)['Sentimen']\n",
        "                  .value_counts()\n",
        "                  .rename('Data')\n",
        "                  .reset_index()\n",
        "                  .sort_values('At'))\n",
        "aspek_counts['At'] = pd.to_datetime(aspek_counts[\"At\"].dt.strftime('%Y-%m')).dt.to_period('m')\n",
        "aspek_counts['At'] = aspek_counts['At'].dt.strftime('%Y-%m')\n",
        "aspek_counts = aspek_counts[aspek_counts['Sentimen'] == 'Negatif']\n",
        "aspek_counts['Sentimen'] = aspek_counts['Sentimen'].apply(str)\n",
        "print(aspek_counts)"
      ],
      "execution_count": 8,
      "outputs": [
        {
          "output_type": "stream",
          "text": [
            "         At     Aspek Sentimen  Data\n",
            "7   2019-04    Produk  Negatif     1\n",
            "8   2019-04  Tampilan  Negatif   285\n",
            "4   2019-04   Layanan  Negatif    21\n",
            "1   2019-04   Lainnya  Negatif    99\n",
            "18  2019-08    Produk  Negatif     2\n",
            "20  2019-08  Tampilan  Negatif   104\n",
            "15  2019-08   Layanan  Negatif    20\n",
            "12  2019-08   Lainnya  Negatif    25\n",
            "32  2019-12  Tampilan  Negatif   132\n",
            "30  2019-12    Produk  Negatif     1\n",
            "26  2019-12   Layanan  Negatif    26\n",
            "24  2019-12   Lainnya  Negatif    21\n",
            "43  2020-04  Tampilan  Negatif    52\n",
            "42  2020-04    Produk  Negatif     6\n",
            "38  2020-04   Layanan  Negatif    36\n",
            "36  2020-04   Lainnya  Negatif    10\n",
            "56  2020-08  Tampilan  Negatif    19\n",
            "54  2020-08    Produk  Negatif     2\n",
            "49  2020-08   Layanan  Negatif    38\n",
            "47  2020-08   Lainnya  Negatif     4\n"
          ],
          "name": "stdout"
        }
      ]
    },
    {
      "cell_type": "code",
      "metadata": {
        "colab": {
          "base_uri": "https://localhost:8080/",
          "height": 296
        },
        "id": "i7DDRyX8B7BQ",
        "outputId": "cce430df-c2a3-4748-bcd4-136ad4c28cf3"
      },
      "source": [
        "print(\"TVisualisasi Kelas Sentimen Negatif Tiap Aspek Periode 4 Bulan\")\n",
        "p = sns.lineplot(x=\"At\", y =\"Data\", hue=\"Aspek\", style=\"Aspek\", data = aspek_counts)"
      ],
      "execution_count": 9,
      "outputs": [
        {
          "output_type": "stream",
          "text": [
            "TVisualisasi Kelas Sentimen Negatif Tiap Aspek Periode 4 Bulan\n"
          ],
          "name": "stdout"
        },
        {
          "output_type": "display_data",
          "data": {
            "image/png": "[encoded data removed]",
            "text/plain": [
              "<Figure size 432x288 with 1 Axes>"
            ]
          },
          "metadata": {
            "tags": []
          }
        }
      ]
    },
    {
      "cell_type": "markdown",
      "metadata": {
        "id": "Olb5csRQCBHk"
      },
      "source": [
        "#### **VISUALISASI PERBANDINGAN SENTIMEN POSITIF - NEGATIF TERHADAP ASPEK**"
      ]
    },
    {
      "cell_type": "code",
      "metadata": {
        "colab": {
          "base_uri": "https://localhost:8080/"
        },
        "id": "cnLCJG6OCBpM",
        "outputId": "5f56de86-8e8c-46ae-b0ea-20d093a1c0a2"
      },
      "source": [
        "#Perbandingan antara positif dan negatif\n",
        "df['At'] = pd.to_datetime(df['At'])\n",
        "aspek_counts_p = (df.groupby([pd.Grouper(key='At', freq='4MS'), df['Aspek']], sort = True)['Sentimen']\n",
        "                  .value_counts()\n",
        "                  .rename('Data')\n",
        "                  .reset_index()\n",
        "                  .sort_values('At'))\n",
        "aspek_counts_p['At'] = pd.to_datetime(aspek_counts_p[\"At\"].dt.strftime('%Y-%m')).dt.to_period('m')\n",
        "aspek_counts_p['At'] = aspek_counts_p['At'].dt.strftime('%Y-%m')\n",
        "aspek_counts_p = aspek_counts_p[aspek_counts_p['Sentimen'] == 'Positif']\n",
        "aspek_counts_p['Sentimen'] = aspek_counts_p['Sentimen'].apply(str)\n",
        "aspek_counts_p['Data'] = aspek_counts_p['Data'].apply(int)\n",
        "\n",
        "\n",
        "aspek_counts_n = (df.groupby([pd.Grouper(key='At', freq='4M'), df['Aspek']], sort = True)['Sentimen']\n",
        "                  .value_counts()\n",
        "                  .rename('Data')\n",
        "                  .reset_index()\n",
        "                  .sort_values('At'))\n",
        "aspek_counts_n['At'] = pd.to_datetime(aspek_counts_n[\"At\"].dt.strftime('%Y-%m')).dt.to_period('m')\n",
        "aspek_counts_n['At'] = aspek_counts_n['At'].dt.strftime('%Y-%m')\n",
        "aspek_counts_n = aspek_counts_n[aspek_counts_n['Sentimen'] == 'Negatif']\n",
        "aspek_counts_n['Sentimen'] = aspek_counts_n['Sentimen'].apply(str)\n",
        "aspek_counts_n['Data'] = aspek_counts_n['Data'].apply(int)\n",
        "\n",
        "aspek_counts_p = aspek_counts_p.reset_index(drop=True)\n",
        "aspek_counts_n = aspek_counts_n.reset_index(drop=True)\n",
        "print(aspek_counts_p)"
      ],
      "execution_count": 10,
      "outputs": [
        {
          "output_type": "stream",
          "text": [
            "         At     Aspek Sentimen  Data\n",
            "0   2019-04   Lainnya  Positif   199\n",
            "1   2019-04  Tampilan  Positif    30\n",
            "2   2019-04    Produk  Positif    37\n",
            "3   2019-04   Layanan  Positif    40\n",
            "4   2019-08  Tampilan  Positif    33\n",
            "5   2019-08    Produk  Positif    42\n",
            "6   2019-08   Layanan  Positif    48\n",
            "7   2019-08   Lainnya  Positif   169\n",
            "8   2019-12  Tampilan  Positif    25\n",
            "9   2019-12    Produk  Positif    10\n",
            "10  2019-12   Layanan  Positif    13\n",
            "11  2019-12   Lainnya  Positif    56\n",
            "12  2020-04  Tampilan  Positif    10\n",
            "13  2020-04    Produk  Positif    20\n",
            "14  2020-04   Layanan  Positif    16\n",
            "15  2020-04   Lainnya  Positif    43\n",
            "16  2020-08    Produk  Positif    10\n",
            "17  2020-08  Tampilan  Positif    14\n",
            "18  2020-08   Layanan  Positif    22\n",
            "19  2020-08   Lainnya  Positif    44\n"
          ],
          "name": "stdout"
        }
      ]
    },
    {
      "cell_type": "code",
      "metadata": {
        "colab": {
          "base_uri": "https://localhost:8080/"
        },
        "id": "XXQZuyufCF8Q",
        "outputId": "e5fdbd23-e07b-452d-d2d6-32552a3df052"
      },
      "source": [
        "print(aspek_counts_n)"
      ],
      "execution_count": 11,
      "outputs": [
        {
          "output_type": "stream",
          "text": [
            "         At     Aspek Sentimen  Data\n",
            "0   2019-04   Lainnya  Negatif    64\n",
            "1   2019-04   Layanan  Negatif     6\n",
            "2   2019-04  Tampilan  Negatif   189\n",
            "3   2019-08  Tampilan  Negatif   110\n",
            "4   2019-08    Produk  Negatif     2\n",
            "5   2019-08   Lainnya  Negatif    36\n",
            "6   2019-08   Layanan  Negatif    18\n",
            "7   2019-12  Tampilan  Negatif   138\n",
            "8   2019-12    Produk  Negatif     1\n",
            "9   2019-12   Layanan  Negatif    28\n",
            "10  2019-12   Lainnya  Negatif    33\n",
            "11  2020-04    Produk  Negatif     3\n",
            "12  2020-04  Tampilan  Negatif    99\n",
            "13  2020-04   Layanan  Negatif    29\n",
            "14  2020-04   Lainnya  Negatif    15\n",
            "15  2020-08  Tampilan  Negatif    45\n",
            "16  2020-08    Produk  Negatif     4\n",
            "17  2020-08   Layanan  Negatif    39\n",
            "18  2020-08   Lainnya  Negatif    11\n",
            "19  2020-12    Produk  Negatif     2\n",
            "20  2020-12   Layanan  Negatif    21\n",
            "21  2020-12  Tampilan  Negatif    11\n"
          ],
          "name": "stdout"
        }
      ]
    },
    {
      "cell_type": "code",
      "metadata": {
        "colab": {
          "base_uri": "https://localhost:8080/"
        },
        "id": "sPpRvR6GCGWD",
        "outputId": "07649b06-b946-4f6e-e66c-c8059ace2d3a"
      },
      "source": [
        "perbandingan = pd.DataFrame()\n",
        "perbandingan['At'] = aspek_counts_p['At'].tolist()\n",
        "perbandingan['Aspek'] = aspek_counts_p['Aspek'].tolist()\n",
        "perbandingan['Data'] = aspek_counts_p['Data'].sub(aspek_counts_n['Data'], fill_value=0)\n",
        "print(perbandingan)"
      ],
      "execution_count": 12,
      "outputs": [
        {
          "output_type": "stream",
          "text": [
            "         At     Aspek   Data\n",
            "0   2019-04   Lainnya  135.0\n",
            "1   2019-04  Tampilan   24.0\n",
            "2   2019-04    Produk -152.0\n",
            "3   2019-04   Layanan  -70.0\n",
            "4   2019-08  Tampilan   31.0\n",
            "5   2019-08    Produk    6.0\n",
            "6   2019-08   Layanan   30.0\n",
            "7   2019-08   Lainnya   31.0\n",
            "8   2019-12  Tampilan   24.0\n",
            "9   2019-12    Produk  -18.0\n",
            "10  2019-12   Layanan  -20.0\n",
            "11  2019-12   Lainnya   53.0\n",
            "12  2020-04  Tampilan  -89.0\n",
            "13  2020-04    Produk   -9.0\n",
            "14  2020-04   Layanan    1.0\n",
            "15  2020-04   Lainnya   -2.0\n",
            "16  2020-08    Produk    6.0\n",
            "17  2020-08  Tampilan  -25.0\n",
            "18  2020-08   Layanan   11.0\n",
            "19  2020-08   Lainnya   42.0\n"
          ],
          "name": "stdout"
        }
      ]
    },
    {
      "cell_type": "code",
      "metadata": {
        "colab": {
          "base_uri": "https://localhost:8080/",
          "height": 296
        },
        "id": "Q3xoXUoWCLli",
        "outputId": "e48b492c-1fbb-4a4e-ca95-413719cec30a"
      },
      "source": [
        "print(\"Visualisasi Kelas Aspek Perbandingan Sentimen Positif dan Negatif Periode 4 bulan\")\n",
        "p = sns.lineplot(x=\"At\", y =\"Data\", hue=\"Aspek\", style=\"Aspek\", data = perbandingan)"
      ],
      "execution_count": 13,
      "outputs": [
        {
          "output_type": "stream",
          "text": [
            "Visualisasi Kelas Aspek Perbandingan Sentimen Positif dan Negatif Periode 4 bulan\n"
          ],
          "name": "stdout"
        },
        {
          "output_type": "display_data",
          "data": {
            "image/png": "[encoded data removed]",
            "text/plain": [
              "<Figure size 432x288 with 1 Axes>"
            ]
          },
          "metadata": {
            "tags": []
          }
        }
      ]
    },
    {
      "cell_type": "code",
      "metadata": {
        "id": "-aT2T73kD8vi"
      },
      "source": [
        ""
      ],
      "execution_count": 13,
      "outputs": []
    }
  ]
}