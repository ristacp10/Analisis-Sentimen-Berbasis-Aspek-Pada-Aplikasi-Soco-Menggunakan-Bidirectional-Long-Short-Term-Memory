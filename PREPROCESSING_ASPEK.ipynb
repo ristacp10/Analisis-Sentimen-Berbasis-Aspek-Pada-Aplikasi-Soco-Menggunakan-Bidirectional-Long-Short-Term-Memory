{
  "nbformat": 4,
  "nbformat_minor": 0,
  "metadata": {
    "colab": {
      "name": "PREPROCESSING ASPEK.ipynb",
      "provenance": [],
      "authorship_tag": "ABX9TyP7DdBJbS6ZvrscjSQyl6e1",
      "include_colab_link": true
    },
    "kernelspec": {
      "name": "python3",
      "display_name": "Python 3"
    },
    "language_info": {
      "name": "python"
    },
    "widgets": {
      "application/vnd.jupyter.widget-state+json": {
        "99c623bd305f49a5a1118f133a90a8f3": {
          "model_module": "@jupyter-widgets/controls",
          "model_name": "HBoxModel",
          "model_module_version": "1.5.0",
          "state": {
            "_view_name": "HBoxView",
            "_dom_classes": [],
            "_model_name": "HBoxModel",
            "_view_module": "@jupyter-widgets/controls",
            "_model_module_version": "1.5.0",
            "_view_count": null,
            "_view_module_version": "1.5.0",
            "box_style": "",
            "layout": "IPY_MODEL_bda2ba244eb94f2d8190b6df7438dc77",
            "_model_module": "@jupyter-widgets/controls",
            "children": [
              "IPY_MODEL_45e43fa93d1d4e3199295222e630afd6",
              "IPY_MODEL_e2da471b31d5418cbfc2b0bfa3262d38",
              "IPY_MODEL_8f8fb7403ae34bb1b1194311baac0261"
            ]
          }
        },
        "bda2ba244eb94f2d8190b6df7438dc77": {
          "model_module": "@jupyter-widgets/base",
          "model_name": "LayoutModel",
          "model_module_version": "1.2.0",
          "state": {
            "_view_name": "LayoutView",
            "grid_template_rows": null,
            "right": null,
            "justify_content": null,
            "_view_module": "@jupyter-widgets/base",
            "overflow": null,
            "_model_module_version": "1.2.0",
            "_view_count": null,
            "flex_flow": null,
            "width": null,
            "min_width": null,
            "border": null,
            "align_items": null,
            "bottom": null,
            "_model_module": "@jupyter-widgets/base",
            "top": null,
            "grid_column": null,
            "overflow_y": null,
            "overflow_x": null,
            "grid_auto_flow": null,
            "grid_area": null,
            "grid_template_columns": null,
            "flex": null,
            "_model_name": "LayoutModel",
            "justify_items": null,
            "grid_row": null,
            "max_height": null,
            "align_content": null,
            "visibility": null,
            "align_self": null,
            "height": null,
            "min_height": null,
            "padding": null,
            "grid_auto_rows": null,
            "grid_gap": null,
            "max_width": null,
            "order": null,
            "_view_module_version": "1.2.0",
            "grid_template_areas": null,
            "object_position": null,
            "object_fit": null,
            "grid_auto_columns": null,
            "margin": null,
            "display": null,
            "left": null
          }
        },
        "45e43fa93d1d4e3199295222e630afd6": {
          "model_module": "@jupyter-widgets/controls",
          "model_name": "HTMLModel",
          "model_module_version": "1.5.0",
          "state": {
            "_view_name": "HTMLView",
            "style": "IPY_MODEL_4f13e4fb82004a5982233c0ceaffd640",
            "_dom_classes": [],
            "description": "",
            "_model_name": "HTMLModel",
            "placeholder": "​",
            "_view_module": "@jupyter-widgets/controls",
            "_model_module_version": "1.5.0",
            "value": "",
            "_view_count": null,
            "_view_module_version": "1.5.0",
            "description_tooltip": null,
            "_model_module": "@jupyter-widgets/controls",
            "layout": "IPY_MODEL_644849f4267f492db83c2d2c835c3eb6"
          }
        },
        "e2da471b31d5418cbfc2b0bfa3262d38": {
          "model_module": "@jupyter-widgets/controls",
          "model_name": "FloatProgressModel",
          "model_module_version": "1.5.0",
          "state": {
            "_view_name": "ProgressView",
            "style": "IPY_MODEL_08dec64bb6f34356b1eb3fba9e3e1f7f",
            "_dom_classes": [],
            "description": "",
            "_model_name": "FloatProgressModel",
            "bar_style": "success",
            "max": 1,
            "_view_module": "@jupyter-widgets/controls",
            "_model_module_version": "1.5.0",
            "value": 1,
            "_view_count": null,
            "_view_module_version": "1.5.0",
            "orientation": "horizontal",
            "min": 0,
            "description_tooltip": null,
            "_model_module": "@jupyter-widgets/controls",
            "layout": "IPY_MODEL_112ca5c9338f41bda74c4300fae68cb4"
          }
        },
        "8f8fb7403ae34bb1b1194311baac0261": {
          "model_module": "@jupyter-widgets/controls",
          "model_name": "HTMLModel",
          "model_module_version": "1.5.0",
          "state": {
            "_view_name": "HTMLView",
            "style": "IPY_MODEL_2e29edab367b44ee8e9100595077c3c8",
            "_dom_classes": [],
            "description": "",
            "_model_name": "HTMLModel",
            "placeholder": "​",
            "_view_module": "@jupyter-widgets/controls",
            "_model_module_version": "1.5.0",
            "value": " 2073/? [11:16&lt;00:00,  2.50it/s]",
            "_view_count": null,
            "_view_module_version": "1.5.0",
            "description_tooltip": null,
            "_model_module": "@jupyter-widgets/controls",
            "layout": "IPY_MODEL_548b3063af694dbfa55d2ddf679981cc"
          }
        },
        "4f13e4fb82004a5982233c0ceaffd640": {
          "model_module": "@jupyter-widgets/controls",
          "model_name": "DescriptionStyleModel",
          "model_module_version": "1.5.0",
          "state": {
            "_view_name": "StyleView",
            "_model_name": "DescriptionStyleModel",
            "description_width": "",
            "_view_module": "@jupyter-widgets/base",
            "_model_module_version": "1.5.0",
            "_view_count": null,
            "_view_module_version": "1.2.0",
            "_model_module": "@jupyter-widgets/controls"
          }
        },
        "644849f4267f492db83c2d2c835c3eb6": {
          "model_module": "@jupyter-widgets/base",
          "model_name": "LayoutModel",
          "model_module_version": "1.2.0",
          "state": {
            "_view_name": "LayoutView",
            "grid_template_rows": null,
            "right": null,
            "justify_content": null,
            "_view_module": "@jupyter-widgets/base",
            "overflow": null,
            "_model_module_version": "1.2.0",
            "_view_count": null,
            "flex_flow": null,
            "width": null,
            "min_width": null,
            "border": null,
            "align_items": null,
            "bottom": null,
            "_model_module": "@jupyter-widgets/base",
            "top": null,
            "grid_column": null,
            "overflow_y": null,
            "overflow_x": null,
            "grid_auto_flow": null,
            "grid_area": null,
            "grid_template_columns": null,
            "flex": null,
            "_model_name": "LayoutModel",
            "justify_items": null,
            "grid_row": null,
            "max_height": null,
            "align_content": null,
            "visibility": null,
            "align_self": null,
            "height": null,
            "min_height": null,
            "padding": null,
            "grid_auto_rows": null,
            "grid_gap": null,
            "max_width": null,
            "order": null,
            "_view_module_version": "1.2.0",
            "grid_template_areas": null,
            "object_position": null,
            "object_fit": null,
            "grid_auto_columns": null,
            "margin": null,
            "display": null,
            "left": null
          }
        },
        "08dec64bb6f34356b1eb3fba9e3e1f7f": {
          "model_module": "@jupyter-widgets/controls",
          "model_name": "ProgressStyleModel",
          "model_module_version": "1.5.0",
          "state": {
            "_view_name": "StyleView",
            "_model_name": "ProgressStyleModel",
            "description_width": "",
            "_view_module": "@jupyter-widgets/base",
            "_model_module_version": "1.5.0",
            "_view_count": null,
            "_view_module_version": "1.2.0",
            "bar_color": null,
            "_model_module": "@jupyter-widgets/controls"
          }
        },
        "112ca5c9338f41bda74c4300fae68cb4": {
          "model_module": "@jupyter-widgets/base",
          "model_name": "LayoutModel",
          "model_module_version": "1.2.0",
          "state": {
            "_view_name": "LayoutView",
            "grid_template_rows": null,
            "right": null,
            "justify_content": null,
            "_view_module": "@jupyter-widgets/base",
            "overflow": null,
            "_model_module_version": "1.2.0",
            "_view_count": null,
            "flex_flow": null,
            "width": "20px",
            "min_width": null,
            "border": null,
            "align_items": null,
            "bottom": null,
            "_model_module": "@jupyter-widgets/base",
            "top": null,
            "grid_column": null,
            "overflow_y": null,
            "overflow_x": null,
            "grid_auto_flow": null,
            "grid_area": null,
            "grid_template_columns": null,
            "flex": null,
            "_model_name": "LayoutModel",
            "justify_items": null,
            "grid_row": null,
            "max_height": null,
            "align_content": null,
            "visibility": null,
            "align_self": null,
            "height": null,
            "min_height": null,
            "padding": null,
            "grid_auto_rows": null,
            "grid_gap": null,
            "max_width": null,
            "order": null,
            "_view_module_version": "1.2.0",
            "grid_template_areas": null,
            "object_position": null,
            "object_fit": null,
            "grid_auto_columns": null,
            "margin": null,
            "display": null,
            "left": null
          }
        },
        "2e29edab367b44ee8e9100595077c3c8": {
          "model_module": "@jupyter-widgets/controls",
          "model_name": "DescriptionStyleModel",
          "model_module_version": "1.5.0",
          "state": {
            "_view_name": "StyleView",
            "_model_name": "DescriptionStyleModel",
            "description_width": "",
            "_view_module": "@jupyter-widgets/base",
            "_model_module_version": "1.5.0",
            "_view_count": null,
            "_view_module_version": "1.2.0",
            "_model_module": "@jupyter-widgets/controls"
          }
        },
        "548b3063af694dbfa55d2ddf679981cc": {
          "model_module": "@jupyter-widgets/base",
          "model_name": "LayoutModel",
          "model_module_version": "1.2.0",
          "state": {
            "_view_name": "LayoutView",
            "grid_template_rows": null,
            "right": null,
            "justify_content": null,
            "_view_module": "@jupyter-widgets/base",
            "overflow": null,
            "_model_module_version": "1.2.0",
            "_view_count": null,
            "flex_flow": null,
            "width": null,
            "min_width": null,
            "border": null,
            "align_items": null,
            "bottom": null,
            "_model_module": "@jupyter-widgets/base",
            "top": null,
            "grid_column": null,
            "overflow_y": null,
            "overflow_x": null,
            "grid_auto_flow": null,
            "grid_area": null,
            "grid_template_columns": null,
            "flex": null,
            "_model_name": "LayoutModel",
            "justify_items": null,
            "grid_row": null,
            "max_height": null,
            "align_content": null,
            "visibility": null,
            "align_self": null,
            "height": null,
            "min_height": null,
            "padding": null,
            "grid_auto_rows": null,
            "grid_gap": null,
            "max_width": null,
            "order": null,
            "_view_module_version": "1.2.0",
            "grid_template_areas": null,
            "object_position": null,
            "object_fit": null,
            "grid_auto_columns": null,
            "margin": null,
            "display": null,
            "left": null
          }
        }
      }
    }
  },
  "cells": [
    {
      "cell_type": "markdown",
      "metadata": {
        "id": "view-in-github",
        "colab_type": "text"
      },
      "source": [
        "<a href=\"https://colab.research.google.com/github/ristacp10/Analisis-Sentimen-Berbasis-Aspek-Pada-Aplikasi-Soco-Menggunakan-Bidirectional-Long-Short-Term-Memory/blob/main/PREPROCESSING_ASPEK.ipynb\" target=\"_parent\"><img src=\"https://colab.research.google.com/assets/colab-badge.svg\" alt=\"Open In Colab\"/></a>"
      ]
    },
    {
      "cell_type": "code",
      "metadata": {
        "colab": {
          "base_uri": "https://localhost:8080/"
        },
        "id": "3k3WdqLHjOM7",
        "outputId": "ab8a93ac-2e30-4814-cfc4-4517289918d5"
      },
      "source": [
        "!rm taudataNlpTm.py\n",
        "!wget https://raw.githubusercontent.com/ristacp10/Analisis-Sentimen-Berbasis-Aspek-Pada-Aplikasi-Soco-Menggunakan-Bidirectional-Long-Short-Term-Memory/main/taudataNlpTm.py\n",
        "!rm taudata.py\n",
        "!wget https://raw.githubusercontent.com/ristacp10/Analisis-Sentimen-Berbasis-Aspek-Pada-Aplikasi-Soco-Menggunakan-Bidirectional-Long-Short-Term-Memory/main/taudata.py\n",
        "\n",
        "!rm data/slangsoco.txt\n",
        "!rm data/stopwords_en.txt\n",
        "!rm data/stopwords_id.txt\n",
        "!rm data/kata_dasar.txt\n",
        "!rm data/corpus_sederhana.txt\n",
        "\n",
        "!mkdir CSV\n",
        "!wget -P CSV/ https://raw.githubusercontent.com/ristacp10/Analisis-Sentimen-Berbasis-Aspek-Pada-Aplikasi-Soco-Menggunakan-Bidirectional-Long-Short-Term-Memory/main/CSV/AspekSentimenReview.csv\n",
        "\n",
        "!mkdir data\n",
        "!wget -P data/ https://raw.githubusercontent.com/ristacp10/Analisis-Sentimen-Berbasis-Aspek-Pada-Aplikasi-Soco-Menggunakan-Bidirectional-Long-Short-Term-Memory/main/data/stopwords_id.txt\n",
        "!wget -P data/ https://raw.githubusercontent.com/ristacp10/Analisis-Sentimen-Berbasis-Aspek-Pada-Aplikasi-Soco-Menggunakan-Bidirectional-Long-Short-Term-Memory/main/data/stopwords_en.txt\n",
        "!wget -P data/ https://raw.githubusercontent.com/ristacp10/Analisis-Sentimen-Berbasis-Aspek-Pada-Aplikasi-Soco-Menggunakan-Bidirectional-Long-Short-Term-Memory/main/data/kata_dasar.txt\n",
        "!wget -P data/ https://raw.githubusercontent.com/ristacp10/Analisis-Sentimen-Berbasis-Aspek-Pada-Aplikasi-Soco-Menggunakan-Bidirectional-Long-Short-Term-Memory/main/data/wn-ind-def.tab\n",
        "!wget -P data/ https://raw.githubusercontent.com/ristacp10/Analisis-Sentimen-Berbasis-Aspek-Pada-Aplikasi-Soco-Menggunakan-Bidirectional-Long-Short-Term-Memory/main/data/wn-msa-all.tab\n",
        "!wget -P data/ https://raw.githubusercontent.com/ristacp10/Analisis-Sentimen-Berbasis-Aspek-Pada-Aplikasi-Soco-Menggunakan-Bidirectional-Long-Short-Term-Memory/main/data/all_indo_man_tag_corpus_model.crf.tagger\n",
        "!wget -P data/ https://raw.githubusercontent.com/ristacp10/Analisis-Sentimen-Berbasis-Aspek-Pada-Aplikasi-Soco-Menggunakan-Bidirectional-Long-Short-Term-Memory/main/data/slangsoco.txt\n",
        "\n",
        "!pip install Sastrawi\n",
        "!pip install unidecode\n",
        "!pip install python-crfsuite\n",
        "!pip install sklearn-pycrfsuite"
      ],
      "execution_count": 1,
      "outputs": [
        {
          "output_type": "stream",
          "text": [
            "rm: cannot remove 'taudataNlpTm.py': No such file or directory\n",
            "--2021-08-13 18:15:15--  https://raw.githubusercontent.com/ristacp10/Analisis-Sentimen-Berbasis-Aspek-Pada-Aplikasi-Soco-Menggunakan-Bidirectional-Long-Short-Term-Memory/main/taudataNlpTm.py\n",
            "Resolving raw.githubusercontent.com (raw.githubusercontent.com)... 185.199.108.133, 185.199.109.133, 185.199.110.133, ...\n",
            "Connecting to raw.githubusercontent.com (raw.githubusercontent.com)|185.199.108.133|:443... connected.\n",
            "HTTP request sent, awaiting response... 200 OK\n",
            "Length: 16713 (16K) [text/plain]\n",
            "Saving to: ‘taudataNlpTm.py’\n",
            "\n",
            "taudataNlpTm.py     100%[===================>]  16.32K  --.-KB/s    in 0s      \n",
            "\n",
            "2021-08-13 18:15:15 (94.3 MB/s) - ‘taudataNlpTm.py’ saved [16713/16713]\n",
            "\n",
            "rm: cannot remove 'taudata.py': No such file or directory\n",
            "--2021-08-13 18:15:15--  https://raw.githubusercontent.com/ristacp10/Analisis-Sentimen-Berbasis-Aspek-Pada-Aplikasi-Soco-Menggunakan-Bidirectional-Long-Short-Term-Memory/main/taudata.py\n",
            "Resolving raw.githubusercontent.com (raw.githubusercontent.com)... 185.199.108.133, 185.199.109.133, 185.199.110.133, ...\n",
            "Connecting to raw.githubusercontent.com (raw.githubusercontent.com)|185.199.108.133|:443... connected.\n",
            "HTTP request sent, awaiting response... 200 OK\n",
            "Length: 10907 (11K) [text/plain]\n",
            "Saving to: ‘taudata.py’\n",
            "\n",
            "taudata.py          100%[===================>]  10.65K  --.-KB/s    in 0s      \n",
            "\n",
            "2021-08-13 18:15:15 (86.7 MB/s) - ‘taudata.py’ saved [10907/10907]\n",
            "\n",
            "rm: cannot remove 'data/slangsoco.txt': No such file or directory\n",
            "rm: cannot remove 'data/stopwords_en.txt': No such file or directory\n",
            "rm: cannot remove 'data/stopwords_id.txt': No such file or directory\n",
            "rm: cannot remove 'data/kata_dasar.txt': No such file or directory\n",
            "rm: cannot remove 'data/corpus_sederhana.txt': No such file or directory\n",
            "--2021-08-13 18:15:16--  https://raw.githubusercontent.com/ristacp10/Analisis-Sentimen-Berbasis-Aspek-Pada-Aplikasi-Soco-Menggunakan-Bidirectional-Long-Short-Term-Memory/main/CSV/AspekSentimenReview.csv\n",
            "Resolving raw.githubusercontent.com (raw.githubusercontent.com)... 185.199.108.133, 185.199.109.133, 185.199.111.133, ...\n",
            "Connecting to raw.githubusercontent.com (raw.githubusercontent.com)|185.199.108.133|:443... connected.\n",
            "HTTP request sent, awaiting response... 200 OK\n",
            "Length: 276657 (270K) [text/plain]\n",
            "Saving to: ‘CSV/AspekSentimenReview.csv’\n",
            "\n",
            "AspekSentimenReview 100%[===================>] 270.17K  --.-KB/s    in 0.01s   \n",
            "\n",
            "2021-08-13 18:15:16 (22.2 MB/s) - ‘CSV/AspekSentimenReview.csv’ saved [276657/276657]\n",
            "\n",
            "--2021-08-13 18:15:17--  https://raw.githubusercontent.com/ristacp10/Analisis-Sentimen-Berbasis-Aspek-Pada-Aplikasi-Soco-Menggunakan-Bidirectional-Long-Short-Term-Memory/main/data/stopwords_id.txt\n",
            "Resolving raw.githubusercontent.com (raw.githubusercontent.com)... 185.199.108.133, 185.199.109.133, 185.199.110.133, ...\n",
            "Connecting to raw.githubusercontent.com (raw.githubusercontent.com)|185.199.108.133|:443... connected.\n",
            "HTTP request sent, awaiting response... 200 OK\n",
            "Length: 6421 (6.3K) [text/plain]\n",
            "Saving to: ‘data/stopwords_id.txt’\n",
            "\n",
            "stopwords_id.txt    100%[===================>]   6.27K  --.-KB/s    in 0s      \n",
            "\n",
            "2021-08-13 18:15:17 (89.0 MB/s) - ‘data/stopwords_id.txt’ saved [6421/6421]\n",
            "\n",
            "--2021-08-13 18:15:17--  https://raw.githubusercontent.com/ristacp10/Analisis-Sentimen-Berbasis-Aspek-Pada-Aplikasi-Soco-Menggunakan-Bidirectional-Long-Short-Term-Memory/main/data/stopwords_en.txt\n",
            "Resolving raw.githubusercontent.com (raw.githubusercontent.com)... 185.199.108.133, 185.199.109.133, 185.199.110.133, ...\n",
            "Connecting to raw.githubusercontent.com (raw.githubusercontent.com)|185.199.108.133|:443... connected.\n",
            "HTTP request sent, awaiting response... 200 OK\n",
            "Length: 15140 (15K) [text/plain]\n",
            "Saving to: ‘data/stopwords_en.txt’\n",
            "\n",
            "stopwords_en.txt    100%[===================>]  14.79K  --.-KB/s    in 0s      \n",
            "\n",
            "2021-08-13 18:15:17 (118 MB/s) - ‘data/stopwords_en.txt’ saved [15140/15140]\n",
            "\n",
            "--2021-08-13 18:15:17--  https://raw.githubusercontent.com/ristacp10/Analisis-Sentimen-Berbasis-Aspek-Pada-Aplikasi-Soco-Menggunakan-Bidirectional-Long-Short-Term-Memory/main/data/kata_dasar.txt\n",
            "Resolving raw.githubusercontent.com (raw.githubusercontent.com)... 185.199.108.133, 185.199.109.133, 185.199.110.133, ...\n",
            "Connecting to raw.githubusercontent.com (raw.githubusercontent.com)|185.199.108.133|:443... connected.\n",
            "HTTP request sent, awaiting response... 200 OK\n",
            "Length: 348507 (340K) [text/plain]\n",
            "Saving to: ‘data/kata_dasar.txt’\n",
            "\n",
            "kata_dasar.txt      100%[===================>] 340.34K  --.-KB/s    in 0.01s   \n",
            "\n",
            "2021-08-13 18:15:17 (26.7 MB/s) - ‘data/kata_dasar.txt’ saved [348507/348507]\n",
            "\n",
            "--2021-08-13 18:15:17--  https://raw.githubusercontent.com/ristacp10/Analisis-Sentimen-Berbasis-Aspek-Pada-Aplikasi-Soco-Menggunakan-Bidirectional-Long-Short-Term-Memory/main/data/wn-ind-def.tab\n",
            "Resolving raw.githubusercontent.com (raw.githubusercontent.com)... 185.199.108.133, 185.199.109.133, 185.199.111.133, ...\n",
            "Connecting to raw.githubusercontent.com (raw.githubusercontent.com)|185.199.108.133|:443... connected.\n",
            "HTTP request sent, awaiting response... 404 Not Found\n",
            "2021-08-13 18:15:18 ERROR 404: Not Found.\n",
            "\n",
            "--2021-08-13 18:15:18--  https://raw.githubusercontent.com/ristacp10/Analisis-Sentimen-Berbasis-Aspek-Pada-Aplikasi-Soco-Menggunakan-Bidirectional-Long-Short-Term-Memory/main/data/wn-msa-all.tab\n",
            "Resolving raw.githubusercontent.com (raw.githubusercontent.com)... 185.199.108.133, 185.199.109.133, 185.199.110.133, ...\n",
            "Connecting to raw.githubusercontent.com (raw.githubusercontent.com)|185.199.108.133|:443... connected.\n",
            "HTTP request sent, awaiting response... 404 Not Found\n",
            "2021-08-13 18:15:18 ERROR 404: Not Found.\n",
            "\n",
            "--2021-08-13 18:15:18--  https://raw.githubusercontent.com/ristacp10/Analisis-Sentimen-Berbasis-Aspek-Pada-Aplikasi-Soco-Menggunakan-Bidirectional-Long-Short-Term-Memory/main/data/all_indo_man_tag_corpus_model.crf.tagger\n",
            "Resolving raw.githubusercontent.com (raw.githubusercontent.com)... 185.199.110.133, 185.199.111.133, 185.199.108.133, ...\n",
            "Connecting to raw.githubusercontent.com (raw.githubusercontent.com)|185.199.110.133|:443... connected.\n",
            "HTTP request sent, awaiting response... 200 OK\n",
            "Length: 1722780 (1.6M) [application/octet-stream]\n",
            "Saving to: ‘data/all_indo_man_tag_corpus_model.crf.tagger’\n",
            "\n",
            "all_indo_man_tag_co 100%[===================>]   1.64M  --.-KB/s    in 0.03s   \n",
            "\n",
            "2021-08-13 18:15:18 (64.3 MB/s) - ‘data/all_indo_man_tag_corpus_model.crf.tagger’ saved [1722780/1722780]\n",
            "\n",
            "--2021-08-13 18:15:18--  https://raw.githubusercontent.com/ristacp10/Analisis-Sentimen-Berbasis-Aspek-Pada-Aplikasi-Soco-Menggunakan-Bidirectional-Long-Short-Term-Memory/main/data/slangsoco.txt\n",
            "Resolving raw.githubusercontent.com (raw.githubusercontent.com)... 185.199.108.133, 185.199.109.133, 185.199.111.133, ...\n",
            "Connecting to raw.githubusercontent.com (raw.githubusercontent.com)|185.199.108.133|:443... connected.\n",
            "HTTP request sent, awaiting response... 200 OK\n",
            "Length: 25420 (25K) [text/plain]\n",
            "Saving to: ‘data/slangsoco.txt’\n",
            "\n",
            "slangsoco.txt       100%[===================>]  24.82K  --.-KB/s    in 0s      \n",
            "\n",
            "2021-08-13 18:15:18 (89.1 MB/s) - ‘data/slangsoco.txt’ saved [25420/25420]\n",
            "\n",
            "Collecting Sastrawi\n",
            "  Downloading Sastrawi-1.0.1-py2.py3-none-any.whl (209 kB)\n",
            "\u001b[K     |████████████████████████████████| 209 kB 12.9 MB/s \n",
            "\u001b[?25hInstalling collected packages: Sastrawi\n",
            "Successfully installed Sastrawi-1.0.1\n",
            "Collecting unidecode\n",
            "  Downloading Unidecode-1.2.0-py2.py3-none-any.whl (241 kB)\n",
            "\u001b[K     |████████████████████████████████| 241 kB 13.3 MB/s \n",
            "\u001b[?25hInstalling collected packages: unidecode\n",
            "Successfully installed unidecode-1.2.0\n",
            "Collecting python-crfsuite\n",
            "  Downloading python_crfsuite-0.9.7-cp37-cp37m-manylinux1_x86_64.whl (743 kB)\n",
            "\u001b[K     |████████████████████████████████| 743 kB 14.2 MB/s \n",
            "\u001b[?25hInstalling collected packages: python-crfsuite\n",
            "Successfully installed python-crfsuite-0.9.7\n",
            "Collecting sklearn-pycrfsuite\n",
            "  Downloading sklearn-pycrfsuite-0.4.0.tar.gz (24 kB)\n",
            "Requirement already satisfied: tqdm>=2.0 in /usr/local/lib/python3.7/dist-packages (from sklearn-pycrfsuite) (4.62.0)\n",
            "Requirement already satisfied: six in /usr/local/lib/python3.7/dist-packages (from sklearn-pycrfsuite) (1.15.0)\n",
            "Requirement already satisfied: tabulate in /usr/local/lib/python3.7/dist-packages (from sklearn-pycrfsuite) (0.8.9)\n",
            "Collecting python-crfsuite-extension\n",
            "  Downloading python-crfsuite-extension-0.9.7.tar.gz (485 kB)\n",
            "\u001b[K     |████████████████████████████████| 485 kB 13.0 MB/s \n",
            "\u001b[?25hBuilding wheels for collected packages: sklearn-pycrfsuite, python-crfsuite-extension\n",
            "  Building wheel for sklearn-pycrfsuite (setup.py) ... \u001b[?25l\u001b[?25hdone\n",
            "  Created wheel for sklearn-pycrfsuite: filename=sklearn_pycrfsuite-0.4.0-py2.py3-none-any.whl size=11001 sha256=21e08520a42739a0884164391a2b05acd99a9ad1d41795bb030515ac94a2cd4b\n",
            "  Stored in directory: /root/.cache/pip/wheels/44/50/b1/295e502c6652f551dc99bfdb394a3fe2fcb47668e333391f38\n",
            "  Building wheel for python-crfsuite-extension (setup.py) ... \u001b[?25l\u001b[?25hdone\n",
            "  Created wheel for python-crfsuite-extension: filename=python_crfsuite_extension-0.9.7-cp37-cp37m-linux_x86_64.whl size=775505 sha256=129040e1f840aee1cb4f587995275769c2bf5f81de3453ee9e9cd266f42d852a\n",
            "  Stored in directory: /root/.cache/pip/wheels/70/d7/bf/369f4d179407dbf3840132e4135fa61f0bf711f4496d0bf750\n",
            "Successfully built sklearn-pycrfsuite python-crfsuite-extension\n",
            "Installing collected packages: python-crfsuite-extension, sklearn-pycrfsuite\n",
            "Successfully installed python-crfsuite-extension-0.9.7 sklearn-pycrfsuite-0.4.0\n"
          ],
          "name": "stdout"
        }
      ]
    },
    {
      "cell_type": "code",
      "metadata": {
        "colab": {
          "base_uri": "https://localhost:8080/"
        },
        "id": "pY9Tt1vdqhhT",
        "outputId": "2a0ae346-cefd-4d28-986c-77625de61782"
      },
      "source": [
        "import taudata as tau\n",
        "import pandas as pd\n",
        "import seaborn as sns\n",
        "from textblob import TextBlob\n",
        "import nltk\n",
        "from tqdm import tqdm_notebook as tqdm\n",
        "from collections import Counter\n",
        "from google.colab import files\n",
        "from IPython import display\n",
        "nltk.download('popular')"
      ],
      "execution_count": 2,
      "outputs": [
        {
          "output_type": "stream",
          "text": [
            "[nltk_data] Downloading collection 'popular'\n",
            "[nltk_data]    | \n",
            "[nltk_data]    | Downloading package cmudict to /root/nltk_data...\n",
            "[nltk_data]    |   Unzipping corpora/cmudict.zip.\n",
            "[nltk_data]    | Downloading package gazetteers to /root/nltk_data...\n",
            "[nltk_data]    |   Unzipping corpora/gazetteers.zip.\n",
            "[nltk_data]    | Downloading package genesis to /root/nltk_data...\n",
            "[nltk_data]    |   Unzipping corpora/genesis.zip.\n",
            "[nltk_data]    | Downloading package gutenberg to /root/nltk_data...\n",
            "[nltk_data]    |   Unzipping corpora/gutenberg.zip.\n",
            "[nltk_data]    | Downloading package inaugural to /root/nltk_data...\n",
            "[nltk_data]    |   Unzipping corpora/inaugural.zip.\n",
            "[nltk_data]    | Downloading package movie_reviews to\n",
            "[nltk_data]    |     /root/nltk_data...\n",
            "[nltk_data]    |   Unzipping corpora/movie_reviews.zip.\n",
            "[nltk_data]    | Downloading package names to /root/nltk_data...\n",
            "[nltk_data]    |   Unzipping corpora/names.zip.\n",
            "[nltk_data]    | Downloading package shakespeare to /root/nltk_data...\n",
            "[nltk_data]    |   Unzipping corpora/shakespeare.zip.\n",
            "[nltk_data]    | Downloading package stopwords to /root/nltk_data...\n",
            "[nltk_data]    |   Unzipping corpora/stopwords.zip.\n",
            "[nltk_data]    | Downloading package treebank to /root/nltk_data...\n",
            "[nltk_data]    |   Unzipping corpora/treebank.zip.\n",
            "[nltk_data]    | Downloading package twitter_samples to\n",
            "[nltk_data]    |     /root/nltk_data...\n",
            "[nltk_data]    |   Unzipping corpora/twitter_samples.zip.\n",
            "[nltk_data]    | Downloading package omw to /root/nltk_data...\n",
            "[nltk_data]    |   Unzipping corpora/omw.zip.\n",
            "[nltk_data]    | Downloading package wordnet to /root/nltk_data...\n",
            "[nltk_data]    |   Unzipping corpora/wordnet.zip.\n",
            "[nltk_data]    | Downloading package wordnet_ic to /root/nltk_data...\n",
            "[nltk_data]    |   Unzipping corpora/wordnet_ic.zip.\n",
            "[nltk_data]    | Downloading package words to /root/nltk_data...\n",
            "[nltk_data]    |   Unzipping corpora/words.zip.\n",
            "[nltk_data]    | Downloading package maxent_ne_chunker to\n",
            "[nltk_data]    |     /root/nltk_data...\n",
            "[nltk_data]    |   Unzipping chunkers/maxent_ne_chunker.zip.\n",
            "[nltk_data]    | Downloading package punkt to /root/nltk_data...\n",
            "[nltk_data]    |   Unzipping tokenizers/punkt.zip.\n",
            "[nltk_data]    | Downloading package snowball_data to\n",
            "[nltk_data]    |     /root/nltk_data...\n",
            "[nltk_data]    | Downloading package averaged_perceptron_tagger to\n",
            "[nltk_data]    |     /root/nltk_data...\n",
            "[nltk_data]    |   Unzipping taggers/averaged_perceptron_tagger.zip.\n",
            "[nltk_data]    | \n",
            "[nltk_data]  Done downloading collection popular\n"
          ],
          "name": "stdout"
        },
        {
          "output_type": "execute_result",
          "data": {
            "text/plain": [
              "True"
            ]
          },
          "metadata": {
            "tags": []
          },
          "execution_count": 2
        }
      ]
    },
    {
      "cell_type": "code",
      "metadata": {
        "colab": {
          "base_uri": "https://localhost:8080/",
          "height": 204
        },
        "id": "SYClVJpHqhq8",
        "outputId": "36a5fe05-4bc6-4a62-eb5c-ca36e2a63018"
      },
      "source": [
        "df = pd.read_csv('CSV/AspekSentimenReview.csv')\n",
        "df.head()"
      ],
      "execution_count": 3,
      "outputs": [
        {
          "output_type": "execute_result",
          "data": {
            "text/html": [
              "<div>\n",
              "<style scoped>\n",
              "    .dataframe tbody tr th:only-of-type {\n",
              "        vertical-align: middle;\n",
              "    }\n",
              "\n",
              "    .dataframe tbody tr th {\n",
              "        vertical-align: top;\n",
              "    }\n",
              "\n",
              "    .dataframe thead th {\n",
              "        text-align: right;\n",
              "    }\n",
              "</style>\n",
              "<table border=\"1\" class=\"dataframe\">\n",
              "  <thead>\n",
              "    <tr style=\"text-align: right;\">\n",
              "      <th></th>\n",
              "      <th>At</th>\n",
              "      <th>Sentimen</th>\n",
              "      <th>Review</th>\n",
              "      <th>Bintang</th>\n",
              "      <th>Aspek</th>\n",
              "    </tr>\n",
              "  </thead>\n",
              "  <tbody>\n",
              "    <tr>\n",
              "      <th>0</th>\n",
              "      <td>2020-10-18 19:32:19</td>\n",
              "      <td>1</td>\n",
              "      <td>gud</td>\n",
              "      <td>5</td>\n",
              "      <td>Lainnya</td>\n",
              "    </tr>\n",
              "    <tr>\n",
              "      <th>1</th>\n",
              "      <td>2020-10-17 20:18:47</td>\n",
              "      <td>1</td>\n",
              "      <td>Seneng belanja disini karna dah pastinya ori, ...</td>\n",
              "      <td>5</td>\n",
              "      <td>Layanan</td>\n",
              "    </tr>\n",
              "    <tr>\n",
              "      <th>2</th>\n",
              "      <td>2020-10-17 07:44:22</td>\n",
              "      <td>-1</td>\n",
              "      <td>Pertamakali order langsung kecewa, di cancel k...</td>\n",
              "      <td>1</td>\n",
              "      <td>Layanan</td>\n",
              "    </tr>\n",
              "    <tr>\n",
              "      <th>3</th>\n",
              "      <td>2020-10-17 05:29:05</td>\n",
              "      <td>-1</td>\n",
              "      <td>Sociolla parah. Proses refund gak tau harus nu...</td>\n",
              "      <td>1</td>\n",
              "      <td>Layanan</td>\n",
              "    </tr>\n",
              "    <tr>\n",
              "      <th>4</th>\n",
              "      <td>2020-10-17 00:12:18</td>\n",
              "      <td>-1</td>\n",
              "      <td>Sy order 4 product di tanggal 11 september dan...</td>\n",
              "      <td>1</td>\n",
              "      <td>Layanan</td>\n",
              "    </tr>\n",
              "  </tbody>\n",
              "</table>\n",
              "</div>"
            ],
            "text/plain": [
              "                    At  Sentimen  ... Bintang    Aspek\n",
              "0  2020-10-18 19:32:19         1  ...       5  Lainnya\n",
              "1  2020-10-17 20:18:47         1  ...       5  Layanan\n",
              "2  2020-10-17 07:44:22        -1  ...       1  Layanan\n",
              "3  2020-10-17 05:29:05        -1  ...       1  Layanan\n",
              "4  2020-10-17 00:12:18        -1  ...       1  Layanan\n",
              "\n",
              "[5 rows x 5 columns]"
            ]
          },
          "metadata": {
            "tags": []
          },
          "execution_count": 3
        }
      ]
    },
    {
      "cell_type": "code",
      "metadata": {
        "colab": {
          "base_uri": "https://localhost:8080/"
        },
        "id": "3dQQpX5_qnzQ",
        "outputId": "c558c71e-34cd-49b7-dc0a-b216b49281d6"
      },
      "source": [
        "sw=open('data/slangsoco.txt',\"r\",encoding=\"utf-8\", errors='replace')\n",
        "slangS = sw.readlines(); sw.close()\n",
        "\n",
        "slangS = [df.strip('\\n').strip() for df in slangS]\n",
        "slangS = [s_.split(' : ') for s_ in slangS]\n",
        "slang_ = {}\n",
        "for s_ in slangS:\n",
        "    try:\n",
        "        slang_[s_[0].strip()] = s_[1].strip()\n",
        "    except:\n",
        "        print(s_)\n",
        "slangS = slang_.copy()"
      ],
      "execution_count": 4,
      "outputs": [
        {
          "output_type": "stream",
          "text": [
            "['udah sudah']\n"
          ],
          "name": "stdout"
        }
      ]
    },
    {
      "cell_type": "code",
      "metadata": {
        "colab": {
          "base_uri": "https://localhost:8080/"
        },
        "id": "P9bC3OCjqn66",
        "outputId": "e3e6b8b0-750a-46be-a0e8-c31097fe9120"
      },
      "source": [
        "b = []\n",
        "for h in df['Review']:\n",
        "    T = TextBlob(h.lower()).words\n",
        "    for i,t in enumerate(T):\n",
        "        if str(t) in slangS.keys():\n",
        "            T[i] = slangS[str(t)]\n",
        "    b.append(' '.join(T))\n",
        "\n",
        "b[:5]"
      ],
      "execution_count": 5,
      "outputs": [
        {
          "output_type": "execute_result",
          "data": {
            "text/plain": [
              "['good',\n",
              " 'senang belanja disini karena deh pastinya original pengiriman langsung jalan satu hari setelah bayar banyak diskon admin responsif juga metode pembayaran juga banyak dan reachable suka sekali tetapi terkadang ada suka error tidak jelas begitu selain itu sudah bagus sekali sih menurut saya recommended',\n",
              " 'pertama kali order langsung kecewa di cancel karena barang nya ada satu yang kosong proses pengembalian uang sulit check out tanggal 13 oktober konfirmasi tanggal 15 uang akan di kembalikan dalam 7-10 hari kerja maks tanggal 2 november kelamaan woi karena banyak antrian refund katanya tidak ingin sedang order lewat sini',\n",
              " 'sociola parah proses refund tidak tahu harus menunggu berapa lama padahal ini sudah masuk 3 hari kerja uang saya 775.439 belum dikembalikan padahal sociola sendiri yang cancel order saya karena ada stock barang yang kosong email juga udah 2 hari tidak direspon',\n",
              " 'saya order 4 product di tanggal 11 september dan yang datang hanya 2 ini udah 16 oktober artinya udah sebulan lebih tidak ada kejelasan sampai datang ke counternya untuk menanyakan menjadi disuruh hubungi customer service nya bagaimana sih pelayanan buruk']"
            ]
          },
          "metadata": {
            "tags": []
          },
          "execution_count": 5
        }
      ]
    },
    {
      "cell_type": "code",
      "metadata": {
        "id": "fSjJpRWYquKf"
      },
      "source": [
        "stopId, lemmaId = tau.LoadStopWords(lang='id')"
      ],
      "execution_count": 6,
      "outputs": []
    },
    {
      "cell_type": "code",
      "metadata": {
        "colab": {
          "base_uri": "https://localhost:8080/",
          "height": 86,
          "referenced_widgets": [
            "99c623bd305f49a5a1118f133a90a8f3",
            "bda2ba244eb94f2d8190b6df7438dc77",
            "45e43fa93d1d4e3199295222e630afd6",
            "e2da471b31d5418cbfc2b0bfa3262d38",
            "8f8fb7403ae34bb1b1194311baac0261",
            "4f13e4fb82004a5982233c0ceaffd640",
            "644849f4267f492db83c2d2c835c3eb6",
            "08dec64bb6f34356b1eb3fba9e3e1f7f",
            "112ca5c9338f41bda74c4300fae68cb4",
            "2e29edab367b44ee8e9100595077c3c8",
            "548b3063af694dbfa55d2ddf679981cc"
          ]
        },
        "id": "AV8ufjpBquSt",
        "outputId": "dbb956c7-e16a-4cd6-f2bb-6dd26fe15074"
      },
      "source": [
        "data = []\n",
        "for i, d in tqdm(enumerate(b)):\n",
        "    doc = tau.cleanText(d, lemma=lemmaId, stops = stopId, symbols_remove = True, min_charLen = 2, fixTag= True, fixMix=True)\n",
        "    data.append(doc)\n",
        "\n",
        "print(data[:3])"
      ],
      "execution_count": 7,
      "outputs": [
        {
          "output_type": "display_data",
          "data": {
            "application/vnd.jupyter.widget-view+json": {
              "model_id": "99c623bd305f49a5a1118f133a90a8f3",
              "version_minor": 0,
              "version_major": 2
            },
            "text/plain": [
              "0it [00:00, ?it/s]"
            ]
          },
          "metadata": {
            "tags": []
          }
        },
        {
          "output_type": "stream",
          "text": [
            "['good', 'senang belanja deh original kirim langsung jalan bayar diskon admin responsif metode bayar reachable suka terkadang suka error tidak bagus sih recommended', 'kali order langsung kecewa cancel barang nya kosong proses uang sulit check out tanggal  13  oktober konfirmasi tanggal  15  uang  7 - 10  kerja maks tanggal november woi antri refund tidak order']\n"
          ],
          "name": "stdout"
        }
      ]
    },
    {
      "cell_type": "code",
      "metadata": {
        "colab": {
          "base_uri": "https://localhost:8080/",
          "height": 204
        },
        "id": "a2BjwqCpqucP",
        "outputId": "0199c9c2-51f3-4045-c516-4b778a3317b6"
      },
      "source": [
        "df['data_cleaned_aspek'] = data\n",
        "df.to_csv('PREPROSS.csv')\n",
        "df.head()"
      ],
      "execution_count": 8,
      "outputs": [
        {
          "output_type": "execute_result",
          "data": {
            "text/html": [
              "<div>\n",
              "<style scoped>\n",
              "    .dataframe tbody tr th:only-of-type {\n",
              "        vertical-align: middle;\n",
              "    }\n",
              "\n",
              "    .dataframe tbody tr th {\n",
              "        vertical-align: top;\n",
              "    }\n",
              "\n",
              "    .dataframe thead th {\n",
              "        text-align: right;\n",
              "    }\n",
              "</style>\n",
              "<table border=\"1\" class=\"dataframe\">\n",
              "  <thead>\n",
              "    <tr style=\"text-align: right;\">\n",
              "      <th></th>\n",
              "      <th>At</th>\n",
              "      <th>Sentimen</th>\n",
              "      <th>Review</th>\n",
              "      <th>Bintang</th>\n",
              "      <th>Aspek</th>\n",
              "      <th>data_cleaned_aspek</th>\n",
              "    </tr>\n",
              "  </thead>\n",
              "  <tbody>\n",
              "    <tr>\n",
              "      <th>0</th>\n",
              "      <td>2020-10-18 19:32:19</td>\n",
              "      <td>1</td>\n",
              "      <td>gud</td>\n",
              "      <td>5</td>\n",
              "      <td>Lainnya</td>\n",
              "      <td>good</td>\n",
              "    </tr>\n",
              "    <tr>\n",
              "      <th>1</th>\n",
              "      <td>2020-10-17 20:18:47</td>\n",
              "      <td>1</td>\n",
              "      <td>Seneng belanja disini karna dah pastinya ori, ...</td>\n",
              "      <td>5</td>\n",
              "      <td>Layanan</td>\n",
              "      <td>senang belanja deh original kirim langsung jal...</td>\n",
              "    </tr>\n",
              "    <tr>\n",
              "      <th>2</th>\n",
              "      <td>2020-10-17 07:44:22</td>\n",
              "      <td>-1</td>\n",
              "      <td>Pertamakali order langsung kecewa, di cancel k...</td>\n",
              "      <td>1</td>\n",
              "      <td>Layanan</td>\n",
              "      <td>kali order langsung kecewa cancel barang nya k...</td>\n",
              "    </tr>\n",
              "    <tr>\n",
              "      <th>3</th>\n",
              "      <td>2020-10-17 05:29:05</td>\n",
              "      <td>-1</td>\n",
              "      <td>Sociolla parah. Proses refund gak tau harus nu...</td>\n",
              "      <td>1</td>\n",
              "      <td>Layanan</td>\n",
              "      <td>sociola parah proses refund tidak tunggu masuk...</td>\n",
              "    </tr>\n",
              "    <tr>\n",
              "      <th>4</th>\n",
              "      <td>2020-10-17 00:12:18</td>\n",
              "      <td>-1</td>\n",
              "      <td>Sy order 4 product di tanggal 11 september dan...</td>\n",
              "      <td>1</td>\n",
              "      <td>Layanan</td>\n",
              "      <td>order product tanggal  11  september udah  16 ...</td>\n",
              "    </tr>\n",
              "  </tbody>\n",
              "</table>\n",
              "</div>"
            ],
            "text/plain": [
              "                    At  ...                                 data_cleaned_aspek\n",
              "0  2020-10-18 19:32:19  ...                                               good\n",
              "1  2020-10-17 20:18:47  ...  senang belanja deh original kirim langsung jal...\n",
              "2  2020-10-17 07:44:22  ...  kali order langsung kecewa cancel barang nya k...\n",
              "3  2020-10-17 05:29:05  ...  sociola parah proses refund tidak tunggu masuk...\n",
              "4  2020-10-17 00:12:18  ...  order product tanggal  11  september udah  16 ...\n",
              "\n",
              "[5 rows x 6 columns]"
            ]
          },
          "metadata": {
            "tags": []
          },
          "execution_count": 8
        }
      ]
    },
    {
      "cell_type": "code",
      "metadata": {
        "colab": {
          "base_uri": "https://localhost:8080/"
        },
        "id": "L3_Z38lXq3NR",
        "outputId": "61e342d7-376b-42d4-9646-3f9ae7af50da"
      },
      "source": [
        "df.dtypes"
      ],
      "execution_count": 9,
      "outputs": [
        {
          "output_type": "execute_result",
          "data": {
            "text/plain": [
              "At                    object\n",
              "Sentimen               int64\n",
              "Review                object\n",
              "Bintang                int64\n",
              "Aspek                 object\n",
              "data_cleaned_aspek    object\n",
              "dtype: object"
            ]
          },
          "metadata": {
            "tags": []
          },
          "execution_count": 9
        }
      ]
    },
    {
      "cell_type": "code",
      "metadata": {
        "id": "onOGxzfGq3Ul"
      },
      "source": [
        "df_lay = df[df['Aspek']==\"Layanan\"]['data_cleaned_aspek']\n",
        "df_lay.to_csv('aspek_layanan.csv', encoding='utf8', index = False)\n",
        "df_tam = df[df['Aspek']==\"Tampilan\"]['data_cleaned_aspek']\n",
        "df_tam.to_csv('aspek_tampilan.csv', encoding='utf8', index = False)\n",
        "df_pro = df[df['Aspek']==\"Produk\"]['data_cleaned_aspek']\n",
        "df_pro.to_csv('aspek_produk.csv', encoding='utf8', index = False)\n",
        "df_la = df[df['Aspek']==\"Lainnya\"]['data_cleaned_aspek']\n",
        "df_la.to_csv('aspek_lainnya.csv', encoding='utf8', index = False)"
      ],
      "execution_count": 10,
      "outputs": []
    },
    {
      "cell_type": "markdown",
      "metadata": {
        "id": "w4-Y9hP3q-bV"
      },
      "source": [
        "## **PROPORSI TEXT ANALITICS DATA ASPEK**"
      ]
    },
    {
      "cell_type": "code",
      "metadata": {
        "colab": {
          "base_uri": "https://localhost:8080/"
        },
        "id": "tY8w1Rflq_Hj",
        "outputId": "ebc661e0-4324-4fae-dfc9-8d6da59366dd"
      },
      "source": [
        "df['At'] = pd.to_datetime(df['At'])\n",
        " \n",
        "date_counts = (df.groupby(df['At'].dt.year)['Aspek']\n",
        "                .value_counts()\n",
        "                .rename('Data')\n",
        "                .reset_index()\n",
        "                .sort_values('At'))\n",
        "print(date_counts)"
      ],
      "execution_count": 11,
      "outputs": [
        {
          "output_type": "stream",
          "text": [
            "     At     Aspek  Data\n",
            "0  2019  Tampilan   665\n",
            "1  2019   Lainnya   541\n",
            "2  2019   Layanan   157\n",
            "3  2019    Produk    85\n",
            "4  2020  Tampilan   247\n",
            "5  2020   Lainnya   174\n",
            "6  2020   Layanan   155\n",
            "7  2020    Produk    49\n"
          ],
          "name": "stdout"
        }
      ]
    },
    {
      "cell_type": "code",
      "metadata": {
        "colab": {
          "base_uri": "https://localhost:8080/",
          "height": 302
        },
        "id": "vmLMyxMPrI9H",
        "outputId": "9148b2ac-f0a0-44f1-c6db-c35f24a7fbaa"
      },
      "source": [
        "print(\"Proporsi Aspek Tahun\")\n",
        "p = sns.barplot(x=\"At\", y=\"Data\", hue=\"Aspek\", data=date_counts)"
      ],
      "execution_count": 12,
      "outputs": [
        {
          "output_type": "stream",
          "text": [
            "Proporsi Aspek Tahun\n"
          ],
          "name": "stdout"
        },
        {
          "output_type": "display_data",
          "data": {
            "image/png": "[encoded data removed]",
            "text/plain": [
              "<Figure size 432x288 with 1 Axes>"
            ]
          },
          "metadata": {
            "tags": []
          }
        }
      ]
    }
  ]
}